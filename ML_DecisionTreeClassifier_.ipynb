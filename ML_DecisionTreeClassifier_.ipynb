{
  "nbformat": 4,
  "nbformat_minor": 0,
  "metadata": {
    "colab": {
      "provenance": [],
      "collapsed_sections": []
    },
    "kernelspec": {
      "name": "python3",
      "display_name": "Python 3"
    },
    "language_info": {
      "name": "python"
    }
  },
  "cells": [
    {
      "cell_type": "code",
      "execution_count": 1,
      "metadata": {
        "colab": {
          "base_uri": "https://localhost:8080/",
          "height": 77
        },
        "id": "8iIy1SzyEibH",
        "outputId": "40bbe2ba-9879-445d-a9e0-da8ae7b9216b"
      },
      "outputs": [
        {
          "output_type": "display_data",
          "data": {
            "text/plain": [
              "<IPython.core.display.HTML object>"
            ],
            "text/html": [
              "\n",
              "     <input type=\"file\" id=\"files-7e9d84b8-29e1-4bd6-a669-7d3ff6f5b214\" name=\"files[]\" multiple disabled\n",
              "        style=\"border:none\" />\n",
              "     <output id=\"result-7e9d84b8-29e1-4bd6-a669-7d3ff6f5b214\">\n",
              "      Upload widget is only available when the cell has been executed in the\n",
              "      current browser session. Please rerun this cell to enable.\n",
              "      </output>\n",
              "      <script>// Copyright 2017 Google LLC\n",
              "//\n",
              "// Licensed under the Apache License, Version 2.0 (the \"License\");\n",
              "// you may not use this file except in compliance with the License.\n",
              "// You may obtain a copy of the License at\n",
              "//\n",
              "//      http://www.apache.org/licenses/LICENSE-2.0\n",
              "//\n",
              "// Unless required by applicable law or agreed to in writing, software\n",
              "// distributed under the License is distributed on an \"AS IS\" BASIS,\n",
              "// WITHOUT WARRANTIES OR CONDITIONS OF ANY KIND, either express or implied.\n",
              "// See the License for the specific language governing permissions and\n",
              "// limitations under the License.\n",
              "\n",
              "/**\n",
              " * @fileoverview Helpers for google.colab Python module.\n",
              " */\n",
              "(function(scope) {\n",
              "function span(text, styleAttributes = {}) {\n",
              "  const element = document.createElement('span');\n",
              "  element.textContent = text;\n",
              "  for (const key of Object.keys(styleAttributes)) {\n",
              "    element.style[key] = styleAttributes[key];\n",
              "  }\n",
              "  return element;\n",
              "}\n",
              "\n",
              "// Max number of bytes which will be uploaded at a time.\n",
              "const MAX_PAYLOAD_SIZE = 100 * 1024;\n",
              "\n",
              "function _uploadFiles(inputId, outputId) {\n",
              "  const steps = uploadFilesStep(inputId, outputId);\n",
              "  const outputElement = document.getElementById(outputId);\n",
              "  // Cache steps on the outputElement to make it available for the next call\n",
              "  // to uploadFilesContinue from Python.\n",
              "  outputElement.steps = steps;\n",
              "\n",
              "  return _uploadFilesContinue(outputId);\n",
              "}\n",
              "\n",
              "// This is roughly an async generator (not supported in the browser yet),\n",
              "// where there are multiple asynchronous steps and the Python side is going\n",
              "// to poll for completion of each step.\n",
              "// This uses a Promise to block the python side on completion of each step,\n",
              "// then passes the result of the previous step as the input to the next step.\n",
              "function _uploadFilesContinue(outputId) {\n",
              "  const outputElement = document.getElementById(outputId);\n",
              "  const steps = outputElement.steps;\n",
              "\n",
              "  const next = steps.next(outputElement.lastPromiseValue);\n",
              "  return Promise.resolve(next.value.promise).then((value) => {\n",
              "    // Cache the last promise value to make it available to the next\n",
              "    // step of the generator.\n",
              "    outputElement.lastPromiseValue = value;\n",
              "    return next.value.response;\n",
              "  });\n",
              "}\n",
              "\n",
              "/**\n",
              " * Generator function which is called between each async step of the upload\n",
              " * process.\n",
              " * @param {string} inputId Element ID of the input file picker element.\n",
              " * @param {string} outputId Element ID of the output display.\n",
              " * @return {!Iterable<!Object>} Iterable of next steps.\n",
              " */\n",
              "function* uploadFilesStep(inputId, outputId) {\n",
              "  const inputElement = document.getElementById(inputId);\n",
              "  inputElement.disabled = false;\n",
              "\n",
              "  const outputElement = document.getElementById(outputId);\n",
              "  outputElement.innerHTML = '';\n",
              "\n",
              "  const pickedPromise = new Promise((resolve) => {\n",
              "    inputElement.addEventListener('change', (e) => {\n",
              "      resolve(e.target.files);\n",
              "    });\n",
              "  });\n",
              "\n",
              "  const cancel = document.createElement('button');\n",
              "  inputElement.parentElement.appendChild(cancel);\n",
              "  cancel.textContent = 'Cancel upload';\n",
              "  const cancelPromise = new Promise((resolve) => {\n",
              "    cancel.onclick = () => {\n",
              "      resolve(null);\n",
              "    };\n",
              "  });\n",
              "\n",
              "  // Wait for the user to pick the files.\n",
              "  const files = yield {\n",
              "    promise: Promise.race([pickedPromise, cancelPromise]),\n",
              "    response: {\n",
              "      action: 'starting',\n",
              "    }\n",
              "  };\n",
              "\n",
              "  cancel.remove();\n",
              "\n",
              "  // Disable the input element since further picks are not allowed.\n",
              "  inputElement.disabled = true;\n",
              "\n",
              "  if (!files) {\n",
              "    return {\n",
              "      response: {\n",
              "        action: 'complete',\n",
              "      }\n",
              "    };\n",
              "  }\n",
              "\n",
              "  for (const file of files) {\n",
              "    const li = document.createElement('li');\n",
              "    li.append(span(file.name, {fontWeight: 'bold'}));\n",
              "    li.append(span(\n",
              "        `(${file.type || 'n/a'}) - ${file.size} bytes, ` +\n",
              "        `last modified: ${\n",
              "            file.lastModifiedDate ? file.lastModifiedDate.toLocaleDateString() :\n",
              "                                    'n/a'} - `));\n",
              "    const percent = span('0% done');\n",
              "    li.appendChild(percent);\n",
              "\n",
              "    outputElement.appendChild(li);\n",
              "\n",
              "    const fileDataPromise = new Promise((resolve) => {\n",
              "      const reader = new FileReader();\n",
              "      reader.onload = (e) => {\n",
              "        resolve(e.target.result);\n",
              "      };\n",
              "      reader.readAsArrayBuffer(file);\n",
              "    });\n",
              "    // Wait for the data to be ready.\n",
              "    let fileData = yield {\n",
              "      promise: fileDataPromise,\n",
              "      response: {\n",
              "        action: 'continue',\n",
              "      }\n",
              "    };\n",
              "\n",
              "    // Use a chunked sending to avoid message size limits. See b/62115660.\n",
              "    let position = 0;\n",
              "    do {\n",
              "      const length = Math.min(fileData.byteLength - position, MAX_PAYLOAD_SIZE);\n",
              "      const chunk = new Uint8Array(fileData, position, length);\n",
              "      position += length;\n",
              "\n",
              "      const base64 = btoa(String.fromCharCode.apply(null, chunk));\n",
              "      yield {\n",
              "        response: {\n",
              "          action: 'append',\n",
              "          file: file.name,\n",
              "          data: base64,\n",
              "        },\n",
              "      };\n",
              "\n",
              "      let percentDone = fileData.byteLength === 0 ?\n",
              "          100 :\n",
              "          Math.round((position / fileData.byteLength) * 100);\n",
              "      percent.textContent = `${percentDone}% done`;\n",
              "\n",
              "    } while (position < fileData.byteLength);\n",
              "  }\n",
              "\n",
              "  // All done.\n",
              "  yield {\n",
              "    response: {\n",
              "      action: 'complete',\n",
              "    }\n",
              "  };\n",
              "}\n",
              "\n",
              "scope.google = scope.google || {};\n",
              "scope.google.colab = scope.google.colab || {};\n",
              "scope.google.colab._files = {\n",
              "  _uploadFiles,\n",
              "  _uploadFilesContinue,\n",
              "};\n",
              "})(self);\n",
              "</script> "
            ]
          },
          "metadata": {}
        },
        {
          "output_type": "stream",
          "name": "stdout",
          "text": [
            "Saving investments.csv to investments.csv\n"
          ]
        }
      ],
      "source": [
        "from google.colab import files\n",
        "uploaded = files.upload()"
      ]
    },
    {
      "cell_type": "code",
      "source": [
        "print(__doc__)\n",
        "\n",
        "import seaborn as sns\n",
        "\n",
        "sns.set_context(\"poster\")"
      ],
      "metadata": {
        "colab": {
          "base_uri": "https://localhost:8080/"
        },
        "id": "H8nScFN6FLL9",
        "outputId": "48e3321e-7e3b-48cf-9746-62e73b78d6a2"
      },
      "execution_count": 2,
      "outputs": [
        {
          "output_type": "stream",
          "name": "stdout",
          "text": [
            "Automatically created module for IPython interactive environment\n"
          ]
        }
      ]
    },
    {
      "cell_type": "code",
      "source": [
        "import pandas as pd\n",
        "import numpy as np\n",
        "from collections import Counter\n",
        "from sklearn.datasets import make_classification\n",
        "from numpy import where\n",
        "from matplotlib import pyplot"
      ],
      "metadata": {
        "id": "xcDm2x9HFcZi"
      },
      "execution_count": 3,
      "outputs": []
    },
    {
      "cell_type": "code",
      "source": [
        "from imblearn.under_sampling import RandomUnderSampler\n",
        "from imblearn.over_sampling import RandomOverSampler\n",
        "\n",
        "from sklearn.tree import DecisionTreeClassifier\n",
        "from imblearn.pipeline import Pipeline\n",
        "from sklearn.model_selection import cross_val_score\n",
        "from sklearn.model_selection import RepeatedStratifiedKFold\n",
        "from numpy import mean\n",
        "\n",
        "from sklearn.model_selection import train_test_split\n",
        "\n",
        "from sklearn import tree\n",
        "from sklearn.metrics import accuracy_score\n",
        "from sklearn.metrics import confusion_matrix\n",
        "from sklearn.metrics import classification_report\n",
        "from sklearn import metrics\n",
        "from sklearn.metrics import plot_confusion_matrix"
      ],
      "metadata": {
        "id": "CoE6UimNmQag"
      },
      "execution_count": 4,
      "outputs": []
    },
    {
      "cell_type": "code",
      "source": [
        "import io\n",
        "df = pd.read_csv(io.BytesIO(uploaded['investments.csv']))\n",
        "# Dataset is now stored in a Pandas Dataframe"
      ],
      "metadata": {
        "id": "ytQQvFaBFcco"
      },
      "execution_count": 5,
      "outputs": []
    },
    {
      "cell_type": "code",
      "source": [
        "df.info()"
      ],
      "metadata": {
        "colab": {
          "base_uri": "https://localhost:8080/"
        },
        "id": "saXi4aUnFchi",
        "outputId": "65d0e1fd-580e-4938-c664-f44619bb7f56"
      },
      "execution_count": 6,
      "outputs": [
        {
          "output_type": "stream",
          "name": "stdout",
          "text": [
            "<class 'pandas.core.frame.DataFrame'>\n",
            "RangeIndex: 114506 entries, 0 to 114505\n",
            "Data columns (total 25 columns):\n",
            " #   Column                   Non-Null Count   Dtype  \n",
            "---  ------                   --------------   -----  \n",
            " 0   company_permalink        114506 non-null  object \n",
            " 1   company_name             114505 non-null  object \n",
            " 2   company_category_list    111242 non-null  object \n",
            " 3   company_market           111240 non-null  object \n",
            " 4   company_country_code     107147 non-null  object \n",
            " 5   company_state_code       79158 non-null   object \n",
            " 6   company_region           107147 non-null  object \n",
            " 7   company_city             105801 non-null  object \n",
            " 8   investor_permalink       114440 non-null  object \n",
            " 9   investor_name            114440 non-null  object \n",
            " 10  investor_category_list   30507 non-null   object \n",
            " 11  investor_market          30455 non-null   object \n",
            " 12  investor_country_code    86521 non-null   object \n",
            " 13  investor_state_code      62274 non-null   object \n",
            " 14  investor_region          86521 non-null   object \n",
            " 15  investor_city            86007 non-null   object \n",
            " 16  funding_round_permalink  114506 non-null  object \n",
            " 17  funding_round_type       114506 non-null  object \n",
            " 18  funding_round_code       54669 non-null   object \n",
            " 19  funded_at                114506 non-null  object \n",
            " 20  funded_month             114506 non-null  object \n",
            " 21  funded_quarter           114506 non-null  object \n",
            " 22  funded_year              114506 non-null  int64  \n",
            " 23  raised_amount_usd        101155 non-null  float64\n",
            " 24  Y                        114506 non-null  object \n",
            "dtypes: float64(1), int64(1), object(23)\n",
            "memory usage: 21.8+ MB\n"
          ]
        }
      ]
    },
    {
      "cell_type": "code",
      "source": [
        "#replace all Nan to 0 in raised_amount_usd column\n",
        "df['raised_amount_usd'] = df['raised_amount_usd'].fillna(0)"
      ],
      "metadata": {
        "id": "IzHEXsY0FckP"
      },
      "execution_count": 7,
      "outputs": []
    },
    {
      "cell_type": "code",
      "source": [
        "#convert column raised_amount_usd from float to int\n",
        "df = df.astype({\"raised_amount_usd\":'int'})"
      ],
      "metadata": {
        "id": "UrXzgGk4FcnC"
      },
      "execution_count": 8,
      "outputs": []
    },
    {
      "cell_type": "code",
      "source": [
        "# removing features\n",
        "df = df.drop(['investor_category_list','investor_market','funded_at', 'company_state_code','investor_state_code','funding_round_code',\n",
        "                      'funded_month','funded_quarter','funding_round_permalink','company_permalink','investor_permalink'], axis=1)"
      ],
      "metadata": {
        "id": "hduzleezFpRa"
      },
      "execution_count": 9,
      "outputs": []
    },
    {
      "cell_type": "code",
      "source": [
        "#Dropping all the null value\n",
        "df.dropna(inplace = True)\n",
        "df.info()"
      ],
      "metadata": {
        "colab": {
          "base_uri": "https://localhost:8080/"
        },
        "id": "NBVTlCubFreq",
        "outputId": "836b9c61-070d-4007-a098-452972a3447d"
      },
      "execution_count": 10,
      "outputs": [
        {
          "output_type": "stream",
          "name": "stdout",
          "text": [
            "<class 'pandas.core.frame.DataFrame'>\n",
            "Int64Index: 77929 entries, 8 to 114498\n",
            "Data columns (total 14 columns):\n",
            " #   Column                 Non-Null Count  Dtype \n",
            "---  ------                 --------------  ----- \n",
            " 0   company_name           77929 non-null  object\n",
            " 1   company_category_list  77929 non-null  object\n",
            " 2   company_market         77929 non-null  object\n",
            " 3   company_country_code   77929 non-null  object\n",
            " 4   company_region         77929 non-null  object\n",
            " 5   company_city           77929 non-null  object\n",
            " 6   investor_name          77929 non-null  object\n",
            " 7   investor_country_code  77929 non-null  object\n",
            " 8   investor_region        77929 non-null  object\n",
            " 9   investor_city          77929 non-null  object\n",
            " 10  funding_round_type     77929 non-null  object\n",
            " 11  funded_year            77929 non-null  int64 \n",
            " 12  raised_amount_usd      77929 non-null  int64 \n",
            " 13  Y                      77929 non-null  object\n",
            "dtypes: int64(2), object(12)\n",
            "memory usage: 8.9+ MB\n"
          ]
        }
      ]
    },
    {
      "cell_type": "code",
      "source": [
        "# check missing values in variables\n",
        "df.isnull().sum()"
      ],
      "metadata": {
        "colab": {
          "base_uri": "https://localhost:8080/"
        },
        "id": "WltpjywI4YSF",
        "outputId": "390983b3-297e-4352-ba5f-437c9226fbbe"
      },
      "execution_count": 11,
      "outputs": [
        {
          "output_type": "execute_result",
          "data": {
            "text/plain": [
              "company_name             0\n",
              "company_category_list    0\n",
              "company_market           0\n",
              "company_country_code     0\n",
              "company_region           0\n",
              "company_city             0\n",
              "investor_name            0\n",
              "investor_country_code    0\n",
              "investor_region          0\n",
              "investor_city            0\n",
              "funding_round_type       0\n",
              "funded_year              0\n",
              "raised_amount_usd        0\n",
              "Y                        0\n",
              "dtype: int64"
            ]
          },
          "metadata": {},
          "execution_count": 11
        }
      ]
    },
    {
      "cell_type": "code",
      "source": [
        "#counting Y values\n",
        "\n",
        "df['Y'].value_counts()"
      ],
      "metadata": {
        "colab": {
          "base_uri": "https://localhost:8080/"
        },
        "id": "NopkzySdFrhD",
        "outputId": "b40e6830-65d5-4684-d34d-19bc1c8a80a4"
      },
      "execution_count": 12,
      "outputs": [
        {
          "output_type": "execute_result",
          "data": {
            "text/plain": [
              "Yes    70057\n",
              "No      7872\n",
              "Name: Y, dtype: int64"
            ]
          },
          "metadata": {},
          "execution_count": 12
        }
      ]
    },
    {
      "cell_type": "code",
      "source": [
        "#counting Y values in %\n",
        "\n",
        "df.Y.value_counts(normalize=True)"
      ],
      "metadata": {
        "colab": {
          "base_uri": "https://localhost:8080/"
        },
        "id": "NV36uEo0FvGm",
        "outputId": "2ccd53ce-0144-4762-9807-13bd3f8d5f0e"
      },
      "execution_count": 13,
      "outputs": [
        {
          "output_type": "execute_result",
          "data": {
            "text/plain": [
              "Yes    0.898985\n",
              "No     0.101015\n",
              "Name: Y, dtype: float64"
            ]
          },
          "metadata": {},
          "execution_count": 13
        }
      ]
    },
    {
      "cell_type": "code",
      "source": [
        "# Spliting data\n",
        "\n",
        "X = df.iloc[:,:-1]\n",
        "y = df.iloc[:,-1]"
      ],
      "metadata": {
        "id": "MTosVeirFvJz"
      },
      "execution_count": 14,
      "outputs": []
    },
    {
      "cell_type": "code",
      "source": [
        "X, y = make_classification(n_samples=10000, n_features=2,\n",
        "\n",
        "                           n_redundant=0, n_classes=2,\n",
        "\n",
        "                           n_clusters_per_class=1,\n",
        "\n",
        "                           weights=[0.2, 0.8],\n",
        "\n",
        "                           class_sep=0.8, random_state=10)\n",
        "\n",
        "counter = Counter(y)\n",
        "print(counter)"
      ],
      "metadata": {
        "colab": {
          "base_uri": "https://localhost:8080/"
        },
        "id": "SGHeQvWVFvPJ",
        "outputId": "2c65249c-485d-4d4f-ba1d-11fb7bd19afd"
      },
      "execution_count": 16,
      "outputs": [
        {
          "output_type": "stream",
          "name": "stdout",
          "text": [
            "Counter({1: 7977, 0: 2023})\n"
          ]
        }
      ]
    },
    {
      "cell_type": "code",
      "source": [
        "# scatter plot of examples by class label\n",
        "for label, _ in counter.items():\n",
        "    row_ix = where(y == label)[0]\n",
        "    pyplot.scatter(X[row_ix, 0], X[row_ix, 1], label=str(label))\n",
        "pyplot.legend()\n",
        "pyplot.show()"
      ],
      "metadata": {
        "colab": {
          "base_uri": "https://localhost:8080/",
          "height": 284
        },
        "id": "qT8xK8_yFvR7",
        "outputId": "a21397ac-ab7f-43c6-8189-f5dd6de53a6a"
      },
      "execution_count": 17,
      "outputs": [
        {
          "output_type": "display_data",
          "data": {
            "text/plain": [
              "<Figure size 432x288 with 1 Axes>"
            ],
            "image/png": "[encoded data removed]"
          },
          "metadata": {
            "needs_background": "light"
          }
        }
      ]
    },
    {
      "cell_type": "markdown",
      "source": [
        "### Resumpling with RandomUnderSampler"
      ],
      "metadata": {
        "id": "X7WbnFpS1ViK"
      }
    },
    {
      "cell_type": "code",
      "source": [
        "rus = RandomUnderSampler(random_state=10)\n",
        "\n",
        "X_rus, y_rus = rus.fit_resample(X, y)\n",
        "\n",
        "print(sorted(Counter(y_rus).items()))"
      ],
      "metadata": {
        "colab": {
          "base_uri": "https://localhost:8080/"
        },
        "id": "Pn1NjR3m1cNH",
        "outputId": "856bde9a-b156-4784-9376-a9f8767fb1e7"
      },
      "execution_count": 18,
      "outputs": [
        {
          "output_type": "stream",
          "name": "stdout",
          "text": [
            "[(0, 2023), (1, 2023)]\n"
          ]
        }
      ]
    },
    {
      "cell_type": "code",
      "source": [
        "# scatter plot of examples by class label\n",
        "for label, _ in Counter(y_rus).items():\n",
        "    row_ix = where(y_rus == label)[0]\n",
        "    pyplot.scatter(X_rus[row_ix, 0], X_rus[row_ix, 1], label=str(label))\n",
        "pyplot.legend()\n",
        "pyplot.show()"
      ],
      "metadata": {
        "colab": {
          "base_uri": "https://localhost:8080/",
          "height": 284
        },
        "id": "ARFvV8Bh1b-N",
        "outputId": "7f233267-6135-48bb-bc88-cd7e1d8c653d"
      },
      "execution_count": 19,
      "outputs": [
        {
          "output_type": "display_data",
          "data": {
            "text/plain": [
              "<Figure size 432x288 with 1 Axes>"
            ],
            "image/png": "[encoded data removed]"
          },
          "metadata": {
            "needs_background": "light"
          }
        }
      ]
    },
    {
      "cell_type": "markdown",
      "source": [
        "###Pipeline of transforms with a final estimator RandomUnderSampler"
      ],
      "metadata": {
        "id": "N4o8GIGF10nq"
      }
    },
    {
      "cell_type": "code",
      "source": [
        "steps = [('under', RandomUnderSampler()), ('model', DecisionTreeClassifier())]\n",
        "pipeline = Pipeline(steps=steps)"
      ],
      "metadata": {
        "id": "6NAaTd-_1x-4"
      },
      "execution_count": 20,
      "outputs": []
    },
    {
      "cell_type": "code",
      "source": [
        "cv = RepeatedStratifiedKFold(n_splits=10, n_repeats=3, random_state=1)\n",
        "scores = cross_val_score(pipeline, X_rus, y_rus, scoring='f1_micro', cv=cv, n_jobs=-1)\n",
        "score = mean(scores)\n",
        "print('F1 Score: %.3f' % score)"
      ],
      "metadata": {
        "colab": {
          "base_uri": "https://localhost:8080/"
        },
        "id": "EOxf0vJa188P",
        "outputId": "cfdf38cc-fd07-4e75-e628-f95dd7936d3c"
      },
      "execution_count": 21,
      "outputs": [
        {
          "output_type": "stream",
          "name": "stdout",
          "text": [
            "F1 Score: 0.831\n"
          ]
        }
      ]
    },
    {
      "cell_type": "markdown",
      "source": [
        "###Resumpling with RandomOverSampler\n"
      ],
      "metadata": {
        "id": "YZPEgk_lmraP"
      }
    },
    {
      "cell_type": "code",
      "source": [
        "from imblearn.over_sampling import RandomOverSampler\n",
        "\n",
        "ros = RandomOverSampler(random_state=0)\n",
        "\n",
        "X_ros, y_ros = ros.fit_resample(X, y)\n",
        "\n",
        "print(sorted(Counter(y_ros).items()))"
      ],
      "metadata": {
        "colab": {
          "base_uri": "https://localhost:8080/"
        },
        "id": "05-aWXWpmr9W",
        "outputId": "bb07e447-f772-475b-a622-040018985314"
      },
      "execution_count": 22,
      "outputs": [
        {
          "output_type": "stream",
          "name": "stdout",
          "text": [
            "[(0, 7977), (1, 7977)]\n"
          ]
        }
      ]
    },
    {
      "cell_type": "code",
      "source": [
        "# scatter plot of examples by class label\n",
        "for label, _ in Counter(y_ros).items():\n",
        "    row_ix = where(y_ros == label)[0]\n",
        "    pyplot.scatter(X_ros[row_ix, 0], X_ros[row_ix, 1], label=str(label))\n",
        "pyplot.legend()\n",
        "pyplot.show()"
      ],
      "metadata": {
        "colab": {
          "base_uri": "https://localhost:8080/",
          "height": 284
        },
        "id": "YS7eETCfm4br",
        "outputId": "46a2423f-6dfb-4497-c6cf-44888dc557c9"
      },
      "execution_count": 23,
      "outputs": [
        {
          "output_type": "display_data",
          "data": {
            "text/plain": [
              "<Figure size 432x288 with 1 Axes>"
            ],
            "image/png": "[encoded data removed]"
          },
          "metadata": {
            "needs_background": "light"
          }
        }
      ]
    },
    {
      "cell_type": "markdown",
      "source": [
        "Pipeline of transforms with a final estimator for RandomOverSampler"
      ],
      "metadata": {
        "id": "6zxPeM1zm156"
      }
    },
    {
      "cell_type": "code",
      "source": [
        "steps = [('over', RandomOverSampler()), ('model', DecisionTreeClassifier())]\n",
        "pipeline = Pipeline(steps=steps)"
      ],
      "metadata": {
        "id": "7A2_-mEXnGHp"
      },
      "execution_count": 24,
      "outputs": []
    },
    {
      "cell_type": "code",
      "source": [
        "# evaluate pipeline\n",
        "cv = RepeatedStratifiedKFold(n_splits=10, n_repeats=3, random_state=1)\n",
        "scores = cross_val_score(pipeline, X_ros, y_ros, scoring='f1_micro', cv=cv, n_jobs=-1)\n",
        "score = mean(scores)\n",
        "print('F1 Score: %.3f' % score)"
      ],
      "metadata": {
        "colab": {
          "base_uri": "https://localhost:8080/"
        },
        "id": "jPdQjDS8ngp9",
        "outputId": "a9e2457c-4b43-470c-fe73-ff6e95645eb5"
      },
      "execution_count": 25,
      "outputs": [
        {
          "output_type": "stream",
          "name": "stdout",
          "text": [
            "F1 Score: 0.960\n"
          ]
        }
      ]
    },
    {
      "cell_type": "markdown",
      "source": [
        "###Combining Random Oversampling and Undersampling"
      ],
      "metadata": {
        "id": "ftOTDZJJWTej"
      }
    },
    {
      "cell_type": "code",
      "source": [
        "# instantiating over and under sampler\n",
        "over = RandomOverSampler(sampling_strategy=0.5)\n",
        "under = RandomUnderSampler(sampling_strategy=0.8)"
      ],
      "metadata": {
        "id": "THP5vv-jWYxU"
      },
      "execution_count": 26,
      "outputs": []
    },
    {
      "cell_type": "code",
      "source": [
        "X_over, y_over = over.fit_resample(X, y)\n",
        "print(f\"Oversampled: {Counter(y_over)}\")"
      ],
      "metadata": {
        "colab": {
          "base_uri": "https://localhost:8080/"
        },
        "id": "3RKZ7qtDWYuH",
        "outputId": "a0e9c70c-149a-4512-c265-88840d8c213b"
      },
      "execution_count": 27,
      "outputs": [
        {
          "output_type": "stream",
          "name": "stdout",
          "text": [
            "Oversampled: Counter({1: 7977, 0: 3988})\n"
          ]
        }
      ]
    },
    {
      "cell_type": "code",
      "source": [
        "# now to comine under sampling \n",
        "X_combined_sampling, y_combined_sampling = under.fit_resample(X_over, y_over)\n",
        "print(f\"Combined Random Sampling: {Counter(y_combined_sampling)}\")\n",
        "print(sorted(Counter(y_combined_sampling).items()))"
      ],
      "metadata": {
        "colab": {
          "base_uri": "https://localhost:8080/"
        },
        "id": "3_vgnAOXWYiW",
        "outputId": "ba72cbf0-5dee-47f5-9ef7-68ddf9e08af1"
      },
      "execution_count": 28,
      "outputs": [
        {
          "output_type": "stream",
          "name": "stdout",
          "text": [
            "Combined Random Sampling: Counter({1: 4985, 0: 3988})\n",
            "[(0, 3988), (1, 4985)]\n"
          ]
        }
      ]
    },
    {
      "cell_type": "code",
      "source": [
        "# scatter plot of examples by class label\n",
        "for label, _ in Counter(y_combined_sampling).items():\n",
        "    row_ix = where(y_combined_sampling == label)[0]\n",
        "    pyplot.scatter(X_combined_sampling[row_ix, 0], X_combined_sampling[row_ix, 1], label=str(label))\n",
        "pyplot.legend()\n",
        "pyplot.show()"
      ],
      "metadata": {
        "colab": {
          "base_uri": "https://localhost:8080/",
          "height": 284
        },
        "id": "cJ-wGGqCantG",
        "outputId": "907514f2-fe5c-4ae2-f7b1-6cc5036c2fe2"
      },
      "execution_count": 29,
      "outputs": [
        {
          "output_type": "display_data",
          "data": {
            "text/plain": [
              "<Figure size 432x288 with 1 Axes>"
            ],
            "image/png": "[encoded data removed]"
          },
          "metadata": {
            "needs_background": "light"
          }
        }
      ]
    },
    {
      "cell_type": "code",
      "source": [
        "steps = [('over', RandomOverSampler()), ('under', RandomUnderSampler()), ('model', DecisionTreeClassifier())]\n",
        "pipeline = Pipeline(steps=steps)"
      ],
      "metadata": {
        "id": "oXHxhz4dWmqK"
      },
      "execution_count": 30,
      "outputs": []
    },
    {
      "cell_type": "code",
      "source": [
        "# evaluate pipeline\n",
        "cv = RepeatedStratifiedKFold(n_splits=10, n_repeats=3, random_state=1)\n",
        "scores = cross_val_score(pipeline, X_combined_sampling, y_combined_sampling, scoring='f1_micro', cv=cv, n_jobs=-1)\n",
        "score = mean(scores)\n",
        "print('F1 Score: %.3f' % score)"
      ],
      "metadata": {
        "colab": {
          "base_uri": "https://localhost:8080/"
        },
        "id": "lsi_bwxIWmeu",
        "outputId": "da622ca0-d96b-4512-a4b0-a59447f6c934"
      },
      "execution_count": 31,
      "outputs": [
        {
          "output_type": "stream",
          "name": "stdout",
          "text": [
            "F1 Score: 0.923\n"
          ]
        }
      ]
    },
    {
      "cell_type": "markdown",
      "source": [
        "### Train-Test Split for Evaluating Machine Learning "
      ],
      "metadata": {
        "id": "qz1EThdyxpZb"
      }
    },
    {
      "cell_type": "code",
      "source": [
        "# split into train test sets\n",
        "X_train, X_test, y_train, y_test = train_test_split(X_ros, y_ros, test_size=0.3,random_state=45)\n",
        "print(X_train.shape, X_test.shape, y_train.shape, y_test.shape)"
      ],
      "metadata": {
        "colab": {
          "base_uri": "https://localhost:8080/"
        },
        "id": "DKxGoCBexKpc",
        "outputId": "7c522611-cbb3-48fa-8ca0-b26d0a4266c1"
      },
      "execution_count": 32,
      "outputs": [
        {
          "output_type": "stream",
          "name": "stdout",
          "text": [
            "(11167, 2) (4787, 2) (11167,) (4787,)\n"
          ]
        }
      ]
    },
    {
      "cell_type": "markdown",
      "source": [
        "\n",
        "### ML DecisionTreeClassifier with max_depth = None"
      ],
      "metadata": {
        "id": "LTEPzFmR2wCh"
      }
    },
    {
      "cell_type": "code",
      "source": [
        "# fit the model\n",
        "model = tree.DecisionTreeClassifier(random_state=0)\n",
        "model = model.fit(X_train, y_train)"
      ],
      "metadata": {
        "id": "ciqQuQ420dEu"
      },
      "execution_count": 33,
      "outputs": []
    },
    {
      "cell_type": "code",
      "source": [
        "tree.plot_tree(model)"
      ],
      "metadata": {
        "colab": {
          "base_uri": "https://localhost:8080/",
          "height": 1000
        },
        "id": "06KOrAas7M-Z",
        "outputId": "cecec7cc-447f-420f-9e09-f7a8b42127f7"
      },
      "execution_count": 34,
      "outputs": [
        {
          "output_type": "execute_result",
          "data": {
            "text/plain": [
              "[Text(0.43963210165874217, 0.9857142857142858, 'X[0] <= -0.04\\ngini = 0.5\\nsamples = 11167\\nvalue = [5586, 5581]'),\n",
              " Text(0.26525691592824724, 0.9571428571428572, 'X[1] <= -0.119\\ngini = 0.233\\nsamples = 5332\\nvalue = [717, 4615]'),\n",
              " Text(0.16191646855413874, 0.9285714285714286, 'X[0] <= -0.405\\ngini = 0.166\\nsamples = 5017\\nvalue = [457, 4560]'),\n",
              " Text(0.10268532526475038, 0.9, 'X[1] <= -0.347\\ngini = 0.085\\nsamples = 4041\\nvalue = [179, 3862]'),\n",
              " Text(0.05754268424465096, 0.8714285714285714, 'X[0] <= -0.796\\ngini = 0.068\\nsamples = 3906\\nvalue = [138, 3768]'),\n",
              " Text(0.019397017505943377, 0.8428571428571429, 'X[0] <= -3.153\\ngini = 0.039\\nsamples = 2894\\nvalue = [58, 2836]'),\n",
              " Text(0.006051437216338881, 0.8142857142857143, 'X[0] <= -3.161\\ngini = 0.375\\nsamples = 16\\nvalue = [4, 12]'),\n",
              " Text(0.004322455154527772, 0.7857142857142857, 'gini = 0.0\\nsamples = 12\\nvalue = [0, 12]'),\n",
              " Text(0.007780419278149989, 0.7857142857142857, 'gini = 0.0\\nsamples = 4\\nvalue = [4, 0]'),\n",
              " Text(0.03274259779554787, 0.8142857142857143, 'X[0] <= -1.243\\ngini = 0.037\\nsamples = 2878\\nvalue = [54, 2824]'),\n",
              " Text(0.011238383401772207, 0.7857142857142857, 'X[0] <= -2.562\\ngini = 0.018\\nsamples = 1742\\nvalue = [16, 1726]'),\n",
              " Text(0.0034579641236222175, 0.7571428571428571, 'X[0] <= -2.59\\ngini = 0.097\\nsamples = 98\\nvalue = [5, 93]'),\n",
              " Text(0.0017289820618111088, 0.7285714285714285, 'gini = 0.0\\nsamples = 89\\nvalue = [0, 89]'),\n",
              " Text(0.005186946185433326, 0.7285714285714285, 'X[0] <= -2.589\\ngini = 0.494\\nsamples = 9\\nvalue = [5, 4]'),\n",
              " Text(0.0034579641236222175, 0.7, 'gini = 0.0\\nsamples = 3\\nvalue = [3, 0]'),\n",
              " Text(0.006915928247244435, 0.7, 'X[0] <= -2.564\\ngini = 0.444\\nsamples = 6\\nvalue = [2, 4]'),\n",
              " Text(0.005186946185433326, 0.6714285714285714, 'gini = 0.0\\nsamples = 4\\nvalue = [0, 4]'),\n",
              " Text(0.008644910309055544, 0.6714285714285714, 'gini = 0.0\\nsamples = 2\\nvalue = [2, 0]'),\n",
              " Text(0.019018802679922196, 0.7571428571428571, 'X[0] <= -1.539\\ngini = 0.013\\nsamples = 1644\\nvalue = [11, 1633]'),\n",
              " Text(0.017289820618111088, 0.7285714285714285, 'X[0] <= -1.54\\ngini = 0.022\\nsamples = 999\\nvalue = [11, 988]'),\n",
              " Text(0.015560838556299979, 0.7, 'X[1] <= -1.205\\ngini = 0.018\\nsamples = 997\\nvalue = [9, 988]'),\n",
              " Text(0.012102874432677761, 0.6714285714285714, 'X[0] <= -1.669\\ngini = 0.003\\nsamples = 662\\nvalue = [1, 661]'),\n",
              " Text(0.010373892370866653, 0.6428571428571429, 'gini = 0.0\\nsamples = 559\\nvalue = [0, 559]'),\n",
              " Text(0.01383185649448887, 0.6428571428571429, 'X[0] <= -1.668\\ngini = 0.019\\nsamples = 103\\nvalue = [1, 102]'),\n",
              " Text(0.012102874432677761, 0.6142857142857143, 'gini = 0.0\\nsamples = 1\\nvalue = [1, 0]'),\n",
              " Text(0.015560838556299979, 0.6142857142857143, 'gini = 0.0\\nsamples = 102\\nvalue = [0, 102]'),\n",
              " Text(0.019018802679922196, 0.6714285714285714, 'X[1] <= -1.204\\ngini = 0.047\\nsamples = 335\\nvalue = [8, 327]'),\n",
              " Text(0.017289820618111088, 0.6428571428571429, 'gini = 0.0\\nsamples = 2\\nvalue = [2, 0]'),\n",
              " Text(0.020747784741733305, 0.6428571428571429, 'X[1] <= -1.089\\ngini = 0.035\\nsamples = 333\\nvalue = [6, 327]'),\n",
              " Text(0.019018802679922196, 0.6142857142857143, 'X[1] <= -1.09\\ngini = 0.083\\nsamples = 139\\nvalue = [6, 133]'),\n",
              " Text(0.017289820618111088, 0.5857142857142857, 'X[1] <= -1.118\\ngini = 0.029\\nsamples = 135\\nvalue = [2, 133]'),\n",
              " Text(0.015560838556299979, 0.5571428571428572, 'gini = 0.0\\nsamples = 110\\nvalue = [0, 110]'),\n",
              " Text(0.019018802679922196, 0.5571428571428572, 'X[1] <= -1.117\\ngini = 0.147\\nsamples = 25\\nvalue = [2, 23]'),\n",
              " Text(0.017289820618111088, 0.5285714285714286, 'gini = 0.0\\nsamples = 2\\nvalue = [2, 0]'),\n",
              " Text(0.020747784741733305, 0.5285714285714286, 'gini = 0.0\\nsamples = 23\\nvalue = [0, 23]'),\n",
              " Text(0.020747784741733305, 0.5857142857142857, 'gini = 0.0\\nsamples = 4\\nvalue = [4, 0]'),\n",
              " Text(0.022476766803544414, 0.6142857142857143, 'gini = 0.0\\nsamples = 194\\nvalue = [0, 194]'),\n",
              " Text(0.019018802679922196, 0.7, 'gini = 0.0\\nsamples = 2\\nvalue = [2, 0]'),\n",
              " Text(0.020747784741733305, 0.7285714285714285, 'gini = 0.0\\nsamples = 645\\nvalue = [0, 645]'),\n",
              " Text(0.054246812189323534, 0.7857142857142857, 'X[0] <= -1.243\\ngini = 0.065\\nsamples = 1136\\nvalue = [38, 1098]'),\n",
              " Text(0.052517830127512426, 0.7571428571428571, 'gini = 0.0\\nsamples = 2\\nvalue = [2, 0]'),\n",
              " Text(0.05597579425113464, 0.7571428571428571, 'X[0] <= -1.029\\ngini = 0.061\\nsamples = 1134\\nvalue = [36, 1098]'),\n",
              " Text(0.04625027015344716, 0.7285714285714285, 'X[0] <= -1.029\\ngini = 0.098\\nsamples = 525\\nvalue = [27, 498]'),\n",
              " Text(0.04452128809163605, 0.7, 'X[0] <= -1.068\\ngini = 0.091\\nsamples = 523\\nvalue = [25, 498]'),\n",
              " Text(0.035444132267127726, 0.6714285714285714, 'X[1] <= -0.653\\ngini = 0.06\\nsamples = 423\\nvalue = [13, 410]'),\n",
              " Text(0.02939269505078885, 0.6428571428571429, 'X[1] <= -0.851\\ngini = 0.027\\nsamples = 369\\nvalue = [5, 364]'),\n",
              " Text(0.02593473092716663, 0.6142857142857143, 'X[1] <= -1.426\\ngini = 0.007\\nsamples = 284\\nvalue = [1, 283]'),\n",
              " Text(0.024205748865355523, 0.5857142857142857, 'X[1] <= -1.441\\ngini = 0.117\\nsamples = 16\\nvalue = [1, 15]'),\n",
              " Text(0.022476766803544414, 0.5571428571428572, 'gini = 0.0\\nsamples = 15\\nvalue = [0, 15]'),\n",
              " Text(0.02593473092716663, 0.5571428571428572, 'gini = 0.0\\nsamples = 1\\nvalue = [1, 0]'),\n",
              " Text(0.02766371298897774, 0.5857142857142857, 'gini = 0.0\\nsamples = 268\\nvalue = [0, 268]'),\n",
              " Text(0.032850659174411066, 0.6142857142857143, 'X[1] <= -0.849\\ngini = 0.09\\nsamples = 85\\nvalue = [4, 81]'),\n",
              " Text(0.031121677112599958, 0.5857142857142857, 'gini = 0.0\\nsamples = 3\\nvalue = [3, 0]'),\n",
              " Text(0.034579641236222175, 0.5857142857142857, 'X[0] <= -1.224\\ngini = 0.024\\nsamples = 82\\nvalue = [1, 81]'),\n",
              " Text(0.032850659174411066, 0.5571428571428572, 'X[0] <= -1.224\\ngini = 0.124\\nsamples = 15\\nvalue = [1, 14]'),\n",
              " Text(0.031121677112599958, 0.5285714285714286, 'gini = 0.0\\nsamples = 14\\nvalue = [0, 14]'),\n",
              " Text(0.034579641236222175, 0.5285714285714286, 'gini = 0.0\\nsamples = 1\\nvalue = [1, 0]'),\n",
              " Text(0.036308623298033284, 0.5571428571428572, 'gini = 0.0\\nsamples = 67\\nvalue = [0, 67]'),\n",
              " Text(0.04149556948346661, 0.6428571428571429, 'X[1] <= -0.648\\ngini = 0.252\\nsamples = 54\\nvalue = [8, 46]'),\n",
              " Text(0.0397665874216555, 0.6142857142857143, 'gini = 0.0\\nsamples = 5\\nvalue = [5, 0]'),\n",
              " Text(0.04322455154527772, 0.6142857142857143, 'X[0] <= -1.223\\ngini = 0.115\\nsamples = 49\\nvalue = [3, 46]'),\n",
              " Text(0.04149556948346661, 0.5857142857142857, 'X[0] <= -1.229\\ngini = 0.5\\nsamples = 6\\nvalue = [3, 3]'),\n",
              " Text(0.0397665874216555, 0.5571428571428572, 'gini = 0.0\\nsamples = 3\\nvalue = [0, 3]'),\n",
              " Text(0.04322455154527772, 0.5571428571428572, 'gini = 0.0\\nsamples = 3\\nvalue = [3, 0]'),\n",
              " Text(0.04495353360708883, 0.5857142857142857, 'gini = 0.0\\nsamples = 43\\nvalue = [0, 43]'),\n",
              " Text(0.05359844391614437, 0.6714285714285714, 'X[0] <= -1.067\\ngini = 0.211\\nsamples = 100\\nvalue = [12, 88]'),\n",
              " Text(0.05186946185433326, 0.6428571428571429, 'gini = 0.0\\nsamples = 4\\nvalue = [4, 0]'),\n",
              " Text(0.05532742597795548, 0.6428571428571429, 'X[1] <= -1.128\\ngini = 0.153\\nsamples = 96\\nvalue = [8, 88]'),\n",
              " Text(0.050140479792522154, 0.6142857142857143, 'X[1] <= -1.149\\ngini = 0.302\\nsamples = 27\\nvalue = [5, 22]'),\n",
              " Text(0.048411497730711045, 0.5857142857142857, 'gini = 0.0\\nsamples = 19\\nvalue = [0, 19]'),\n",
              " Text(0.05186946185433326, 0.5857142857142857, 'X[0] <= -1.042\\ngini = 0.469\\nsamples = 8\\nvalue = [5, 3]'),\n",
              " Text(0.050140479792522154, 0.5571428571428572, 'gini = 0.0\\nsamples = 3\\nvalue = [0, 3]'),\n",
              " Text(0.05359844391614437, 0.5571428571428572, 'gini = 0.0\\nsamples = 5\\nvalue = [5, 0]'),\n",
              " Text(0.060514372163388806, 0.6142857142857143, 'X[0] <= -1.052\\ngini = 0.083\\nsamples = 69\\nvalue = [3, 66]'),\n",
              " Text(0.0587853901015777, 0.5857142857142857, 'X[0] <= -1.054\\ngini = 0.255\\nsamples = 20\\nvalue = [3, 17]'),\n",
              " Text(0.05705640803976659, 0.5571428571428572, 'gini = 0.0\\nsamples = 16\\nvalue = [0, 16]'),\n",
              " Text(0.060514372163388806, 0.5571428571428572, 'X[0] <= -1.053\\ngini = 0.375\\nsamples = 4\\nvalue = [3, 1]'),\n",
              " Text(0.0587853901015777, 0.5285714285714286, 'gini = 0.0\\nsamples = 2\\nvalue = [2, 0]'),\n",
              " Text(0.062243354225199915, 0.5285714285714286, 'X[1] <= -0.782\\ngini = 0.5\\nsamples = 2\\nvalue = [1, 1]'),\n",
              " Text(0.060514372163388806, 0.5, 'gini = 0.0\\nsamples = 1\\nvalue = [0, 1]'),\n",
              " Text(0.06397233628701102, 0.5, 'gini = 0.0\\nsamples = 1\\nvalue = [1, 0]'),\n",
              " Text(0.062243354225199915, 0.5857142857142857, 'gini = 0.0\\nsamples = 49\\nvalue = [0, 49]'),\n",
              " Text(0.04797925221525827, 0.7, 'gini = 0.0\\nsamples = 2\\nvalue = [2, 0]'),\n",
              " Text(0.06570131834882213, 0.7285714285714285, 'X[0] <= -0.879\\ngini = 0.029\\nsamples = 609\\nvalue = [9, 600]'),\n",
              " Text(0.062243354225199915, 0.7, 'X[0] <= -1.004\\ngini = 0.005\\nsamples = 398\\nvalue = [1, 397]'),\n",
              " Text(0.060514372163388806, 0.6714285714285714, 'X[0] <= -1.005\\ngini = 0.033\\nsamples = 60\\nvalue = [1, 59]'),\n",
              " Text(0.0587853901015777, 0.6428571428571429, 'gini = 0.0\\nsamples = 59\\nvalue = [0, 59]'),\n",
              " Text(0.062243354225199915, 0.6428571428571429, 'gini = 0.0\\nsamples = 1\\nvalue = [1, 0]'),\n",
              " Text(0.06397233628701102, 0.6714285714285714, 'gini = 0.0\\nsamples = 338\\nvalue = [0, 338]'),\n",
              " Text(0.06915928247244435, 0.7, 'X[0] <= -0.879\\ngini = 0.073\\nsamples = 211\\nvalue = [8, 203]'),\n",
              " Text(0.06743030041063323, 0.6714285714285714, 'gini = 0.0\\nsamples = 2\\nvalue = [2, 0]'),\n",
              " Text(0.07088826453425545, 0.6714285714285714, 'X[1] <= -0.875\\ngini = 0.056\\nsamples = 209\\nvalue = [6, 203]'),\n",
              " Text(0.06915928247244435, 0.6428571428571429, 'gini = 0.0\\nsamples = 95\\nvalue = [0, 95]'),\n",
              " Text(0.07261724659606657, 0.6428571428571429, 'X[1] <= -0.87\\ngini = 0.1\\nsamples = 114\\nvalue = [6, 108]'),\n",
              " Text(0.07088826453425545, 0.6142857142857143, 'gini = 0.0\\nsamples = 2\\nvalue = [2, 0]'),\n",
              " Text(0.07434622865787767, 0.6142857142857143, 'X[1] <= -0.725\\ngini = 0.069\\nsamples = 112\\nvalue = [4, 108]'),\n",
              " Text(0.07261724659606657, 0.5857142857142857, 'X[1] <= -0.728\\ngini = 0.156\\nsamples = 47\\nvalue = [4, 43]'),\n",
              " Text(0.07088826453425545, 0.5571428571428572, 'gini = 0.0\\nsamples = 43\\nvalue = [0, 43]'),\n",
              " Text(0.07434622865787767, 0.5571428571428572, 'gini = 0.0\\nsamples = 4\\nvalue = [4, 0]'),\n",
              " Text(0.07607521071968879, 0.5857142857142857, 'gini = 0.0\\nsamples = 65\\nvalue = [0, 65]'),\n",
              " Text(0.09568835098335855, 0.8428571428571429, 'X[1] <= -1.121\\ngini = 0.146\\nsamples = 1012\\nvalue = [80, 932]'),\n",
              " Text(0.07521071968878323, 0.8142857142857143, 'X[0] <= -0.552\\ngini = 0.402\\nsamples = 86\\nvalue = [24, 62]'),\n",
              " Text(0.07088826453425545, 0.7857142857142857, 'X[0] <= -0.68\\ngini = 0.113\\nsamples = 50\\nvalue = [3, 47]'),\n",
              " Text(0.06915928247244435, 0.7571428571428571, 'gini = 0.0\\nsamples = 29\\nvalue = [0, 29]'),\n",
              " Text(0.07261724659606657, 0.7571428571428571, 'X[0] <= -0.669\\ngini = 0.245\\nsamples = 21\\nvalue = [3, 18]'),\n",
              " Text(0.07088826453425545, 0.7285714285714285, 'gini = 0.0\\nsamples = 3\\nvalue = [3, 0]'),\n",
              " Text(0.07434622865787767, 0.7285714285714285, 'gini = 0.0\\nsamples = 18\\nvalue = [0, 18]'),\n",
              " Text(0.079533174843311, 0.7857142857142857, 'X[0] <= -0.551\\ngini = 0.486\\nsamples = 36\\nvalue = [21, 15]'),\n",
              " Text(0.07780419278149989, 0.7571428571428571, 'gini = 0.0\\nsamples = 5\\nvalue = [5, 0]'),\n",
              " Text(0.0812621569051221, 0.7571428571428571, 'X[1] <= -1.287\\ngini = 0.499\\nsamples = 31\\nvalue = [16, 15]'),\n",
              " Text(0.07780419278149989, 0.7285714285714285, 'X[0] <= -0.451\\ngini = 0.298\\nsamples = 11\\nvalue = [9, 2]'),\n",
              " Text(0.07607521071968879, 0.7, 'X[1] <= -1.444\\ngini = 0.18\\nsamples = 10\\nvalue = [9, 1]'),\n",
              " Text(0.07434622865787767, 0.6714285714285714, 'gini = 0.0\\nsamples = 5\\nvalue = [5, 0]'),\n",
              " Text(0.07780419278149989, 0.6714285714285714, 'X[0] <= -0.51\\ngini = 0.32\\nsamples = 5\\nvalue = [4, 1]'),\n",
              " Text(0.07607521071968879, 0.6428571428571429, 'gini = 0.0\\nsamples = 4\\nvalue = [4, 0]'),\n",
              " Text(0.079533174843311, 0.6428571428571429, 'gini = 0.0\\nsamples = 1\\nvalue = [0, 1]'),\n",
              " Text(0.079533174843311, 0.7, 'gini = 0.0\\nsamples = 1\\nvalue = [0, 1]'),\n",
              " Text(0.08472012102874432, 0.7285714285714285, 'X[0] <= -0.423\\ngini = 0.455\\nsamples = 20\\nvalue = [7, 13]'),\n",
              " Text(0.08299113896693322, 0.7, 'X[1] <= -1.127\\ngini = 0.305\\nsamples = 16\\nvalue = [3, 13]'),\n",
              " Text(0.0812621569051221, 0.6714285714285714, 'gini = 0.0\\nsamples = 13\\nvalue = [0, 13]'),\n",
              " Text(0.08472012102874432, 0.6714285714285714, 'gini = 0.0\\nsamples = 3\\nvalue = [3, 0]'),\n",
              " Text(0.08644910309055544, 0.7, 'gini = 0.0\\nsamples = 4\\nvalue = [4, 0]'),\n",
              " Text(0.11616598227793387, 0.8142857142857143, 'X[0] <= -0.795\\ngini = 0.114\\nsamples = 926\\nvalue = [56, 870]'),\n",
              " Text(0.11443700021612276, 0.7857142857142857, 'gini = 0.0\\nsamples = 3\\nvalue = [3, 0]'),\n",
              " Text(0.11789496433974497, 0.7857142857142857, 'X[1] <= -0.372\\ngini = 0.108\\nsamples = 923\\nvalue = [53, 870]'),\n",
              " Text(0.10352280095094013, 0.7571428571428571, 'X[0] <= -0.725\\ngini = 0.101\\nsamples = 897\\nvalue = [48, 849]'),\n",
              " Text(0.09163604927598876, 0.7285714285714285, 'X[0] <= -0.726\\ngini = 0.191\\nsamples = 159\\nvalue = [17, 142]'),\n",
              " Text(0.08990706721417766, 0.7, 'X[1] <= -0.802\\ngini = 0.163\\nsamples = 156\\nvalue = [14, 142]'),\n",
              " Text(0.08817808515236654, 0.6714285714285714, 'gini = 0.0\\nsamples = 54\\nvalue = [0, 54]'),\n",
              " Text(0.09163604927598876, 0.6714285714285714, 'X[1] <= -0.797\\ngini = 0.237\\nsamples = 102\\nvalue = [14, 88]'),\n",
              " Text(0.08990706721417766, 0.6428571428571429, 'gini = 0.0\\nsamples = 4\\nvalue = [4, 0]'),\n",
              " Text(0.09336503133779987, 0.6428571428571429, 'X[1] <= -0.647\\ngini = 0.183\\nsamples = 98\\nvalue = [10, 88]'),\n",
              " Text(0.09163604927598876, 0.6142857142857143, 'X[1] <= -0.652\\ngini = 0.298\\nsamples = 55\\nvalue = [10, 45]'),\n",
              " Text(0.08990706721417766, 0.5857142857142857, 'X[1] <= -0.727\\ngini = 0.208\\nsamples = 51\\nvalue = [6, 45]'),\n",
              " Text(0.08817808515236654, 0.5571428571428572, 'X[1] <= -0.728\\ngini = 0.375\\nsamples = 24\\nvalue = [6, 18]'),\n",
              " Text(0.08644910309055544, 0.5285714285714286, 'X[0] <= -0.746\\ngini = 0.245\\nsamples = 21\\nvalue = [3, 18]'),\n",
              " Text(0.08472012102874432, 0.5, 'gini = 0.0\\nsamples = 13\\nvalue = [0, 13]'),\n",
              " Text(0.08817808515236654, 0.5, 'X[0] <= -0.743\\ngini = 0.469\\nsamples = 8\\nvalue = [3, 5]'),\n",
              " Text(0.08644910309055544, 0.4714285714285714, 'gini = 0.0\\nsamples = 3\\nvalue = [3, 0]'),\n",
              " Text(0.08990706721417766, 0.4714285714285714, 'gini = 0.0\\nsamples = 5\\nvalue = [0, 5]'),\n",
              " Text(0.08990706721417766, 0.5285714285714286, 'gini = 0.0\\nsamples = 3\\nvalue = [3, 0]'),\n",
              " Text(0.09163604927598876, 0.5571428571428572, 'gini = 0.0\\nsamples = 27\\nvalue = [0, 27]'),\n",
              " Text(0.09336503133779987, 0.5857142857142857, 'gini = 0.0\\nsamples = 4\\nvalue = [4, 0]'),\n",
              " Text(0.09509401339961097, 0.6142857142857143, 'gini = 0.0\\nsamples = 43\\nvalue = [0, 43]'),\n",
              " Text(0.09336503133779987, 0.7, 'gini = 0.0\\nsamples = 3\\nvalue = [3, 0]'),\n",
              " Text(0.1154095526258915, 0.7285714285714285, 'X[0] <= -0.508\\ngini = 0.08\\nsamples = 738\\nvalue = [31, 707]'),\n",
              " Text(0.10546790577047763, 0.7, 'X[1] <= -0.989\\ngini = 0.047\\nsamples = 501\\nvalue = [12, 489]'),\n",
              " Text(0.10200994164685541, 0.6714285714285714, 'X[1] <= -0.99\\ngini = 0.175\\nsamples = 62\\nvalue = [6, 56]'),\n",
              " Text(0.10028095958504431, 0.6428571428571429, 'X[0] <= -0.659\\ngini = 0.067\\nsamples = 58\\nvalue = [2, 56]'),\n",
              " Text(0.09855197752323319, 0.6142857142857143, 'X[0] <= -0.659\\ngini = 0.165\\nsamples = 22\\nvalue = [2, 20]'),\n",
              " Text(0.09682299546142209, 0.5857142857142857, 'gini = 0.0\\nsamples = 20\\nvalue = [0, 20]'),\n",
              " Text(0.10028095958504431, 0.5857142857142857, 'gini = 0.0\\nsamples = 2\\nvalue = [2, 0]'),\n",
              " Text(0.10200994164685541, 0.6142857142857143, 'gini = 0.0\\nsamples = 36\\nvalue = [0, 36]'),\n",
              " Text(0.10373892370866653, 0.6428571428571429, 'gini = 0.0\\nsamples = 4\\nvalue = [4, 0]'),\n",
              " Text(0.10892586989409984, 0.6714285714285714, 'X[0] <= -0.638\\ngini = 0.027\\nsamples = 439\\nvalue = [6, 433]'),\n",
              " Text(0.10719688783228874, 0.6428571428571429, 'gini = 0.0\\nsamples = 157\\nvalue = [0, 157]'),\n",
              " Text(0.11065485195591096, 0.6428571428571429, 'X[0] <= -0.638\\ngini = 0.042\\nsamples = 282\\nvalue = [6, 276]'),\n",
              " Text(0.10892586989409984, 0.6142857142857143, 'gini = 0.0\\nsamples = 3\\nvalue = [3, 0]'),\n",
              " Text(0.11238383401772206, 0.6142857142857143, 'X[1] <= -0.542\\ngini = 0.021\\nsamples = 279\\nvalue = [3, 276]'),\n",
              " Text(0.11065485195591096, 0.5857142857142857, 'gini = 0.0\\nsamples = 201\\nvalue = [0, 201]'),\n",
              " Text(0.11411281607953318, 0.5857142857142857, 'X[1] <= -0.541\\ngini = 0.074\\nsamples = 78\\nvalue = [3, 75]'),\n",
              " Text(0.11238383401772206, 0.5571428571428572, 'gini = 0.0\\nsamples = 3\\nvalue = [3, 0]'),\n",
              " Text(0.11584179814134428, 0.5571428571428572, 'gini = 0.0\\nsamples = 75\\nvalue = [0, 75]'),\n",
              " Text(0.12535119948130538, 0.7, 'X[0] <= -0.504\\ngini = 0.147\\nsamples = 237\\nvalue = [19, 218]'),\n",
              " Text(0.1192997622649665, 0.6714285714285714, 'X[0] <= -0.505\\ngini = 0.49\\nsamples = 14\\nvalue = [8, 6]'),\n",
              " Text(0.1175707802031554, 0.6428571428571429, 'X[0] <= -0.508\\ngini = 0.245\\nsamples = 7\\nvalue = [1, 6]'),\n",
              " Text(0.11584179814134428, 0.6142857142857143, 'gini = 0.0\\nsamples = 1\\nvalue = [1, 0]'),\n",
              " Text(0.1192997622649665, 0.6142857142857143, 'gini = 0.0\\nsamples = 6\\nvalue = [0, 6]'),\n",
              " Text(0.12102874432677761, 0.6428571428571429, 'gini = 0.0\\nsamples = 7\\nvalue = [7, 0]'),\n",
              " Text(0.13140263669764427, 0.6714285714285714, 'X[1] <= -0.549\\ngini = 0.094\\nsamples = 223\\nvalue = [11, 212]'),\n",
              " Text(0.12448670845039983, 0.6428571428571429, 'X[0] <= -0.461\\ngini = 0.026\\nsamples = 154\\nvalue = [2, 152]'),\n",
              " Text(0.12275772638858871, 0.6142857142857143, 'gini = 0.0\\nsamples = 69\\nvalue = [0, 69]'),\n",
              " Text(0.12621569051221093, 0.6142857142857143, 'X[0] <= -0.459\\ngini = 0.046\\nsamples = 85\\nvalue = [2, 83]'),\n",
              " Text(0.12448670845039983, 0.5857142857142857, 'gini = 0.0\\nsamples = 1\\nvalue = [1, 0]'),\n",
              " Text(0.12794467257402203, 0.5857142857142857, 'X[0] <= -0.447\\ngini = 0.024\\nsamples = 84\\nvalue = [1, 83]'),\n",
              " Text(0.12621569051221093, 0.5571428571428572, 'X[0] <= -0.448\\ngini = 0.083\\nsamples = 23\\nvalue = [1, 22]'),\n",
              " Text(0.12448670845039983, 0.5285714285714286, 'gini = 0.0\\nsamples = 22\\nvalue = [0, 22]'),\n",
              " Text(0.12794467257402203, 0.5285714285714286, 'gini = 0.0\\nsamples = 1\\nvalue = [1, 0]'),\n",
              " Text(0.12967365463583316, 0.5571428571428572, 'gini = 0.0\\nsamples = 61\\nvalue = [0, 61]'),\n",
              " Text(0.1383185649448887, 0.6428571428571429, 'X[1] <= -0.528\\ngini = 0.227\\nsamples = 69\\nvalue = [9, 60]'),\n",
              " Text(0.1365895828830776, 0.6142857142857143, 'X[1] <= -0.529\\ngini = 0.5\\nsamples = 18\\nvalue = [9, 9]'),\n",
              " Text(0.13486060082126647, 0.5857142857142857, 'X[1] <= -0.546\\ngini = 0.298\\nsamples = 11\\nvalue = [2, 9]'),\n",
              " Text(0.13313161875945537, 0.5571428571428572, 'gini = 0.0\\nsamples = 2\\nvalue = [2, 0]'),\n",
              " Text(0.1365895828830776, 0.5571428571428572, 'gini = 0.0\\nsamples = 9\\nvalue = [0, 9]'),\n",
              " Text(0.1383185649448887, 0.5857142857142857, 'gini = 0.0\\nsamples = 7\\nvalue = [7, 0]'),\n",
              " Text(0.1400475470066998, 0.6142857142857143, 'gini = 0.0\\nsamples = 51\\nvalue = [0, 51]'),\n",
              " Text(0.13226712772854982, 0.7571428571428571, 'X[1] <= -0.367\\ngini = 0.311\\nsamples = 26\\nvalue = [5, 21]'),\n",
              " Text(0.13053814566673871, 0.7285714285714285, 'X[0] <= -0.712\\ngini = 0.278\\nsamples = 6\\nvalue = [5, 1]'),\n",
              " Text(0.1288091636049276, 0.7, 'gini = 0.0\\nsamples = 1\\nvalue = [0, 1]'),\n",
              " Text(0.13226712772854982, 0.7, 'gini = 0.0\\nsamples = 5\\nvalue = [5, 0]'),\n",
              " Text(0.13399610979036092, 0.7285714285714285, 'gini = 0.0\\nsamples = 20\\nvalue = [0, 20]'),\n",
              " Text(0.1478279662848498, 0.8714285714285714, 'X[0] <= -0.453\\ngini = 0.423\\nsamples = 135\\nvalue = [41, 94]'),\n",
              " Text(0.14609898422303869, 0.8428571428571429, 'X[0] <= -1.356\\ngini = 0.457\\nsamples = 116\\nvalue = [41, 75]'),\n",
              " Text(0.14437000216122758, 0.8142857142857143, 'gini = 0.0\\nsamples = 4\\nvalue = [4, 0]'),\n",
              " Text(0.1478279662848498, 0.8142857142857143, 'X[0] <= -0.481\\ngini = 0.442\\nsamples = 112\\nvalue = [37, 75]'),\n",
              " Text(0.14437000216122758, 0.7857142857142857, 'X[1] <= -0.312\\ngini = 0.422\\nsamples = 106\\nvalue = [32, 74]'),\n",
              " Text(0.14264102009941648, 0.7571428571428571, 'gini = 0.0\\nsamples = 20\\nvalue = [0, 20]'),\n",
              " Text(0.14609898422303869, 0.7571428571428571, 'X[1] <= -0.306\\ngini = 0.467\\nsamples = 86\\nvalue = [32, 54]'),\n",
              " Text(0.14437000216122758, 0.7285714285714285, 'gini = 0.0\\nsamples = 5\\nvalue = [5, 0]'),\n",
              " Text(0.1478279662848498, 0.7285714285714285, 'X[1] <= -0.281\\ngini = 0.444\\nsamples = 81\\nvalue = [27, 54]'),\n",
              " Text(0.14609898422303869, 0.7, 'gini = 0.0\\nsamples = 13\\nvalue = [0, 13]'),\n",
              " Text(0.1495569483466609, 0.7, 'X[1] <= -0.279\\ngini = 0.479\\nsamples = 68\\nvalue = [27, 41]'),\n",
              " Text(0.1478279662848498, 0.6714285714285714, 'gini = 0.0\\nsamples = 5\\nvalue = [5, 0]'),\n",
              " Text(0.15128593040847202, 0.6714285714285714, 'X[1] <= -0.258\\ngini = 0.455\\nsamples = 63\\nvalue = [22, 41]'),\n",
              " Text(0.14523449319213314, 0.6428571428571429, 'X[0] <= -1.141\\ngini = 0.133\\nsamples = 14\\nvalue = [1, 13]'),\n",
              " Text(0.14350551113032203, 0.6142857142857143, 'gini = 0.0\\nsamples = 1\\nvalue = [1, 0]'),\n",
              " Text(0.14696347525394424, 0.6142857142857143, 'gini = 0.0\\nsamples = 13\\nvalue = [0, 13]'),\n",
              " Text(0.1573373676248109, 0.6428571428571429, 'X[1] <= -0.226\\ngini = 0.49\\nsamples = 49\\nvalue = [21, 28]'),\n",
              " Text(0.15042143937756647, 0.6142857142857143, 'X[1] <= -0.236\\ngini = 0.486\\nsamples = 24\\nvalue = [14, 10]'),\n",
              " Text(0.14696347525394424, 0.5857142857142857, 'X[1] <= -0.255\\ngini = 0.42\\nsamples = 10\\nvalue = [3, 7]'),\n",
              " Text(0.14523449319213314, 0.5571428571428572, 'gini = 0.0\\nsamples = 3\\nvalue = [3, 0]'),\n",
              " Text(0.14869245731575534, 0.5571428571428572, 'gini = 0.0\\nsamples = 7\\nvalue = [0, 7]'),\n",
              " Text(0.15387940350118867, 0.5857142857142857, 'X[0] <= -0.674\\ngini = 0.337\\nsamples = 14\\nvalue = [11, 3]'),\n",
              " Text(0.15215042143937757, 0.5571428571428572, 'gini = 0.0\\nsamples = 1\\nvalue = [0, 1]'),\n",
              " Text(0.15560838556299977, 0.5571428571428572, 'X[1] <= -0.23\\ngini = 0.26\\nsamples = 13\\nvalue = [11, 2]'),\n",
              " Text(0.15387940350118867, 0.5285714285714286, 'X[1] <= -0.234\\ngini = 0.444\\nsamples = 6\\nvalue = [4, 2]'),\n",
              " Text(0.15215042143937757, 0.5, 'gini = 0.0\\nsamples = 4\\nvalue = [4, 0]'),\n",
              " Text(0.15560838556299977, 0.5, 'gini = 0.0\\nsamples = 2\\nvalue = [0, 2]'),\n",
              " Text(0.1573373676248109, 0.5285714285714286, 'gini = 0.0\\nsamples = 7\\nvalue = [7, 0]'),\n",
              " Text(0.16425329587205534, 0.6142857142857143, 'X[1] <= -0.205\\ngini = 0.403\\nsamples = 25\\nvalue = [7, 18]'),\n",
              " Text(0.1625243138102442, 0.5857142857142857, 'gini = 0.0\\nsamples = 11\\nvalue = [0, 11]'),\n",
              " Text(0.16598227793386644, 0.5857142857142857, 'X[1] <= -0.164\\ngini = 0.5\\nsamples = 14\\nvalue = [7, 7]'),\n",
              " Text(0.1625243138102442, 0.5571428571428572, 'X[0] <= -0.66\\ngini = 0.245\\nsamples = 7\\nvalue = [6, 1]'),\n",
              " Text(0.1607953317484331, 0.5285714285714286, 'gini = 0.0\\nsamples = 6\\nvalue = [6, 0]'),\n",
              " Text(0.16425329587205534, 0.5285714285714286, 'gini = 0.0\\nsamples = 1\\nvalue = [0, 1]'),\n",
              " Text(0.16944024205748864, 0.5571428571428572, 'X[0] <= -0.624\\ngini = 0.245\\nsamples = 7\\nvalue = [1, 6]'),\n",
              " Text(0.16771125999567754, 0.5285714285714286, 'gini = 0.0\\nsamples = 5\\nvalue = [0, 5]'),\n",
              " Text(0.17116922411929977, 0.5285714285714286, 'X[1] <= -0.134\\ngini = 0.5\\nsamples = 2\\nvalue = [1, 1]'),\n",
              " Text(0.16944024205748864, 0.5, 'gini = 0.0\\nsamples = 1\\nvalue = [1, 0]'),\n",
              " Text(0.17289820618111088, 0.5, 'gini = 0.0\\nsamples = 1\\nvalue = [0, 1]'),\n",
              " Text(0.15128593040847202, 0.7857142857142857, 'X[1] <= -0.331\\ngini = 0.278\\nsamples = 6\\nvalue = [5, 1]'),\n",
              " Text(0.1495569483466609, 0.7571428571428571, 'gini = 0.0\\nsamples = 1\\nvalue = [0, 1]'),\n",
              " Text(0.15301491247028312, 0.7571428571428571, 'gini = 0.0\\nsamples = 5\\nvalue = [5, 0]'),\n",
              " Text(0.1495569483466609, 0.8428571428571429, 'gini = 0.0\\nsamples = 19\\nvalue = [0, 19]'),\n",
              " Text(0.22114761184352713, 0.9, 'X[1] <= -1.061\\ngini = 0.407\\nsamples = 976\\nvalue = [278, 698]'),\n",
              " Text(0.17160146963475253, 0.8714285714285714, 'X[1] <= -1.122\\ngini = 0.257\\nsamples = 99\\nvalue = [84, 15]'),\n",
              " Text(0.16425329587205534, 0.8428571428571429, 'X[0] <= -0.342\\ngini = 0.176\\nsamples = 82\\nvalue = [74, 8]'),\n",
              " Text(0.15993084071752756, 0.8142857142857143, 'X[0] <= -0.365\\ngini = 0.459\\nsamples = 14\\nvalue = [9, 5]'),\n",
              " Text(0.15820185865571645, 0.7857142857142857, 'X[0] <= -0.39\\ngini = 0.18\\nsamples = 10\\nvalue = [9, 1]'),\n",
              " Text(0.15647287659390532, 0.7571428571428571, 'gini = 0.0\\nsamples = 1\\nvalue = [0, 1]'),\n",
              " Text(0.15993084071752756, 0.7571428571428571, 'gini = 0.0\\nsamples = 9\\nvalue = [9, 0]'),\n",
              " Text(0.16165982277933866, 0.7857142857142857, 'gini = 0.0\\nsamples = 4\\nvalue = [0, 4]'),\n",
              " Text(0.1685757510265831, 0.8142857142857143, 'X[0] <= -0.33\\ngini = 0.084\\nsamples = 68\\nvalue = [65, 3]'),\n",
              " Text(0.1651177869029609, 0.7857142857142857, 'X[1] <= -1.316\\ngini = 0.278\\nsamples = 6\\nvalue = [5, 1]'),\n",
              " Text(0.16338880484114976, 0.7571428571428571, 'gini = 0.0\\nsamples = 5\\nvalue = [5, 0]'),\n",
              " Text(0.166846768964772, 0.7571428571428571, 'gini = 0.0\\nsamples = 1\\nvalue = [0, 1]'),\n",
              " Text(0.17203371515020532, 0.7857142857142857, 'X[0] <= -0.194\\ngini = 0.062\\nsamples = 62\\nvalue = [60, 2]'),\n",
              " Text(0.1703047330883942, 0.7571428571428571, 'gini = 0.0\\nsamples = 31\\nvalue = [31, 0]'),\n",
              " Text(0.17376269721201643, 0.7571428571428571, 'X[0] <= -0.189\\ngini = 0.121\\nsamples = 31\\nvalue = [29, 2]'),\n",
              " Text(0.17203371515020532, 0.7285714285714285, 'gini = 0.0\\nsamples = 1\\nvalue = [0, 1]'),\n",
              " Text(0.17549167927382753, 0.7285714285714285, 'X[0] <= -0.095\\ngini = 0.064\\nsamples = 30\\nvalue = [29, 1]'),\n",
              " Text(0.17376269721201643, 0.7, 'X[0] <= -0.109\\ngini = 0.198\\nsamples = 9\\nvalue = [8, 1]'),\n",
              " Text(0.17203371515020532, 0.6714285714285714, 'gini = 0.0\\nsamples = 8\\nvalue = [8, 0]'),\n",
              " Text(0.17549167927382753, 0.6714285714285714, 'gini = 0.0\\nsamples = 1\\nvalue = [0, 1]'),\n",
              " Text(0.17722066133563863, 0.7, 'gini = 0.0\\nsamples = 21\\nvalue = [21, 0]'),\n",
              " Text(0.17894964339744976, 0.8428571428571429, 'X[1] <= -1.067\\ngini = 0.484\\nsamples = 17\\nvalue = [10, 7]'),\n",
              " Text(0.17722066133563863, 0.8142857142857143, 'X[0] <= -0.395\\ngini = 0.486\\nsamples = 12\\nvalue = [5, 7]'),\n",
              " Text(0.17549167927382753, 0.7857142857142857, 'gini = 0.0\\nsamples = 2\\nvalue = [2, 0]'),\n",
              " Text(0.17894964339744976, 0.7857142857142857, 'X[1] <= -1.085\\ngini = 0.42\\nsamples = 10\\nvalue = [3, 7]'),\n",
              " Text(0.17722066133563863, 0.7571428571428571, 'gini = 0.0\\nsamples = 4\\nvalue = [0, 4]'),\n",
              " Text(0.18067862545926086, 0.7571428571428571, 'X[1] <= -1.078\\ngini = 0.5\\nsamples = 6\\nvalue = [3, 3]'),\n",
              " Text(0.17894964339744976, 0.7285714285714285, 'gini = 0.0\\nsamples = 2\\nvalue = [2, 0]'),\n",
              " Text(0.18240760752107196, 0.7285714285714285, 'X[0] <= -0.275\\ngini = 0.375\\nsamples = 4\\nvalue = [1, 3]'),\n",
              " Text(0.18067862545926086, 0.7, 'gini = 0.0\\nsamples = 1\\nvalue = [1, 0]'),\n",
              " Text(0.18413658958288306, 0.7, 'gini = 0.0\\nsamples = 3\\nvalue = [0, 3]'),\n",
              " Text(0.18067862545926086, 0.8142857142857143, 'gini = 0.0\\nsamples = 5\\nvalue = [5, 0]'),\n",
              " Text(0.2706937540523017, 0.8714285714285714, 'X[1] <= -0.265\\ngini = 0.345\\nsamples = 877\\nvalue = [194, 683]'),\n",
              " Text(0.21893235357683163, 0.8428571428571429, 'X[1] <= -0.894\\ngini = 0.304\\nsamples = 743\\nvalue = [139, 604]'),\n",
              " Text(0.1988329371082775, 0.8142857142857143, 'X[0] <= -0.132\\ngini = 0.472\\nsamples = 84\\nvalue = [32, 52]'),\n",
              " Text(0.19451048195374973, 0.7857142857142857, 'X[1] <= -0.908\\ngini = 0.393\\nsamples = 67\\nvalue = [18, 49]'),\n",
              " Text(0.1910525178301275, 0.7571428571428571, 'X[1] <= -0.977\\ngini = 0.249\\nsamples = 48\\nvalue = [7, 41]'),\n",
              " Text(0.1893235357683164, 0.7285714285714285, 'X[1] <= -0.978\\ngini = 0.403\\nsamples = 25\\nvalue = [7, 18]'),\n",
              " Text(0.1875945537065053, 0.7, 'X[1] <= -1.031\\ngini = 0.245\\nsamples = 21\\nvalue = [3, 18]'),\n",
              " Text(0.1858655716446942, 0.6714285714285714, 'X[1] <= -1.039\\ngini = 0.42\\nsamples = 10\\nvalue = [3, 7]'),\n",
              " Text(0.18413658958288306, 0.6428571428571429, 'gini = 0.0\\nsamples = 7\\nvalue = [0, 7]'),\n",
              " Text(0.1875945537065053, 0.6428571428571429, 'gini = 0.0\\nsamples = 3\\nvalue = [3, 0]'),\n",
              " Text(0.1893235357683164, 0.6714285714285714, 'gini = 0.0\\nsamples = 11\\nvalue = [0, 11]'),\n",
              " Text(0.1910525178301275, 0.7, 'gini = 0.0\\nsamples = 4\\nvalue = [4, 0]'),\n",
              " Text(0.19278149989193863, 0.7285714285714285, 'gini = 0.0\\nsamples = 23\\nvalue = [0, 23]'),\n",
              " Text(0.19796844607737193, 0.7571428571428571, 'X[1] <= -0.906\\ngini = 0.488\\nsamples = 19\\nvalue = [11, 8]'),\n",
              " Text(0.19623946401556083, 0.7285714285714285, 'gini = 0.0\\nsamples = 7\\nvalue = [7, 0]'),\n",
              " Text(0.19969742813918306, 0.7285714285714285, 'X[1] <= -0.894\\ngini = 0.444\\nsamples = 12\\nvalue = [4, 8]'),\n",
              " Text(0.19796844607737193, 0.7, 'gini = 0.0\\nsamples = 8\\nvalue = [0, 8]'),\n",
              " Text(0.20142641020099417, 0.7, 'gini = 0.0\\nsamples = 4\\nvalue = [4, 0]'),\n",
              " Text(0.20315539226280527, 0.7857142857142857, 'X[0] <= -0.097\\ngini = 0.291\\nsamples = 17\\nvalue = [14, 3]'),\n",
              " Text(0.20142641020099417, 0.7571428571428571, 'gini = 0.0\\nsamples = 10\\nvalue = [10, 0]'),\n",
              " Text(0.20488437432461637, 0.7571428571428571, 'X[0] <= -0.077\\ngini = 0.49\\nsamples = 7\\nvalue = [4, 3]'),\n",
              " Text(0.20315539226280527, 0.7285714285714285, 'gini = 0.0\\nsamples = 3\\nvalue = [0, 3]'),\n",
              " Text(0.2066133563864275, 0.7285714285714285, 'gini = 0.0\\nsamples = 4\\nvalue = [4, 0]'),\n",
              " Text(0.23903177004538578, 0.8142857142857143, 'X[0] <= -0.212\\ngini = 0.272\\nsamples = 659\\nvalue = [107, 552]'),\n",
              " Text(0.22174194942727468, 0.7857142857142857, 'X[0] <= -0.392\\ngini = 0.201\\nsamples = 371\\nvalue = [42, 329]'),\n",
              " Text(0.2118003025718608, 0.7571428571428571, 'X[0] <= -0.4\\ngini = 0.488\\nsamples = 26\\nvalue = [11, 15]'),\n",
              " Text(0.2100713205100497, 0.7285714285714285, 'gini = 0.0\\nsamples = 7\\nvalue = [0, 7]'),\n",
              " Text(0.21352928463367193, 0.7285714285714285, 'X[0] <= -0.396\\ngini = 0.488\\nsamples = 19\\nvalue = [11, 8]'),\n",
              " Text(0.2100713205100497, 0.7, 'X[1] <= -0.609\\ngini = 0.32\\nsamples = 10\\nvalue = [8, 2]'),\n",
              " Text(0.2083423384482386, 0.6714285714285714, 'gini = 0.0\\nsamples = 1\\nvalue = [0, 1]'),\n",
              " Text(0.2118003025718608, 0.6714285714285714, 'X[1] <= -0.291\\ngini = 0.198\\nsamples = 9\\nvalue = [8, 1]'),\n",
              " Text(0.2100713205100497, 0.6428571428571429, 'gini = 0.0\\nsamples = 8\\nvalue = [8, 0]'),\n",
              " Text(0.21352928463367193, 0.6428571428571429, 'gini = 0.0\\nsamples = 1\\nvalue = [0, 1]'),\n",
              " Text(0.21698724875729414, 0.7, 'X[0] <= -0.393\\ngini = 0.444\\nsamples = 9\\nvalue = [3, 6]'),\n",
              " Text(0.21525826669548304, 0.6714285714285714, 'gini = 0.0\\nsamples = 6\\nvalue = [0, 6]'),\n",
              " Text(0.21871623081910524, 0.6714285714285714, 'gini = 0.0\\nsamples = 3\\nvalue = [3, 0]'),\n",
              " Text(0.23168359628268856, 0.7571428571428571, 'X[1] <= -0.46\\ngini = 0.164\\nsamples = 345\\nvalue = [31, 314]'),\n",
              " Text(0.22217419494272747, 0.7285714285714285, 'X[0] <= -0.317\\ngini = 0.105\\nsamples = 252\\nvalue = [14, 238]'),\n",
              " Text(0.22044521288091637, 0.7, 'gini = 0.0\\nsamples = 113\\nvalue = [0, 113]'),\n",
              " Text(0.22390317700453857, 0.7, 'X[0] <= -0.316\\ngini = 0.181\\nsamples = 139\\nvalue = [14, 125]'),\n",
              " Text(0.22217419494272747, 0.6714285714285714, 'gini = 0.0\\nsamples = 2\\nvalue = [2, 0]'),\n",
              " Text(0.22563215906634967, 0.6714285714285714, 'X[1] <= -0.835\\ngini = 0.16\\nsamples = 137\\nvalue = [12, 125]'),\n",
              " Text(0.22217419494272747, 0.6428571428571429, 'X[1] <= -0.836\\ngini = 0.463\\nsamples = 11\\nvalue = [4, 7]'),\n",
              " Text(0.22044521288091637, 0.6142857142857143, 'gini = 0.0\\nsamples = 7\\nvalue = [0, 7]'),\n",
              " Text(0.22390317700453857, 0.6142857142857143, 'gini = 0.0\\nsamples = 4\\nvalue = [4, 0]'),\n",
              " Text(0.2290901231899719, 0.6428571428571429, 'X[1] <= -0.638\\ngini = 0.119\\nsamples = 126\\nvalue = [8, 118]'),\n",
              " Text(0.2273611411281608, 0.6142857142857143, 'gini = 0.0\\nsamples = 66\\nvalue = [0, 66]'),\n",
              " Text(0.230819105251783, 0.6142857142857143, 'X[1] <= -0.63\\ngini = 0.231\\nsamples = 60\\nvalue = [8, 52]'),\n",
              " Text(0.2290901231899719, 0.5857142857142857, 'gini = 0.0\\nsamples = 5\\nvalue = [5, 0]'),\n",
              " Text(0.2325480873135941, 0.5857142857142857, 'X[1] <= -0.492\\ngini = 0.103\\nsamples = 55\\nvalue = [3, 52]'),\n",
              " Text(0.230819105251783, 0.5571428571428572, 'gini = 0.0\\nsamples = 38\\nvalue = [0, 38]'),\n",
              " Text(0.23427706937540524, 0.5571428571428572, 'X[1] <= -0.491\\ngini = 0.291\\nsamples = 17\\nvalue = [3, 14]'),\n",
              " Text(0.2325480873135941, 0.5285714285714286, 'gini = 0.0\\nsamples = 2\\nvalue = [2, 0]'),\n",
              " Text(0.23600605143721634, 0.5285714285714286, 'X[1] <= -0.471\\ngini = 0.124\\nsamples = 15\\nvalue = [1, 14]'),\n",
              " Text(0.23427706937540524, 0.5, 'X[1] <= -0.475\\ngini = 0.245\\nsamples = 7\\nvalue = [1, 6]'),\n",
              " Text(0.2325480873135941, 0.4714285714285714, 'gini = 0.0\\nsamples = 6\\nvalue = [0, 6]'),\n",
              " Text(0.23600605143721634, 0.4714285714285714, 'gini = 0.0\\nsamples = 1\\nvalue = [1, 0]'),\n",
              " Text(0.23773503349902744, 0.5, 'gini = 0.0\\nsamples = 8\\nvalue = [0, 8]'),\n",
              " Text(0.24119299762264967, 0.7285714285714285, 'X[1] <= -0.441\\ngini = 0.299\\nsamples = 93\\nvalue = [17, 76]'),\n",
              " Text(0.23773503349902744, 0.7, 'X[1] <= -0.443\\ngini = 0.494\\nsamples = 9\\nvalue = [5, 4]'),\n",
              " Text(0.23600605143721634, 0.6714285714285714, 'X[1] <= -0.457\\ngini = 0.32\\nsamples = 5\\nvalue = [1, 4]'),\n",
              " Text(0.23427706937540524, 0.6428571428571429, 'gini = 0.0\\nsamples = 1\\nvalue = [1, 0]'),\n",
              " Text(0.23773503349902744, 0.6428571428571429, 'gini = 0.0\\nsamples = 4\\nvalue = [0, 4]'),\n",
              " Text(0.23946401556083854, 0.6714285714285714, 'gini = 0.0\\nsamples = 4\\nvalue = [4, 0]'),\n",
              " Text(0.24465096174627188, 0.7, 'X[0] <= -0.272\\ngini = 0.245\\nsamples = 84\\nvalue = [12, 72]'),\n",
              " Text(0.24292197968446078, 0.6714285714285714, 'X[0] <= -0.275\\ngini = 0.328\\nsamples = 58\\nvalue = [12, 46]'),\n",
              " Text(0.24119299762264967, 0.6428571428571429, 'X[0] <= -0.346\\ngini = 0.274\\nsamples = 55\\nvalue = [9, 46]'),\n",
              " Text(0.23946401556083854, 0.6142857142857143, 'gini = 0.0\\nsamples = 19\\nvalue = [0, 19]'),\n",
              " Text(0.24292197968446078, 0.6142857142857143, 'X[1] <= -0.315\\ngini = 0.375\\nsamples = 36\\nvalue = [9, 27]'),\n",
              " Text(0.23946401556083854, 0.5857142857142857, 'X[0] <= -0.344\\ngini = 0.278\\nsamples = 30\\nvalue = [5, 25]'),\n",
              " Text(0.23773503349902744, 0.5571428571428572, 'gini = 0.0\\nsamples = 2\\nvalue = [2, 0]'),\n",
              " Text(0.24119299762264967, 0.5571428571428572, 'X[1] <= -0.375\\ngini = 0.191\\nsamples = 28\\nvalue = [3, 25]'),\n",
              " Text(0.23946401556083854, 0.5285714285714286, 'gini = 0.0\\nsamples = 16\\nvalue = [0, 16]'),\n",
              " Text(0.24292197968446078, 0.5285714285714286, 'X[1] <= -0.374\\ngini = 0.375\\nsamples = 12\\nvalue = [3, 9]'),\n",
              " Text(0.24119299762264967, 0.5, 'gini = 0.0\\nsamples = 3\\nvalue = [3, 0]'),\n",
              " Text(0.24465096174627188, 0.5, 'gini = 0.0\\nsamples = 9\\nvalue = [0, 9]'),\n",
              " Text(0.24637994380808298, 0.5857142857142857, 'X[0] <= -0.324\\ngini = 0.444\\nsamples = 6\\nvalue = [4, 2]'),\n",
              " Text(0.24465096174627188, 0.5571428571428572, 'gini = 0.0\\nsamples = 2\\nvalue = [0, 2]'),\n",
              " Text(0.2481089258698941, 0.5571428571428572, 'gini = 0.0\\nsamples = 4\\nvalue = [4, 0]'),\n",
              " Text(0.24465096174627188, 0.6428571428571429, 'gini = 0.0\\nsamples = 3\\nvalue = [3, 0]'),\n",
              " Text(0.24637994380808298, 0.6714285714285714, 'gini = 0.0\\nsamples = 26\\nvalue = [0, 26]'),\n",
              " Text(0.25632159066349686, 0.7857142857142857, 'X[1] <= -0.784\\ngini = 0.35\\nsamples = 288\\nvalue = [65, 223]'),\n",
              " Text(0.2481089258698941, 0.7571428571428571, 'X[1] <= -0.83\\ngini = 0.498\\nsamples = 30\\nvalue = [16, 14]'),\n",
              " Text(0.24637994380808298, 0.7285714285714285, 'gini = 0.0\\nsamples = 10\\nvalue = [0, 10]'),\n",
              " Text(0.2498379079317052, 0.7285714285714285, 'X[0] <= -0.161\\ngini = 0.32\\nsamples = 20\\nvalue = [16, 4]'),\n",
              " Text(0.2481089258698941, 0.7, 'gini = 0.0\\nsamples = 3\\nvalue = [0, 3]'),\n",
              " Text(0.25156688999351634, 0.7, 'X[0] <= -0.112\\ngini = 0.111\\nsamples = 17\\nvalue = [16, 1]'),\n",
              " Text(0.2498379079317052, 0.6714285714285714, 'gini = 0.0\\nsamples = 12\\nvalue = [12, 0]'),\n",
              " Text(0.25329587205532744, 0.6714285714285714, 'X[0] <= -0.082\\ngini = 0.32\\nsamples = 5\\nvalue = [4, 1]'),\n",
              " Text(0.25156688999351634, 0.6428571428571429, 'gini = 0.0\\nsamples = 1\\nvalue = [0, 1]'),\n",
              " Text(0.25502485411713854, 0.6428571428571429, 'gini = 0.0\\nsamples = 4\\nvalue = [4, 0]'),\n",
              " Text(0.26453425545709963, 0.7571428571428571, 'X[0] <= -0.204\\ngini = 0.308\\nsamples = 258\\nvalue = [49, 209]'),\n",
              " Text(0.25675383617894965, 0.7285714285714285, 'X[1] <= -0.404\\ngini = 0.469\\nsamples = 16\\nvalue = [10, 6]'),\n",
              " Text(0.25502485411713854, 0.7, 'gini = 0.0\\nsamples = 5\\nvalue = [0, 5]'),\n",
              " Text(0.25848281824076075, 0.7, 'X[1] <= -0.331\\ngini = 0.165\\nsamples = 11\\nvalue = [10, 1]'),\n",
              " Text(0.25675383617894965, 0.6714285714285714, 'gini = 0.0\\nsamples = 10\\nvalue = [10, 0]'),\n",
              " Text(0.26021180030257185, 0.6714285714285714, 'gini = 0.0\\nsamples = 1\\nvalue = [0, 1]'),\n",
              " Text(0.2723146747352496, 0.7285714285714285, 'X[1] <= -0.639\\ngini = 0.27\\nsamples = 242\\nvalue = [39, 203]'),\n",
              " Text(0.2653987464880052, 0.7, 'X[1] <= -0.641\\ngini = 0.41\\nsamples = 59\\nvalue = [17, 42]'),\n",
              " Text(0.26366976442619405, 0.6714285714285714, 'X[0] <= -0.114\\ngini = 0.329\\nsamples = 53\\nvalue = [11, 42]'),\n",
              " Text(0.26021180030257185, 0.6428571428571429, 'X[0] <= -0.118\\ngini = 0.437\\nsamples = 31\\nvalue = [10, 21]'),\n",
              " Text(0.25848281824076075, 0.6142857142857143, 'X[0] <= -0.162\\ngini = 0.311\\nsamples = 26\\nvalue = [5, 21]'),\n",
              " Text(0.25675383617894965, 0.5857142857142857, 'gini = 0.0\\nsamples = 13\\nvalue = [0, 13]'),\n",
              " Text(0.26021180030257185, 0.5857142857142857, 'X[0] <= -0.161\\ngini = 0.473\\nsamples = 13\\nvalue = [5, 8]'),\n",
              " Text(0.25848281824076075, 0.5571428571428572, 'gini = 0.0\\nsamples = 5\\nvalue = [5, 0]'),\n",
              " Text(0.26194078236438295, 0.5571428571428572, 'gini = 0.0\\nsamples = 8\\nvalue = [0, 8]'),\n",
              " Text(0.26194078236438295, 0.6142857142857143, 'gini = 0.0\\nsamples = 5\\nvalue = [5, 0]'),\n",
              " Text(0.2671277285498163, 0.6428571428571429, 'X[1] <= -0.702\\ngini = 0.087\\nsamples = 22\\nvalue = [1, 21]'),\n",
              " Text(0.2653987464880052, 0.6142857142857143, 'gini = 0.0\\nsamples = 12\\nvalue = [0, 12]'),\n",
              " Text(0.2688567106116274, 0.6142857142857143, 'X[1] <= -0.7\\ngini = 0.18\\nsamples = 10\\nvalue = [1, 9]'),\n",
              " Text(0.2671277285498163, 0.5857142857142857, 'gini = 0.0\\nsamples = 1\\nvalue = [1, 0]'),\n",
              " Text(0.2705856926734385, 0.5857142857142857, 'gini = 0.0\\nsamples = 9\\nvalue = [0, 9]'),\n",
              " Text(0.2671277285498163, 0.6714285714285714, 'gini = 0.0\\nsamples = 6\\nvalue = [6, 0]'),\n",
              " Text(0.2792306029824941, 0.7, 'X[1] <= -0.493\\ngini = 0.212\\nsamples = 183\\nvalue = [22, 161]'),\n",
              " Text(0.2757726388588718, 0.6714285714285714, 'X[0] <= -0.174\\ngini = 0.06\\nsamples = 65\\nvalue = [2, 63]'),\n",
              " Text(0.2740436567970607, 0.6428571428571429, 'X[0] <= -0.178\\ngini = 0.26\\nsamples = 13\\nvalue = [2, 11]'),\n",
              " Text(0.2723146747352496, 0.6142857142857143, 'gini = 0.0\\nsamples = 11\\nvalue = [0, 11]'),\n",
              " Text(0.2757726388588718, 0.6142857142857143, 'gini = 0.0\\nsamples = 2\\nvalue = [2, 0]'),\n",
              " Text(0.2775016209206829, 0.6428571428571429, 'gini = 0.0\\nsamples = 52\\nvalue = [0, 52]'),\n",
              " Text(0.2826885671061163, 0.6714285714285714, 'X[1] <= -0.491\\ngini = 0.282\\nsamples = 118\\nvalue = [20, 98]'),\n",
              " Text(0.2809595850443052, 0.6428571428571429, 'gini = 0.0\\nsamples = 4\\nvalue = [4, 0]'),\n",
              " Text(0.2844175491679274, 0.6428571428571429, 'X[1] <= -0.452\\ngini = 0.241\\nsamples = 114\\nvalue = [16, 98]'),\n",
              " Text(0.2826885671061163, 0.6142857142857143, 'gini = 0.0\\nsamples = 20\\nvalue = [0, 20]'),\n",
              " Text(0.2861465312297385, 0.6142857142857143, 'X[1] <= -0.38\\ngini = 0.282\\nsamples = 94\\nvalue = [16, 78]'),\n",
              " Text(0.2800950940133996, 0.5857142857142857, 'X[1] <= -0.382\\ngini = 0.402\\nsamples = 43\\nvalue = [12, 31]'),\n",
              " Text(0.2783661119515885, 0.5571428571428572, 'X[1] <= -0.45\\ngini = 0.369\\nsamples = 41\\nvalue = [10, 31]'),\n",
              " Text(0.2766371298897774, 0.5285714285714286, 'gini = 0.0\\nsamples = 1\\nvalue = [1, 0]'),\n",
              " Text(0.2800950940133996, 0.5285714285714286, 'X[0] <= -0.128\\ngini = 0.349\\nsamples = 40\\nvalue = [9, 31]'),\n",
              " Text(0.2766371298897774, 0.5, 'X[1] <= -0.398\\ngini = 0.172\\nsamples = 21\\nvalue = [2, 19]'),\n",
              " Text(0.2749081478279663, 0.4714285714285714, 'gini = 0.0\\nsamples = 18\\nvalue = [0, 18]'),\n",
              " Text(0.2783661119515885, 0.4714285714285714, 'X[1] <= -0.39\\ngini = 0.444\\nsamples = 3\\nvalue = [2, 1]'),\n",
              " Text(0.2766371298897774, 0.44285714285714284, 'gini = 0.0\\nsamples = 2\\nvalue = [2, 0]'),\n",
              " Text(0.2800950940133996, 0.44285714285714284, 'gini = 0.0\\nsamples = 1\\nvalue = [0, 1]'),\n",
              " Text(0.2835530581370218, 0.5, 'X[0] <= -0.123\\ngini = 0.465\\nsamples = 19\\nvalue = [7, 12]'),\n",
              " Text(0.2818240760752107, 0.4714285714285714, 'gini = 0.0\\nsamples = 3\\nvalue = [3, 0]'),\n",
              " Text(0.28528204019883296, 0.4714285714285714, 'X[0] <= -0.083\\ngini = 0.375\\nsamples = 16\\nvalue = [4, 12]'),\n",
              " Text(0.2835530581370218, 0.44285714285714284, 'gini = 0.0\\nsamples = 7\\nvalue = [0, 7]'),\n",
              " Text(0.28701102226064407, 0.44285714285714284, 'X[0] <= -0.082\\ngini = 0.494\\nsamples = 9\\nvalue = [4, 5]'),\n",
              " Text(0.28528204019883296, 0.4142857142857143, 'gini = 0.0\\nsamples = 3\\nvalue = [3, 0]'),\n",
              " Text(0.28874000432245517, 0.4142857142857143, 'X[1] <= -0.423\\ngini = 0.278\\nsamples = 6\\nvalue = [1, 5]'),\n",
              " Text(0.28701102226064407, 0.38571428571428573, 'X[1] <= -0.43\\ngini = 0.444\\nsamples = 3\\nvalue = [1, 2]'),\n",
              " Text(0.28528204019883296, 0.35714285714285715, 'gini = 0.0\\nsamples = 2\\nvalue = [0, 2]'),\n",
              " Text(0.28874000432245517, 0.35714285714285715, 'gini = 0.0\\nsamples = 1\\nvalue = [1, 0]'),\n",
              " Text(0.29046898638426627, 0.38571428571428573, 'gini = 0.0\\nsamples = 3\\nvalue = [0, 3]'),\n",
              " Text(0.2818240760752107, 0.5571428571428572, 'gini = 0.0\\nsamples = 2\\nvalue = [2, 0]'),\n",
              " Text(0.29219796844607737, 0.5857142857142857, 'X[0] <= -0.111\\ngini = 0.145\\nsamples = 51\\nvalue = [4, 47]'),\n",
              " Text(0.29046898638426627, 0.5571428571428572, 'gini = 0.0\\nsamples = 28\\nvalue = [0, 28]'),\n",
              " Text(0.2939269505078885, 0.5571428571428572, 'X[0] <= -0.096\\ngini = 0.287\\nsamples = 23\\nvalue = [4, 19]'),\n",
              " Text(0.29219796844607737, 0.5285714285714286, 'X[0] <= -0.098\\ngini = 0.49\\nsamples = 7\\nvalue = [4, 3]'),\n",
              " Text(0.29046898638426627, 0.5, 'X[1] <= -0.29\\ngini = 0.375\\nsamples = 4\\nvalue = [1, 3]'),\n",
              " Text(0.28874000432245517, 0.4714285714285714, 'gini = 0.0\\nsamples = 3\\nvalue = [0, 3]'),\n",
              " Text(0.29219796844607737, 0.4714285714285714, 'gini = 0.0\\nsamples = 1\\nvalue = [1, 0]'),\n",
              " Text(0.2939269505078885, 0.5, 'gini = 0.0\\nsamples = 3\\nvalue = [3, 0]'),\n",
              " Text(0.2956559325696996, 0.5285714285714286, 'gini = 0.0\\nsamples = 16\\nvalue = [0, 16]'),\n",
              " Text(0.3224551545277718, 0.8428571428571429, 'X[1] <= -0.192\\ngini = 0.484\\nsamples = 134\\nvalue = [55, 79]'),\n",
              " Text(0.31294575318781065, 0.8142857142857143, 'X[0] <= -0.156\\ngini = 0.484\\nsamples = 85\\nvalue = [50, 35]'),\n",
              " Text(0.30602982494056624, 0.7857142857142857, 'X[0] <= -0.26\\ngini = 0.496\\nsamples = 55\\nvalue = [25, 30]'),\n",
              " Text(0.30257186081694404, 0.7571428571428571, 'X[1] <= -0.217\\ngini = 0.484\\nsamples = 39\\nvalue = [23, 16]'),\n",
              " Text(0.30084287875513294, 0.7285714285714285, 'X[0] <= -0.265\\ngini = 0.498\\nsamples = 30\\nvalue = [14, 16]'),\n",
              " Text(0.2991138966933218, 0.7, 'X[0] <= -0.323\\ngini = 0.473\\nsamples = 26\\nvalue = [10, 16]'),\n",
              " Text(0.2973849146315107, 0.6714285714285714, 'X[1] <= -0.258\\ngini = 0.484\\nsamples = 17\\nvalue = [10, 7]'),\n",
              " Text(0.2956559325696996, 0.6428571428571429, 'gini = 0.0\\nsamples = 3\\nvalue = [0, 3]'),\n",
              " Text(0.2991138966933218, 0.6428571428571429, 'X[1] <= -0.234\\ngini = 0.408\\nsamples = 14\\nvalue = [10, 4]'),\n",
              " Text(0.2973849146315107, 0.6142857142857143, 'X[0] <= -0.356\\ngini = 0.278\\nsamples = 12\\nvalue = [10, 2]'),\n",
              " Text(0.2956559325696996, 0.5857142857142857, 'gini = 0.0\\nsamples = 8\\nvalue = [8, 0]'),\n",
              " Text(0.2991138966933218, 0.5857142857142857, 'X[0] <= -0.332\\ngini = 0.5\\nsamples = 4\\nvalue = [2, 2]'),\n",
              " Text(0.2973849146315107, 0.5571428571428572, 'gini = 0.0\\nsamples = 2\\nvalue = [0, 2]'),\n",
              " Text(0.30084287875513294, 0.5571428571428572, 'gini = 0.0\\nsamples = 2\\nvalue = [2, 0]'),\n",
              " Text(0.30084287875513294, 0.6142857142857143, 'gini = 0.0\\nsamples = 2\\nvalue = [0, 2]'),\n",
              " Text(0.30084287875513294, 0.6714285714285714, 'gini = 0.0\\nsamples = 9\\nvalue = [0, 9]'),\n",
              " Text(0.30257186081694404, 0.7, 'gini = 0.0\\nsamples = 4\\nvalue = [4, 0]'),\n",
              " Text(0.30430084287875514, 0.7285714285714285, 'gini = 0.0\\nsamples = 9\\nvalue = [9, 0]'),\n",
              " Text(0.30948778906418845, 0.7571428571428571, 'X[1] <= -0.258\\ngini = 0.219\\nsamples = 16\\nvalue = [2, 14]'),\n",
              " Text(0.30775880700237734, 0.7285714285714285, 'gini = 0.0\\nsamples = 2\\nvalue = [2, 0]'),\n",
              " Text(0.31121677112599955, 0.7285714285714285, 'gini = 0.0\\nsamples = 14\\nvalue = [0, 14]'),\n",
              " Text(0.3198616814350551, 0.7857142857142857, 'X[0] <= -0.084\\ngini = 0.278\\nsamples = 30\\nvalue = [25, 5]'),\n",
              " Text(0.3164037173114329, 0.7571428571428571, 'X[1] <= -0.202\\ngini = 0.18\\nsamples = 20\\nvalue = [18, 2]'),\n",
              " Text(0.3146747352496218, 0.7285714285714285, 'X[0] <= -0.117\\ngini = 0.1\\nsamples = 19\\nvalue = [18, 1]'),\n",
              " Text(0.31294575318781065, 0.7, 'X[0] <= -0.135\\ngini = 0.32\\nsamples = 5\\nvalue = [4, 1]'),\n",
              " Text(0.31121677112599955, 0.6714285714285714, 'gini = 0.0\\nsamples = 4\\nvalue = [4, 0]'),\n",
              " Text(0.3146747352496218, 0.6714285714285714, 'gini = 0.0\\nsamples = 1\\nvalue = [0, 1]'),\n",
              " Text(0.3164037173114329, 0.7, 'gini = 0.0\\nsamples = 14\\nvalue = [14, 0]'),\n",
              " Text(0.318132699373244, 0.7285714285714285, 'gini = 0.0\\nsamples = 1\\nvalue = [0, 1]'),\n",
              " Text(0.3233196455586773, 0.7571428571428571, 'X[0] <= -0.067\\ngini = 0.42\\nsamples = 10\\nvalue = [7, 3]'),\n",
              " Text(0.3215906634968662, 0.7285714285714285, 'gini = 0.0\\nsamples = 2\\nvalue = [0, 2]'),\n",
              " Text(0.3250486276204884, 0.7285714285714285, 'X[1] <= -0.205\\ngini = 0.219\\nsamples = 8\\nvalue = [7, 1]'),\n",
              " Text(0.3233196455586773, 0.7, 'X[0] <= -0.055\\ngini = 0.444\\nsamples = 3\\nvalue = [2, 1]'),\n",
              " Text(0.3215906634968662, 0.6714285714285714, 'gini = 0.0\\nsamples = 1\\nvalue = [0, 1]'),\n",
              " Text(0.3250486276204884, 0.6714285714285714, 'gini = 0.0\\nsamples = 2\\nvalue = [2, 0]'),\n",
              " Text(0.3267776096822995, 0.7, 'gini = 0.0\\nsamples = 5\\nvalue = [5, 0]'),\n",
              " Text(0.3319645558677329, 0.8142857142857143, 'X[1] <= -0.171\\ngini = 0.183\\nsamples = 49\\nvalue = [5, 44]'),\n",
              " Text(0.3285065917441107, 0.7857142857142857, 'X[1] <= -0.171\\ngini = 0.375\\nsamples = 16\\nvalue = [4, 12]'),\n",
              " Text(0.3267776096822995, 0.7571428571428571, 'gini = 0.0\\nsamples = 12\\nvalue = [0, 12]'),\n",
              " Text(0.3302355738059218, 0.7571428571428571, 'gini = 0.0\\nsamples = 4\\nvalue = [4, 0]'),\n",
              " Text(0.3354225199913551, 0.7857142857142857, 'X[0] <= -0.058\\ngini = 0.059\\nsamples = 33\\nvalue = [1, 32]'),\n",
              " Text(0.333693537929544, 0.7571428571428571, 'gini = 0.0\\nsamples = 31\\nvalue = [0, 31]'),\n",
              " Text(0.3371515020531662, 0.7571428571428571, 'X[0] <= -0.046\\ngini = 0.5\\nsamples = 2\\nvalue = [1, 1]'),\n",
              " Text(0.3354225199913551, 0.7285714285714285, 'gini = 0.0\\nsamples = 1\\nvalue = [1, 0]'),\n",
              " Text(0.3388804841149773, 0.7285714285714285, 'gini = 0.0\\nsamples = 1\\nvalue = [0, 1]'),\n",
              " Text(0.36859736330235576, 0.9285714285714286, 'X[1] <= 0.06\\ngini = 0.288\\nsamples = 315\\nvalue = [260, 55]'),\n",
              " Text(0.35336070888264537, 0.9, 'X[0] <= -0.579\\ngini = 0.495\\nsamples = 93\\nvalue = [51, 42]'),\n",
              " Text(0.34579641236222175, 0.8714285714285714, 'X[1] <= -0.016\\ngini = 0.245\\nsamples = 28\\nvalue = [24, 4]'),\n",
              " Text(0.34233844823859955, 0.8428571428571429, 'X[0] <= -0.966\\ngini = 0.083\\nsamples = 23\\nvalue = [22, 1]'),\n",
              " Text(0.3406094661767884, 0.8142857142857143, 'X[0] <= -1.111\\ngini = 0.219\\nsamples = 8\\nvalue = [7, 1]'),\n",
              " Text(0.3388804841149773, 0.7857142857142857, 'gini = 0.0\\nsamples = 7\\nvalue = [7, 0]'),\n",
              " Text(0.34233844823859955, 0.7857142857142857, 'gini = 0.0\\nsamples = 1\\nvalue = [0, 1]'),\n",
              " Text(0.34406743030041065, 0.8142857142857143, 'gini = 0.0\\nsamples = 15\\nvalue = [15, 0]'),\n",
              " Text(0.34925437648584395, 0.8428571428571429, 'X[1] <= 0.04\\ngini = 0.48\\nsamples = 5\\nvalue = [2, 3]'),\n",
              " Text(0.34752539442403285, 0.8142857142857143, 'gini = 0.0\\nsamples = 3\\nvalue = [0, 3]'),\n",
              " Text(0.35098335854765506, 0.8142857142857143, 'gini = 0.0\\nsamples = 2\\nvalue = [2, 0]'),\n",
              " Text(0.36092500540306893, 0.8714285714285714, 'X[0] <= -0.325\\ngini = 0.486\\nsamples = 65\\nvalue = [27, 38]'),\n",
              " Text(0.3561703047330884, 0.8428571428571429, 'X[0] <= -0.391\\ngini = 0.227\\nsamples = 23\\nvalue = [3, 20]'),\n",
              " Text(0.35444132267127726, 0.8142857142857143, 'X[0] <= -0.397\\ngini = 0.375\\nsamples = 12\\nvalue = [3, 9]'),\n",
              " Text(0.35271234060946616, 0.7857142857142857, 'gini = 0.0\\nsamples = 9\\nvalue = [0, 9]'),\n",
              " Text(0.3561703047330884, 0.7857142857142857, 'gini = 0.0\\nsamples = 3\\nvalue = [3, 0]'),\n",
              " Text(0.3578992867948995, 0.8142857142857143, 'gini = 0.0\\nsamples = 11\\nvalue = [0, 11]'),\n",
              " Text(0.3656797060730495, 0.8428571428571429, 'X[0] <= -0.234\\ngini = 0.49\\nsamples = 42\\nvalue = [24, 18]'),\n",
              " Text(0.3613572509185217, 0.8142857142857143, 'X[1] <= 0.052\\ngini = 0.208\\nsamples = 17\\nvalue = [15, 2]'),\n",
              " Text(0.3596282688567106, 0.7857142857142857, 'X[1] <= 0.021\\ngini = 0.117\\nsamples = 16\\nvalue = [15, 1]'),\n",
              " Text(0.3578992867948995, 0.7571428571428571, 'gini = 0.0\\nsamples = 12\\nvalue = [12, 0]'),\n",
              " Text(0.3613572509185217, 0.7571428571428571, 'X[0] <= -0.258\\ngini = 0.375\\nsamples = 4\\nvalue = [3, 1]'),\n",
              " Text(0.3596282688567106, 0.7285714285714285, 'gini = 0.0\\nsamples = 3\\nvalue = [3, 0]'),\n",
              " Text(0.3630862329803328, 0.7285714285714285, 'gini = 0.0\\nsamples = 1\\nvalue = [0, 1]'),\n",
              " Text(0.3630862329803328, 0.7857142857142857, 'gini = 0.0\\nsamples = 1\\nvalue = [0, 1]'),\n",
              " Text(0.3700021612275773, 0.8142857142857143, 'X[0] <= -0.096\\ngini = 0.461\\nsamples = 25\\nvalue = [9, 16]'),\n",
              " Text(0.366544197103955, 0.7857142857142857, 'X[1] <= 0.001\\ngini = 0.142\\nsamples = 13\\nvalue = [1, 12]'),\n",
              " Text(0.3648152150421439, 0.7571428571428571, 'gini = 0.0\\nsamples = 10\\nvalue = [0, 10]'),\n",
              " Text(0.36827317916576613, 0.7571428571428571, 'X[1] <= 0.034\\ngini = 0.444\\nsamples = 3\\nvalue = [1, 2]'),\n",
              " Text(0.366544197103955, 0.7285714285714285, 'gini = 0.0\\nsamples = 1\\nvalue = [1, 0]'),\n",
              " Text(0.3700021612275773, 0.7285714285714285, 'gini = 0.0\\nsamples = 2\\nvalue = [0, 2]'),\n",
              " Text(0.3734601253511995, 0.7857142857142857, 'X[0] <= -0.079\\ngini = 0.444\\nsamples = 12\\nvalue = [8, 4]'),\n",
              " Text(0.3717311432893884, 0.7571428571428571, 'gini = 0.0\\nsamples = 6\\nvalue = [6, 0]'),\n",
              " Text(0.3751891074130106, 0.7571428571428571, 'X[0] <= -0.065\\ngini = 0.444\\nsamples = 6\\nvalue = [2, 4]'),\n",
              " Text(0.3734601253511995, 0.7285714285714285, 'gini = 0.0\\nsamples = 3\\nvalue = [0, 3]'),\n",
              " Text(0.3769180894748217, 0.7285714285714285, 'X[0] <= -0.052\\ngini = 0.444\\nsamples = 3\\nvalue = [2, 1]'),\n",
              " Text(0.3751891074130106, 0.7, 'gini = 0.0\\nsamples = 2\\nvalue = [2, 0]'),\n",
              " Text(0.3786470715366328, 0.7, 'gini = 0.0\\nsamples = 1\\nvalue = [0, 1]'),\n",
              " Text(0.38383401772206616, 0.9, 'X[0] <= -0.05\\ngini = 0.11\\nsamples = 222\\nvalue = [209, 13]'),\n",
              " Text(0.382105035660255, 0.8714285714285714, 'X[0] <= -0.406\\ngini = 0.103\\nsamples = 221\\nvalue = [209, 12]'),\n",
              " Text(0.3803760535984439, 0.8428571428571429, 'gini = 0.0\\nsamples = 114\\nvalue = [114, 0]'),\n",
              " Text(0.38383401772206616, 0.8428571428571429, 'X[1] <= 0.137\\ngini = 0.199\\nsamples = 107\\nvalue = [95, 12]'),\n",
              " Text(0.3803760535984439, 0.8142857142857143, 'X[1] <= 0.101\\ngini = 0.5\\nsamples = 6\\nvalue = [3, 3]'),\n",
              " Text(0.3786470715366328, 0.7857142857142857, 'gini = 0.0\\nsamples = 3\\nvalue = [3, 0]'),\n",
              " Text(0.382105035660255, 0.7857142857142857, 'gini = 0.0\\nsamples = 3\\nvalue = [0, 3]'),\n",
              " Text(0.38729198184568836, 0.8142857142857143, 'X[0] <= -0.405\\ngini = 0.162\\nsamples = 101\\nvalue = [92, 9]'),\n",
              " Text(0.38556299978387726, 0.7857142857142857, 'gini = 0.0\\nsamples = 1\\nvalue = [0, 1]'),\n",
              " Text(0.38902096390749946, 0.7857142857142857, 'X[0] <= -0.068\\ngini = 0.147\\nsamples = 100\\nvalue = [92, 8]'),\n",
              " Text(0.38556299978387726, 0.7571428571428571, 'X[1] <= 0.383\\ngini = 0.12\\nsamples = 94\\nvalue = [88, 6]'),\n",
              " Text(0.38383401772206616, 0.7285714285714285, 'X[1] <= 0.365\\ngini = 0.177\\nsamples = 61\\nvalue = [55, 6]'),\n",
              " Text(0.382105035660255, 0.7, 'X[0] <= -0.175\\ngini = 0.153\\nsamples = 60\\nvalue = [55, 5]'),\n",
              " Text(0.3803760535984439, 0.6714285714285714, 'X[0] <= -0.178\\ngini = 0.257\\nsamples = 33\\nvalue = [28, 5]'),\n",
              " Text(0.3786470715366328, 0.6428571428571429, 'X[1] <= 0.211\\ngini = 0.219\\nsamples = 32\\nvalue = [28, 4]'),\n",
              " Text(0.3769180894748217, 0.6142857142857143, 'gini = 0.0\\nsamples = 11\\nvalue = [11, 0]'),\n",
              " Text(0.3803760535984439, 0.6142857142857143, 'X[1] <= 0.215\\ngini = 0.308\\nsamples = 21\\nvalue = [17, 4]'),\n",
              " Text(0.3786470715366328, 0.5857142857142857, 'gini = 0.0\\nsamples = 1\\nvalue = [0, 1]'),\n",
              " Text(0.382105035660255, 0.5857142857142857, 'X[0] <= -0.262\\ngini = 0.255\\nsamples = 20\\nvalue = [17, 3]'),\n",
              " Text(0.3803760535984439, 0.5571428571428572, 'X[0] <= -0.401\\ngini = 0.444\\nsamples = 9\\nvalue = [6, 3]'),\n",
              " Text(0.3786470715366328, 0.5285714285714286, 'gini = 0.0\\nsamples = 4\\nvalue = [4, 0]'),\n",
              " Text(0.382105035660255, 0.5285714285714286, 'X[1] <= 0.219\\ngini = 0.48\\nsamples = 5\\nvalue = [2, 3]'),\n",
              " Text(0.3803760535984439, 0.5, 'gini = 0.0\\nsamples = 2\\nvalue = [2, 0]'),\n",
              " Text(0.38383401772206616, 0.5, 'gini = 0.0\\nsamples = 3\\nvalue = [0, 3]'),\n",
              " Text(0.38383401772206616, 0.5571428571428572, 'gini = 0.0\\nsamples = 11\\nvalue = [11, 0]'),\n",
              " Text(0.382105035660255, 0.6428571428571429, 'gini = 0.0\\nsamples = 1\\nvalue = [0, 1]'),\n",
              " Text(0.38383401772206616, 0.6714285714285714, 'gini = 0.0\\nsamples = 27\\nvalue = [27, 0]'),\n",
              " Text(0.38556299978387726, 0.7, 'gini = 0.0\\nsamples = 1\\nvalue = [0, 1]'),\n",
              " Text(0.38729198184568836, 0.7285714285714285, 'gini = 0.0\\nsamples = 33\\nvalue = [33, 0]'),\n",
              " Text(0.39247892803112167, 0.7571428571428571, 'X[1] <= 0.156\\ngini = 0.444\\nsamples = 6\\nvalue = [4, 2]'),\n",
              " Text(0.39074994596931056, 0.7285714285714285, 'gini = 0.0\\nsamples = 4\\nvalue = [4, 0]'),\n",
              " Text(0.39420791009293277, 0.7285714285714285, 'gini = 0.0\\nsamples = 2\\nvalue = [0, 2]'),\n",
              " Text(0.38556299978387726, 0.8714285714285714, 'gini = 0.0\\nsamples = 1\\nvalue = [0, 1]'),\n",
              " Text(0.614007287389237, 0.9571428571428572, 'X[1] <= -0.577\\ngini = 0.276\\nsamples = 5835\\nvalue = [4869, 966]'),\n",
              " Text(0.4351091419926518, 0.9285714285714286, 'X[0] <= 0.162\\ngini = 0.071\\nsamples = 3191\\nvalue = [3074, 117]'),\n",
              " Text(0.4009077155824508, 0.9, 'X[1] <= -0.984\\ngini = 0.447\\nsamples = 190\\nvalue = [126, 64]'),\n",
              " Text(0.39247892803112167, 0.8714285714285714, 'X[1] <= -1.135\\ngini = 0.082\\nsamples = 70\\nvalue = [67, 3]'),\n",
              " Text(0.39074994596931056, 0.8428571428571429, 'gini = 0.0\\nsamples = 55\\nvalue = [55, 0]'),\n",
              " Text(0.39420791009293277, 0.8428571428571429, 'X[1] <= -1.06\\ngini = 0.32\\nsamples = 15\\nvalue = [12, 3]'),\n",
              " Text(0.39247892803112167, 0.8142857142857143, 'gini = 0.0\\nsamples = 2\\nvalue = [0, 2]'),\n",
              " Text(0.39593689215474387, 0.8142857142857143, 'X[0] <= 0.118\\ngini = 0.142\\nsamples = 13\\nvalue = [12, 1]'),\n",
              " Text(0.39420791009293277, 0.7857142857142857, 'gini = 0.0\\nsamples = 12\\nvalue = [12, 0]'),\n",
              " Text(0.397665874216555, 0.7857142857142857, 'gini = 0.0\\nsamples = 1\\nvalue = [0, 1]'),\n",
              " Text(0.40933650313378, 0.8714285714285714, 'X[1] <= -0.713\\ngini = 0.5\\nsamples = 120\\nvalue = [59, 61]'),\n",
              " Text(0.40458180246379943, 0.8428571428571429, 'X[1] <= -0.788\\ngini = 0.426\\nsamples = 52\\nvalue = [16, 36]'),\n",
              " Text(0.40285282040198833, 0.8142857142857143, 'X[0] <= 0.111\\ngini = 0.491\\nsamples = 37\\nvalue = [16, 21]'),\n",
              " Text(0.40112383834017723, 0.7857142857142857, 'X[0] <= 0.106\\ngini = 0.499\\nsamples = 31\\nvalue = [16, 15]'),\n",
              " Text(0.39939485627836613, 0.7571428571428571, 'X[1] <= -0.908\\ngini = 0.494\\nsamples = 27\\nvalue = [12, 15]'),\n",
              " Text(0.397665874216555, 0.7285714285714285, 'gini = 0.0\\nsamples = 2\\nvalue = [2, 0]'),\n",
              " Text(0.40112383834017723, 0.7285714285714285, 'X[1] <= -0.87\\ngini = 0.48\\nsamples = 25\\nvalue = [10, 15]'),\n",
              " Text(0.39939485627836613, 0.7, 'gini = 0.0\\nsamples = 6\\nvalue = [0, 6]'),\n",
              " Text(0.40285282040198833, 0.7, 'X[1] <= -0.845\\ngini = 0.499\\nsamples = 19\\nvalue = [10, 9]'),\n",
              " Text(0.39939485627836613, 0.6714285714285714, 'X[1] <= -0.863\\ngini = 0.245\\nsamples = 7\\nvalue = [6, 1]'),\n",
              " Text(0.397665874216555, 0.6428571428571429, 'gini = 0.0\\nsamples = 4\\nvalue = [4, 0]'),\n",
              " Text(0.40112383834017723, 0.6428571428571429, 'X[0] <= 0.09\\ngini = 0.444\\nsamples = 3\\nvalue = [2, 1]'),\n",
              " Text(0.39939485627836613, 0.6142857142857143, 'gini = 0.0\\nsamples = 1\\nvalue = [0, 1]'),\n",
              " Text(0.40285282040198833, 0.6142857142857143, 'gini = 0.0\\nsamples = 2\\nvalue = [2, 0]'),\n",
              " Text(0.40631078452561054, 0.6714285714285714, 'X[1] <= -0.817\\ngini = 0.444\\nsamples = 12\\nvalue = [4, 8]'),\n",
              " Text(0.40458180246379943, 0.6428571428571429, 'gini = 0.0\\nsamples = 6\\nvalue = [0, 6]'),\n",
              " Text(0.40803976658742164, 0.6428571428571429, 'X[1] <= -0.809\\ngini = 0.444\\nsamples = 6\\nvalue = [4, 2]'),\n",
              " Text(0.40631078452561054, 0.6142857142857143, 'gini = 0.0\\nsamples = 3\\nvalue = [3, 0]'),\n",
              " Text(0.40976874864923274, 0.6142857142857143, 'X[0] <= 0.014\\ngini = 0.444\\nsamples = 3\\nvalue = [1, 2]'),\n",
              " Text(0.40803976658742164, 0.5857142857142857, 'gini = 0.0\\nsamples = 1\\nvalue = [1, 0]'),\n",
              " Text(0.4114977307110439, 0.5857142857142857, 'gini = 0.0\\nsamples = 2\\nvalue = [0, 2]'),\n",
              " Text(0.40285282040198833, 0.7571428571428571, 'gini = 0.0\\nsamples = 4\\nvalue = [4, 0]'),\n",
              " Text(0.40458180246379943, 0.7857142857142857, 'gini = 0.0\\nsamples = 6\\nvalue = [0, 6]'),\n",
              " Text(0.40631078452561054, 0.8142857142857143, 'gini = 0.0\\nsamples = 15\\nvalue = [0, 15]'),\n",
              " Text(0.4140912038037605, 0.8428571428571429, 'X[1] <= -0.693\\ngini = 0.465\\nsamples = 68\\nvalue = [43, 25]'),\n",
              " Text(0.40976874864923274, 0.8142857142857143, 'X[0] <= 0.032\\ngini = 0.1\\nsamples = 19\\nvalue = [18, 1]'),\n",
              " Text(0.40803976658742164, 0.7857142857142857, 'X[1] <= -0.708\\ngini = 0.444\\nsamples = 3\\nvalue = [2, 1]'),\n",
              " Text(0.40631078452561054, 0.7571428571428571, 'gini = 0.0\\nsamples = 1\\nvalue = [0, 1]'),\n",
              " Text(0.40976874864923274, 0.7571428571428571, 'gini = 0.0\\nsamples = 2\\nvalue = [2, 0]'),\n",
              " Text(0.4114977307110439, 0.7857142857142857, 'gini = 0.0\\nsamples = 16\\nvalue = [16, 0]'),\n",
              " Text(0.4184136589582883, 0.8142857142857143, 'X[1] <= -0.632\\ngini = 0.5\\nsamples = 49\\nvalue = [25, 24]'),\n",
              " Text(0.4149556948346661, 0.7857142857142857, 'X[1] <= -0.674\\ngini = 0.332\\nsamples = 19\\nvalue = [4, 15]'),\n",
              " Text(0.413226712772855, 0.7571428571428571, 'X[1] <= -0.677\\ngini = 0.444\\nsamples = 6\\nvalue = [4, 2]'),\n",
              " Text(0.4114977307110439, 0.7285714285714285, 'gini = 0.0\\nsamples = 2\\nvalue = [0, 2]'),\n",
              " Text(0.4149556948346661, 0.7285714285714285, 'gini = 0.0\\nsamples = 4\\nvalue = [4, 0]'),\n",
              " Text(0.4166846768964772, 0.7571428571428571, 'gini = 0.0\\nsamples = 13\\nvalue = [0, 13]'),\n",
              " Text(0.4218716230819105, 0.7857142857142857, 'X[1] <= -0.619\\ngini = 0.42\\nsamples = 30\\nvalue = [21, 9]'),\n",
              " Text(0.4201426410200994, 0.7571428571428571, 'gini = 0.0\\nsamples = 8\\nvalue = [8, 0]'),\n",
              " Text(0.4236006051437216, 0.7571428571428571, 'X[0] <= 0.047\\ngini = 0.483\\nsamples = 22\\nvalue = [13, 9]'),\n",
              " Text(0.4218716230819105, 0.7285714285714285, 'gini = 0.0\\nsamples = 5\\nvalue = [0, 5]'),\n",
              " Text(0.42532958720553277, 0.7285714285714285, 'X[1] <= -0.595\\ngini = 0.36\\nsamples = 17\\nvalue = [13, 4]'),\n",
              " Text(0.4218716230819105, 0.7, 'X[0] <= 0.053\\ngini = 0.5\\nsamples = 6\\nvalue = [3, 3]'),\n",
              " Text(0.4201426410200994, 0.6714285714285714, 'gini = 0.0\\nsamples = 3\\nvalue = [3, 0]'),\n",
              " Text(0.4236006051437216, 0.6714285714285714, 'gini = 0.0\\nsamples = 3\\nvalue = [0, 3]'),\n",
              " Text(0.42878755132915497, 0.7, 'X[0] <= 0.058\\ngini = 0.165\\nsamples = 11\\nvalue = [10, 1]'),\n",
              " Text(0.42705856926734387, 0.6714285714285714, 'gini = 0.0\\nsamples = 1\\nvalue = [0, 1]'),\n",
              " Text(0.43051653339096607, 0.6714285714285714, 'gini = 0.0\\nsamples = 10\\nvalue = [10, 0]'),\n",
              " Text(0.46931056840285285, 0.9, 'X[0] <= 0.42\\ngini = 0.035\\nsamples = 3001\\nvalue = [2948, 53]'),\n",
              " Text(0.45148044089042577, 0.8714285714285714, 'X[1] <= -0.98\\ngini = 0.217\\nsamples = 363\\nvalue = [318, 45]'),\n",
              " Text(0.44802247676680357, 0.8428571428571429, 'X[0] <= 0.177\\ngini = 0.011\\nsamples = 182\\nvalue = [181, 1]'),\n",
              " Text(0.4462934947049924, 0.8142857142857143, 'X[0] <= 0.174\\ngini = 0.198\\nsamples = 9\\nvalue = [8, 1]'),\n",
              " Text(0.4445645126431813, 0.7857142857142857, 'gini = 0.0\\nsamples = 8\\nvalue = [8, 0]'),\n",
              " Text(0.44802247676680357, 0.7857142857142857, 'gini = 0.0\\nsamples = 1\\nvalue = [0, 1]'),\n",
              " Text(0.44975145882861467, 0.8142857142857143, 'gini = 0.0\\nsamples = 173\\nvalue = [173, 0]'),\n",
              " Text(0.454938405014048, 0.8428571428571429, 'X[1] <= -0.957\\ngini = 0.368\\nsamples = 181\\nvalue = [137, 44]'),\n",
              " Text(0.4532094229522369, 0.8142857142857143, 'gini = 0.0\\nsamples = 2\\nvalue = [0, 2]'),\n",
              " Text(0.4566673870758591, 0.8142857142857143, 'X[0] <= 0.417\\ngini = 0.359\\nsamples = 179\\nvalue = [137, 42]'),\n",
              " Text(0.454938405014048, 0.7857142857142857, 'X[1] <= -0.712\\ngini = 0.35\\nsamples = 177\\nvalue = [137, 40]'),\n",
              " Text(0.44045818024637995, 0.7571428571428571, 'X[0] <= 0.192\\ngini = 0.236\\nsamples = 88\\nvalue = [76, 12]'),\n",
              " Text(0.43872919818456885, 0.7285714285714285, 'gini = 0.0\\nsamples = 19\\nvalue = [19, 0]'),\n",
              " Text(0.44218716230819105, 0.7285714285714285, 'X[0] <= 0.232\\ngini = 0.287\\nsamples = 69\\nvalue = [57, 12]'),\n",
              " Text(0.4357034795763994, 0.7, 'X[1] <= -0.775\\ngini = 0.32\\nsamples = 5\\nvalue = [1, 4]'),\n",
              " Text(0.4339744975145883, 0.6714285714285714, 'gini = 0.0\\nsamples = 3\\nvalue = [0, 3]'),\n",
              " Text(0.4374324616382105, 0.6714285714285714, 'X[1] <= -0.755\\ngini = 0.5\\nsamples = 2\\nvalue = [1, 1]'),\n",
              " Text(0.4357034795763994, 0.6428571428571429, 'gini = 0.0\\nsamples = 1\\nvalue = [1, 0]'),\n",
              " Text(0.43916144370002164, 0.6428571428571429, 'gini = 0.0\\nsamples = 1\\nvalue = [0, 1]'),\n",
              " Text(0.4486708450399827, 0.7, 'X[1] <= -0.726\\ngini = 0.219\\nsamples = 64\\nvalue = [56, 8]'),\n",
              " Text(0.4469418629781716, 0.6714285714285714, 'X[1] <= -0.831\\ngini = 0.282\\nsamples = 47\\nvalue = [39, 8]'),\n",
              " Text(0.44261940782364384, 0.6428571428571429, 'X[1] <= -0.845\\ngini = 0.117\\nsamples = 32\\nvalue = [30, 2]'),\n",
              " Text(0.43916144370002164, 0.6142857142857143, 'X[0] <= 0.378\\ngini = 0.071\\nsamples = 27\\nvalue = [26, 1]'),\n",
              " Text(0.4374324616382105, 0.5857142857142857, 'gini = 0.0\\nsamples = 16\\nvalue = [16, 0]'),\n",
              " Text(0.44089042576183274, 0.5857142857142857, 'X[0] <= 0.384\\ngini = 0.165\\nsamples = 11\\nvalue = [10, 1]'),\n",
              " Text(0.43916144370002164, 0.5571428571428572, 'gini = 0.0\\nsamples = 1\\nvalue = [0, 1]'),\n",
              " Text(0.44261940782364384, 0.5571428571428572, 'gini = 0.0\\nsamples = 10\\nvalue = [10, 0]'),\n",
              " Text(0.44607737194726604, 0.6142857142857143, 'X[1] <= -0.841\\ngini = 0.32\\nsamples = 5\\nvalue = [4, 1]'),\n",
              " Text(0.44434838988545494, 0.5857142857142857, 'gini = 0.0\\nsamples = 1\\nvalue = [0, 1]'),\n",
              " Text(0.44780635400907715, 0.5857142857142857, 'gini = 0.0\\nsamples = 4\\nvalue = [4, 0]'),\n",
              " Text(0.45126431813269935, 0.6428571428571429, 'X[1] <= -0.793\\ngini = 0.48\\nsamples = 15\\nvalue = [9, 6]'),\n",
              " Text(0.44953533607088825, 0.6142857142857143, 'gini = 0.0\\nsamples = 4\\nvalue = [0, 4]'),\n",
              " Text(0.4529933001945105, 0.6142857142857143, 'X[0] <= 0.254\\ngini = 0.298\\nsamples = 11\\nvalue = [9, 2]'),\n",
              " Text(0.45126431813269935, 0.5857142857142857, 'gini = 0.0\\nsamples = 1\\nvalue = [0, 1]'),\n",
              " Text(0.4547222822563216, 0.5857142857142857, 'X[0] <= 0.396\\ngini = 0.18\\nsamples = 10\\nvalue = [9, 1]'),\n",
              " Text(0.4529933001945105, 0.5571428571428572, 'gini = 0.0\\nsamples = 9\\nvalue = [9, 0]'),\n",
              " Text(0.4564512643181327, 0.5571428571428572, 'gini = 0.0\\nsamples = 1\\nvalue = [0, 1]'),\n",
              " Text(0.4503998271017938, 0.6714285714285714, 'gini = 0.0\\nsamples = 17\\nvalue = [17, 0]'),\n",
              " Text(0.469418629781716, 0.7571428571428571, 'X[1] <= -0.607\\ngini = 0.431\\nsamples = 89\\nvalue = [61, 28]'),\n",
              " Text(0.4659606656580938, 0.7285714285714285, 'X[1] <= -0.614\\ngini = 0.475\\nsamples = 67\\nvalue = [41, 26]'),\n",
              " Text(0.4642316835962827, 0.7, 'X[0] <= 0.388\\ngini = 0.455\\nsamples = 63\\nvalue = [41, 22]'),\n",
              " Text(0.4625027015344716, 0.6714285714285714, 'X[0] <= 0.202\\ngini = 0.424\\nsamples = 59\\nvalue = [41, 18]'),\n",
              " Text(0.4581802463799438, 0.6428571428571429, 'X[1] <= -0.634\\ngini = 0.444\\nsamples = 6\\nvalue = [2, 4]'),\n",
              " Text(0.4564512643181327, 0.6142857142857143, 'gini = 0.0\\nsamples = 4\\nvalue = [0, 4]'),\n",
              " Text(0.4599092284417549, 0.6142857142857143, 'gini = 0.0\\nsamples = 2\\nvalue = [2, 0]'),\n",
              " Text(0.4668251566889994, 0.6428571428571429, 'X[1] <= -0.624\\ngini = 0.389\\nsamples = 53\\nvalue = [39, 14]'),\n",
              " Text(0.4633671925653771, 0.6142857142857143, 'X[1] <= -0.712\\ngini = 0.331\\nsamples = 43\\nvalue = [34, 9]'),\n",
              " Text(0.461638210503566, 0.5857142857142857, 'gini = 0.0\\nsamples = 1\\nvalue = [0, 1]'),\n",
              " Text(0.4650961746271882, 0.5857142857142857, 'X[0] <= 0.338\\ngini = 0.308\\nsamples = 42\\nvalue = [34, 8]'),\n",
              " Text(0.461638210503566, 0.5571428571428572, 'X[0] <= 0.317\\ngini = 0.403\\nsamples = 25\\nvalue = [18, 7]'),\n",
              " Text(0.4599092284417549, 0.5285714285714286, 'X[1] <= -0.649\\ngini = 0.298\\nsamples = 22\\nvalue = [18, 4]'),\n",
              " Text(0.4581802463799438, 0.5, 'X[1] <= -0.658\\ngini = 0.426\\nsamples = 13\\nvalue = [9, 4]'),\n",
              " Text(0.4564512643181327, 0.4714285714285714, 'X[0] <= 0.229\\ngini = 0.298\\nsamples = 11\\nvalue = [9, 2]'),\n",
              " Text(0.4547222822563216, 0.44285714285714284, 'gini = 0.0\\nsamples = 5\\nvalue = [5, 0]'),\n",
              " Text(0.4581802463799438, 0.44285714285714284, 'X[0] <= 0.276\\ngini = 0.444\\nsamples = 6\\nvalue = [4, 2]'),\n",
              " Text(0.4564512643181327, 0.4142857142857143, 'gini = 0.0\\nsamples = 2\\nvalue = [0, 2]'),\n",
              " Text(0.4599092284417549, 0.4142857142857143, 'gini = 0.0\\nsamples = 4\\nvalue = [4, 0]'),\n",
              " Text(0.4599092284417549, 0.4714285714285714, 'gini = 0.0\\nsamples = 2\\nvalue = [0, 2]'),\n",
              " Text(0.461638210503566, 0.5, 'gini = 0.0\\nsamples = 9\\nvalue = [9, 0]'),\n",
              " Text(0.4633671925653771, 0.5285714285714286, 'gini = 0.0\\nsamples = 3\\nvalue = [0, 3]'),\n",
              " Text(0.4685541387508105, 0.5571428571428572, 'X[1] <= -0.646\\ngini = 0.111\\nsamples = 17\\nvalue = [16, 1]'),\n",
              " Text(0.4668251566889994, 0.5285714285714286, 'gini = 0.0\\nsamples = 16\\nvalue = [16, 0]'),\n",
              " Text(0.4702831208126216, 0.5285714285714286, 'gini = 0.0\\nsamples = 1\\nvalue = [0, 1]'),\n",
              " Text(0.4702831208126216, 0.6142857142857143, 'X[1] <= -0.617\\ngini = 0.5\\nsamples = 10\\nvalue = [5, 5]'),\n",
              " Text(0.4685541387508105, 0.5857142857142857, 'gini = 0.0\\nsamples = 5\\nvalue = [0, 5]'),\n",
              " Text(0.4720121028744327, 0.5857142857142857, 'gini = 0.0\\nsamples = 5\\nvalue = [5, 0]'),\n",
              " Text(0.4659606656580938, 0.6714285714285714, 'gini = 0.0\\nsamples = 4\\nvalue = [0, 4]'),\n",
              " Text(0.4676896477199049, 0.7, 'gini = 0.0\\nsamples = 4\\nvalue = [0, 4]'),\n",
              " Text(0.4728765939053382, 0.7285714285714285, 'X[0] <= 0.404\\ngini = 0.165\\nsamples = 22\\nvalue = [20, 2]'),\n",
              " Text(0.4711476118435271, 0.7, 'X[1] <= -0.595\\ngini = 0.091\\nsamples = 21\\nvalue = [20, 1]'),\n",
              " Text(0.469418629781716, 0.6714285714285714, 'gini = 0.0\\nsamples = 12\\nvalue = [12, 0]'),\n",
              " Text(0.4728765939053382, 0.6714285714285714, 'X[1] <= -0.592\\ngini = 0.198\\nsamples = 9\\nvalue = [8, 1]'),\n",
              " Text(0.4711476118435271, 0.6428571428571429, 'gini = 0.0\\nsamples = 1\\nvalue = [0, 1]'),\n",
              " Text(0.47460557596714936, 0.6428571428571429, 'gini = 0.0\\nsamples = 8\\nvalue = [8, 0]'),\n",
              " Text(0.47460557596714936, 0.7, 'gini = 0.0\\nsamples = 1\\nvalue = [0, 1]'),\n",
              " Text(0.4583963691376702, 0.7857142857142857, 'gini = 0.0\\nsamples = 2\\nvalue = [0, 2]'),\n",
              " Text(0.48714069591527986, 0.8714285714285714, 'X[1] <= -0.58\\ngini = 0.006\\nsamples = 2638\\nvalue = [2630, 8]'),\n",
              " Text(0.48238599524529935, 0.8428571428571429, 'X[1] <= -0.862\\ngini = 0.005\\nsamples = 2631\\nvalue = [2624, 7]'),\n",
              " Text(0.47806354009077157, 0.8142857142857143, 'X[0] <= 1.893\\ngini = 0.001\\nsamples = 2099\\nvalue = [2098, 1]'),\n",
              " Text(0.47633455802896046, 0.7857142857142857, 'gini = 0.0\\nsamples = 1909\\nvalue = [1909, 0]'),\n",
              " Text(0.47979252215258267, 0.7857142857142857, 'X[0] <= 1.899\\ngini = 0.01\\nsamples = 190\\nvalue = [189, 1]'),\n",
              " Text(0.47806354009077157, 0.7571428571428571, 'gini = 0.0\\nsamples = 1\\nvalue = [0, 1]'),\n",
              " Text(0.48152150421439377, 0.7571428571428571, 'gini = 0.0\\nsamples = 189\\nvalue = [189, 0]'),\n",
              " Text(0.4867084503998271, 0.8142857142857143, 'X[1] <= -0.861\\ngini = 0.022\\nsamples = 532\\nvalue = [526, 6]'),\n",
              " Text(0.484979468338016, 0.7857142857142857, 'gini = 0.0\\nsamples = 1\\nvalue = [0, 1]'),\n",
              " Text(0.48843743246163823, 0.7857142857142857, 'X[0] <= 0.761\\ngini = 0.019\\nsamples = 531\\nvalue = [526, 5]'),\n",
              " Text(0.484979468338016, 0.7571428571428571, 'X[0] <= 0.74\\ngini = 0.061\\nsamples = 126\\nvalue = [122, 4]'),\n",
              " Text(0.48325048627620487, 0.7285714285714285, 'X[1] <= -0.711\\ngini = 0.047\\nsamples = 125\\nvalue = [122, 3]'),\n",
              " Text(0.48152150421439377, 0.7, 'X[1] <= -0.719\\ngini = 0.08\\nsamples = 72\\nvalue = [69, 3]'),\n",
              " Text(0.47979252215258267, 0.6714285714285714, 'X[1] <= -0.781\\ngini = 0.028\\nsamples = 70\\nvalue = [69, 1]'),\n",
              " Text(0.47806354009077157, 0.6428571428571429, 'gini = 0.0\\nsamples = 46\\nvalue = [46, 0]'),\n",
              " Text(0.48152150421439377, 0.6428571428571429, 'X[1] <= -0.773\\ngini = 0.08\\nsamples = 24\\nvalue = [23, 1]'),\n",
              " Text(0.47979252215258267, 0.6142857142857143, 'gini = 0.0\\nsamples = 1\\nvalue = [0, 1]'),\n",
              " Text(0.48325048627620487, 0.6142857142857143, 'gini = 0.0\\nsamples = 23\\nvalue = [23, 0]'),\n",
              " Text(0.48325048627620487, 0.6714285714285714, 'gini = 0.0\\nsamples = 2\\nvalue = [0, 2]'),\n",
              " Text(0.484979468338016, 0.7, 'gini = 0.0\\nsamples = 53\\nvalue = [53, 0]'),\n",
              " Text(0.4867084503998271, 0.7285714285714285, 'gini = 0.0\\nsamples = 1\\nvalue = [0, 1]'),\n",
              " Text(0.49189539658526044, 0.7571428571428571, 'X[0] <= 1.004\\ngini = 0.005\\nsamples = 405\\nvalue = [404, 1]'),\n",
              " Text(0.49016641452344933, 0.7285714285714285, 'X[0] <= 0.99\\ngini = 0.021\\nsamples = 93\\nvalue = [92, 1]'),\n",
              " Text(0.48843743246163823, 0.7, 'gini = 0.0\\nsamples = 92\\nvalue = [92, 0]'),\n",
              " Text(0.49189539658526044, 0.7, 'gini = 0.0\\nsamples = 1\\nvalue = [0, 1]'),\n",
              " Text(0.49362437864707154, 0.7285714285714285, 'gini = 0.0\\nsamples = 312\\nvalue = [312, 0]'),\n",
              " Text(0.49189539658526044, 0.8428571428571429, 'X[0] <= 0.718\\ngini = 0.245\\nsamples = 7\\nvalue = [6, 1]'),\n",
              " Text(0.49016641452344933, 0.8142857142857143, 'gini = 0.0\\nsamples = 1\\nvalue = [0, 1]'),\n",
              " Text(0.49362437864707154, 0.8142857142857143, 'gini = 0.0\\nsamples = 6\\nvalue = [6, 0]'),\n",
              " Text(0.7929054327858224, 0.9285714285714286, 'X[0] <= 0.698\\ngini = 0.436\\nsamples = 2644\\nvalue = [1795, 849]'),\n",
              " Text(0.6971824683920467, 0.9, 'X[1] <= 0.24\\ngini = 0.489\\nsamples = 1521\\nvalue = [871, 650]'),\n",
              " Text(0.5841207180678626, 0.8714285714285714, 'X[0] <= 0.182\\ngini = 0.5\\nsamples = 1269\\nvalue = [641, 628]'),\n",
              " Text(0.5175464663929111, 0.8428571428571429, 'X[1] <= -0.27\\ngini = 0.468\\nsamples = 407\\nvalue = [152, 255]'),\n",
              " Text(0.500540306894316, 0.8142857142857143, 'X[1] <= -0.556\\ngini = 0.368\\nsamples = 193\\nvalue = [47, 146]'),\n",
              " Text(0.49708234277069374, 0.7857142857142857, 'X[0] <= 0.008\\ngini = 0.475\\nsamples = 18\\nvalue = [11, 7]'),\n",
              " Text(0.49535336070888264, 0.7571428571428571, 'gini = 0.0\\nsamples = 11\\nvalue = [11, 0]'),\n",
              " Text(0.49881132483250484, 0.7571428571428571, 'gini = 0.0\\nsamples = 7\\nvalue = [0, 7]'),\n",
              " Text(0.5039982710179381, 0.7857142857142857, 'X[0] <= 0.027\\ngini = 0.327\\nsamples = 175\\nvalue = [36, 139]'),\n",
              " Text(0.5022692889561271, 0.7571428571428571, 'gini = 0.0\\nsamples = 42\\nvalue = [0, 42]'),\n",
              " Text(0.5057272530797493, 0.7571428571428571, 'X[0] <= 0.033\\ngini = 0.395\\nsamples = 133\\nvalue = [36, 97]'),\n",
              " Text(0.5022692889561271, 0.7285714285714285, 'X[1] <= -0.512\\ngini = 0.346\\nsamples = 18\\nvalue = [14, 4]'),\n",
              " Text(0.500540306894316, 0.7, 'gini = 0.0\\nsamples = 2\\nvalue = [0, 2]'),\n",
              " Text(0.5039982710179381, 0.7, 'X[1] <= -0.379\\ngini = 0.219\\nsamples = 16\\nvalue = [14, 2]'),\n",
              " Text(0.5022692889561271, 0.6714285714285714, 'X[0] <= 0.029\\ngini = 0.124\\nsamples = 15\\nvalue = [14, 1]'),\n",
              " Text(0.500540306894316, 0.6428571428571429, 'gini = 0.0\\nsamples = 7\\nvalue = [7, 0]'),\n",
              " Text(0.5039982710179381, 0.6428571428571429, 'X[1] <= -0.429\\ngini = 0.219\\nsamples = 8\\nvalue = [7, 1]'),\n",
              " Text(0.5022692889561271, 0.6142857142857143, 'gini = 0.0\\nsamples = 1\\nvalue = [0, 1]'),\n",
              " Text(0.5057272530797493, 0.6142857142857143, 'gini = 0.0\\nsamples = 7\\nvalue = [7, 0]'),\n",
              " Text(0.5057272530797493, 0.6714285714285714, 'gini = 0.0\\nsamples = 1\\nvalue = [0, 1]'),\n",
              " Text(0.5091852172033715, 0.7285714285714285, 'X[1] <= -0.514\\ngini = 0.309\\nsamples = 115\\nvalue = [22, 93]'),\n",
              " Text(0.5074562351415604, 0.7, 'gini = 0.0\\nsamples = 16\\nvalue = [0, 16]'),\n",
              " Text(0.5109141992651827, 0.7, 'X[1] <= -0.512\\ngini = 0.346\\nsamples = 99\\nvalue = [22, 77]'),\n",
              " Text(0.5091852172033715, 0.6714285714285714, 'gini = 0.0\\nsamples = 3\\nvalue = [3, 0]'),\n",
              " Text(0.5126431813269937, 0.6714285714285714, 'X[0] <= 0.152\\ngini = 0.317\\nsamples = 96\\nvalue = [19, 77]'),\n",
              " Text(0.5109141992651827, 0.6428571428571429, 'X[0] <= 0.151\\ngini = 0.356\\nsamples = 82\\nvalue = [19, 63]'),\n",
              " Text(0.5091852172033715, 0.6142857142857143, 'X[0] <= 0.136\\ngini = 0.323\\nsamples = 79\\nvalue = [16, 63]'),\n",
              " Text(0.5027015344715798, 0.5857142857142857, 'X[1] <= -0.445\\ngini = 0.287\\nsamples = 69\\nvalue = [12, 57]'),\n",
              " Text(0.4983790793170521, 0.5571428571428572, 'X[1] <= -0.45\\ngini = 0.417\\nsamples = 27\\nvalue = [8, 19]'),\n",
              " Text(0.49665009725524095, 0.5285714285714286, 'X[0] <= 0.041\\ngini = 0.33\\nsamples = 24\\nvalue = [5, 19]'),\n",
              " Text(0.49319213313161875, 0.5, 'X[0] <= 0.038\\ngini = 0.48\\nsamples = 5\\nvalue = [3, 2]'),\n",
              " Text(0.49146315106980765, 0.4714285714285714, 'gini = 0.0\\nsamples = 2\\nvalue = [0, 2]'),\n",
              " Text(0.49492111519342985, 0.4714285714285714, 'gini = 0.0\\nsamples = 3\\nvalue = [3, 0]'),\n",
              " Text(0.5001080613788632, 0.5, 'X[0] <= 0.099\\ngini = 0.188\\nsamples = 19\\nvalue = [2, 17]'),\n",
              " Text(0.4983790793170521, 0.4714285714285714, 'gini = 0.0\\nsamples = 11\\nvalue = [0, 11]'),\n",
              " Text(0.5018370434406743, 0.4714285714285714, 'X[1] <= -0.464\\ngini = 0.375\\nsamples = 8\\nvalue = [2, 6]'),\n",
              " Text(0.5001080613788632, 0.44285714285714284, 'X[0] <= 0.1\\ngini = 0.245\\nsamples = 7\\nvalue = [1, 6]'),\n",
              " Text(0.4983790793170521, 0.4142857142857143, 'gini = 0.0\\nsamples = 1\\nvalue = [1, 0]'),\n",
              " Text(0.5018370434406743, 0.4142857142857143, 'gini = 0.0\\nsamples = 6\\nvalue = [0, 6]'),\n",
              " Text(0.5035660255024854, 0.44285714285714284, 'gini = 0.0\\nsamples = 1\\nvalue = [1, 0]'),\n",
              " Text(0.5001080613788632, 0.5285714285714286, 'gini = 0.0\\nsamples = 3\\nvalue = [3, 0]'),\n",
              " Text(0.5070239896261076, 0.5571428571428572, 'X[0] <= 0.079\\ngini = 0.172\\nsamples = 42\\nvalue = [4, 38]'),\n",
              " Text(0.5052950075642966, 0.5285714285714286, 'gini = 0.0\\nsamples = 19\\nvalue = [0, 19]'),\n",
              " Text(0.5087529716879188, 0.5285714285714286, 'X[0] <= 0.102\\ngini = 0.287\\nsamples = 23\\nvalue = [4, 19]'),\n",
              " Text(0.5070239896261076, 0.5, 'X[1] <= -0.399\\ngini = 0.49\\nsamples = 7\\nvalue = [4, 3]'),\n",
              " Text(0.5052950075642966, 0.4714285714285714, 'gini = 0.0\\nsamples = 2\\nvalue = [0, 2]'),\n",
              " Text(0.5087529716879188, 0.4714285714285714, 'X[1] <= -0.298\\ngini = 0.32\\nsamples = 5\\nvalue = [4, 1]'),\n",
              " Text(0.5070239896261076, 0.44285714285714284, 'gini = 0.0\\nsamples = 4\\nvalue = [4, 0]'),\n",
              " Text(0.5104819537497298, 0.44285714285714284, 'gini = 0.0\\nsamples = 1\\nvalue = [0, 1]'),\n",
              " Text(0.5104819537497298, 0.5, 'gini = 0.0\\nsamples = 16\\nvalue = [0, 16]'),\n",
              " Text(0.5156688999351632, 0.5857142857142857, 'X[0] <= 0.142\\ngini = 0.48\\nsamples = 10\\nvalue = [4, 6]'),\n",
              " Text(0.513939917873352, 0.5571428571428572, 'X[1] <= -0.431\\ngini = 0.32\\nsamples = 5\\nvalue = [4, 1]'),\n",
              " Text(0.512210935811541, 0.5285714285714286, 'gini = 0.0\\nsamples = 2\\nvalue = [2, 0]'),\n",
              " Text(0.5156688999351632, 0.5285714285714286, 'X[0] <= 0.14\\ngini = 0.444\\nsamples = 3\\nvalue = [2, 1]'),\n",
              " Text(0.513939917873352, 0.5, 'gini = 0.0\\nsamples = 1\\nvalue = [0, 1]'),\n",
              " Text(0.5173978819969742, 0.5, 'gini = 0.0\\nsamples = 2\\nvalue = [2, 0]'),\n",
              " Text(0.5173978819969742, 0.5571428571428572, 'gini = 0.0\\nsamples = 5\\nvalue = [0, 5]'),\n",
              " Text(0.5126431813269937, 0.6142857142857143, 'gini = 0.0\\nsamples = 3\\nvalue = [3, 0]'),\n",
              " Text(0.5143721633888049, 0.6428571428571429, 'gini = 0.0\\nsamples = 14\\nvalue = [0, 14]'),\n",
              " Text(0.5345526258915064, 0.8142857142857143, 'X[0] <= -0.03\\ngini = 0.5\\nsamples = 214\\nvalue = [105, 109]'),\n",
              " Text(0.5230170736978604, 0.7857142857142857, 'X[1] <= -0.185\\ngini = 0.308\\nsamples = 21\\nvalue = [17, 4]'),\n",
              " Text(0.5212880916360493, 0.7571428571428571, 'gini = 0.0\\nsamples = 2\\nvalue = [0, 2]'),\n",
              " Text(0.5247460557596715, 0.7571428571428571, 'X[1] <= -0.133\\ngini = 0.188\\nsamples = 19\\nvalue = [17, 2]'),\n",
              " Text(0.5230170736978604, 0.7285714285714285, 'X[1] <= -0.151\\ngini = 0.375\\nsamples = 8\\nvalue = [6, 2]'),\n",
              " Text(0.5212880916360493, 0.7, 'X[0] <= -0.031\\ngini = 0.245\\nsamples = 7\\nvalue = [6, 1]'),\n",
              " Text(0.5195591095742381, 0.6714285714285714, 'X[0] <= -0.034\\ngini = 0.444\\nsamples = 3\\nvalue = [2, 1]'),\n",
              " Text(0.5178301275124271, 0.6428571428571429, 'gini = 0.0\\nsamples = 2\\nvalue = [2, 0]'),\n",
              " Text(0.5212880916360493, 0.6428571428571429, 'gini = 0.0\\nsamples = 1\\nvalue = [0, 1]'),\n",
              " Text(0.5230170736978604, 0.6714285714285714, 'gini = 0.0\\nsamples = 4\\nvalue = [4, 0]'),\n",
              " Text(0.5247460557596715, 0.7, 'gini = 0.0\\nsamples = 1\\nvalue = [0, 1]'),\n",
              " Text(0.5264750378214826, 0.7285714285714285, 'gini = 0.0\\nsamples = 11\\nvalue = [11, 0]'),\n",
              " Text(0.5460881780851524, 0.7857142857142857, 'X[1] <= -0.263\\ngini = 0.496\\nsamples = 193\\nvalue = [88, 105]'),\n",
              " Text(0.5327425977955479, 0.7571428571428571, 'X[0] <= 0.131\\ngini = 0.153\\nsamples = 12\\nvalue = [11, 1]'),\n",
              " Text(0.5310136157337367, 0.7285714285714285, 'gini = 0.0\\nsamples = 11\\nvalue = [11, 0]'),\n",
              " Text(0.5344715798573589, 0.7285714285714285, 'gini = 0.0\\nsamples = 1\\nvalue = [0, 1]'),\n",
              " Text(0.5594337583747568, 0.7571428571428571, 'X[1] <= -0.063\\ngini = 0.489\\nsamples = 181\\nvalue = [77, 104]'),\n",
              " Text(0.5379295439809813, 0.7285714285714285, 'X[0] <= -0.004\\ngini = 0.446\\nsamples = 110\\nvalue = [37, 73]'),\n",
              " Text(0.5299330019451048, 0.7, 'X[0] <= -0.012\\ngini = 0.493\\nsamples = 25\\nvalue = [14, 11]'),\n",
              " Text(0.5264750378214826, 0.6714285714285714, 'X[0] <= -0.022\\ngini = 0.444\\nsamples = 15\\nvalue = [5, 10]'),\n",
              " Text(0.5247460557596715, 0.6428571428571429, 'X[0] <= -0.024\\ngini = 0.408\\nsamples = 7\\nvalue = [5, 2]'),\n",
              " Text(0.5230170736978604, 0.6142857142857143, 'gini = 0.0\\nsamples = 2\\nvalue = [0, 2]'),\n",
              " Text(0.5264750378214826, 0.6142857142857143, 'gini = 0.0\\nsamples = 5\\nvalue = [5, 0]'),\n",
              " Text(0.5282040198832937, 0.6428571428571429, 'gini = 0.0\\nsamples = 8\\nvalue = [0, 8]'),\n",
              " Text(0.533390966068727, 0.6714285714285714, 'X[1] <= -0.225\\ngini = 0.18\\nsamples = 10\\nvalue = [9, 1]'),\n",
              " Text(0.5316619840069159, 0.6428571428571429, 'X[0] <= -0.005\\ngini = 0.444\\nsamples = 3\\nvalue = [2, 1]'),\n",
              " Text(0.5299330019451048, 0.6142857142857143, 'gini = 0.0\\nsamples = 1\\nvalue = [0, 1]'),\n",
              " Text(0.533390966068727, 0.6142857142857143, 'gini = 0.0\\nsamples = 2\\nvalue = [2, 0]'),\n",
              " Text(0.5351199481305381, 0.6428571428571429, 'gini = 0.0\\nsamples = 7\\nvalue = [7, 0]'),\n",
              " Text(0.5459260860168575, 0.7, 'X[0] <= 0.073\\ngini = 0.395\\nsamples = 85\\nvalue = [23, 62]'),\n",
              " Text(0.5403068943159715, 0.6714285714285714, 'X[0] <= 0.011\\ngini = 0.147\\nsamples = 25\\nvalue = [2, 23]'),\n",
              " Text(0.5385779122541604, 0.6428571428571429, 'X[0] <= 0.006\\ngini = 0.408\\nsamples = 7\\nvalue = [2, 5]'),\n",
              " Text(0.5368489301923492, 0.6142857142857143, 'gini = 0.0\\nsamples = 5\\nvalue = [0, 5]'),\n",
              " Text(0.5403068943159715, 0.6142857142857143, 'gini = 0.0\\nsamples = 2\\nvalue = [2, 0]'),\n",
              " Text(0.5420358763777826, 0.6428571428571429, 'gini = 0.0\\nsamples = 18\\nvalue = [0, 18]'),\n",
              " Text(0.5515452777177436, 0.6714285714285714, 'X[0] <= 0.078\\ngini = 0.455\\nsamples = 60\\nvalue = [21, 39]'),\n",
              " Text(0.5454938405014048, 0.6428571428571429, 'X[1] <= -0.181\\ngini = 0.219\\nsamples = 8\\nvalue = [7, 1]'),\n",
              " Text(0.5437648584395937, 0.6142857142857143, 'gini = 0.0\\nsamples = 4\\nvalue = [4, 0]'),\n",
              " Text(0.5472228225632159, 0.6142857142857143, 'X[1] <= -0.174\\ngini = 0.375\\nsamples = 4\\nvalue = [3, 1]'),\n",
              " Text(0.5454938405014048, 0.5857142857142857, 'gini = 0.0\\nsamples = 1\\nvalue = [0, 1]'),\n",
              " Text(0.548951804625027, 0.5857142857142857, 'gini = 0.0\\nsamples = 3\\nvalue = [3, 0]'),\n",
              " Text(0.5575967149340826, 0.6428571428571429, 'X[1] <= -0.227\\ngini = 0.393\\nsamples = 52\\nvalue = [14, 38]'),\n",
              " Text(0.5541387508104604, 0.6142857142857143, 'X[1] <= -0.231\\ngini = 0.498\\nsamples = 15\\nvalue = [8, 7]'),\n",
              " Text(0.5524097687486492, 0.5857142857142857, 'X[0] <= 0.121\\ngini = 0.463\\nsamples = 11\\nvalue = [4, 7]'),\n",
              " Text(0.5506807866868382, 0.5571428571428572, 'X[1] <= -0.245\\ngini = 0.32\\nsamples = 5\\nvalue = [4, 1]'),\n",
              " Text(0.548951804625027, 0.5285714285714286, 'gini = 0.0\\nsamples = 4\\nvalue = [4, 0]'),\n",
              " Text(0.5524097687486492, 0.5285714285714286, 'gini = 0.0\\nsamples = 1\\nvalue = [0, 1]'),\n",
              " Text(0.5541387508104604, 0.5571428571428572, 'gini = 0.0\\nsamples = 6\\nvalue = [0, 6]'),\n",
              " Text(0.5558677328722714, 0.5857142857142857, 'gini = 0.0\\nsamples = 4\\nvalue = [4, 0]'),\n",
              " Text(0.5610546790577048, 0.6142857142857143, 'X[1] <= -0.103\\ngini = 0.272\\nsamples = 37\\nvalue = [6, 31]'),\n",
              " Text(0.5593256969958936, 0.5857142857142857, 'gini = 0.0\\nsamples = 25\\nvalue = [0, 25]'),\n",
              " Text(0.5627836611195158, 0.5857142857142857, 'X[1] <= -0.089\\ngini = 0.5\\nsamples = 12\\nvalue = [6, 6]'),\n",
              " Text(0.5610546790577048, 0.5571428571428572, 'X[0] <= 0.168\\ngini = 0.375\\nsamples = 8\\nvalue = [6, 2]'),\n",
              " Text(0.5593256969958936, 0.5285714285714286, 'X[1] <= -0.095\\ngini = 0.245\\nsamples = 7\\nvalue = [6, 1]'),\n",
              " Text(0.5575967149340826, 0.5, 'gini = 0.0\\nsamples = 3\\nvalue = [3, 0]'),\n",
              " Text(0.5610546790577048, 0.5, 'X[0] <= 0.147\\ngini = 0.375\\nsamples = 4\\nvalue = [3, 1]'),\n",
              " Text(0.5593256969958936, 0.4714285714285714, 'gini = 0.0\\nsamples = 1\\nvalue = [0, 1]'),\n",
              " Text(0.5627836611195158, 0.4714285714285714, 'gini = 0.0\\nsamples = 3\\nvalue = [3, 0]'),\n",
              " Text(0.5627836611195158, 0.5285714285714286, 'gini = 0.0\\nsamples = 1\\nvalue = [0, 1]'),\n",
              " Text(0.564512643181327, 0.5571428571428572, 'gini = 0.0\\nsamples = 4\\nvalue = [0, 4]'),\n",
              " Text(0.5809379727685325, 0.7285714285714285, 'X[1] <= 0.053\\ngini = 0.492\\nsamples = 71\\nvalue = [40, 31]'),\n",
              " Text(0.5748865355521936, 0.7, 'X[0] <= -0.019\\ngini = 0.381\\nsamples = 43\\nvalue = [32, 11]'),\n",
              " Text(0.5731575534903826, 0.6714285714285714, 'gini = 0.0\\nsamples = 2\\nvalue = [0, 2]'),\n",
              " Text(0.5766155176140048, 0.6714285714285714, 'X[0] <= 0.165\\ngini = 0.343\\nsamples = 41\\nvalue = [32, 9]'),\n",
              " Text(0.5748865355521936, 0.6428571428571429, 'X[0] <= 0.106\\ngini = 0.295\\nsamples = 39\\nvalue = [32, 7]'),\n",
              " Text(0.5731575534903826, 0.6142857142857143, 'X[1] <= -0.009\\ngini = 0.384\\nsamples = 27\\nvalue = [20, 7]'),\n",
              " Text(0.5696995893667604, 0.5857142857142857, 'X[0] <= -0.01\\ngini = 0.444\\nsamples = 6\\nvalue = [2, 4]'),\n",
              " Text(0.5679706073049492, 0.5571428571428572, 'gini = 0.0\\nsamples = 2\\nvalue = [2, 0]'),\n",
              " Text(0.5714285714285714, 0.5571428571428572, 'gini = 0.0\\nsamples = 4\\nvalue = [0, 4]'),\n",
              " Text(0.5766155176140048, 0.5857142857142857, 'X[0] <= 0.089\\ngini = 0.245\\nsamples = 21\\nvalue = [18, 3]'),\n",
              " Text(0.5748865355521936, 0.5571428571428572, 'X[0] <= 0.058\\ngini = 0.18\\nsamples = 20\\nvalue = [18, 2]'),\n",
              " Text(0.5731575534903826, 0.5285714285714286, 'X[0] <= 0.024\\ngini = 0.408\\nsamples = 7\\nvalue = [5, 2]'),\n",
              " Text(0.5714285714285714, 0.5, 'gini = 0.0\\nsamples = 5\\nvalue = [5, 0]'),\n",
              " Text(0.5748865355521936, 0.5, 'gini = 0.0\\nsamples = 2\\nvalue = [0, 2]'),\n",
              " Text(0.5766155176140048, 0.5285714285714286, 'gini = 0.0\\nsamples = 13\\nvalue = [13, 0]'),\n",
              " Text(0.5783444996758159, 0.5571428571428572, 'gini = 0.0\\nsamples = 1\\nvalue = [0, 1]'),\n",
              " Text(0.5766155176140048, 0.6142857142857143, 'gini = 0.0\\nsamples = 12\\nvalue = [12, 0]'),\n",
              " Text(0.5783444996758159, 0.6428571428571429, 'gini = 0.0\\nsamples = 2\\nvalue = [0, 2]'),\n",
              " Text(0.5869894099848714, 0.7, 'X[1] <= 0.144\\ngini = 0.408\\nsamples = 28\\nvalue = [8, 20]'),\n",
              " Text(0.5835314458612492, 0.6714285714285714, 'X[0] <= 0.174\\ngini = 0.219\\nsamples = 16\\nvalue = [2, 14]'),\n",
              " Text(0.5818024637994381, 0.6428571428571429, 'gini = 0.0\\nsamples = 11\\nvalue = [0, 11]'),\n",
              " Text(0.5852604279230603, 0.6428571428571429, 'X[0] <= 0.175\\ngini = 0.48\\nsamples = 5\\nvalue = [2, 3]'),\n",
              " Text(0.5835314458612492, 0.6142857142857143, 'gini = 0.0\\nsamples = 2\\nvalue = [2, 0]'),\n",
              " Text(0.5869894099848714, 0.6142857142857143, 'gini = 0.0\\nsamples = 3\\nvalue = [0, 3]'),\n",
              " Text(0.5904473741084936, 0.6714285714285714, 'X[1] <= 0.149\\ngini = 0.5\\nsamples = 12\\nvalue = [6, 6]'),\n",
              " Text(0.5887183920466825, 0.6428571428571429, 'gini = 0.0\\nsamples = 4\\nvalue = [4, 0]'),\n",
              " Text(0.5921763561703047, 0.6428571428571429, 'X[1] <= 0.234\\ngini = 0.375\\nsamples = 8\\nvalue = [2, 6]'),\n",
              " Text(0.5904473741084936, 0.6142857142857143, 'X[1] <= 0.165\\ngini = 0.245\\nsamples = 7\\nvalue = [1, 6]'),\n",
              " Text(0.5887183920466825, 0.5857142857142857, 'X[0] <= 0.126\\ngini = 0.5\\nsamples = 2\\nvalue = [1, 1]'),\n",
              " Text(0.5869894099848714, 0.5571428571428572, 'gini = 0.0\\nsamples = 1\\nvalue = [1, 0]'),\n",
              " Text(0.5904473741084936, 0.5571428571428572, 'gini = 0.0\\nsamples = 1\\nvalue = [0, 1]'),\n",
              " Text(0.5921763561703047, 0.5857142857142857, 'gini = 0.0\\nsamples = 5\\nvalue = [0, 5]'),\n",
              " Text(0.5939053382321159, 0.6142857142857143, 'gini = 0.0\\nsamples = 1\\nvalue = [1, 0]'),\n",
              " Text(0.6506949697428139, 0.8428571428571429, 'X[1] <= -0.426\\ngini = 0.491\\nsamples = 862\\nvalue = [489, 373]'),\n",
              " Text(0.6224335422519991, 0.8142857142857143, 'X[0] <= 0.261\\ngini = 0.41\\nsamples = 184\\nvalue = [131, 53]'),\n",
              " Text(0.607304949211152, 0.7857142857142857, 'X[1] <= -0.475\\ngini = 0.5\\nsamples = 45\\nvalue = [23, 22]'),\n",
              " Text(0.6016857575102659, 0.7571428571428571, 'X[0] <= 0.204\\ngini = 0.464\\nsamples = 30\\nvalue = [11, 19]'),\n",
              " Text(0.5999567754484547, 0.7285714285714285, 'gini = 0.0\\nsamples = 6\\nvalue = [0, 6]'),\n",
              " Text(0.6034147395720769, 0.7285714285714285, 'X[0] <= 0.207\\ngini = 0.497\\nsamples = 24\\nvalue = [11, 13]'),\n",
              " Text(0.5990922844175491, 0.7, 'X[0] <= 0.205\\ngini = 0.219\\nsamples = 8\\nvalue = [7, 1]'),\n",
              " Text(0.5973633023557381, 0.6714285714285714, 'X[0] <= 0.205\\ngini = 0.375\\nsamples = 4\\nvalue = [3, 1]'),\n",
              " Text(0.5956343202939269, 0.6428571428571429, 'gini = 0.0\\nsamples = 3\\nvalue = [3, 0]'),\n",
              " Text(0.5990922844175491, 0.6428571428571429, 'gini = 0.0\\nsamples = 1\\nvalue = [0, 1]'),\n",
              " Text(0.6008212664793603, 0.6714285714285714, 'gini = 0.0\\nsamples = 4\\nvalue = [4, 0]'),\n",
              " Text(0.6077371947266047, 0.7, 'X[1] <= -0.555\\ngini = 0.375\\nsamples = 16\\nvalue = [4, 12]'),\n",
              " Text(0.6042792306029825, 0.6714285714285714, 'X[0] <= 0.233\\ngini = 0.444\\nsamples = 3\\nvalue = [2, 1]'),\n",
              " Text(0.6025502485411713, 0.6428571428571429, 'gini = 0.0\\nsamples = 1\\nvalue = [0, 1]'),\n",
              " Text(0.6060082126647937, 0.6428571428571429, 'gini = 0.0\\nsamples = 2\\nvalue = [2, 0]'),\n",
              " Text(0.6111951588502269, 0.6714285714285714, 'X[0] <= 0.23\\ngini = 0.26\\nsamples = 13\\nvalue = [2, 11]'),\n",
              " Text(0.6094661767884159, 0.6428571428571429, 'X[0] <= 0.224\\ngini = 0.408\\nsamples = 7\\nvalue = [2, 5]'),\n",
              " Text(0.6077371947266047, 0.6142857142857143, 'X[1] <= -0.501\\ngini = 0.278\\nsamples = 6\\nvalue = [1, 5]'),\n",
              " Text(0.6060082126647937, 0.5857142857142857, 'gini = 0.0\\nsamples = 4\\nvalue = [0, 4]'),\n",
              " Text(0.6094661767884159, 0.5857142857142857, 'X[1] <= -0.491\\ngini = 0.5\\nsamples = 2\\nvalue = [1, 1]'),\n",
              " Text(0.6077371947266047, 0.5571428571428572, 'gini = 0.0\\nsamples = 1\\nvalue = [1, 0]'),\n",
              " Text(0.6111951588502269, 0.5571428571428572, 'gini = 0.0\\nsamples = 1\\nvalue = [0, 1]'),\n",
              " Text(0.6111951588502269, 0.6142857142857143, 'gini = 0.0\\nsamples = 1\\nvalue = [1, 0]'),\n",
              " Text(0.6129241409120381, 0.6428571428571429, 'gini = 0.0\\nsamples = 6\\nvalue = [0, 6]'),\n",
              " Text(0.6129241409120381, 0.7571428571428571, 'X[0] <= 0.191\\ngini = 0.32\\nsamples = 15\\nvalue = [12, 3]'),\n",
              " Text(0.6111951588502269, 0.7285714285714285, 'gini = 0.0\\nsamples = 1\\nvalue = [0, 1]'),\n",
              " Text(0.6146531229738491, 0.7285714285714285, 'X[0] <= 0.211\\ngini = 0.245\\nsamples = 14\\nvalue = [12, 2]'),\n",
              " Text(0.6129241409120381, 0.7, 'gini = 0.0\\nsamples = 5\\nvalue = [5, 0]'),\n",
              " Text(0.6163821050356603, 0.7, 'X[0] <= 0.224\\ngini = 0.346\\nsamples = 9\\nvalue = [7, 2]'),\n",
              " Text(0.6146531229738491, 0.6714285714285714, 'gini = 0.0\\nsamples = 1\\nvalue = [0, 1]'),\n",
              " Text(0.6181110870974713, 0.6714285714285714, 'X[0] <= 0.238\\ngini = 0.219\\nsamples = 8\\nvalue = [7, 1]'),\n",
              " Text(0.6163821050356603, 0.6428571428571429, 'X[1] <= -0.437\\ngini = 0.375\\nsamples = 4\\nvalue = [3, 1]'),\n",
              " Text(0.6146531229738491, 0.6142857142857143, 'gini = 0.0\\nsamples = 1\\nvalue = [0, 1]'),\n",
              " Text(0.6181110870974713, 0.6142857142857143, 'gini = 0.0\\nsamples = 3\\nvalue = [3, 0]'),\n",
              " Text(0.6198400691592825, 0.6428571428571429, 'gini = 0.0\\nsamples = 4\\nvalue = [4, 0]'),\n",
              " Text(0.6375621352928463, 0.7857142857142857, 'X[1] <= -0.44\\ngini = 0.347\\nsamples = 139\\nvalue = [108, 31]'),\n",
              " Text(0.6358331532310352, 0.7571428571428571, 'X[1] <= -0.444\\ngini = 0.383\\nsamples = 120\\nvalue = [89, 31]'),\n",
              " Text(0.6341041711692241, 0.7285714285714285, 'X[0] <= 0.643\\ngini = 0.371\\nsamples = 118\\nvalue = [89, 29]'),\n",
              " Text(0.6293494704992436, 0.7, 'X[0] <= 0.502\\ngini = 0.354\\nsamples = 113\\nvalue = [87, 26]'),\n",
              " Text(0.6250270153447158, 0.6714285714285714, 'X[0] <= 0.474\\ngini = 0.402\\nsamples = 79\\nvalue = [57, 22]'),\n",
              " Text(0.6232980332829047, 0.6428571428571429, 'X[1] <= -0.574\\ngini = 0.375\\nsamples = 76\\nvalue = [57, 19]'),\n",
              " Text(0.6215690512210936, 0.6142857142857143, 'gini = 0.0\\nsamples = 1\\nvalue = [0, 1]'),\n",
              " Text(0.6250270153447158, 0.6142857142857143, 'X[1] <= -0.564\\ngini = 0.365\\nsamples = 75\\nvalue = [57, 18]'),\n",
              " Text(0.6215690512210936, 0.5857142857142857, 'X[1] <= -0.569\\ngini = 0.133\\nsamples = 14\\nvalue = [13, 1]'),\n",
              " Text(0.6198400691592825, 0.5571428571428572, 'X[0] <= 0.425\\ngini = 0.444\\nsamples = 3\\nvalue = [2, 1]'),\n",
              " Text(0.6181110870974713, 0.5285714285714286, 'gini = 0.0\\nsamples = 1\\nvalue = [0, 1]'),\n",
              " Text(0.6215690512210936, 0.5285714285714286, 'gini = 0.0\\nsamples = 2\\nvalue = [2, 0]'),\n",
              " Text(0.6232980332829047, 0.5571428571428572, 'gini = 0.0\\nsamples = 11\\nvalue = [11, 0]'),\n",
              " Text(0.628484979468338, 0.5857142857142857, 'X[1] <= -0.541\\ngini = 0.402\\nsamples = 61\\nvalue = [44, 17]'),\n",
              " Text(0.6267559974065269, 0.5571428571428572, 'gini = 0.0\\nsamples = 4\\nvalue = [0, 4]'),\n",
              " Text(0.6302139615301491, 0.5571428571428572, 'X[0] <= 0.468\\ngini = 0.352\\nsamples = 57\\nvalue = [44, 13]'),\n",
              " Text(0.628484979468338, 0.5285714285714286, 'X[0] <= 0.394\\ngini = 0.337\\nsamples = 56\\nvalue = [44, 12]'),\n",
              " Text(0.6250270153447158, 0.5, 'X[0] <= 0.377\\ngini = 0.411\\nsamples = 38\\nvalue = [27, 11]'),\n",
              " Text(0.6232980332829047, 0.4714285714285714, 'X[1] <= -0.461\\ngini = 0.375\\nsamples = 36\\nvalue = [27, 9]'),\n",
              " Text(0.6198400691592825, 0.44285714285714284, 'X[1] <= -0.49\\ngini = 0.454\\nsamples = 23\\nvalue = [15, 8]'),\n",
              " Text(0.6181110870974713, 0.4142857142857143, 'X[1] <= -0.513\\ngini = 0.332\\nsamples = 19\\nvalue = [15, 4]'),\n",
              " Text(0.6146531229738491, 0.38571428571428573, 'X[1] <= -0.534\\ngini = 0.153\\nsamples = 12\\nvalue = [11, 1]'),\n",
              " Text(0.6129241409120381, 0.35714285714285715, 'X[0] <= 0.317\\ngini = 0.444\\nsamples = 3\\nvalue = [2, 1]'),\n",
              " Text(0.6111951588502269, 0.32857142857142857, 'gini = 0.0\\nsamples = 1\\nvalue = [0, 1]'),\n",
              " Text(0.6146531229738491, 0.32857142857142857, 'gini = 0.0\\nsamples = 2\\nvalue = [2, 0]'),\n",
              " Text(0.6163821050356603, 0.35714285714285715, 'gini = 0.0\\nsamples = 9\\nvalue = [9, 0]'),\n",
              " Text(0.6215690512210936, 0.38571428571428573, 'X[0] <= 0.299\\ngini = 0.49\\nsamples = 7\\nvalue = [4, 3]'),\n",
              " Text(0.6198400691592825, 0.35714285714285715, 'gini = 0.0\\nsamples = 4\\nvalue = [4, 0]'),\n",
              " Text(0.6232980332829047, 0.35714285714285715, 'gini = 0.0\\nsamples = 3\\nvalue = [0, 3]'),\n",
              " Text(0.6215690512210936, 0.4142857142857143, 'gini = 0.0\\nsamples = 4\\nvalue = [0, 4]'),\n",
              " Text(0.6267559974065269, 0.44285714285714284, 'X[0] <= 0.338\\ngini = 0.142\\nsamples = 13\\nvalue = [12, 1]'),\n",
              " Text(0.6250270153447158, 0.4142857142857143, 'gini = 0.0\\nsamples = 9\\nvalue = [9, 0]'),\n",
              " Text(0.628484979468338, 0.4142857142857143, 'X[0] <= 0.36\\ngini = 0.375\\nsamples = 4\\nvalue = [3, 1]'),\n",
              " Text(0.6267559974065269, 0.38571428571428573, 'gini = 0.0\\nsamples = 1\\nvalue = [0, 1]'),\n",
              " Text(0.6302139615301491, 0.38571428571428573, 'gini = 0.0\\nsamples = 3\\nvalue = [3, 0]'),\n",
              " Text(0.6267559974065269, 0.4714285714285714, 'gini = 0.0\\nsamples = 2\\nvalue = [0, 2]'),\n",
              " Text(0.6319429435919602, 0.5, 'X[0] <= 0.425\\ngini = 0.105\\nsamples = 18\\nvalue = [17, 1]'),\n",
              " Text(0.6302139615301491, 0.4714285714285714, 'gini = 0.0\\nsamples = 14\\nvalue = [14, 0]'),\n",
              " Text(0.6336719256537714, 0.4714285714285714, 'X[0] <= 0.438\\ngini = 0.375\\nsamples = 4\\nvalue = [3, 1]'),\n",
              " Text(0.6319429435919602, 0.44285714285714284, 'gini = 0.0\\nsamples = 1\\nvalue = [0, 1]'),\n",
              " Text(0.6354009077155824, 0.44285714285714284, 'gini = 0.0\\nsamples = 3\\nvalue = [3, 0]'),\n",
              " Text(0.6319429435919602, 0.5285714285714286, 'gini = 0.0\\nsamples = 1\\nvalue = [0, 1]'),\n",
              " Text(0.6267559974065269, 0.6428571428571429, 'gini = 0.0\\nsamples = 3\\nvalue = [0, 3]'),\n",
              " Text(0.6336719256537714, 0.6714285714285714, 'X[1] <= -0.566\\ngini = 0.208\\nsamples = 34\\nvalue = [30, 4]'),\n",
              " Text(0.6319429435919602, 0.6428571428571429, 'gini = 0.0\\nsamples = 1\\nvalue = [0, 1]'),\n",
              " Text(0.6354009077155824, 0.6428571428571429, 'X[1] <= -0.451\\ngini = 0.165\\nsamples = 33\\nvalue = [30, 3]'),\n",
              " Text(0.6336719256537714, 0.6142857142857143, 'X[1] <= -0.496\\ngini = 0.117\\nsamples = 32\\nvalue = [30, 2]'),\n",
              " Text(0.6319429435919602, 0.5857142857142857, 'gini = 0.0\\nsamples = 19\\nvalue = [19, 0]'),\n",
              " Text(0.6354009077155824, 0.5857142857142857, 'X[1] <= -0.493\\ngini = 0.26\\nsamples = 13\\nvalue = [11, 2]'),\n",
              " Text(0.6336719256537714, 0.5571428571428572, 'gini = 0.0\\nsamples = 1\\nvalue = [0, 1]'),\n",
              " Text(0.6371298897773936, 0.5571428571428572, 'X[1] <= -0.486\\ngini = 0.153\\nsamples = 12\\nvalue = [11, 1]'),\n",
              " Text(0.6354009077155824, 0.5285714285714286, 'gini = 0.0\\nsamples = 8\\nvalue = [8, 0]'),\n",
              " Text(0.6388588718392046, 0.5285714285714286, 'X[1] <= -0.471\\ngini = 0.375\\nsamples = 4\\nvalue = [3, 1]'),\n",
              " Text(0.6371298897773936, 0.5, 'gini = 0.0\\nsamples = 1\\nvalue = [0, 1]'),\n",
              " Text(0.6405878539010158, 0.5, 'gini = 0.0\\nsamples = 3\\nvalue = [3, 0]'),\n",
              " Text(0.6371298897773936, 0.6142857142857143, 'gini = 0.0\\nsamples = 1\\nvalue = [0, 1]'),\n",
              " Text(0.6388588718392046, 0.7, 'X[1] <= -0.544\\ngini = 0.48\\nsamples = 5\\nvalue = [2, 3]'),\n",
              " Text(0.6371298897773936, 0.6714285714285714, 'gini = 0.0\\nsamples = 2\\nvalue = [2, 0]'),\n",
              " Text(0.6405878539010158, 0.6714285714285714, 'gini = 0.0\\nsamples = 3\\nvalue = [0, 3]'),\n",
              " Text(0.6375621352928463, 0.7285714285714285, 'gini = 0.0\\nsamples = 2\\nvalue = [0, 2]'),\n",
              " Text(0.6392911173546575, 0.7571428571428571, 'gini = 0.0\\nsamples = 19\\nvalue = [19, 0]'),\n",
              " Text(0.6789563972336287, 0.8142857142857143, 'X[0] <= 0.189\\ngini = 0.498\\nsamples = 678\\nvalue = [358, 320]'),\n",
              " Text(0.6470715366328075, 0.7857142857142857, 'X[0] <= 0.183\\ngini = 0.161\\nsamples = 34\\nvalue = [31, 3]'),\n",
              " Text(0.6427490814782797, 0.7571428571428571, 'X[0] <= 0.182\\ngini = 0.375\\nsamples = 4\\nvalue = [3, 1]'),\n",
              " Text(0.6410200994164685, 0.7285714285714285, 'gini = 0.0\\nsamples = 3\\nvalue = [3, 0]'),\n",
              " Text(0.6444780635400907, 0.7285714285714285, 'gini = 0.0\\nsamples = 1\\nvalue = [0, 1]'),\n",
              " Text(0.6513939917873353, 0.7571428571428571, 'X[0] <= 0.188\\ngini = 0.124\\nsamples = 30\\nvalue = [28, 2]'),\n",
              " Text(0.6479360276637129, 0.7285714285714285, 'X[1] <= -0.272\\ngini = 0.074\\nsamples = 26\\nvalue = [25, 1]'),\n",
              " Text(0.6462070456019019, 0.7, 'X[1] <= -0.299\\ngini = 0.198\\nsamples = 9\\nvalue = [8, 1]'),\n",
              " Text(0.6444780635400907, 0.6714285714285714, 'gini = 0.0\\nsamples = 8\\nvalue = [8, 0]'),\n",
              " Text(0.6479360276637129, 0.6714285714285714, 'gini = 0.0\\nsamples = 1\\nvalue = [0, 1]'),\n",
              " Text(0.6496650097255241, 0.7, 'gini = 0.0\\nsamples = 17\\nvalue = [17, 0]'),\n",
              " Text(0.6548519559109575, 0.7285714285714285, 'X[0] <= 0.189\\ngini = 0.375\\nsamples = 4\\nvalue = [3, 1]'),\n",
              " Text(0.6531229738491463, 0.7, 'gini = 0.0\\nsamples = 1\\nvalue = [0, 1]'),\n",
              " Text(0.6565809379727685, 0.7, 'gini = 0.0\\nsamples = 3\\nvalue = [3, 0]'),\n",
              " Text(0.71084125783445, 0.7857142857142857, 'X[1] <= -0.097\\ngini = 0.5\\nsamples = 644\\nvalue = [327, 317]'),\n",
              " Text(0.6767073697860385, 0.7571428571428571, 'X[1] <= -0.112\\ngini = 0.491\\nsamples = 349\\nvalue = [151, 198]'),\n",
              " Text(0.6749783877242274, 0.7285714285714285, 'X[1] <= -0.407\\ngini = 0.495\\nsamples = 337\\nvalue = [151, 186]'),\n",
              " Text(0.6600389020963907, 0.7, 'X[1] <= -0.424\\ngini = 0.124\\nsamples = 15\\nvalue = [1, 14]'),\n",
              " Text(0.6583099200345797, 0.6714285714285714, 'X[0] <= 0.264\\ngini = 0.5\\nsamples = 2\\nvalue = [1, 1]'),\n",
              " Text(0.6565809379727685, 0.6428571428571429, 'gini = 0.0\\nsamples = 1\\nvalue = [0, 1]'),\n",
              " Text(0.6600389020963907, 0.6428571428571429, 'gini = 0.0\\nsamples = 1\\nvalue = [1, 0]'),\n",
              " Text(0.6617678841582019, 0.6714285714285714, 'gini = 0.0\\nsamples = 13\\nvalue = [0, 13]'),\n",
              " Text(0.689917873352064, 0.7, 'X[1] <= -0.359\\ngini = 0.498\\nsamples = 322\\nvalue = [150, 172]'),\n",
              " Text(0.6678193213745407, 0.6714285714285714, 'X[0] <= 0.443\\ngini = 0.417\\nsamples = 54\\nvalue = [38, 16]'),\n",
              " Text(0.6634968662200129, 0.6428571428571429, 'X[0] <= 0.291\\ngini = 0.5\\nsamples = 24\\nvalue = [12, 12]'),\n",
              " Text(0.6617678841582019, 0.6142857142857143, 'X[1] <= -0.365\\ngini = 0.444\\nsamples = 18\\nvalue = [12, 6]'),\n",
              " Text(0.6600389020963907, 0.5857142857142857, 'X[1] <= -0.372\\ngini = 0.49\\nsamples = 14\\nvalue = [8, 6]'),\n",
              " Text(0.6583099200345797, 0.5571428571428572, 'X[1] <= -0.376\\ngini = 0.397\\nsamples = 11\\nvalue = [8, 3]'),\n",
              " Text(0.6565809379727685, 0.5285714285714286, 'X[0] <= 0.206\\ngini = 0.49\\nsamples = 7\\nvalue = [4, 3]'),\n",
              " Text(0.6548519559109575, 0.5, 'gini = 0.0\\nsamples = 4\\nvalue = [4, 0]'),\n",
              " Text(0.6583099200345797, 0.5, 'gini = 0.0\\nsamples = 3\\nvalue = [0, 3]'),\n",
              " Text(0.6600389020963907, 0.5285714285714286, 'gini = 0.0\\nsamples = 4\\nvalue = [4, 0]'),\n",
              " Text(0.6617678841582019, 0.5571428571428572, 'gini = 0.0\\nsamples = 3\\nvalue = [0, 3]'),\n",
              " Text(0.6634968662200129, 0.5857142857142857, 'gini = 0.0\\nsamples = 4\\nvalue = [4, 0]'),\n",
              " Text(0.6652258482818241, 0.6142857142857143, 'gini = 0.0\\nsamples = 6\\nvalue = [0, 6]'),\n",
              " Text(0.6721417765290685, 0.6428571428571429, 'X[0] <= 0.636\\ngini = 0.231\\nsamples = 30\\nvalue = [26, 4]'),\n",
              " Text(0.6704127944672574, 0.6142857142857143, 'X[1] <= -0.388\\ngini = 0.185\\nsamples = 29\\nvalue = [26, 3]'),\n",
              " Text(0.6669548303436352, 0.5857142857142857, 'X[0] <= 0.595\\ngini = 0.408\\nsamples = 7\\nvalue = [5, 2]'),\n",
              " Text(0.6652258482818241, 0.5571428571428572, 'gini = 0.0\\nsamples = 2\\nvalue = [0, 2]'),\n",
              " Text(0.6686838124054463, 0.5571428571428572, 'gini = 0.0\\nsamples = 5\\nvalue = [5, 0]'),\n",
              " Text(0.6738707585908796, 0.5857142857142857, 'X[1] <= -0.365\\ngini = 0.087\\nsamples = 22\\nvalue = [21, 1]'),\n",
              " Text(0.6721417765290685, 0.5571428571428572, 'gini = 0.0\\nsamples = 15\\nvalue = [15, 0]'),\n",
              " Text(0.6755997406526907, 0.5571428571428572, 'X[1] <= -0.363\\ngini = 0.245\\nsamples = 7\\nvalue = [6, 1]'),\n",
              " Text(0.6738707585908796, 0.5285714285714286, 'gini = 0.0\\nsamples = 1\\nvalue = [0, 1]'),\n",
              " Text(0.6773287227145018, 0.5285714285714286, 'gini = 0.0\\nsamples = 6\\nvalue = [6, 0]'),\n",
              " Text(0.6738707585908796, 0.6142857142857143, 'gini = 0.0\\nsamples = 1\\nvalue = [0, 1]'),\n",
              " Text(0.7120164253295872, 0.6714285714285714, 'X[1] <= -0.123\\ngini = 0.487\\nsamples = 268\\nvalue = [112, 156]'),\n",
              " Text(0.7026150853684893, 0.6428571428571429, 'X[0] <= 0.619\\ngini = 0.479\\nsamples = 251\\nvalue = [100, 151]'),\n",
              " Text(0.6924573157553491, 0.6142857142857143, 'X[0] <= 0.535\\ngini = 0.464\\nsamples = 216\\nvalue = [79, 137]'),\n",
              " Text(0.6907283336935379, 0.5857142857142857, 'X[1] <= -0.337\\ngini = 0.486\\nsamples = 190\\nvalue = [79, 111]'),\n",
              " Text(0.6825156688999352, 0.5571428571428572, 'X[0] <= 0.25\\ngini = 0.266\\nsamples = 19\\nvalue = [3, 16]'),\n",
              " Text(0.680786686838124, 0.5285714285714286, 'gini = 0.0\\nsamples = 1\\nvalue = [1, 0]'),\n",
              " Text(0.6842446509617462, 0.5285714285714286, 'X[0] <= 0.405\\ngini = 0.198\\nsamples = 18\\nvalue = [2, 16]'),\n",
              " Text(0.6825156688999352, 0.5, 'gini = 0.0\\nsamples = 14\\nvalue = [0, 14]'),\n",
              " ...]"
            ]
          },
          "metadata": {},
          "execution_count": 34
        },
        {
          "output_type": "display_data",
          "data": {
            "text/plain": [
              "<Figure size 432x288 with 1 Axes>"
            ],
            "image/png": "[encoded data removed]"
          },
          "metadata": {
            "needs_background": "light"
          }
        }
      ]
    },
    {
      "cell_type": "code",
      "source": [
        "# make predictions\n",
        "y_pred = model.predict(X_test)\n",
        "y_pred"
      ],
      "metadata": {
        "colab": {
          "base_uri": "https://localhost:8080/"
        },
        "id": "uqITTbKC0fhu",
        "outputId": "c3090127-a183-4f56-f112-75f9dcbf802b"
      },
      "execution_count": 35,
      "outputs": [
        {
          "output_type": "execute_result",
          "data": {
            "text/plain": [
              "array([0, 1, 0, ..., 0, 1, 0])"
            ]
          },
          "metadata": {},
          "execution_count": 35
        }
      ]
    },
    {
      "cell_type": "code",
      "source": [
        "# evaluate predictions\n",
        "acc = accuracy_score(y_test, y_pred)\n",
        "print('Accuracy: %.3f' % acc)"
      ],
      "metadata": {
        "colab": {
          "base_uri": "https://localhost:8080/"
        },
        "id": "_djgAnEa4sct",
        "outputId": "41c43005-1410-4b1d-954a-7c43f64a30b3"
      },
      "execution_count": 36,
      "outputs": [
        {
          "output_type": "stream",
          "name": "stdout",
          "text": [
            "Accuracy: 0.947\n"
          ]
        }
      ]
    },
    {
      "cell_type": "code",
      "source": [
        "cf=confusion_matrix(y_test, y_pred)\n",
        "print (\"Confusion Matrix\")\n",
        "print(cf)\n",
        "\n",
        "tn, fp, fn, tp=cf.ravel()\n",
        "print (\"True Positives(TP) : \", tp,\", False Positives(FP): \", fp,\", True Negatives(TN): \", tn,\", False Negatives(FN):\", fn)"
      ],
      "metadata": {
        "colab": {
          "base_uri": "https://localhost:8080/"
        },
        "id": "8usx_rTc1c8I",
        "outputId": "bb8b65af-4fd0-43f8-87e4-799ce54cf5d5"
      },
      "execution_count": 37,
      "outputs": [
        {
          "output_type": "stream",
          "name": "stdout",
          "text": [
            "Confusion Matrix\n",
            "[[2346   45]\n",
            " [ 209 2187]]\n",
            "True Positives(TP) :  2187 , False Positives(FP):  45 , True Negatives(TN):  2346 , False Negatives(FN): 209\n"
          ]
        }
      ]
    },
    {
      "cell_type": "code",
      "source": [
        "plot_confusion_matrix(model, X_test, y_test, labels=[0, 1])"
      ],
      "metadata": {
        "colab": {
          "base_uri": "https://localhost:8080/",
          "height": 387
        },
        "id": "GwTyl6iC45Wo",
        "outputId": "090db42d-0866-450d-ea92-ff81d4e01431"
      },
      "execution_count": 38,
      "outputs": [
        {
          "output_type": "stream",
          "name": "stderr",
          "text": [
            "/usr/local/lib/python3.7/dist-packages/sklearn/utils/deprecation.py:87: FutureWarning: Function plot_confusion_matrix is deprecated; Function `plot_confusion_matrix` is deprecated in 1.0 and will be removed in 1.2. Use one of the class methods: ConfusionMatrixDisplay.from_predictions or ConfusionMatrixDisplay.from_estimator.\n",
            "  warnings.warn(msg, category=FutureWarning)\n"
          ]
        },
        {
          "output_type": "execute_result",
          "data": {
            "text/plain": [
              "<sklearn.metrics._plot.confusion_matrix.ConfusionMatrixDisplay at 0x7f13d03ab150>"
            ]
          },
          "metadata": {},
          "execution_count": 38
        },
        {
          "output_type": "display_data",
          "data": {
            "text/plain": [
              "<Figure size 432x288 with 2 Axes>"
            ],
            "image/png": "[encoded data removed]"
          },
          "metadata": {
            "needs_background": "light"
          }
        }
      ]
    },
    {
      "cell_type": "code",
      "source": [
        "print(classification_report(y_test, y_pred))"
      ],
      "metadata": {
        "colab": {
          "base_uri": "https://localhost:8080/"
        },
        "id": "dw2378ej1yet",
        "outputId": "a7e98670-e550-490e-db43-22c307124e02"
      },
      "execution_count": 39,
      "outputs": [
        {
          "output_type": "stream",
          "name": "stdout",
          "text": [
            "              precision    recall  f1-score   support\n",
            "\n",
            "           0       0.92      0.98      0.95      2391\n",
            "           1       0.98      0.91      0.95      2396\n",
            "\n",
            "    accuracy                           0.95      4787\n",
            "   macro avg       0.95      0.95      0.95      4787\n",
            "weighted avg       0.95      0.95      0.95      4787\n",
            "\n"
          ]
        }
      ]
    },
    {
      "cell_type": "code",
      "source": [
        "# compute ROC AUC\n",
        "\n",
        "from sklearn.metrics import roc_auc_score\n",
        "\n",
        "ROC_AUC = roc_auc_score(y_test, y_pred)\n",
        "\n",
        "print('ROC AUC : {:.4f}'.format(ROC_AUC))\n"
      ],
      "metadata": {
        "colab": {
          "base_uri": "https://localhost:8080/"
        },
        "id": "Pwcng19mFUtL",
        "outputId": "02cb5827-ad47-4192-9bf5-4a0e8568c3b6"
      },
      "execution_count": 40,
      "outputs": [
        {
          "output_type": "stream",
          "name": "stdout",
          "text": [
            "ROC AUC : 0.9470\n"
          ]
        }
      ]
    },
    {
      "cell_type": "markdown",
      "source": [
        "###ML DecisionTreeClassifier with max_depth=7"
      ],
      "metadata": {
        "id": "2bfT4eRD9XjG"
      }
    },
    {
      "cell_type": "code",
      "source": [
        "# fit the model with max_depth=7\n",
        "model = tree.DecisionTreeClassifier(random_state=0, max_depth=7)\n",
        "model = model.fit(X_train, y_train)"
      ],
      "metadata": {
        "id": "ySoc1_JA9efj"
      },
      "execution_count": 41,
      "outputs": []
    },
    {
      "cell_type": "code",
      "source": [
        "tree.plot_tree(model)"
      ],
      "metadata": {
        "colab": {
          "base_uri": "https://localhost:8080/",
          "height": 1000
        },
        "id": "Nz-6LwU-9zUQ",
        "outputId": "d70f7382-c97f-4825-9c70-8610d5b6377f"
      },
      "execution_count": 42,
      "outputs": [
        {
          "output_type": "execute_result",
          "data": {
            "text/plain": [
              "[Text(0.48004518072289154, 0.9375, 'X[0] <= -0.04\\ngini = 0.5\\nsamples = 11167\\nvalue = [5586, 5581]'),\n",
              " Text(0.26506024096385544, 0.8125, 'X[1] <= -0.119\\ngini = 0.233\\nsamples = 5332\\nvalue = [717, 4615]'),\n",
              " Text(0.1408132530120482, 0.6875, 'X[0] <= -0.405\\ngini = 0.166\\nsamples = 5017\\nvalue = [457, 4560]'),\n",
              " Text(0.0783132530120482, 0.5625, 'X[1] <= -0.347\\ngini = 0.085\\nsamples = 4041\\nvalue = [179, 3862]'),\n",
              " Text(0.04819277108433735, 0.4375, 'X[0] <= -0.796\\ngini = 0.068\\nsamples = 3906\\nvalue = [138, 3768]'),\n",
              " Text(0.024096385542168676, 0.3125, 'X[0] <= -3.153\\ngini = 0.039\\nsamples = 2894\\nvalue = [58, 2836]'),\n",
              " Text(0.012048192771084338, 0.1875, 'X[0] <= -3.161\\ngini = 0.375\\nsamples = 16\\nvalue = [4, 12]'),\n",
              " Text(0.006024096385542169, 0.0625, 'gini = 0.0\\nsamples = 12\\nvalue = [0, 12]'),\n",
              " Text(0.018072289156626505, 0.0625, 'gini = 0.0\\nsamples = 4\\nvalue = [4, 0]'),\n",
              " Text(0.03614457831325301, 0.1875, 'X[0] <= -1.243\\ngini = 0.037\\nsamples = 2878\\nvalue = [54, 2824]'),\n",
              " Text(0.030120481927710843, 0.0625, 'gini = 0.018\\nsamples = 1742\\nvalue = [16, 1726]'),\n",
              " Text(0.04216867469879518, 0.0625, 'gini = 0.065\\nsamples = 1136\\nvalue = [38, 1098]'),\n",
              " Text(0.07228915662650602, 0.3125, 'X[1] <= -1.121\\ngini = 0.146\\nsamples = 1012\\nvalue = [80, 932]'),\n",
              " Text(0.060240963855421686, 0.1875, 'X[0] <= -0.552\\ngini = 0.402\\nsamples = 86\\nvalue = [24, 62]'),\n",
              " Text(0.05421686746987952, 0.0625, 'gini = 0.113\\nsamples = 50\\nvalue = [3, 47]'),\n",
              " Text(0.06626506024096386, 0.0625, 'gini = 0.486\\nsamples = 36\\nvalue = [21, 15]'),\n",
              " Text(0.08433734939759036, 0.1875, 'X[0] <= -0.795\\ngini = 0.114\\nsamples = 926\\nvalue = [56, 870]'),\n",
              " Text(0.0783132530120482, 0.0625, 'gini = 0.0\\nsamples = 3\\nvalue = [3, 0]'),\n",
              " Text(0.09036144578313253, 0.0625, 'gini = 0.108\\nsamples = 923\\nvalue = [53, 870]'),\n",
              " Text(0.10843373493975904, 0.4375, 'X[0] <= -0.453\\ngini = 0.423\\nsamples = 135\\nvalue = [41, 94]'),\n",
              " Text(0.10240963855421686, 0.3125, 'X[0] <= -1.356\\ngini = 0.457\\nsamples = 116\\nvalue = [41, 75]'),\n",
              " Text(0.0963855421686747, 0.1875, 'gini = 0.0\\nsamples = 4\\nvalue = [4, 0]'),\n",
              " Text(0.10843373493975904, 0.1875, 'X[0] <= -0.481\\ngini = 0.442\\nsamples = 112\\nvalue = [37, 75]'),\n",
              " Text(0.10240963855421686, 0.0625, 'gini = 0.422\\nsamples = 106\\nvalue = [32, 74]'),\n",
              " Text(0.1144578313253012, 0.0625, 'gini = 0.278\\nsamples = 6\\nvalue = [5, 1]'),\n",
              " Text(0.1144578313253012, 0.3125, 'gini = 0.0\\nsamples = 19\\nvalue = [0, 19]'),\n",
              " Text(0.2033132530120482, 0.5625, 'X[1] <= -1.061\\ngini = 0.407\\nsamples = 976\\nvalue = [278, 698]'),\n",
              " Text(0.16566265060240964, 0.4375, 'X[1] <= -1.122\\ngini = 0.257\\nsamples = 99\\nvalue = [84, 15]'),\n",
              " Text(0.14457831325301204, 0.3125, 'X[0] <= -0.342\\ngini = 0.176\\nsamples = 82\\nvalue = [74, 8]'),\n",
              " Text(0.13253012048192772, 0.1875, 'X[0] <= -0.365\\ngini = 0.459\\nsamples = 14\\nvalue = [9, 5]'),\n",
              " Text(0.12650602409638553, 0.0625, 'gini = 0.18\\nsamples = 10\\nvalue = [9, 1]'),\n",
              " Text(0.13855421686746988, 0.0625, 'gini = 0.0\\nsamples = 4\\nvalue = [0, 4]'),\n",
              " Text(0.1566265060240964, 0.1875, 'X[0] <= -0.33\\ngini = 0.084\\nsamples = 68\\nvalue = [65, 3]'),\n",
              " Text(0.15060240963855423, 0.0625, 'gini = 0.278\\nsamples = 6\\nvalue = [5, 1]'),\n",
              " Text(0.16265060240963855, 0.0625, 'gini = 0.062\\nsamples = 62\\nvalue = [60, 2]'),\n",
              " Text(0.18674698795180722, 0.3125, 'X[1] <= -1.067\\ngini = 0.484\\nsamples = 17\\nvalue = [10, 7]'),\n",
              " Text(0.18072289156626506, 0.1875, 'X[0] <= -0.395\\ngini = 0.486\\nsamples = 12\\nvalue = [5, 7]'),\n",
              " Text(0.1746987951807229, 0.0625, 'gini = 0.0\\nsamples = 2\\nvalue = [2, 0]'),\n",
              " Text(0.18674698795180722, 0.0625, 'gini = 0.42\\nsamples = 10\\nvalue = [3, 7]'),\n",
              " Text(0.1927710843373494, 0.1875, 'gini = 0.0\\nsamples = 5\\nvalue = [5, 0]'),\n",
              " Text(0.24096385542168675, 0.4375, 'X[1] <= -0.265\\ngini = 0.345\\nsamples = 877\\nvalue = [194, 683]'),\n",
              " Text(0.21686746987951808, 0.3125, 'X[1] <= -0.894\\ngini = 0.304\\nsamples = 743\\nvalue = [139, 604]'),\n",
              " Text(0.20481927710843373, 0.1875, 'X[0] <= -0.132\\ngini = 0.472\\nsamples = 84\\nvalue = [32, 52]'),\n",
              " Text(0.19879518072289157, 0.0625, 'gini = 0.393\\nsamples = 67\\nvalue = [18, 49]'),\n",
              " Text(0.21084337349397592, 0.0625, 'gini = 0.291\\nsamples = 17\\nvalue = [14, 3]'),\n",
              " Text(0.2289156626506024, 0.1875, 'X[0] <= -0.212\\ngini = 0.272\\nsamples = 659\\nvalue = [107, 552]'),\n",
              " Text(0.22289156626506024, 0.0625, 'gini = 0.201\\nsamples = 371\\nvalue = [42, 329]'),\n",
              " Text(0.23493975903614459, 0.0625, 'gini = 0.35\\nsamples = 288\\nvalue = [65, 223]'),\n",
              " Text(0.26506024096385544, 0.3125, 'X[1] <= -0.192\\ngini = 0.484\\nsamples = 134\\nvalue = [55, 79]'),\n",
              " Text(0.25301204819277107, 0.1875, 'X[0] <= -0.156\\ngini = 0.484\\nsamples = 85\\nvalue = [50, 35]'),\n",
              " Text(0.2469879518072289, 0.0625, 'gini = 0.496\\nsamples = 55\\nvalue = [25, 30]'),\n",
              " Text(0.25903614457831325, 0.0625, 'gini = 0.278\\nsamples = 30\\nvalue = [25, 5]'),\n",
              " Text(0.27710843373493976, 0.1875, 'X[1] <= -0.171\\ngini = 0.183\\nsamples = 49\\nvalue = [5, 44]'),\n",
              " Text(0.2710843373493976, 0.0625, 'gini = 0.375\\nsamples = 16\\nvalue = [4, 12]'),\n",
              " Text(0.28313253012048195, 0.0625, 'gini = 0.059\\nsamples = 33\\nvalue = [1, 32]'),\n",
              " Text(0.38930722891566266, 0.6875, 'X[1] <= 0.06\\ngini = 0.288\\nsamples = 315\\nvalue = [260, 55]'),\n",
              " Text(0.34487951807228917, 0.5625, 'X[0] <= -0.579\\ngini = 0.495\\nsamples = 93\\nvalue = [51, 42]'),\n",
              " Text(0.3192771084337349, 0.4375, 'X[1] <= -0.016\\ngini = 0.245\\nsamples = 28\\nvalue = [24, 4]'),\n",
              " Text(0.3072289156626506, 0.3125, 'X[0] <= -0.966\\ngini = 0.083\\nsamples = 23\\nvalue = [22, 1]'),\n",
              " Text(0.30120481927710846, 0.1875, 'X[0] <= -1.111\\ngini = 0.219\\nsamples = 8\\nvalue = [7, 1]'),\n",
              " Text(0.29518072289156627, 0.0625, 'gini = 0.0\\nsamples = 7\\nvalue = [7, 0]'),\n",
              " Text(0.3072289156626506, 0.0625, 'gini = 0.0\\nsamples = 1\\nvalue = [0, 1]'),\n",
              " Text(0.3132530120481928, 0.1875, 'gini = 0.0\\nsamples = 15\\nvalue = [15, 0]'),\n",
              " Text(0.3313253012048193, 0.3125, 'X[1] <= 0.04\\ngini = 0.48\\nsamples = 5\\nvalue = [2, 3]'),\n",
              " Text(0.3253012048192771, 0.1875, 'gini = 0.0\\nsamples = 3\\nvalue = [0, 3]'),\n",
              " Text(0.3373493975903614, 0.1875, 'gini = 0.0\\nsamples = 2\\nvalue = [2, 0]'),\n",
              " Text(0.3704819277108434, 0.4375, 'X[0] <= -0.325\\ngini = 0.486\\nsamples = 65\\nvalue = [27, 38]'),\n",
              " Text(0.35542168674698793, 0.3125, 'X[0] <= -0.391\\ngini = 0.227\\nsamples = 23\\nvalue = [3, 20]'),\n",
              " Text(0.3493975903614458, 0.1875, 'X[0] <= -0.397\\ngini = 0.375\\nsamples = 12\\nvalue = [3, 9]'),\n",
              " Text(0.3433734939759036, 0.0625, 'gini = 0.0\\nsamples = 9\\nvalue = [0, 9]'),\n",
              " Text(0.35542168674698793, 0.0625, 'gini = 0.0\\nsamples = 3\\nvalue = [3, 0]'),\n",
              " Text(0.3614457831325301, 0.1875, 'gini = 0.0\\nsamples = 11\\nvalue = [0, 11]'),\n",
              " Text(0.3855421686746988, 0.3125, 'X[0] <= -0.234\\ngini = 0.49\\nsamples = 42\\nvalue = [24, 18]'),\n",
              " Text(0.37349397590361444, 0.1875, 'X[1] <= 0.052\\ngini = 0.208\\nsamples = 17\\nvalue = [15, 2]'),\n",
              " Text(0.3674698795180723, 0.0625, 'gini = 0.117\\nsamples = 16\\nvalue = [15, 1]'),\n",
              " Text(0.3795180722891566, 0.0625, 'gini = 0.0\\nsamples = 1\\nvalue = [0, 1]'),\n",
              " Text(0.39759036144578314, 0.1875, 'X[0] <= -0.096\\ngini = 0.461\\nsamples = 25\\nvalue = [9, 16]'),\n",
              " Text(0.39156626506024095, 0.0625, 'gini = 0.142\\nsamples = 13\\nvalue = [1, 12]'),\n",
              " Text(0.4036144578313253, 0.0625, 'gini = 0.444\\nsamples = 12\\nvalue = [8, 4]'),\n",
              " Text(0.43373493975903615, 0.5625, 'X[0] <= -0.05\\ngini = 0.11\\nsamples = 222\\nvalue = [209, 13]'),\n",
              " Text(0.42771084337349397, 0.4375, 'X[0] <= -0.406\\ngini = 0.103\\nsamples = 221\\nvalue = [209, 12]'),\n",
              " Text(0.42168674698795183, 0.3125, 'gini = 0.0\\nsamples = 114\\nvalue = [114, 0]'),\n",
              " Text(0.43373493975903615, 0.3125, 'X[1] <= 0.137\\ngini = 0.199\\nsamples = 107\\nvalue = [95, 12]'),\n",
              " Text(0.42168674698795183, 0.1875, 'X[1] <= 0.101\\ngini = 0.5\\nsamples = 6\\nvalue = [3, 3]'),\n",
              " Text(0.41566265060240964, 0.0625, 'gini = 0.0\\nsamples = 3\\nvalue = [3, 0]'),\n",
              " Text(0.42771084337349397, 0.0625, 'gini = 0.0\\nsamples = 3\\nvalue = [0, 3]'),\n",
              " Text(0.4457831325301205, 0.1875, 'X[0] <= -0.405\\ngini = 0.162\\nsamples = 101\\nvalue = [92, 9]'),\n",
              " Text(0.4397590361445783, 0.0625, 'gini = 0.0\\nsamples = 1\\nvalue = [0, 1]'),\n",
              " Text(0.45180722891566266, 0.0625, 'gini = 0.147\\nsamples = 100\\nvalue = [92, 8]'),\n",
              " Text(0.4397590361445783, 0.4375, 'gini = 0.0\\nsamples = 1\\nvalue = [0, 1]'),\n",
              " Text(0.6950301204819277, 0.8125, 'X[1] <= -0.577\\ngini = 0.276\\nsamples = 5835\\nvalue = [4869, 966]'),\n",
              " Text(0.552710843373494, 0.6875, 'X[0] <= 0.162\\ngini = 0.071\\nsamples = 3191\\nvalue = [3074, 117]'),\n",
              " Text(0.4864457831325301, 0.5625, 'X[1] <= -0.984\\ngini = 0.447\\nsamples = 190\\nvalue = [126, 64]'),\n",
              " Text(0.4578313253012048, 0.4375, 'X[1] <= -1.135\\ngini = 0.082\\nsamples = 70\\nvalue = [67, 3]'),\n",
              " Text(0.45180722891566266, 0.3125, 'gini = 0.0\\nsamples = 55\\nvalue = [55, 0]'),\n",
              " Text(0.463855421686747, 0.3125, 'X[1] <= -1.06\\ngini = 0.32\\nsamples = 15\\nvalue = [12, 3]'),\n",
              " Text(0.4578313253012048, 0.1875, 'gini = 0.0\\nsamples = 2\\nvalue = [0, 2]'),\n",
              " Text(0.46987951807228917, 0.1875, 'X[0] <= 0.118\\ngini = 0.142\\nsamples = 13\\nvalue = [12, 1]'),\n",
              " Text(0.463855421686747, 0.0625, 'gini = 0.0\\nsamples = 12\\nvalue = [12, 0]'),\n",
              " Text(0.4759036144578313, 0.0625, 'gini = 0.0\\nsamples = 1\\nvalue = [0, 1]'),\n",
              " Text(0.5150602409638554, 0.4375, 'X[1] <= -0.713\\ngini = 0.5\\nsamples = 120\\nvalue = [59, 61]'),\n",
              " Text(0.5, 0.3125, 'X[1] <= -0.788\\ngini = 0.426\\nsamples = 52\\nvalue = [16, 36]'),\n",
              " Text(0.4939759036144578, 0.1875, 'X[0] <= 0.111\\ngini = 0.491\\nsamples = 37\\nvalue = [16, 21]'),\n",
              " Text(0.4879518072289157, 0.0625, 'gini = 0.499\\nsamples = 31\\nvalue = [16, 15]'),\n",
              " Text(0.5, 0.0625, 'gini = 0.0\\nsamples = 6\\nvalue = [0, 6]'),\n",
              " Text(0.5060240963855421, 0.1875, 'gini = 0.0\\nsamples = 15\\nvalue = [0, 15]'),\n",
              " Text(0.5301204819277109, 0.3125, 'X[1] <= -0.693\\ngini = 0.465\\nsamples = 68\\nvalue = [43, 25]'),\n",
              " Text(0.5180722891566265, 0.1875, 'X[1] <= -0.71\\ngini = 0.1\\nsamples = 19\\nvalue = [18, 1]'),\n",
              " Text(0.5120481927710844, 0.0625, 'gini = 0.444\\nsamples = 3\\nvalue = [2, 1]'),\n",
              " Text(0.5240963855421686, 0.0625, 'gini = 0.0\\nsamples = 16\\nvalue = [16, 0]'),\n",
              " Text(0.5421686746987951, 0.1875, 'X[1] <= -0.632\\ngini = 0.5\\nsamples = 49\\nvalue = [25, 24]'),\n",
              " Text(0.536144578313253, 0.0625, 'gini = 0.332\\nsamples = 19\\nvalue = [4, 15]'),\n",
              " Text(0.5481927710843374, 0.0625, 'gini = 0.42\\nsamples = 30\\nvalue = [21, 9]'),\n",
              " Text(0.6189759036144579, 0.5625, 'X[0] <= 0.42\\ngini = 0.035\\nsamples = 3001\\nvalue = [2948, 53]'),\n",
              " Text(0.5843373493975904, 0.4375, 'X[1] <= -0.98\\ngini = 0.217\\nsamples = 363\\nvalue = [318, 45]'),\n",
              " Text(0.572289156626506, 0.3125, 'X[0] <= 0.177\\ngini = 0.011\\nsamples = 182\\nvalue = [181, 1]'),\n",
              " Text(0.5662650602409639, 0.1875, 'X[0] <= 0.174\\ngini = 0.198\\nsamples = 9\\nvalue = [8, 1]'),\n",
              " Text(0.5602409638554217, 0.0625, 'gini = 0.0\\nsamples = 8\\nvalue = [8, 0]'),\n",
              " Text(0.572289156626506, 0.0625, 'gini = 0.0\\nsamples = 1\\nvalue = [0, 1]'),\n",
              " Text(0.5783132530120482, 0.1875, 'gini = 0.0\\nsamples = 173\\nvalue = [173, 0]'),\n",
              " Text(0.5963855421686747, 0.3125, 'X[1] <= -0.957\\ngini = 0.368\\nsamples = 181\\nvalue = [137, 44]'),\n",
              " Text(0.5903614457831325, 0.1875, 'gini = 0.0\\nsamples = 2\\nvalue = [0, 2]'),\n",
              " Text(0.6024096385542169, 0.1875, 'X[0] <= 0.417\\ngini = 0.359\\nsamples = 179\\nvalue = [137, 42]'),\n",
              " Text(0.5963855421686747, 0.0625, 'gini = 0.35\\nsamples = 177\\nvalue = [137, 40]'),\n",
              " Text(0.608433734939759, 0.0625, 'gini = 0.0\\nsamples = 2\\nvalue = [0, 2]'),\n",
              " Text(0.6536144578313253, 0.4375, 'X[1] <= -0.58\\ngini = 0.006\\nsamples = 2638\\nvalue = [2630, 8]'),\n",
              " Text(0.6385542168674698, 0.3125, 'X[1] <= -0.862\\ngini = 0.005\\nsamples = 2631\\nvalue = [2624, 7]'),\n",
              " Text(0.6265060240963856, 0.1875, 'X[0] <= 1.893\\ngini = 0.001\\nsamples = 2099\\nvalue = [2098, 1]'),\n",
              " Text(0.6204819277108434, 0.0625, 'gini = 0.0\\nsamples = 1909\\nvalue = [1909, 0]'),\n",
              " Text(0.6325301204819277, 0.0625, 'gini = 0.01\\nsamples = 190\\nvalue = [189, 1]'),\n",
              " Text(0.6506024096385542, 0.1875, 'X[1] <= -0.861\\ngini = 0.022\\nsamples = 532\\nvalue = [526, 6]'),\n",
              " Text(0.6445783132530121, 0.0625, 'gini = 0.0\\nsamples = 1\\nvalue = [0, 1]'),\n",
              " Text(0.6566265060240963, 0.0625, 'gini = 0.019\\nsamples = 531\\nvalue = [526, 5]'),\n",
              " Text(0.6686746987951807, 0.3125, 'X[0] <= 0.718\\ngini = 0.245\\nsamples = 7\\nvalue = [6, 1]'),\n",
              " Text(0.6626506024096386, 0.1875, 'gini = 0.0\\nsamples = 1\\nvalue = [0, 1]'),\n",
              " Text(0.6746987951807228, 0.1875, 'gini = 0.0\\nsamples = 6\\nvalue = [6, 0]'),\n",
              " Text(0.8373493975903614, 0.6875, 'X[0] <= 0.698\\ngini = 0.436\\nsamples = 2644\\nvalue = [1795, 849]'),\n",
              " Text(0.766566265060241, 0.5625, 'X[1] <= 0.24\\ngini = 0.489\\nsamples = 1521\\nvalue = [871, 650]'),\n",
              " Text(0.7228915662650602, 0.4375, 'X[0] <= 0.182\\ngini = 0.5\\nsamples = 1269\\nvalue = [641, 628]'),\n",
              " Text(0.6987951807228916, 0.3125, 'X[1] <= -0.27\\ngini = 0.468\\nsamples = 407\\nvalue = [152, 255]'),\n",
              " Text(0.6867469879518072, 0.1875, 'X[1] <= -0.556\\ngini = 0.368\\nsamples = 193\\nvalue = [47, 146]'),\n",
              " Text(0.6807228915662651, 0.0625, 'gini = 0.475\\nsamples = 18\\nvalue = [11, 7]'),\n",
              " Text(0.6927710843373494, 0.0625, 'gini = 0.327\\nsamples = 175\\nvalue = [36, 139]'),\n",
              " Text(0.7108433734939759, 0.1875, 'X[0] <= -0.03\\ngini = 0.5\\nsamples = 214\\nvalue = [105, 109]'),\n",
              " Text(0.7048192771084337, 0.0625, 'gini = 0.308\\nsamples = 21\\nvalue = [17, 4]'),\n",
              " Text(0.7168674698795181, 0.0625, 'gini = 0.496\\nsamples = 193\\nvalue = [88, 105]'),\n",
              " Text(0.7469879518072289, 0.3125, 'X[1] <= -0.426\\ngini = 0.491\\nsamples = 862\\nvalue = [489, 373]'),\n",
              " Text(0.7349397590361446, 0.1875, 'X[0] <= 0.261\\ngini = 0.41\\nsamples = 184\\nvalue = [131, 53]'),\n",
              " Text(0.7289156626506024, 0.0625, 'gini = 0.5\\nsamples = 45\\nvalue = [23, 22]'),\n",
              " Text(0.7409638554216867, 0.0625, 'gini = 0.347\\nsamples = 139\\nvalue = [108, 31]'),\n",
              " Text(0.7590361445783133, 0.1875, 'X[0] <= 0.189\\ngini = 0.498\\nsamples = 678\\nvalue = [358, 320]'),\n",
              " Text(0.7530120481927711, 0.0625, 'gini = 0.161\\nsamples = 34\\nvalue = [31, 3]'),\n",
              " Text(0.7650602409638554, 0.0625, 'gini = 0.5\\nsamples = 644\\nvalue = [327, 317]'),\n",
              " Text(0.8102409638554217, 0.4375, 'X[1] <= 0.496\\ngini = 0.159\\nsamples = 252\\nvalue = [230, 22]'),\n",
              " Text(0.7951807228915663, 0.3125, 'X[0] <= 0.44\\ngini = 0.311\\nsamples = 109\\nvalue = [88, 21]'),\n",
              " Text(0.7831325301204819, 0.1875, 'X[1] <= 0.491\\ngini = 0.225\\nsamples = 85\\nvalue = [74, 11]'),\n",
              " Text(0.7771084337349398, 0.0625, 'gini = 0.21\\nsamples = 84\\nvalue = [74, 10]'),\n",
              " Text(0.7891566265060241, 0.0625, 'gini = 0.0\\nsamples = 1\\nvalue = [0, 1]'),\n",
              " Text(0.8072289156626506, 0.1875, 'X[0] <= 0.514\\ngini = 0.486\\nsamples = 24\\nvalue = [14, 10]'),\n",
              " Text(0.8012048192771084, 0.0625, 'gini = 0.0\\nsamples = 6\\nvalue = [0, 6]'),\n",
              " Text(0.8132530120481928, 0.0625, 'gini = 0.346\\nsamples = 18\\nvalue = [14, 4]'),\n",
              " Text(0.8253012048192772, 0.3125, 'X[0] <= 0.549\\ngini = 0.014\\nsamples = 143\\nvalue = [142, 1]'),\n",
              " Text(0.8192771084337349, 0.1875, 'gini = 0.0\\nsamples = 118\\nvalue = [118, 0]'),\n",
              " Text(0.8313253012048193, 0.1875, 'X[0] <= 0.563\\ngini = 0.077\\nsamples = 25\\nvalue = [24, 1]'),\n",
              " Text(0.8253012048192772, 0.0625, 'gini = 0.0\\nsamples = 1\\nvalue = [0, 1]'),\n",
              " Text(0.8373493975903614, 0.0625, 'gini = 0.0\\nsamples = 24\\nvalue = [24, 0]'),\n",
              " Text(0.9081325301204819, 0.5625, 'X[1] <= -0.341\\ngini = 0.292\\nsamples = 1123\\nvalue = [924, 199]'),\n",
              " Text(0.8644578313253012, 0.4375, 'X[1] <= -0.572\\ngini = 0.024\\nsamples = 330\\nvalue = [326, 4]'),\n",
              " Text(0.8493975903614458, 0.3125, 'X[0] <= 0.791\\ngini = 0.5\\nsamples = 2\\nvalue = [1, 1]'),\n",
              " Text(0.8433734939759037, 0.1875, 'gini = 0.0\\nsamples = 1\\nvalue = [1, 0]'),\n",
              " Text(0.8554216867469879, 0.1875, 'gini = 0.0\\nsamples = 1\\nvalue = [0, 1]'),\n",
              " Text(0.8795180722891566, 0.3125, 'X[1] <= -0.363\\ngini = 0.018\\nsamples = 328\\nvalue = [325, 3]'),\n",
              " Text(0.8674698795180723, 0.1875, 'X[1] <= -0.474\\ngini = 0.013\\nsamples = 308\\nvalue = [306, 2]'),\n",
              " Text(0.8614457831325302, 0.0625, 'gini = 0.0\\nsamples = 155\\nvalue = [155, 0]'),\n",
              " Text(0.8734939759036144, 0.0625, 'gini = 0.026\\nsamples = 153\\nvalue = [151, 2]'),\n",
              " Text(0.891566265060241, 0.1875, 'X[1] <= -0.36\\ngini = 0.095\\nsamples = 20\\nvalue = [19, 1]'),\n",
              " Text(0.8855421686746988, 0.0625, 'gini = 0.0\\nsamples = 1\\nvalue = [0, 1]'),\n",
              " Text(0.8975903614457831, 0.0625, 'gini = 0.0\\nsamples = 19\\nvalue = [19, 0]'),\n",
              " Text(0.9518072289156626, 0.4375, 'X[0] <= 1.217\\ngini = 0.371\\nsamples = 793\\nvalue = [598, 195]'),\n",
              " Text(0.927710843373494, 0.3125, 'X[0] <= 1.16\\ngini = 0.424\\nsamples = 528\\nvalue = [367, 161]'),\n",
              " Text(0.9156626506024096, 0.1875, 'X[1] <= 0.638\\ngini = 0.41\\nsamples = 507\\nvalue = [361, 146]'),\n",
              " Text(0.9096385542168675, 0.0625, 'gini = 0.429\\nsamples = 465\\nvalue = [320, 145]'),\n",
              " Text(0.9216867469879518, 0.0625, 'gini = 0.046\\nsamples = 42\\nvalue = [41, 1]'),\n",
              " Text(0.9397590361445783, 0.1875, 'X[1] <= -0.13\\ngini = 0.408\\nsamples = 21\\nvalue = [6, 15]'),\n",
              " Text(0.9337349397590361, 0.0625, 'gini = 0.469\\nsamples = 8\\nvalue = [5, 3]'),\n",
              " Text(0.9457831325301205, 0.0625, 'gini = 0.142\\nsamples = 13\\nvalue = [1, 12]'),\n",
              " Text(0.9759036144578314, 0.3125, 'X[1] <= 0.163\\ngini = 0.224\\nsamples = 265\\nvalue = [231, 34]'),\n",
              " Text(0.963855421686747, 0.1875, 'X[1] <= -0.022\\ngini = 0.098\\nsamples = 194\\nvalue = [184, 10]'),\n",
              " Text(0.9578313253012049, 0.0625, 'gini = 0.029\\nsamples = 134\\nvalue = [132, 2]'),\n",
              " Text(0.9698795180722891, 0.0625, 'gini = 0.231\\nsamples = 60\\nvalue = [52, 8]'),\n",
              " Text(0.9879518072289156, 0.1875, 'X[0] <= 1.324\\ngini = 0.448\\nsamples = 71\\nvalue = [47, 24]'),\n",
              " Text(0.9819277108433735, 0.0625, 'gini = 0.227\\nsamples = 23\\nvalue = [20, 3]'),\n",
              " Text(0.9939759036144579, 0.0625, 'gini = 0.492\\nsamples = 48\\nvalue = [27, 21]')]"
            ]
          },
          "metadata": {},
          "execution_count": 42
        },
        {
          "output_type": "display_data",
          "data": {
            "text/plain": [
              "<Figure size 432x288 with 1 Axes>"
            ],
            "image/png": "[encoded data removed]"
          },
          "metadata": {
            "needs_background": "light"
          }
        }
      ]
    },
    {
      "cell_type": "code",
      "source": [
        "# make predictions\n",
        "y_pred = model.predict(X_test)\n",
        "y_pred"
      ],
      "metadata": {
        "colab": {
          "base_uri": "https://localhost:8080/"
        },
        "id": "cQfvUlZk93Oa",
        "outputId": "e9b95dd3-d31d-4eb1-a807-08600904b22c"
      },
      "execution_count": 43,
      "outputs": [
        {
          "output_type": "execute_result",
          "data": {
            "text/plain": [
              "array([0, 1, 0, ..., 0, 1, 0])"
            ]
          },
          "metadata": {},
          "execution_count": 43
        }
      ]
    },
    {
      "cell_type": "code",
      "source": [
        "# evaluate predictions\n",
        "acc = accuracy_score(y_test, y_pred)\n",
        "print('Accuracy: %.3f' % acc)"
      ],
      "metadata": {
        "colab": {
          "base_uri": "https://localhost:8080/"
        },
        "id": "N5o6Dlj5965q",
        "outputId": "683ecd1e-997f-474e-b533-e4341677afce"
      },
      "execution_count": 44,
      "outputs": [
        {
          "output_type": "stream",
          "name": "stdout",
          "text": [
            "Accuracy: 0.881\n"
          ]
        }
      ]
    },
    {
      "cell_type": "code",
      "source": [
        "cf=confusion_matrix(y_test, y_pred)\n",
        "print (\"Confusion Matrix\")\n",
        "print(cf)\n",
        "\n",
        "tn, fp, fn, tp=cf.ravel()\n",
        "print (\"True Positives(TP) : \", tp,\", False Positives(FP): \", fp,\", True Negatives(TN): \", tn,\", False Negatives(FN):\", fn)"
      ],
      "metadata": {
        "colab": {
          "base_uri": "https://localhost:8080/"
        },
        "id": "Vz_9xX3w99zq",
        "outputId": "1f5109c6-3ab5-4e25-fd3c-6055c7ed24d8"
      },
      "execution_count": 45,
      "outputs": [
        {
          "output_type": "stream",
          "name": "stdout",
          "text": [
            "Confusion Matrix\n",
            "[[2188  203]\n",
            " [ 367 2029]]\n",
            "True Positives(TP) :  2029 , False Positives(FP):  203 , True Negatives(TN):  2188 , False Negatives(FN): 367\n"
          ]
        }
      ]
    },
    {
      "cell_type": "code",
      "source": [
        "plot_confusion_matrix(model, X_test, y_test, labels=[0, 1])"
      ],
      "metadata": {
        "colab": {
          "base_uri": "https://localhost:8080/",
          "height": 387
        },
        "id": "o3JfiYD899xM",
        "outputId": "9b0b2645-a126-4f6e-8723-4782e03bc8a6"
      },
      "execution_count": 46,
      "outputs": [
        {
          "output_type": "stream",
          "name": "stderr",
          "text": [
            "/usr/local/lib/python3.7/dist-packages/sklearn/utils/deprecation.py:87: FutureWarning: Function plot_confusion_matrix is deprecated; Function `plot_confusion_matrix` is deprecated in 1.0 and will be removed in 1.2. Use one of the class methods: ConfusionMatrixDisplay.from_predictions or ConfusionMatrixDisplay.from_estimator.\n",
            "  warnings.warn(msg, category=FutureWarning)\n"
          ]
        },
        {
          "output_type": "execute_result",
          "data": {
            "text/plain": [
              "<sklearn.metrics._plot.confusion_matrix.ConfusionMatrixDisplay at 0x7f13d01ebdd0>"
            ]
          },
          "metadata": {},
          "execution_count": 46
        },
        {
          "output_type": "display_data",
          "data": {
            "text/plain": [
              "<Figure size 432x288 with 2 Axes>"
            ],
            "image/png": "[encoded data removed]"
          },
          "metadata": {
            "needs_background": "light"
          }
        }
      ]
    },
    {
      "cell_type": "code",
      "source": [
        "print(classification_report(y_test, y_pred))"
      ],
      "metadata": {
        "colab": {
          "base_uri": "https://localhost:8080/"
        },
        "id": "M8XMY3UT99uj",
        "outputId": "f656a0fe-89b8-4723-aff1-817db536aa90"
      },
      "execution_count": 47,
      "outputs": [
        {
          "output_type": "stream",
          "name": "stdout",
          "text": [
            "              precision    recall  f1-score   support\n",
            "\n",
            "           0       0.86      0.92      0.88      2391\n",
            "           1       0.91      0.85      0.88      2396\n",
            "\n",
            "    accuracy                           0.88      4787\n",
            "   macro avg       0.88      0.88      0.88      4787\n",
            "weighted avg       0.88      0.88      0.88      4787\n",
            "\n"
          ]
        }
      ]
    },
    {
      "cell_type": "code",
      "source": [
        "# compute ROC AUC\n",
        "\n",
        "from sklearn.metrics import roc_auc_score\n",
        "\n",
        "ROC_AUC = roc_auc_score(y_test, y_pred)\n",
        "\n",
        "print('ROC AUC : {:.4f}'.format(ROC_AUC))\n"
      ],
      "metadata": {
        "colab": {
          "base_uri": "https://localhost:8080/"
        },
        "id": "7Pb2tC8-FPFx",
        "outputId": "a5a499a8-9703-4c6c-d5dd-006acba3f73e"
      },
      "execution_count": 48,
      "outputs": [
        {
          "output_type": "stream",
          "name": "stdout",
          "text": [
            "ROC AUC : 0.8810\n"
          ]
        }
      ]
    }
  ]
}