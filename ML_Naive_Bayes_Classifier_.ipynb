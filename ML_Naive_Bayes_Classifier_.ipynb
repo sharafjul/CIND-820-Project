{
  "nbformat": 4,
  "nbformat_minor": 0,
  "metadata": {
    "colab": {
      "provenance": [],
      "collapsed_sections": [
        "roU-AhsX4odA",
        "qz1EThdyxpZb",
        "LTEPzFmR2wCh"
      ]
    },
    "kernelspec": {
      "name": "python3",
      "display_name": "Python 3"
    },
    "language_info": {
      "name": "python"
    }
  },
  "cells": [
    {
      "cell_type": "code",
      "execution_count": null,
      "metadata": {
        "colab": {
          "base_uri": "https://localhost:8080/",
          "height": 77
        },
        "id": "8iIy1SzyEibH",
        "outputId": "4e75f5cf-480a-4008-eb0b-6c29cf957147"
      },
      "outputs": [
        {
          "output_type": "display_data",
          "data": {
            "text/plain": [
              "<IPython.core.display.HTML object>"
            ],
            "text/html": [
              "\n",
              "     <input type=\"file\" id=\"files-16d72468-749f-4c67-be77-95a6bf3ef1a0\" name=\"files[]\" multiple disabled\n",
              "        style=\"border:none\" />\n",
              "     <output id=\"result-16d72468-749f-4c67-be77-95a6bf3ef1a0\">\n",
              "      Upload widget is only available when the cell has been executed in the\n",
              "      current browser session. Please rerun this cell to enable.\n",
              "      </output>\n",
              "      <script>// Copyright 2017 Google LLC\n",
              "//\n",
              "// Licensed under the Apache License, Version 2.0 (the \"License\");\n",
              "// you may not use this file except in compliance with the License.\n",
              "// You may obtain a copy of the License at\n",
              "//\n",
              "//      http://www.apache.org/licenses/LICENSE-2.0\n",
              "//\n",
              "// Unless required by applicable law or agreed to in writing, software\n",
              "// distributed under the License is distributed on an \"AS IS\" BASIS,\n",
              "// WITHOUT WARRANTIES OR CONDITIONS OF ANY KIND, either express or implied.\n",
              "// See the License for the specific language governing permissions and\n",
              "// limitations under the License.\n",
              "\n",
              "/**\n",
              " * @fileoverview Helpers for google.colab Python module.\n",
              " */\n",
              "(function(scope) {\n",
              "function span(text, styleAttributes = {}) {\n",
              "  const element = document.createElement('span');\n",
              "  element.textContent = text;\n",
              "  for (const key of Object.keys(styleAttributes)) {\n",
              "    element.style[key] = styleAttributes[key];\n",
              "  }\n",
              "  return element;\n",
              "}\n",
              "\n",
              "// Max number of bytes which will be uploaded at a time.\n",
              "const MAX_PAYLOAD_SIZE = 100 * 1024;\n",
              "\n",
              "function _uploadFiles(inputId, outputId) {\n",
              "  const steps = uploadFilesStep(inputId, outputId);\n",
              "  const outputElement = document.getElementById(outputId);\n",
              "  // Cache steps on the outputElement to make it available for the next call\n",
              "  // to uploadFilesContinue from Python.\n",
              "  outputElement.steps = steps;\n",
              "\n",
              "  return _uploadFilesContinue(outputId);\n",
              "}\n",
              "\n",
              "// This is roughly an async generator (not supported in the browser yet),\n",
              "// where there are multiple asynchronous steps and the Python side is going\n",
              "// to poll for completion of each step.\n",
              "// This uses a Promise to block the python side on completion of each step,\n",
              "// then passes the result of the previous step as the input to the next step.\n",
              "function _uploadFilesContinue(outputId) {\n",
              "  const outputElement = document.getElementById(outputId);\n",
              "  const steps = outputElement.steps;\n",
              "\n",
              "  const next = steps.next(outputElement.lastPromiseValue);\n",
              "  return Promise.resolve(next.value.promise).then((value) => {\n",
              "    // Cache the last promise value to make it available to the next\n",
              "    // step of the generator.\n",
              "    outputElement.lastPromiseValue = value;\n",
              "    return next.value.response;\n",
              "  });\n",
              "}\n",
              "\n",
              "/**\n",
              " * Generator function which is called between each async step of the upload\n",
              " * process.\n",
              " * @param {string} inputId Element ID of the input file picker element.\n",
              " * @param {string} outputId Element ID of the output display.\n",
              " * @return {!Iterable<!Object>} Iterable of next steps.\n",
              " */\n",
              "function* uploadFilesStep(inputId, outputId) {\n",
              "  const inputElement = document.getElementById(inputId);\n",
              "  inputElement.disabled = false;\n",
              "\n",
              "  const outputElement = document.getElementById(outputId);\n",
              "  outputElement.innerHTML = '';\n",
              "\n",
              "  const pickedPromise = new Promise((resolve) => {\n",
              "    inputElement.addEventListener('change', (e) => {\n",
              "      resolve(e.target.files);\n",
              "    });\n",
              "  });\n",
              "\n",
              "  const cancel = document.createElement('button');\n",
              "  inputElement.parentElement.appendChild(cancel);\n",
              "  cancel.textContent = 'Cancel upload';\n",
              "  const cancelPromise = new Promise((resolve) => {\n",
              "    cancel.onclick = () => {\n",
              "      resolve(null);\n",
              "    };\n",
              "  });\n",
              "\n",
              "  // Wait for the user to pick the files.\n",
              "  const files = yield {\n",
              "    promise: Promise.race([pickedPromise, cancelPromise]),\n",
              "    response: {\n",
              "      action: 'starting',\n",
              "    }\n",
              "  };\n",
              "\n",
              "  cancel.remove();\n",
              "\n",
              "  // Disable the input element since further picks are not allowed.\n",
              "  inputElement.disabled = true;\n",
              "\n",
              "  if (!files) {\n",
              "    return {\n",
              "      response: {\n",
              "        action: 'complete',\n",
              "      }\n",
              "    };\n",
              "  }\n",
              "\n",
              "  for (const file of files) {\n",
              "    const li = document.createElement('li');\n",
              "    li.append(span(file.name, {fontWeight: 'bold'}));\n",
              "    li.append(span(\n",
              "        `(${file.type || 'n/a'}) - ${file.size} bytes, ` +\n",
              "        `last modified: ${\n",
              "            file.lastModifiedDate ? file.lastModifiedDate.toLocaleDateString() :\n",
              "                                    'n/a'} - `));\n",
              "    const percent = span('0% done');\n",
              "    li.appendChild(percent);\n",
              "\n",
              "    outputElement.appendChild(li);\n",
              "\n",
              "    const fileDataPromise = new Promise((resolve) => {\n",
              "      const reader = new FileReader();\n",
              "      reader.onload = (e) => {\n",
              "        resolve(e.target.result);\n",
              "      };\n",
              "      reader.readAsArrayBuffer(file);\n",
              "    });\n",
              "    // Wait for the data to be ready.\n",
              "    let fileData = yield {\n",
              "      promise: fileDataPromise,\n",
              "      response: {\n",
              "        action: 'continue',\n",
              "      }\n",
              "    };\n",
              "\n",
              "    // Use a chunked sending to avoid message size limits. See b/62115660.\n",
              "    let position = 0;\n",
              "    do {\n",
              "      const length = Math.min(fileData.byteLength - position, MAX_PAYLOAD_SIZE);\n",
              "      const chunk = new Uint8Array(fileData, position, length);\n",
              "      position += length;\n",
              "\n",
              "      const base64 = btoa(String.fromCharCode.apply(null, chunk));\n",
              "      yield {\n",
              "        response: {\n",
              "          action: 'append',\n",
              "          file: file.name,\n",
              "          data: base64,\n",
              "        },\n",
              "      };\n",
              "\n",
              "      let percentDone = fileData.byteLength === 0 ?\n",
              "          100 :\n",
              "          Math.round((position / fileData.byteLength) * 100);\n",
              "      percent.textContent = `${percentDone}% done`;\n",
              "\n",
              "    } while (position < fileData.byteLength);\n",
              "  }\n",
              "\n",
              "  // All done.\n",
              "  yield {\n",
              "    response: {\n",
              "      action: 'complete',\n",
              "    }\n",
              "  };\n",
              "}\n",
              "\n",
              "scope.google = scope.google || {};\n",
              "scope.google.colab = scope.google.colab || {};\n",
              "scope.google.colab._files = {\n",
              "  _uploadFiles,\n",
              "  _uploadFilesContinue,\n",
              "};\n",
              "})(self);\n",
              "</script> "
            ]
          },
          "metadata": {}
        },
        {
          "output_type": "stream",
          "name": "stdout",
          "text": [
            "Saving investments.csv to investments.csv\n"
          ]
        }
      ],
      "source": [
        "from google.colab import files\n",
        "uploaded = files.upload()"
      ]
    },
    {
      "cell_type": "code",
      "source": [
        "print(__doc__)\n",
        "\n",
        "import seaborn as sns\n",
        "\n",
        "sns.set_context(\"poster\")"
      ],
      "metadata": {
        "colab": {
          "base_uri": "https://localhost:8080/"
        },
        "id": "H8nScFN6FLL9",
        "outputId": "21215ac7-aa7e-41d1-d07c-9b251515323a"
      },
      "execution_count": null,
      "outputs": [
        {
          "output_type": "stream",
          "name": "stdout",
          "text": [
            "Automatically created module for IPython interactive environment\n"
          ]
        }
      ]
    },
    {
      "cell_type": "code",
      "source": [
        "import pandas as pd\n",
        "import numpy as np\n",
        "from collections import Counter\n",
        "from sklearn.datasets import make_classification\n",
        "from numpy import where\n",
        "from matplotlib import pyplot"
      ],
      "metadata": {
        "id": "xcDm2x9HFcZi"
      },
      "execution_count": null,
      "outputs": []
    },
    {
      "cell_type": "code",
      "source": [
        "from imblearn.under_sampling import RandomUnderSampler\n",
        "from imblearn.over_sampling import RandomOverSampler\n",
        "\n",
        "from imblearn.pipeline import Pipeline\n",
        "from sklearn.model_selection import cross_val_score\n",
        "from sklearn.model_selection import RepeatedStratifiedKFold\n",
        "from numpy import mean\n",
        "\n",
        "from sklearn.model_selection import train_test_split\n",
        "\n",
        "from sklearn.metrics import accuracy_score\n",
        "from sklearn.metrics import confusion_matrix\n",
        "from sklearn.metrics import classification_report\n",
        "from sklearn import metrics\n",
        "from sklearn.metrics import plot_confusion_matrix\n",
        "from sklearn.naive_bayes import GaussianNB\n",
        "\n"
      ],
      "metadata": {
        "id": "CoE6UimNmQag"
      },
      "execution_count": null,
      "outputs": []
    },
    {
      "cell_type": "code",
      "source": [
        "import io\n",
        "df = pd.read_csv(io.BytesIO(uploaded['investments.csv']))\n",
        "# Dataset is now stored in a Pandas Dataframe"
      ],
      "metadata": {
        "id": "ytQQvFaBFcco"
      },
      "execution_count": null,
      "outputs": []
    },
    {
      "cell_type": "code",
      "source": [
        "df.info()"
      ],
      "metadata": {
        "colab": {
          "base_uri": "https://localhost:8080/"
        },
        "id": "saXi4aUnFchi",
        "outputId": "7133c84f-76c6-4ab7-e41e-1a372fb92315"
      },
      "execution_count": null,
      "outputs": [
        {
          "output_type": "stream",
          "name": "stdout",
          "text": [
            "<class 'pandas.core.frame.DataFrame'>\n",
            "RangeIndex: 114506 entries, 0 to 114505\n",
            "Data columns (total 25 columns):\n",
            " #   Column                   Non-Null Count   Dtype  \n",
            "---  ------                   --------------   -----  \n",
            " 0   company_permalink        114506 non-null  object \n",
            " 1   company_name             114505 non-null  object \n",
            " 2   company_category_list    111242 non-null  object \n",
            " 3   company_market           111240 non-null  object \n",
            " 4   company_country_code     107147 non-null  object \n",
            " 5   company_state_code       79158 non-null   object \n",
            " 6   company_region           107147 non-null  object \n",
            " 7   company_city             105801 non-null  object \n",
            " 8   investor_permalink       114440 non-null  object \n",
            " 9   investor_name            114440 non-null  object \n",
            " 10  investor_category_list   30507 non-null   object \n",
            " 11  investor_market          30455 non-null   object \n",
            " 12  investor_country_code    86521 non-null   object \n",
            " 13  investor_state_code      62274 non-null   object \n",
            " 14  investor_region          86521 non-null   object \n",
            " 15  investor_city            86007 non-null   object \n",
            " 16  funding_round_permalink  114506 non-null  object \n",
            " 17  funding_round_type       114506 non-null  object \n",
            " 18  funding_round_code       54669 non-null   object \n",
            " 19  funded_at                114506 non-null  object \n",
            " 20  funded_month             114506 non-null  object \n",
            " 21  funded_quarter           114506 non-null  object \n",
            " 22  funded_year              114506 non-null  int64  \n",
            " 23  raised_amount_usd        101155 non-null  float64\n",
            " 24  Y                        114506 non-null  object \n",
            "dtypes: float64(1), int64(1), object(23)\n",
            "memory usage: 21.8+ MB\n"
          ]
        }
      ]
    },
    {
      "cell_type": "code",
      "source": [
        "#replace all Nan to 0 in raised_amount_usd column\n",
        "df['raised_amount_usd'] = df['raised_amount_usd'].fillna(0)"
      ],
      "metadata": {
        "id": "IzHEXsY0FckP"
      },
      "execution_count": null,
      "outputs": []
    },
    {
      "cell_type": "code",
      "source": [
        "#convert column raised_amount_usd from float to int\n",
        "df = df.astype({\"raised_amount_usd\":'int'})"
      ],
      "metadata": {
        "id": "UrXzgGk4FcnC"
      },
      "execution_count": null,
      "outputs": []
    },
    {
      "cell_type": "code",
      "source": [
        "# removing features\n",
        "df = df.drop(['investor_category_list','investor_market','funded_at', 'company_state_code','investor_state_code','funding_round_code',\n",
        "                      'funded_month','funded_quarter','funding_round_permalink','company_permalink','investor_permalink'], axis=1)"
      ],
      "metadata": {
        "id": "hduzleezFpRa"
      },
      "execution_count": null,
      "outputs": []
    },
    {
      "cell_type": "code",
      "source": [
        "#Dropping all the null value\n",
        "df.dropna(inplace = True)\n",
        "df.info()"
      ],
      "metadata": {
        "colab": {
          "base_uri": "https://localhost:8080/"
        },
        "id": "NBVTlCubFreq",
        "outputId": "e458ef22-6fa3-487e-bf1e-b5da8ca7be36"
      },
      "execution_count": null,
      "outputs": [
        {
          "output_type": "stream",
          "name": "stdout",
          "text": [
            "<class 'pandas.core.frame.DataFrame'>\n",
            "Int64Index: 77929 entries, 8 to 114498\n",
            "Data columns (total 14 columns):\n",
            " #   Column                 Non-Null Count  Dtype \n",
            "---  ------                 --------------  ----- \n",
            " 0   company_name           77929 non-null  object\n",
            " 1   company_category_list  77929 non-null  object\n",
            " 2   company_market         77929 non-null  object\n",
            " 3   company_country_code   77929 non-null  object\n",
            " 4   company_region         77929 non-null  object\n",
            " 5   company_city           77929 non-null  object\n",
            " 6   investor_name          77929 non-null  object\n",
            " 7   investor_country_code  77929 non-null  object\n",
            " 8   investor_region        77929 non-null  object\n",
            " 9   investor_city          77929 non-null  object\n",
            " 10  funding_round_type     77929 non-null  object\n",
            " 11  funded_year            77929 non-null  int64 \n",
            " 12  raised_amount_usd      77929 non-null  int64 \n",
            " 13  Y                      77929 non-null  object\n",
            "dtypes: int64(2), object(12)\n",
            "memory usage: 8.9+ MB\n"
          ]
        }
      ]
    },
    {
      "cell_type": "code",
      "source": [
        "# check missing values in variables\n",
        "df.isnull().sum()"
      ],
      "metadata": {
        "colab": {
          "base_uri": "https://localhost:8080/"
        },
        "id": "1fZMtjEEA-A9",
        "outputId": "5a49b434-79d3-46ed-b90e-dddde92108ef"
      },
      "execution_count": null,
      "outputs": [
        {
          "output_type": "execute_result",
          "data": {
            "text/plain": [
              "company_name             0\n",
              "company_category_list    0\n",
              "company_market           0\n",
              "company_country_code     0\n",
              "company_region           0\n",
              "company_city             0\n",
              "investor_name            0\n",
              "investor_country_code    0\n",
              "investor_region          0\n",
              "investor_city            0\n",
              "funding_round_type       0\n",
              "funded_year              0\n",
              "raised_amount_usd        0\n",
              "Y                        0\n",
              "dtype: int64"
            ]
          },
          "metadata": {},
          "execution_count": 11
        }
      ]
    },
    {
      "cell_type": "code",
      "source": [
        "#counting Y values in %\n",
        "\n",
        "df.Y.value_counts(normalize=True)"
      ],
      "metadata": {
        "colab": {
          "base_uri": "https://localhost:8080/"
        },
        "id": "Ymj64yoxF27m",
        "outputId": "ca2286b5-e8e5-4d17-87ab-a7fd47aa6253"
      },
      "execution_count": null,
      "outputs": [
        {
          "output_type": "execute_result",
          "data": {
            "text/plain": [
              "Yes    0.898985\n",
              "No     0.101015\n",
              "Name: Y, dtype: float64"
            ]
          },
          "metadata": {},
          "execution_count": 12
        }
      ]
    },
    {
      "cell_type": "code",
      "source": [
        "# Spliting data\n",
        "\n",
        "X = df.iloc[:,:-1]\n",
        "y = df.iloc[:,-1]"
      ],
      "metadata": {
        "id": "MTosVeirFvJz"
      },
      "execution_count": null,
      "outputs": []
    },
    {
      "cell_type": "code",
      "source": [
        "X, y = make_classification(n_samples=10000, n_features=2,\n",
        "\n",
        "                           n_redundant=0, n_classes=2,\n",
        "\n",
        "                           n_clusters_per_class=1,\n",
        "\n",
        "                           weights=[0.2, 0.8],\n",
        "\n",
        "                           class_sep=0.8, random_state=10)\n",
        "\n",
        "counter = Counter(y)\n",
        "print(counter)"
      ],
      "metadata": {
        "colab": {
          "base_uri": "https://localhost:8080/"
        },
        "id": "SGHeQvWVFvPJ",
        "outputId": "cb91a85e-4a8e-41ba-aa6e-2da17faf57be"
      },
      "execution_count": null,
      "outputs": [
        {
          "output_type": "stream",
          "name": "stdout",
          "text": [
            "Counter({1: 7977, 0: 2023})\n"
          ]
        }
      ]
    },
    {
      "cell_type": "code",
      "source": [
        "# scatter plot of examples by class label\n",
        "for label, _ in counter.items():\n",
        "    row_ix = where(y == label)[0]\n",
        "    pyplot.scatter(X[row_ix, 0], X[row_ix, 1], label=str(label))\n",
        "pyplot.legend()\n",
        "pyplot.show()"
      ],
      "metadata": {
        "colab": {
          "base_uri": "https://localhost:8080/",
          "height": 284
        },
        "id": "qT8xK8_yFvR7",
        "outputId": "bb17394b-e64f-4eb0-cc74-2003a1b74d0f"
      },
      "execution_count": null,
      "outputs": [
        {
          "output_type": "display_data",
          "data": {
            "text/plain": [
              "<Figure size 432x288 with 1 Axes>"
            ],
            "image/png": "[encoded data removed]"
          },
          "metadata": {
            "needs_background": "light"
          }
        }
      ]
    },
    {
      "cell_type": "markdown",
      "source": [
        "###Resumpling with RandomUnderSampler"
      ],
      "metadata": {
        "id": "roU-AhsX4odA"
      }
    },
    {
      "cell_type": "code",
      "source": [
        "rus = RandomUnderSampler(random_state=10)\n",
        "\n",
        "X_rus, y_rus = rus.fit_resample(X, y)\n",
        "\n",
        "print(sorted(Counter(y_rus).items()))"
      ],
      "metadata": {
        "colab": {
          "base_uri": "https://localhost:8080/"
        },
        "id": "lj3JHJCc4rnS",
        "outputId": "70db60f3-6822-4951-caeb-ade413c7e82d"
      },
      "execution_count": null,
      "outputs": [
        {
          "output_type": "stream",
          "name": "stdout",
          "text": [
            "[(0, 2023), (1, 2023)]\n"
          ]
        }
      ]
    },
    {
      "cell_type": "code",
      "source": [
        "# scatter plot of examples by class label\n",
        "for label, _ in Counter(y_rus).items():\n",
        "    row_ix = where(y_rus == label)[0]\n",
        "    pyplot.scatter(X_rus[row_ix, 0], X_rus[row_ix, 1], label=str(label))\n",
        "pyplot.legend()\n",
        "pyplot.show()"
      ],
      "metadata": {
        "colab": {
          "base_uri": "https://localhost:8080/",
          "height": 284
        },
        "id": "fngOv6xU4rcJ",
        "outputId": "11daf583-d914-4635-ce4e-f1899d8a0c46"
      },
      "execution_count": null,
      "outputs": [
        {
          "output_type": "display_data",
          "data": {
            "text/plain": [
              "<Figure size 432x288 with 1 Axes>"
            ],
            "image/png": "[encoded data removed]"
          },
          "metadata": {
            "needs_background": "light"
          }
        }
      ]
    },
    {
      "cell_type": "markdown",
      "source": [
        "###Pipeline of transforms with a final estimator RandomUnderSampler"
      ],
      "metadata": {
        "id": "a1rhb--g4wjL"
      }
    },
    {
      "cell_type": "code",
      "source": [
        "steps = [('under', RandomUnderSampler()), ('model', GaussianNB())]\n",
        "pipeline = Pipeline(steps=steps)"
      ],
      "metadata": {
        "id": "XI-D-Vjo43um"
      },
      "execution_count": null,
      "outputs": []
    },
    {
      "cell_type": "code",
      "source": [
        "cv = RepeatedStratifiedKFold(n_splits=10, n_repeats=3, random_state=1)\n",
        "scores = cross_val_score(pipeline, X_rus, y_rus, scoring='f1_micro', cv=cv, n_jobs=-1)\n",
        "score = mean(scores)\n",
        "print('F1 Score: %.3f' % score)"
      ],
      "metadata": {
        "colab": {
          "base_uri": "https://localhost:8080/"
        },
        "id": "XZvX142N5CEt",
        "outputId": "ec92ff5c-b584-4227-e931-2e6bacb930e6"
      },
      "execution_count": null,
      "outputs": [
        {
          "output_type": "stream",
          "name": "stdout",
          "text": [
            "F1 Score: 0.854\n"
          ]
        }
      ]
    },
    {
      "cell_type": "markdown",
      "source": [
        "###Resumpling with RandomOverSampler"
      ],
      "metadata": {
        "id": "YZPEgk_lmraP"
      }
    },
    {
      "cell_type": "code",
      "source": [
        "ros = RandomOverSampler(random_state=0)\n",
        "\n",
        "X_ros, y_ros = ros.fit_resample(X, y)\n",
        "\n",
        "print(sorted(Counter(y_ros).items()))"
      ],
      "metadata": {
        "colab": {
          "base_uri": "https://localhost:8080/"
        },
        "id": "05-aWXWpmr9W",
        "outputId": "3eb44cfc-c0e9-4707-dcaf-c858fb63b94d"
      },
      "execution_count": null,
      "outputs": [
        {
          "output_type": "stream",
          "name": "stdout",
          "text": [
            "[(0, 7977), (1, 7977)]\n"
          ]
        }
      ]
    },
    {
      "cell_type": "code",
      "source": [
        "# scatter plot of examples by class label\n",
        "for label, _ in Counter(y_ros).items():\n",
        "    row_ix = where(y_ros == label)[0]\n",
        "    pyplot.scatter(X_ros[row_ix, 0], X_ros[row_ix, 1], label=str(label))\n",
        "pyplot.legend()\n",
        "pyplot.show()"
      ],
      "metadata": {
        "colab": {
          "base_uri": "https://localhost:8080/",
          "height": 284
        },
        "id": "YS7eETCfm4br",
        "outputId": "1aa778f0-efe9-47c8-f7d5-4da36fe1b9c1"
      },
      "execution_count": null,
      "outputs": [
        {
          "output_type": "display_data",
          "data": {
            "text/plain": [
              "<Figure size 432x288 with 1 Axes>"
            ],
            "image/png": "[encoded data removed]"
          },
          "metadata": {
            "needs_background": "light"
          }
        }
      ]
    },
    {
      "cell_type": "markdown",
      "source": [
        "Pipeline of transforms with a final estimator for RandomOverSampler"
      ],
      "metadata": {
        "id": "6zxPeM1zm156"
      }
    },
    {
      "cell_type": "code",
      "source": [
        "steps = [('over', RandomOverSampler()), ('model', GaussianNB())]\n",
        "pipeline = Pipeline(steps=steps)"
      ],
      "metadata": {
        "id": "7A2_-mEXnGHp"
      },
      "execution_count": null,
      "outputs": []
    },
    {
      "cell_type": "code",
      "source": [
        "# evaluate pipeline\n",
        "cv = RepeatedStratifiedKFold(n_splits=10, n_repeats=3, random_state=1)\n",
        "scores = cross_val_score(pipeline, X_ros, y_ros, scoring='f1_micro', cv=cv, n_jobs=-1)\n",
        "score = mean(scores)\n",
        "print('F1 Score: %.3f' % score)"
      ],
      "metadata": {
        "colab": {
          "base_uri": "https://localhost:8080/"
        },
        "id": "jPdQjDS8ngp9",
        "outputId": "1be048d1-7547-41dd-e22e-70608b17731e"
      },
      "execution_count": null,
      "outputs": [
        {
          "output_type": "stream",
          "name": "stdout",
          "text": [
            "F1 Score: 0.863\n"
          ]
        }
      ]
    },
    {
      "cell_type": "markdown",
      "source": [
        "###Combining Random Oversampling and Undersampling"
      ],
      "metadata": {
        "id": "Gm7_b_ixYURK"
      }
    },
    {
      "cell_type": "code",
      "source": [
        "# instantiating over and under sampler\n",
        "over = RandomOverSampler(sampling_strategy=0.5)\n",
        "under = RandomUnderSampler(sampling_strategy=0.8)"
      ],
      "metadata": {
        "id": "blMdx9luYZNS"
      },
      "execution_count": null,
      "outputs": []
    },
    {
      "cell_type": "code",
      "source": [
        "X_over, y_over = over.fit_resample(X, y)\n",
        "print(f\"Oversampled: {Counter(y_over)}\")"
      ],
      "metadata": {
        "colab": {
          "base_uri": "https://localhost:8080/"
        },
        "id": "oFEP39W4Ydpt",
        "outputId": "c7bfeccd-eef9-4f4d-a460-a973a946548e"
      },
      "execution_count": null,
      "outputs": [
        {
          "output_type": "stream",
          "name": "stdout",
          "text": [
            "Oversampled: Counter({1: 7977, 0: 3988})\n"
          ]
        }
      ]
    },
    {
      "cell_type": "code",
      "source": [
        "# now to comine under sampling \n",
        "X_combined_sampling, y_combined_sampling = under.fit_resample(X_over, y_over)\n",
        "print(f\"Combined Random Sampling: {Counter(y_combined_sampling)}\")\n",
        "print(sorted(Counter(y_combined_sampling).items()))"
      ],
      "metadata": {
        "colab": {
          "base_uri": "https://localhost:8080/"
        },
        "id": "q5EcV7_NYfA1",
        "outputId": "13645070-12fd-4277-8c76-245e02a06db1"
      },
      "execution_count": null,
      "outputs": [
        {
          "output_type": "stream",
          "name": "stdout",
          "text": [
            "Combined Random Sampling: Counter({1: 4985, 0: 3988})\n",
            "[(0, 3988), (1, 4985)]\n"
          ]
        }
      ]
    },
    {
      "cell_type": "code",
      "source": [
        "# scatter plot of examples by class label\n",
        "for label, _ in Counter(y_combined_sampling).items():\n",
        "    row_ix = where(y_combined_sampling == label)[0]\n",
        "    pyplot.scatter(X_combined_sampling[row_ix, 0], X_combined_sampling[row_ix, 1], label=str(label))\n",
        "pyplot.legend()\n",
        "pyplot.show()"
      ],
      "metadata": {
        "colab": {
          "base_uri": "https://localhost:8080/",
          "height": 284
        },
        "id": "o5zuq4E1Ynbi",
        "outputId": "d08427c2-60b1-4003-8c54-4c93af21c217"
      },
      "execution_count": null,
      "outputs": [
        {
          "output_type": "display_data",
          "data": {
            "text/plain": [
              "<Figure size 432x288 with 1 Axes>"
            ],
            "image/png": "[encoded data removed]"
          },
          "metadata": {
            "needs_background": "light"
          }
        }
      ]
    },
    {
      "cell_type": "code",
      "source": [
        "steps = [('over', RandomOverSampler()), ('under', RandomUnderSampler()), ('model', GaussianNB())]\n",
        "pipeline = Pipeline(steps=steps)"
      ],
      "metadata": {
        "id": "lBfA2IgBY0DV"
      },
      "execution_count": null,
      "outputs": []
    },
    {
      "cell_type": "code",
      "source": [
        "# evaluate pipeline\n",
        "cv = RepeatedStratifiedKFold(n_splits=10, n_repeats=3, random_state=1)\n",
        "scores = cross_val_score(pipeline, X_combined_sampling, y_combined_sampling, scoring='f1_micro', cv=cv, n_jobs=-1)\n",
        "score = mean(scores)\n",
        "print('F1 Score: %.3f' % score)"
      ],
      "metadata": {
        "colab": {
          "base_uri": "https://localhost:8080/"
        },
        "id": "6OM2QSTXYz0y",
        "outputId": "c298c92b-71da-47ba-d35d-1fbc243de8eb"
      },
      "execution_count": null,
      "outputs": [
        {
          "output_type": "stream",
          "name": "stdout",
          "text": [
            "F1 Score: 0.857\n"
          ]
        }
      ]
    },
    {
      "cell_type": "markdown",
      "source": [
        "### Train-Test Split for Evaluating Machine Learning"
      ],
      "metadata": {
        "id": "qz1EThdyxpZb"
      }
    },
    {
      "cell_type": "code",
      "source": [
        "# split into train test sets\n",
        "X_train, X_test, y_train, y_test = train_test_split(X_ros, y_ros, test_size=0.3,random_state=45)\n",
        "print(X_train.shape, X_test.shape, y_train.shape, y_test.shape)"
      ],
      "metadata": {
        "colab": {
          "base_uri": "https://localhost:8080/"
        },
        "id": "DKxGoCBexKpc",
        "outputId": "6d869b4d-4d78-4d89-f452-dc70b6f504fc"
      },
      "execution_count": null,
      "outputs": [
        {
          "output_type": "stream",
          "name": "stdout",
          "text": [
            "(11167, 2) (4787, 2) (11167,) (4787,)\n"
          ]
        }
      ]
    },
    {
      "cell_type": "markdown",
      "source": [
        "### ML Naive Bayes Classifier"
      ],
      "metadata": {
        "id": "LTEPzFmR2wCh"
      }
    },
    {
      "cell_type": "code",
      "source": [
        "# fit the model\n",
        "model = GaussianNB()\n",
        "model = model.fit(X_train, y_train)"
      ],
      "metadata": {
        "id": "ciqQuQ420dEu"
      },
      "execution_count": null,
      "outputs": []
    },
    {
      "cell_type": "code",
      "source": [
        "# make predictions\n",
        "y_pred = model.predict(X_test)\n",
        "y_pred"
      ],
      "metadata": {
        "colab": {
          "base_uri": "https://localhost:8080/"
        },
        "id": "uqITTbKC0fhu",
        "outputId": "8d706e2a-b539-4ab0-eebe-8bb20f69b272"
      },
      "execution_count": null,
      "outputs": [
        {
          "output_type": "execute_result",
          "data": {
            "text/plain": [
              "array([0, 1, 0, ..., 0, 1, 1])"
            ]
          },
          "metadata": {},
          "execution_count": 32
        }
      ]
    },
    {
      "cell_type": "code",
      "source": [
        "# evaluate predictions\n",
        "acc = accuracy_score(y_test, y_pred)\n",
        "print('Accuracy: %.3f' % acc)"
      ],
      "metadata": {
        "colab": {
          "base_uri": "https://localhost:8080/"
        },
        "id": "_djgAnEa4sct",
        "outputId": "d6a50c49-ad53-4c5d-a34c-42b0e873cf34"
      },
      "execution_count": null,
      "outputs": [
        {
          "output_type": "stream",
          "name": "stdout",
          "text": [
            "Accuracy: 0.855\n"
          ]
        }
      ]
    },
    {
      "cell_type": "code",
      "source": [
        "cf=confusion_matrix(y_test, y_pred)\n",
        "print (\"Confusion Matrix\")\n",
        "print(cf)\n",
        "\n",
        "tn, fp, fn, tp=cf.ravel()\n",
        "print (\"True Positives(TP) : \", tp,\", False Positives(FP): \", fp,\", True Negatives(TN): \", tn,\", False Negatives(FN):\", fn)"
      ],
      "metadata": {
        "id": "8usx_rTc1c8I",
        "colab": {
          "base_uri": "https://localhost:8080/"
        },
        "outputId": "06f5c9e4-2f18-4aeb-db29-918e1b93e5b2"
      },
      "execution_count": null,
      "outputs": [
        {
          "output_type": "stream",
          "name": "stdout",
          "text": [
            "Confusion Matrix\n",
            "[[2100  291]\n",
            " [ 405 1991]]\n",
            "True Positives(TP) :  1991 , False Positives(FP):  291 , True Negatives(TN):  2100 , False Negatives(FN): 405\n"
          ]
        }
      ]
    },
    {
      "cell_type": "code",
      "source": [
        "plot_confusion_matrix(model, X_test, y_test, labels=[0, 1])"
      ],
      "metadata": {
        "colab": {
          "base_uri": "https://localhost:8080/",
          "height": 387
        },
        "id": "GwTyl6iC45Wo",
        "outputId": "887b660a-fb88-441b-c5b3-2773dc1759cd"
      },
      "execution_count": null,
      "outputs": [
        {
          "output_type": "stream",
          "name": "stderr",
          "text": [
            "/usr/local/lib/python3.7/dist-packages/sklearn/utils/deprecation.py:87: FutureWarning: Function plot_confusion_matrix is deprecated; Function `plot_confusion_matrix` is deprecated in 1.0 and will be removed in 1.2. Use one of the class methods: ConfusionMatrixDisplay.from_predictions or ConfusionMatrixDisplay.from_estimator.\n",
            "  warnings.warn(msg, category=FutureWarning)\n"
          ]
        },
        {
          "output_type": "execute_result",
          "data": {
            "text/plain": [
              "<sklearn.metrics._plot.confusion_matrix.ConfusionMatrixDisplay at 0x7f5df5092e90>"
            ]
          },
          "metadata": {},
          "execution_count": 35
        },
        {
          "output_type": "display_data",
          "data": {
            "text/plain": [
              "<Figure size 432x288 with 2 Axes>"
            ],
            "image/png": "[encoded data removed]"
          },
          "metadata": {
            "needs_background": "light"
          }
        }
      ]
    },
    {
      "cell_type": "code",
      "source": [
        "print(classification_report(y_test, y_pred))"
      ],
      "metadata": {
        "colab": {
          "base_uri": "https://localhost:8080/"
        },
        "id": "dw2378ej1yet",
        "outputId": "79258034-5661-4393-ae86-9e33f16256b2"
      },
      "execution_count": null,
      "outputs": [
        {
          "output_type": "stream",
          "name": "stdout",
          "text": [
            "              precision    recall  f1-score   support\n",
            "\n",
            "           0       0.84      0.88      0.86      2391\n",
            "           1       0.87      0.83      0.85      2396\n",
            "\n",
            "    accuracy                           0.85      4787\n",
            "   macro avg       0.86      0.85      0.85      4787\n",
            "weighted avg       0.86      0.85      0.85      4787\n",
            "\n"
          ]
        }
      ]
    },
    {
      "cell_type": "code",
      "source": [
        "# compute ROC AUC\n",
        "\n",
        "from sklearn.metrics import roc_auc_score\n",
        "\n",
        "ROC_AUC = roc_auc_score(y_test, y_pred, average=None)\n",
        "\n",
        "print('ROC AUC : {:.4f}'.format(ROC_AUC))\n",
        "\n"
      ],
      "metadata": {
        "colab": {
          "base_uri": "https://localhost:8080/"
        },
        "id": "KwrJBv-yFErT",
        "outputId": "824f51f1-5128-4faf-fcee-acb1920dd30c"
      },
      "execution_count": null,
      "outputs": [
        {
          "output_type": "stream",
          "name": "stdout",
          "text": [
            "ROC AUC : 0.8546\n"
          ]
        }
      ]
    }
  ]
}