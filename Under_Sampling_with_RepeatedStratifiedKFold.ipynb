{
  "nbformat": 4,
  "nbformat_minor": 0,
  "metadata": {
    "colab": {
      "provenance": [],
      "collapsed_sections": []
    },
    "kernelspec": {
      "name": "python3",
      "display_name": "Python 3"
    },
    "language_info": {
      "name": "python"
    }
  },
  "cells": [
    {
      "cell_type": "code",
      "execution_count": 1,
      "metadata": {
        "colab": {
          "base_uri": "https://localhost:8080/",
          "height": 77
        },
        "id": "8iIy1SzyEibH",
        "outputId": "ba423c9c-d05d-4e2a-8265-3f41ac7e1eb8"
      },
      "outputs": [
        {
          "output_type": "display_data",
          "data": {
            "text/plain": [
              "<IPython.core.display.HTML object>"
            ],
            "text/html": [
              "\n",
              "     <input type=\"file\" id=\"files-e30e7c5d-7be4-4efa-9189-ded2897ffbaa\" name=\"files[]\" multiple disabled\n",
              "        style=\"border:none\" />\n",
              "     <output id=\"result-e30e7c5d-7be4-4efa-9189-ded2897ffbaa\">\n",
              "      Upload widget is only available when the cell has been executed in the\n",
              "      current browser session. Please rerun this cell to enable.\n",
              "      </output>\n",
              "      <script>// Copyright 2017 Google LLC\n",
              "//\n",
              "// Licensed under the Apache License, Version 2.0 (the \"License\");\n",
              "// you may not use this file except in compliance with the License.\n",
              "// You may obtain a copy of the License at\n",
              "//\n",
              "//      http://www.apache.org/licenses/LICENSE-2.0\n",
              "//\n",
              "// Unless required by applicable law or agreed to in writing, software\n",
              "// distributed under the License is distributed on an \"AS IS\" BASIS,\n",
              "// WITHOUT WARRANTIES OR CONDITIONS OF ANY KIND, either express or implied.\n",
              "// See the License for the specific language governing permissions and\n",
              "// limitations under the License.\n",
              "\n",
              "/**\n",
              " * @fileoverview Helpers for google.colab Python module.\n",
              " */\n",
              "(function(scope) {\n",
              "function span(text, styleAttributes = {}) {\n",
              "  const element = document.createElement('span');\n",
              "  element.textContent = text;\n",
              "  for (const key of Object.keys(styleAttributes)) {\n",
              "    element.style[key] = styleAttributes[key];\n",
              "  }\n",
              "  return element;\n",
              "}\n",
              "\n",
              "// Max number of bytes which will be uploaded at a time.\n",
              "const MAX_PAYLOAD_SIZE = 100 * 1024;\n",
              "\n",
              "function _uploadFiles(inputId, outputId) {\n",
              "  const steps = uploadFilesStep(inputId, outputId);\n",
              "  const outputElement = document.getElementById(outputId);\n",
              "  // Cache steps on the outputElement to make it available for the next call\n",
              "  // to uploadFilesContinue from Python.\n",
              "  outputElement.steps = steps;\n",
              "\n",
              "  return _uploadFilesContinue(outputId);\n",
              "}\n",
              "\n",
              "// This is roughly an async generator (not supported in the browser yet),\n",
              "// where there are multiple asynchronous steps and the Python side is going\n",
              "// to poll for completion of each step.\n",
              "// This uses a Promise to block the python side on completion of each step,\n",
              "// then passes the result of the previous step as the input to the next step.\n",
              "function _uploadFilesContinue(outputId) {\n",
              "  const outputElement = document.getElementById(outputId);\n",
              "  const steps = outputElement.steps;\n",
              "\n",
              "  const next = steps.next(outputElement.lastPromiseValue);\n",
              "  return Promise.resolve(next.value.promise).then((value) => {\n",
              "    // Cache the last promise value to make it available to the next\n",
              "    // step of the generator.\n",
              "    outputElement.lastPromiseValue = value;\n",
              "    return next.value.response;\n",
              "  });\n",
              "}\n",
              "\n",
              "/**\n",
              " * Generator function which is called between each async step of the upload\n",
              " * process.\n",
              " * @param {string} inputId Element ID of the input file picker element.\n",
              " * @param {string} outputId Element ID of the output display.\n",
              " * @return {!Iterable<!Object>} Iterable of next steps.\n",
              " */\n",
              "function* uploadFilesStep(inputId, outputId) {\n",
              "  const inputElement = document.getElementById(inputId);\n",
              "  inputElement.disabled = false;\n",
              "\n",
              "  const outputElement = document.getElementById(outputId);\n",
              "  outputElement.innerHTML = '';\n",
              "\n",
              "  const pickedPromise = new Promise((resolve) => {\n",
              "    inputElement.addEventListener('change', (e) => {\n",
              "      resolve(e.target.files);\n",
              "    });\n",
              "  });\n",
              "\n",
              "  const cancel = document.createElement('button');\n",
              "  inputElement.parentElement.appendChild(cancel);\n",
              "  cancel.textContent = 'Cancel upload';\n",
              "  const cancelPromise = new Promise((resolve) => {\n",
              "    cancel.onclick = () => {\n",
              "      resolve(null);\n",
              "    };\n",
              "  });\n",
              "\n",
              "  // Wait for the user to pick the files.\n",
              "  const files = yield {\n",
              "    promise: Promise.race([pickedPromise, cancelPromise]),\n",
              "    response: {\n",
              "      action: 'starting',\n",
              "    }\n",
              "  };\n",
              "\n",
              "  cancel.remove();\n",
              "\n",
              "  // Disable the input element since further picks are not allowed.\n",
              "  inputElement.disabled = true;\n",
              "\n",
              "  if (!files) {\n",
              "    return {\n",
              "      response: {\n",
              "        action: 'complete',\n",
              "      }\n",
              "    };\n",
              "  }\n",
              "\n",
              "  for (const file of files) {\n",
              "    const li = document.createElement('li');\n",
              "    li.append(span(file.name, {fontWeight: 'bold'}));\n",
              "    li.append(span(\n",
              "        `(${file.type || 'n/a'}) - ${file.size} bytes, ` +\n",
              "        `last modified: ${\n",
              "            file.lastModifiedDate ? file.lastModifiedDate.toLocaleDateString() :\n",
              "                                    'n/a'} - `));\n",
              "    const percent = span('0% done');\n",
              "    li.appendChild(percent);\n",
              "\n",
              "    outputElement.appendChild(li);\n",
              "\n",
              "    const fileDataPromise = new Promise((resolve) => {\n",
              "      const reader = new FileReader();\n",
              "      reader.onload = (e) => {\n",
              "        resolve(e.target.result);\n",
              "      };\n",
              "      reader.readAsArrayBuffer(file);\n",
              "    });\n",
              "    // Wait for the data to be ready.\n",
              "    let fileData = yield {\n",
              "      promise: fileDataPromise,\n",
              "      response: {\n",
              "        action: 'continue',\n",
              "      }\n",
              "    };\n",
              "\n",
              "    // Use a chunked sending to avoid message size limits. See b/62115660.\n",
              "    let position = 0;\n",
              "    do {\n",
              "      const length = Math.min(fileData.byteLength - position, MAX_PAYLOAD_SIZE);\n",
              "      const chunk = new Uint8Array(fileData, position, length);\n",
              "      position += length;\n",
              "\n",
              "      const base64 = btoa(String.fromCharCode.apply(null, chunk));\n",
              "      yield {\n",
              "        response: {\n",
              "          action: 'append',\n",
              "          file: file.name,\n",
              "          data: base64,\n",
              "        },\n",
              "      };\n",
              "\n",
              "      let percentDone = fileData.byteLength === 0 ?\n",
              "          100 :\n",
              "          Math.round((position / fileData.byteLength) * 100);\n",
              "      percent.textContent = `${percentDone}% done`;\n",
              "\n",
              "    } while (position < fileData.byteLength);\n",
              "  }\n",
              "\n",
              "  // All done.\n",
              "  yield {\n",
              "    response: {\n",
              "      action: 'complete',\n",
              "    }\n",
              "  };\n",
              "}\n",
              "\n",
              "scope.google = scope.google || {};\n",
              "scope.google.colab = scope.google.colab || {};\n",
              "scope.google.colab._files = {\n",
              "  _uploadFiles,\n",
              "  _uploadFilesContinue,\n",
              "};\n",
              "})(self);\n",
              "</script> "
            ]
          },
          "metadata": {}
        },
        {
          "output_type": "stream",
          "name": "stdout",
          "text": [
            "Saving investments.csv to investments.csv\n"
          ]
        }
      ],
      "source": [
        "from google.colab import files\n",
        "uploaded = files.upload()"
      ]
    },
    {
      "cell_type": "code",
      "source": [
        "print(__doc__)\n",
        "\n",
        "import seaborn as sns\n",
        "\n",
        "sns.set_context(\"poster\")"
      ],
      "metadata": {
        "colab": {
          "base_uri": "https://localhost:8080/"
        },
        "id": "H8nScFN6FLL9",
        "outputId": "f326f3fa-2046-47b4-dd8e-cd49c8529652"
      },
      "execution_count": 2,
      "outputs": [
        {
          "output_type": "stream",
          "name": "stdout",
          "text": [
            "Automatically created module for IPython interactive environment\n"
          ]
        }
      ]
    },
    {
      "cell_type": "code",
      "source": [
        "import pandas as pd\n",
        "\n",
        "import numpy as np\n",
        "\n",
        "from collections import Counter\n",
        "\n",
        "from sklearn.datasets import make_classification\n",
        "\n",
        "from imblearn.under_sampling import ClusterCentroids\n",
        "\n",
        "from collections import Counter\n",
        "\n",
        "from numpy import where\n",
        "\n",
        "from matplotlib import pyplot\n",
        "\n",
        "from imblearn.under_sampling import NearMiss"
      ],
      "metadata": {
        "id": "xcDm2x9HFcZi"
      },
      "execution_count": 3,
      "outputs": []
    },
    {
      "cell_type": "code",
      "source": [
        "from sklearn.tree import DecisionTreeClassifier\n",
        "from imblearn.pipeline import Pipeline\n",
        "from sklearn.model_selection import cross_val_score\n",
        "from sklearn.model_selection import RepeatedStratifiedKFold\n",
        "from numpy import mean"
      ],
      "metadata": {
        "id": "CoE6UimNmQag"
      },
      "execution_count": 4,
      "outputs": []
    },
    {
      "cell_type": "code",
      "source": [
        "import io\n",
        "df = pd.read_csv(io.BytesIO(uploaded['investments.csv']))\n",
        "# Dataset is now stored in a Pandas Dataframe"
      ],
      "metadata": {
        "id": "ytQQvFaBFcco"
      },
      "execution_count": 5,
      "outputs": []
    },
    {
      "cell_type": "code",
      "source": [
        "df.info()"
      ],
      "metadata": {
        "colab": {
          "base_uri": "https://localhost:8080/"
        },
        "id": "saXi4aUnFchi",
        "outputId": "36d8a40e-efab-4a44-f04b-9a4bb131629b"
      },
      "execution_count": 6,
      "outputs": [
        {
          "output_type": "stream",
          "name": "stdout",
          "text": [
            "<class 'pandas.core.frame.DataFrame'>\n",
            "RangeIndex: 114506 entries, 0 to 114505\n",
            "Data columns (total 25 columns):\n",
            " #   Column                   Non-Null Count   Dtype  \n",
            "---  ------                   --------------   -----  \n",
            " 0   company_permalink        114506 non-null  object \n",
            " 1   company_name             114505 non-null  object \n",
            " 2   company_category_list    111242 non-null  object \n",
            " 3   company_market           111240 non-null  object \n",
            " 4   company_country_code     107147 non-null  object \n",
            " 5   company_state_code       79158 non-null   object \n",
            " 6   company_region           107147 non-null  object \n",
            " 7   company_city             105801 non-null  object \n",
            " 8   investor_permalink       114440 non-null  object \n",
            " 9   investor_name            114440 non-null  object \n",
            " 10  investor_category_list   30507 non-null   object \n",
            " 11  investor_market          30455 non-null   object \n",
            " 12  investor_country_code    86521 non-null   object \n",
            " 13  investor_state_code      62274 non-null   object \n",
            " 14  investor_region          86521 non-null   object \n",
            " 15  investor_city            86007 non-null   object \n",
            " 16  funding_round_permalink  114506 non-null  object \n",
            " 17  funding_round_type       114506 non-null  object \n",
            " 18  funding_round_code       54669 non-null   object \n",
            " 19  funded_at                114506 non-null  object \n",
            " 20  funded_month             114506 non-null  object \n",
            " 21  funded_quarter           114506 non-null  object \n",
            " 22  funded_year              114506 non-null  int64  \n",
            " 23  raised_amount_usd        101155 non-null  float64\n",
            " 24  Y                        114506 non-null  object \n",
            "dtypes: float64(1), int64(1), object(23)\n",
            "memory usage: 21.8+ MB\n"
          ]
        }
      ]
    },
    {
      "cell_type": "code",
      "source": [
        "#replace all Nan to 0 in raised_amount_usd column\n",
        "df['raised_amount_usd'] = df['raised_amount_usd'].fillna(0)"
      ],
      "metadata": {
        "id": "IzHEXsY0FckP"
      },
      "execution_count": 7,
      "outputs": []
    },
    {
      "cell_type": "code",
      "source": [
        "#convert column raised_amount_usd from float to int\n",
        "df = df.astype({\"raised_amount_usd\":'int'})"
      ],
      "metadata": {
        "id": "UrXzgGk4FcnC"
      },
      "execution_count": 8,
      "outputs": []
    },
    {
      "cell_type": "code",
      "source": [
        "# removing features\n",
        "df = df.drop(['investor_category_list','investor_market','funded_at', 'company_state_code','investor_state_code','funding_round_code',\n",
        "                      'funded_month','funded_quarter','funding_round_permalink','company_permalink','investor_permalink'], axis=1)"
      ],
      "metadata": {
        "id": "hduzleezFpRa"
      },
      "execution_count": 9,
      "outputs": []
    },
    {
      "cell_type": "code",
      "source": [
        "#Dropping all the null value\n",
        "df.dropna(inplace = True)\n",
        "df.info()"
      ],
      "metadata": {
        "colab": {
          "base_uri": "https://localhost:8080/"
        },
        "id": "NBVTlCubFreq",
        "outputId": "ec37de72-383c-4622-c38d-87e0f5bfec6c"
      },
      "execution_count": 10,
      "outputs": [
        {
          "output_type": "stream",
          "name": "stdout",
          "text": [
            "<class 'pandas.core.frame.DataFrame'>\n",
            "Int64Index: 77929 entries, 8 to 114498\n",
            "Data columns (total 14 columns):\n",
            " #   Column                 Non-Null Count  Dtype \n",
            "---  ------                 --------------  ----- \n",
            " 0   company_name           77929 non-null  object\n",
            " 1   company_category_list  77929 non-null  object\n",
            " 2   company_market         77929 non-null  object\n",
            " 3   company_country_code   77929 non-null  object\n",
            " 4   company_region         77929 non-null  object\n",
            " 5   company_city           77929 non-null  object\n",
            " 6   investor_name          77929 non-null  object\n",
            " 7   investor_country_code  77929 non-null  object\n",
            " 8   investor_region        77929 non-null  object\n",
            " 9   investor_city          77929 non-null  object\n",
            " 10  funding_round_type     77929 non-null  object\n",
            " 11  funded_year            77929 non-null  int64 \n",
            " 12  raised_amount_usd      77929 non-null  int64 \n",
            " 13  Y                      77929 non-null  object\n",
            "dtypes: int64(2), object(12)\n",
            "memory usage: 8.9+ MB\n"
          ]
        }
      ]
    },
    {
      "cell_type": "code",
      "source": [
        "#counting Y values\n",
        "\n",
        "df['Y'].value_counts()"
      ],
      "metadata": {
        "colab": {
          "base_uri": "https://localhost:8080/"
        },
        "id": "NopkzySdFrhD",
        "outputId": "b4d984c9-eac1-41c0-9b0c-99ab353747c8"
      },
      "execution_count": 11,
      "outputs": [
        {
          "output_type": "execute_result",
          "data": {
            "text/plain": [
              "Yes    70057\n",
              "No      7872\n",
              "Name: Y, dtype: int64"
            ]
          },
          "metadata": {},
          "execution_count": 11
        }
      ]
    },
    {
      "cell_type": "code",
      "source": [
        "#counting Y values in %\n",
        "\n",
        "df.Y.value_counts(normalize=True)"
      ],
      "metadata": {
        "colab": {
          "base_uri": "https://localhost:8080/"
        },
        "id": "NV36uEo0FvGm",
        "outputId": "e6dd725d-19c8-4a66-cf83-61b58ac8c335"
      },
      "execution_count": 12,
      "outputs": [
        {
          "output_type": "execute_result",
          "data": {
            "text/plain": [
              "Yes    0.898985\n",
              "No     0.101015\n",
              "Name: Y, dtype: float64"
            ]
          },
          "metadata": {},
          "execution_count": 12
        }
      ]
    },
    {
      "cell_type": "code",
      "source": [
        "# Spliting data\n",
        "\n",
        "X = df.iloc[:,:-1]\n",
        "y = df.iloc[:,-1]"
      ],
      "metadata": {
        "id": "MTosVeirFvJz"
      },
      "execution_count": 13,
      "outputs": []
    },
    {
      "cell_type": "code",
      "source": [
        "X, y = make_classification(n_samples=10000, n_features=2,\n",
        "\n",
        "                           n_redundant=0, n_classes=2,\n",
        "\n",
        "                           n_clusters_per_class=1,\n",
        "\n",
        "                           weights=[0.2, 0.8],\n",
        "\n",
        "                           class_sep=0.8, random_state=10)\n",
        "\n",
        "counter = Counter(y)\n",
        "print(counter)"
      ],
      "metadata": {
        "colab": {
          "base_uri": "https://localhost:8080/"
        },
        "id": "SGHeQvWVFvPJ",
        "outputId": "5fc32449-e6f7-4034-d3dd-1cc56ee906b2"
      },
      "execution_count": 14,
      "outputs": [
        {
          "output_type": "stream",
          "name": "stdout",
          "text": [
            "Counter({1: 7977, 0: 2023})\n"
          ]
        }
      ]
    },
    {
      "cell_type": "code",
      "source": [
        "# scatter plot of examples by class label\n",
        "for label, _ in counter.items():\n",
        "    row_ix = where(y == label)[0]\n",
        "    pyplot.scatter(X[row_ix, 0], X[row_ix, 1], label=str(label))\n",
        "pyplot.legend()\n",
        "pyplot.show()"
      ],
      "metadata": {
        "colab": {
          "base_uri": "https://localhost:8080/",
          "height": 284
        },
        "id": "qT8xK8_yFvR7",
        "outputId": "40331ede-81b3-4415-cefd-30609051057f"
      },
      "execution_count": 15,
      "outputs": [
        {
          "output_type": "display_data",
          "data": {
            "text/plain": [
              "<Figure size 432x288 with 1 Axes>"
            ],
            "image/png": "[encoded data removed]"
          },
          "metadata": {
            "needs_background": "light"
          }
        }
      ]
    },
    {
      "cell_type": "markdown",
      "source": [
        "##Resumpling with RandomUnderSampler"
      ],
      "metadata": {
        "id": "0xK6_hsJmEi7"
      }
    },
    {
      "cell_type": "code",
      "source": [
        "from imblearn.under_sampling import RandomUnderSampler\n",
        "\n",
        "rus = RandomUnderSampler(random_state=10)\n",
        "\n",
        "X_res, y_res = rus.fit_resample(X, y)\n",
        "\n",
        "print(sorted(Counter(y_res).items()))"
      ],
      "metadata": {
        "colab": {
          "base_uri": "https://localhost:8080/"
        },
        "id": "KTa-5ZgNMR8X",
        "outputId": "2c0892e8-a47c-4290-b60d-34f207a4ddc0"
      },
      "execution_count": 16,
      "outputs": [
        {
          "output_type": "stream",
          "name": "stdout",
          "text": [
            "[(0, 2023), (1, 2023)]\n"
          ]
        }
      ]
    },
    {
      "cell_type": "code",
      "source": [
        "# scatter plot of examples by class label\n",
        "for label, _ in Counter(y_res).items():\n",
        "    row_ix = where(y_res == label)[0]\n",
        "    pyplot.scatter(X_res[row_ix, 0], X_res[row_ix, 1], label=str(label))\n",
        "pyplot.legend()\n",
        "pyplot.show()"
      ],
      "metadata": {
        "colab": {
          "base_uri": "https://localhost:8080/",
          "height": 284
        },
        "id": "_ScEWfm6MSAc",
        "outputId": "f4d83b18-8c7e-4918-eea7-ef26c4402646"
      },
      "execution_count": 17,
      "outputs": [
        {
          "output_type": "display_data",
          "data": {
            "text/plain": [
              "<Figure size 432x288 with 1 Axes>"
            ],
            "image/png": "[encoded data removed]"
          },
          "metadata": {
            "needs_background": "light"
          }
        }
      ]
    },
    {
      "cell_type": "markdown",
      "source": [
        "####Pipeline of transforms with a final estimator RandomUnderSampler"
      ],
      "metadata": {
        "id": "ZQr9WAG1mTRB"
      }
    },
    {
      "cell_type": "code",
      "source": [
        "steps = [('under', RandomUnderSampler()), ('model', DecisionTreeClassifier())]\n",
        "pipeline = Pipeline(steps=steps)"
      ],
      "metadata": {
        "id": "w11wgpT2FvUn"
      },
      "execution_count": 18,
      "outputs": []
    },
    {
      "cell_type": "code",
      "source": [
        "cv = RepeatedStratifiedKFold(n_splits=10, n_repeats=3, random_state=1)\n",
        "scores = cross_val_score(pipeline, X_res, y_res, scoring='f1_micro', cv=cv, n_jobs=-1)\n",
        "score = mean(scores)\n",
        "print('F1 Score: %.3f' % score)"
      ],
      "metadata": {
        "colab": {
          "base_uri": "https://localhost:8080/"
        },
        "id": "Pb_5pmPiN1Dd",
        "outputId": "af9b91a8-65ef-4069-ffc0-d28c3de891a0"
      },
      "execution_count": 19,
      "outputs": [
        {
          "output_type": "stream",
          "name": "stdout",
          "text": [
            "F1 Score: 0.832\n"
          ]
        }
      ]
    },
    {
      "cell_type": "markdown",
      "source": [
        "###Resumpling with RandomOverSampler"
      ],
      "metadata": {
        "id": "YZPEgk_lmraP"
      }
    },
    {
      "cell_type": "code",
      "source": [
        "from imblearn.over_sampling import RandomOverSampler\n",
        "\n",
        "ros = RandomOverSampler(random_state=0)\n",
        "\n",
        "X_res, y_res = ros.fit_resample(X, y)\n",
        "\n",
        "print(sorted(Counter(y_res).items()))"
      ],
      "metadata": {
        "colab": {
          "base_uri": "https://localhost:8080/"
        },
        "id": "05-aWXWpmr9W",
        "outputId": "d54770d1-1289-4445-ce6d-ccabe7ec449b"
      },
      "execution_count": 20,
      "outputs": [
        {
          "output_type": "stream",
          "name": "stdout",
          "text": [
            "[(0, 7977), (1, 7977)]\n"
          ]
        }
      ]
    },
    {
      "cell_type": "code",
      "source": [
        "# scatter plot of examples by class label\n",
        "for label, _ in Counter(y_res).items():\n",
        "    row_ix = where(y_res == label)[0]\n",
        "    pyplot.scatter(X_res[row_ix, 0], X_res[row_ix, 1], label=str(label))\n",
        "pyplot.legend()\n",
        "pyplot.show()"
      ],
      "metadata": {
        "colab": {
          "base_uri": "https://localhost:8080/",
          "height": 284
        },
        "id": "YS7eETCfm4br",
        "outputId": "884e9cb6-c1c3-484f-a794-a159c90b6c20"
      },
      "execution_count": 21,
      "outputs": [
        {
          "output_type": "display_data",
          "data": {
            "text/plain": [
              "<Figure size 432x288 with 1 Axes>"
            ],
            "image/png": "[encoded data removed]"
          },
          "metadata": {
            "needs_background": "light"
          }
        }
      ]
    },
    {
      "cell_type": "markdown",
      "source": [
        "Pipeline of transforms with a final estimator for RandomOverSampler"
      ],
      "metadata": {
        "id": "6zxPeM1zm156"
      }
    },
    {
      "cell_type": "code",
      "source": [
        "steps = [('over', RandomOverSampler()), ('model', DecisionTreeClassifier())]\n",
        "pipeline = Pipeline(steps=steps)"
      ],
      "metadata": {
        "id": "7A2_-mEXnGHp"
      },
      "execution_count": 22,
      "outputs": []
    },
    {
      "cell_type": "code",
      "source": [
        "# evaluate pipeline\n",
        "cv = RepeatedStratifiedKFold(n_splits=10, n_repeats=3, random_state=1)\n",
        "scores = cross_val_score(pipeline, X_res, y_res, scoring='f1_micro', cv=cv, n_jobs=-1)\n",
        "score = mean(scores)\n",
        "print('F1 Score: %.3f' % score)"
      ],
      "metadata": {
        "colab": {
          "base_uri": "https://localhost:8080/"
        },
        "id": "jPdQjDS8ngp9",
        "outputId": "8d5dc193-f873-42aa-e816-015f0a60295d"
      },
      "execution_count": 23,
      "outputs": [
        {
          "output_type": "stream",
          "name": "stdout",
          "text": [
            "F1 Score: 0.960\n"
          ]
        }
      ]
    },
    {
      "cell_type": "markdown",
      "source": [
        "###Combining Random Oversampling and Undersampling"
      ],
      "metadata": {
        "id": "ZmADX8kfPiBI"
      }
    },
    {
      "cell_type": "code",
      "source": [
        "# instantiating over and under sampler\n",
        "over = RandomOverSampler(sampling_strategy=0.5)\n",
        "under = RandomUnderSampler(sampling_strategy=0.8)"
      ],
      "metadata": {
        "id": "wH7XzSeAPp97"
      },
      "execution_count": 24,
      "outputs": []
    },
    {
      "cell_type": "code",
      "source": [
        "X_over, y_over = over.fit_resample(X, y)\n",
        "print(f\"Oversampled: {Counter(y_over)}\")"
      ],
      "metadata": {
        "colab": {
          "base_uri": "https://localhost:8080/"
        },
        "id": "08KgdhuoQn7C",
        "outputId": "897bb8aa-3dff-4378-fca7-98d3b90d1705"
      },
      "execution_count": 25,
      "outputs": [
        {
          "output_type": "stream",
          "name": "stdout",
          "text": [
            "Oversampled: Counter({1: 7977, 0: 3988})\n"
          ]
        }
      ]
    },
    {
      "cell_type": "code",
      "source": [
        "# now to comine under sampling \n",
        "X_combined_sampling, y_combined_sampling = under.fit_resample(X_over, y_over)\n",
        "print(f\"Combined Random Sampling: {Counter(y_combined_sampling)}\")\n",
        "print(sorted(Counter(y_combined_sampling).items()))"
      ],
      "metadata": {
        "colab": {
          "base_uri": "https://localhost:8080/"
        },
        "id": "uR8bKKlkQyVq",
        "outputId": "72dd2986-d1af-4735-edd6-185825fd4f48"
      },
      "execution_count": 26,
      "outputs": [
        {
          "output_type": "stream",
          "name": "stdout",
          "text": [
            "Combined Random Sampling: Counter({1: 4985, 0: 3988})\n",
            "[(0, 3988), (1, 4985)]\n"
          ]
        }
      ]
    },
    {
      "cell_type": "code",
      "source": [
        "steps = [('over', RandomOverSampler()), ('under', RandomUnderSampler()), ('model', DecisionTreeClassifier())]\n",
        "pipeline = Pipeline(steps=steps)"
      ],
      "metadata": {
        "id": "hJ9wG1oUQ6rS"
      },
      "execution_count": 27,
      "outputs": []
    },
    {
      "cell_type": "code",
      "source": [
        "# evaluate pipeline\n",
        "cv = RepeatedStratifiedKFold(n_splits=10, n_repeats=3, random_state=1)\n",
        "scores = cross_val_score(pipeline, X_combined_sampling, y_combined_sampling, scoring='f1_micro', cv=cv, n_jobs=-1)\n",
        "score = mean(scores)\n",
        "print('F1 Score: %.3f' % score)"
      ],
      "metadata": {
        "colab": {
          "base_uri": "https://localhost:8080/"
        },
        "id": "cc1KpzKjQ8Pu",
        "outputId": "45f354e0-53ae-4e3a-ddf1-8089fa68140c"
      },
      "execution_count": 28,
      "outputs": [
        {
          "output_type": "stream",
          "name": "stdout",
          "text": [
            "F1 Score: 0.917\n"
          ]
        }
      ]
    }
  ]
}