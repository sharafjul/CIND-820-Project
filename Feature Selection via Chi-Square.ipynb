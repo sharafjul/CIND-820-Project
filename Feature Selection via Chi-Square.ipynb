{
 "cells": [
  {
   "cell_type": "code",
   "execution_count": 6,
   "metadata": {},
   "outputs": [],
   "source": [
    "import pandas as pd\n",
    "df = pd.read_csv('/Users/administrator/Downloads/investments2.csv')"
   ]
  },
  {
   "cell_type": "code",
   "execution_count": 7,
   "metadata": {},
   "outputs": [
    {
     "name": "stdout",
     "output_type": "stream",
     "text": [
      "<class 'pandas.core.frame.DataFrame'>\n",
      "RangeIndex: 114506 entries, 0 to 114505\n",
      "Data columns (total 16 columns):\n",
      " #   Column                 Non-Null Count   Dtype  \n",
      "---  ------                 --------------   -----  \n",
      " 0   company_permalink      114506 non-null  object \n",
      " 1   company_name           114505 non-null  object \n",
      " 2   company_category_list  111242 non-null  object \n",
      " 3   company_market         111240 non-null  object \n",
      " 4   company_country_code   107147 non-null  object \n",
      " 5   company_region         107147 non-null  object \n",
      " 6   company_city           105801 non-null  object \n",
      " 7   investor_permalink     114440 non-null  object \n",
      " 8   investor_name          114440 non-null  object \n",
      " 9   investor_country_code  86521 non-null   object \n",
      " 10  investor_region        86521 non-null   object \n",
      " 11  investor_city          86007 non-null   object \n",
      " 12  funding_round_type     114506 non-null  object \n",
      " 13  funded_year            114506 non-null  int64  \n",
      " 14  raised_amount_usd      101155 non-null  float64\n",
      " 15  Y                      114506 non-null  object \n",
      "dtypes: float64(1), int64(1), object(14)\n",
      "memory usage: 14.0+ MB\n"
     ]
    }
   ],
   "source": [
    "df.info()"
   ]
  },
  {
   "cell_type": "code",
   "execution_count": 8,
   "metadata": {},
   "outputs": [],
   "source": [
    "df = df.drop(['company_permalink','investor_permalink'], axis=1)"
   ]
  },
  {
   "cell_type": "code",
   "execution_count": 10,
   "metadata": {},
   "outputs": [],
   "source": [
    "#replace all Nan to 0 in raised_amount_usd column\n",
    "df['raised_amount_usd'] = df['raised_amount_usd'].fillna(0)\n",
    "\n",
    "#convert column raised_amount_usd from float to int\n",
    "df = df.astype({\"raised_amount_usd\":'int'})"
   ]
  },
  {
   "cell_type": "code",
   "execution_count": 12,
   "metadata": {},
   "outputs": [],
   "source": [
    "#Transform the numerical feature into categorical feature\n",
    "df['funded_year'] = df['funded_year'].astype('object')\n",
    "df['raised_amount_usd'] = df['raised_amount_usd'].astype('object')"
   ]
  },
  {
   "cell_type": "code",
   "execution_count": 13,
   "metadata": {},
   "outputs": [],
   "source": [
    "#Dropping all the null value\n",
    "df.dropna(inplace = True)"
   ]
  },
  {
   "cell_type": "code",
   "execution_count": 14,
   "metadata": {},
   "outputs": [
    {
     "name": "stdout",
     "output_type": "stream",
     "text": [
      "<class 'pandas.core.frame.DataFrame'>\n",
      "Int64Index: 77929 entries, 8 to 114498\n",
      "Data columns (total 14 columns):\n",
      " #   Column                 Non-Null Count  Dtype \n",
      "---  ------                 --------------  ----- \n",
      " 0   company_name           77929 non-null  object\n",
      " 1   company_category_list  77929 non-null  object\n",
      " 2   company_market         77929 non-null  object\n",
      " 3   company_country_code   77929 non-null  object\n",
      " 4   company_region         77929 non-null  object\n",
      " 5   company_city           77929 non-null  object\n",
      " 6   investor_name          77929 non-null  object\n",
      " 7   investor_country_code  77929 non-null  object\n",
      " 8   investor_region        77929 non-null  object\n",
      " 9   investor_city          77929 non-null  object\n",
      " 10  funding_round_type     77929 non-null  object\n",
      " 11  funded_year            77929 non-null  object\n",
      " 12  raised_amount_usd      77929 non-null  object\n",
      " 13  Y                      77929 non-null  object\n",
      "dtypes: object(14)\n",
      "memory usage: 8.9+ MB\n"
     ]
    }
   ],
   "source": [
    "df.info()"
   ]
  },
  {
   "cell_type": "code",
   "execution_count": 25,
   "metadata": {},
   "outputs": [
    {
     "data": {
      "text/plain": [
       "Yes    0.898985\n",
       "No     0.101015\n",
       "Name: Y, dtype: float64"
      ]
     },
     "execution_count": 25,
     "metadata": {},
     "output_type": "execute_result"
    }
   ],
   "source": [
    "df.Y.value_counts(normalize=True)"
   ]
  },
  {
   "cell_type": "code",
   "execution_count": 15,
   "metadata": {},
   "outputs": [],
   "source": [
    "#Getting all the categorical columns except the target\n",
    "categorical_columns = df.select_dtypes(exclude = 'number').drop('Y', axis = 1).columns"
   ]
  },
  {
   "cell_type": "code",
   "execution_count": 17,
   "metadata": {},
   "outputs": [
    {
     "data": {
      "text/html": [
       "<div>\n",
       "<style scoped>\n",
       "    .dataframe tbody tr th:only-of-type {\n",
       "        vertical-align: middle;\n",
       "    }\n",
       "\n",
       "    .dataframe tbody tr th {\n",
       "        vertical-align: top;\n",
       "    }\n",
       "\n",
       "    .dataframe thead th {\n",
       "        text-align: right;\n",
       "    }\n",
       "</style>\n",
       "<table border=\"1\" class=\"dataframe\">\n",
       "  <thead>\n",
       "    <tr style=\"text-align: right;\">\n",
       "      <th>Y</th>\n",
       "      <th>No</th>\n",
       "      <th>Yes</th>\n",
       "    </tr>\n",
       "    <tr>\n",
       "      <th>funding_round_type</th>\n",
       "      <th></th>\n",
       "      <th></th>\n",
       "    </tr>\n",
       "  </thead>\n",
       "  <tbody>\n",
       "    <tr>\n",
       "      <th>angel</th>\n",
       "      <td>209</td>\n",
       "      <td>1102</td>\n",
       "    </tr>\n",
       "    <tr>\n",
       "      <th>convertible_note</th>\n",
       "      <td>73</td>\n",
       "      <td>237</td>\n",
       "    </tr>\n",
       "    <tr>\n",
       "      <th>debt_financing</th>\n",
       "      <td>47</td>\n",
       "      <td>1106</td>\n",
       "    </tr>\n",
       "    <tr>\n",
       "      <th>equity_crowdfunding</th>\n",
       "      <td>0</td>\n",
       "      <td>56</td>\n",
       "    </tr>\n",
       "    <tr>\n",
       "      <th>grant</th>\n",
       "      <td>17</td>\n",
       "      <td>398</td>\n",
       "    </tr>\n",
       "    <tr>\n",
       "      <th>post_ipo_debt</th>\n",
       "      <td>0</td>\n",
       "      <td>25</td>\n",
       "    </tr>\n",
       "    <tr>\n",
       "      <th>post_ipo_equity</th>\n",
       "      <td>4</td>\n",
       "      <td>85</td>\n",
       "    </tr>\n",
       "    <tr>\n",
       "      <th>private_equity</th>\n",
       "      <td>114</td>\n",
       "      <td>1503</td>\n",
       "    </tr>\n",
       "    <tr>\n",
       "      <th>product_crowdfunding</th>\n",
       "      <td>0</td>\n",
       "      <td>14</td>\n",
       "    </tr>\n",
       "    <tr>\n",
       "      <th>secondary_market</th>\n",
       "      <td>31</td>\n",
       "      <td>18</td>\n",
       "    </tr>\n",
       "    <tr>\n",
       "      <th>seed</th>\n",
       "      <td>2866</td>\n",
       "      <td>11404</td>\n",
       "    </tr>\n",
       "    <tr>\n",
       "      <th>undisclosed</th>\n",
       "      <td>2064</td>\n",
       "      <td>805</td>\n",
       "    </tr>\n",
       "    <tr>\n",
       "      <th>venture</th>\n",
       "      <td>2447</td>\n",
       "      <td>53304</td>\n",
       "    </tr>\n",
       "  </tbody>\n",
       "</table>\n",
       "</div>"
      ],
      "text/plain": [
       "Y                       No    Yes\n",
       "funding_round_type               \n",
       "angel                  209   1102\n",
       "convertible_note        73    237\n",
       "debt_financing          47   1106\n",
       "equity_crowdfunding      0     56\n",
       "grant                   17    398\n",
       "post_ipo_debt            0     25\n",
       "post_ipo_equity          4     85\n",
       "private_equity         114   1503\n",
       "product_crowdfunding     0     14\n",
       "secondary_market        31     18\n",
       "seed                  2866  11404\n",
       "undisclosed           2064    805\n",
       "venture               2447  53304"
      ]
     },
     "execution_count": 17,
     "metadata": {},
     "output_type": "execute_result"
    }
   ],
   "source": [
    "pd.crosstab(df['funding_round_type'], df['Y'])"
   ]
  },
  {
   "cell_type": "code",
   "execution_count": 19,
   "metadata": {},
   "outputs": [
    {
     "name": "stdout",
     "output_type": "stream",
     "text": [
      "Chi2 Statistic: 16007.362512408145, p-value: 0.0\n"
     ]
    }
   ],
   "source": [
    "# Import the function\n",
    "from scipy.stats import chi2_contingency#Testing the relationship\n",
    "chi_res = chi2_contingency(pd.crosstab(df['Y'], df['funding_round_type']))\n",
    "print('Chi2 Statistic: {}, p-value: {}'.format(chi_res[0], chi_res[1]))"
   ]
  },
  {
   "cell_type": "code",
   "execution_count": 24,
   "metadata": {},
   "outputs": [
    {
     "name": "stdout",
     "output_type": "stream",
     "text": [
      "                   Column              Hypothesis\n",
      "0            company_name  Reject Null Hypothesis\n",
      "1   company_category_list  Reject Null Hypothesis\n",
      "2          company_market  Reject Null Hypothesis\n",
      "3    company_country_code  Reject Null Hypothesis\n",
      "4          company_region  Reject Null Hypothesis\n",
      "5            company_city  Reject Null Hypothesis\n",
      "6           investor_name  Reject Null Hypothesis\n",
      "7   investor_country_code  Reject Null Hypothesis\n",
      "8         investor_region  Reject Null Hypothesis\n",
      "9           investor_city  Reject Null Hypothesis\n",
      "10     funding_round_type  Reject Null Hypothesis\n",
      "11            funded_year  Reject Null Hypothesis\n",
      "12      raised_amount_usd  Reject Null Hypothesis\n"
     ]
    }
   ],
   "source": [
    "chi2_check = []\n",
    "for i in categorical_columns:\n",
    "    if chi2_contingency(pd.crosstab(df['Y'], df[i]))[1] < 0.05:\n",
    "        chi2_check.append('Reject Null Hypothesis')\n",
    "    else:\n",
    "        chi2_check.append('Fail to Reject Null Hypothesis')\n",
    "        \n",
    "res = pd.DataFrame(data = [categorical_columns, chi2_check] \n",
    "                  ).T\n",
    "res.columns = ['Column', 'Hypothesis']\n",
    "print(res)"
   ]
  },
  {
   "cell_type": "code",
   "execution_count": null,
   "metadata": {},
   "outputs": [],
   "source": []
  }
 ],
 "metadata": {
  "kernelspec": {
   "display_name": "Python 3",
   "language": "python",
   "name": "python3"
  },
  "language_info": {
   "codemirror_mode": {
    "name": "ipython",
    "version": 3
   },
   "file_extension": ".py",
   "mimetype": "text/x-python",
   "name": "python",
   "nbconvert_exporter": "python",
   "pygments_lexer": "ipython3",
   "version": "3.8.3"
  }
 },
 "nbformat": 4,
 "nbformat_minor": 4
}
