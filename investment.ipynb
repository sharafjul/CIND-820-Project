{
 "cells": [
  {
   "cell_type": "code",
   "execution_count": 1,
   "metadata": {},
   "outputs": [],
   "source": [
    "import pandas as pd\n",
    "import numpy as np\n",
    "import matplotlib.pyplot as plt"
   ]
  },
  {
   "cell_type": "markdown",
   "metadata": {},
   "source": [
    "### Data Collection"
   ]
  },
  {
   "cell_type": "code",
   "execution_count": 2,
   "metadata": {},
   "outputs": [
    {
     "data": {
      "text/html": [
       "<div>\n",
       "<style scoped>\n",
       "    .dataframe tbody tr th:only-of-type {\n",
       "        vertical-align: middle;\n",
       "    }\n",
       "\n",
       "    .dataframe tbody tr th {\n",
       "        vertical-align: top;\n",
       "    }\n",
       "\n",
       "    .dataframe thead th {\n",
       "        text-align: right;\n",
       "    }\n",
       "</style>\n",
       "<table border=\"1\" class=\"dataframe\">\n",
       "  <thead>\n",
       "    <tr style=\"text-align: right;\">\n",
       "      <th></th>\n",
       "      <th>company_permalink</th>\n",
       "      <th>company_name</th>\n",
       "      <th>company_category_list</th>\n",
       "      <th>company_market</th>\n",
       "      <th>company_country_code</th>\n",
       "      <th>company_state_code</th>\n",
       "      <th>company_region</th>\n",
       "      <th>company_city</th>\n",
       "      <th>investor_permalink</th>\n",
       "      <th>investor_name</th>\n",
       "      <th>...</th>\n",
       "      <th>investor_city</th>\n",
       "      <th>funding_round_permalink</th>\n",
       "      <th>funding_round_type</th>\n",
       "      <th>funding_round_code</th>\n",
       "      <th>funded_at</th>\n",
       "      <th>funded_month</th>\n",
       "      <th>funded_quarter</th>\n",
       "      <th>funded_year</th>\n",
       "      <th>raised_amount_usd</th>\n",
       "      <th>Y</th>\n",
       "    </tr>\n",
       "  </thead>\n",
       "  <tbody>\n",
       "    <tr>\n",
       "      <th>0</th>\n",
       "      <td>/organization/test-company-3</td>\n",
       "      <td>test company</td>\n",
       "      <td>NaN</td>\n",
       "      <td>NaN</td>\n",
       "      <td>ARE</td>\n",
       "      <td>NaN</td>\n",
       "      <td>Dubai</td>\n",
       "      <td>Dubai</td>\n",
       "      <td>/person/jamessss-bondddd</td>\n",
       "      <td>jamessss bondddd</td>\n",
       "      <td>...</td>\n",
       "      <td>NaN</td>\n",
       "      <td>/funding-round/c308019016ead7afb2a1d117018eb6fc</td>\n",
       "      <td>seed</td>\n",
       "      <td>NaN</td>\n",
       "      <td>1921-09-01</td>\n",
       "      <td>21-Sep</td>\n",
       "      <td>1921-Q3</td>\n",
       "      <td>1921</td>\n",
       "      <td>1000.0</td>\n",
       "      <td>Yes</td>\n",
       "    </tr>\n",
       "    <tr>\n",
       "      <th>1</th>\n",
       "      <td>/organization/andrewburnett-com-ltd</td>\n",
       "      <td>AndrewBurnett.com Ltd</td>\n",
       "      <td>|Internet|SEO|Services|Public Relations|Social...</td>\n",
       "      <td>Internet</td>\n",
       "      <td>GBR</td>\n",
       "      <td>NaN</td>\n",
       "      <td>Edinburgh</td>\n",
       "      <td>Edinburgh</td>\n",
       "      <td>/organization/ekaf</td>\n",
       "      <td>Ekaf</td>\n",
       "      <td>...</td>\n",
       "      <td>NaN</td>\n",
       "      <td>/funding-round/14fe2864e02d0f15ddc3ec8eacdc8e1b</td>\n",
       "      <td>seed</td>\n",
       "      <td>NaN</td>\n",
       "      <td>1974-01-01</td>\n",
       "      <td>Jan-74</td>\n",
       "      <td>1974-Q1</td>\n",
       "      <td>1974</td>\n",
       "      <td>NaN</td>\n",
       "      <td>No</td>\n",
       "    </tr>\n",
       "    <tr>\n",
       "      <th>2</th>\n",
       "      <td>/organization/abo-data</td>\n",
       "      <td>ABO Data</td>\n",
       "      <td>|Enterprise Software|</td>\n",
       "      <td>Enterprise Software</td>\n",
       "      <td>USA</td>\n",
       "      <td>TX</td>\n",
       "      <td>TX - Other</td>\n",
       "      <td>Italy</td>\n",
       "      <td>/person/antonio-murroni</td>\n",
       "      <td>ANTONIO MURRONI</td>\n",
       "      <td>...</td>\n",
       "      <td>NaN</td>\n",
       "      <td>/funding-round/809e211b969c3f66440fc15ffcd29385</td>\n",
       "      <td>seed</td>\n",
       "      <td>NaN</td>\n",
       "      <td>1979-01-01</td>\n",
       "      <td>Jan-79</td>\n",
       "      <td>1979-Q1</td>\n",
       "      <td>1979</td>\n",
       "      <td>1000000.0</td>\n",
       "      <td>Yes</td>\n",
       "    </tr>\n",
       "    <tr>\n",
       "      <th>3</th>\n",
       "      <td>/organization/abo-data</td>\n",
       "      <td>ABO Data</td>\n",
       "      <td>|Enterprise Software|</td>\n",
       "      <td>Enterprise Software</td>\n",
       "      <td>USA</td>\n",
       "      <td>TX</td>\n",
       "      <td>TX - Other</td>\n",
       "      <td>Italy</td>\n",
       "      <td>/person/filippo-murroni</td>\n",
       "      <td>FILIPPO Murroni</td>\n",
       "      <td>...</td>\n",
       "      <td>NaN</td>\n",
       "      <td>/funding-round/809e211b969c3f66440fc15ffcd29385</td>\n",
       "      <td>seed</td>\n",
       "      <td>NaN</td>\n",
       "      <td>1979-01-01</td>\n",
       "      <td>Jan-79</td>\n",
       "      <td>1979-Q1</td>\n",
       "      <td>1979</td>\n",
       "      <td>1000000.0</td>\n",
       "      <td>Yes</td>\n",
       "    </tr>\n",
       "    <tr>\n",
       "      <th>4</th>\n",
       "      <td>/organization/ikro</td>\n",
       "      <td>Ikro</td>\n",
       "      <td>NaN</td>\n",
       "      <td>NaN</td>\n",
       "      <td>BRA</td>\n",
       "      <td>NaN</td>\n",
       "      <td>BRA - Other</td>\n",
       "      <td>Canoas</td>\n",
       "      <td>/organization/crp-companhia-de-participacoes</td>\n",
       "      <td>CRP Companhia de Participações</td>\n",
       "      <td>...</td>\n",
       "      <td>NaN</td>\n",
       "      <td>/funding-round/46c353a8249170cc4b6ab89a522fefdc</td>\n",
       "      <td>venture</td>\n",
       "      <td>A</td>\n",
       "      <td>1982-06-01</td>\n",
       "      <td>Jun-82</td>\n",
       "      <td>1982-Q2</td>\n",
       "      <td>1982</td>\n",
       "      <td>724000.0</td>\n",
       "      <td>Yes</td>\n",
       "    </tr>\n",
       "    <tr>\n",
       "      <th>...</th>\n",
       "      <td>...</td>\n",
       "      <td>...</td>\n",
       "      <td>...</td>\n",
       "      <td>...</td>\n",
       "      <td>...</td>\n",
       "      <td>...</td>\n",
       "      <td>...</td>\n",
       "      <td>...</td>\n",
       "      <td>...</td>\n",
       "      <td>...</td>\n",
       "      <td>...</td>\n",
       "      <td>...</td>\n",
       "      <td>...</td>\n",
       "      <td>...</td>\n",
       "      <td>...</td>\n",
       "      <td>...</td>\n",
       "      <td>...</td>\n",
       "      <td>...</td>\n",
       "      <td>...</td>\n",
       "      <td>...</td>\n",
       "      <td>...</td>\n",
       "    </tr>\n",
       "    <tr>\n",
       "      <th>114501</th>\n",
       "      <td>/organization/helpling</td>\n",
       "      <td>Helpling</td>\n",
       "      <td>|Consumers|</td>\n",
       "      <td>Consumers</td>\n",
       "      <td>DEU</td>\n",
       "      <td>NaN</td>\n",
       "      <td>Berlin</td>\n",
       "      <td>Berlin</td>\n",
       "      <td>/person/lukasz-gadowski</td>\n",
       "      <td>Lukasz Gadowski</td>\n",
       "      <td>...</td>\n",
       "      <td>NaN</td>\n",
       "      <td>/funding-round/681af1b330a13043b17aeac45d841b88</td>\n",
       "      <td>venture</td>\n",
       "      <td>A</td>\n",
       "      <td>2014-12-02</td>\n",
       "      <td>14-Dec</td>\n",
       "      <td>2014-Q4</td>\n",
       "      <td>2014</td>\n",
       "      <td>17000000.0</td>\n",
       "      <td>Yes</td>\n",
       "    </tr>\n",
       "    <tr>\n",
       "      <th>114502</th>\n",
       "      <td>/organization/appknox</td>\n",
       "      <td>Appknox</td>\n",
       "      <td>|Mobile Security|SaaS|Mobile|</td>\n",
       "      <td>Mobile Security</td>\n",
       "      <td>SGP</td>\n",
       "      <td>NaN</td>\n",
       "      <td>Singapore</td>\n",
       "      <td>Singapore</td>\n",
       "      <td>/person/rajan-anandan</td>\n",
       "      <td>Rajan Anandan</td>\n",
       "      <td>...</td>\n",
       "      <td>NaN</td>\n",
       "      <td>/funding-round/bfb0b5859be2431f35882bc03370dd67</td>\n",
       "      <td>venture</td>\n",
       "      <td>NaN</td>\n",
       "      <td>2014-12-02</td>\n",
       "      <td>14-Dec</td>\n",
       "      <td>2014-Q4</td>\n",
       "      <td>2014</td>\n",
       "      <td>NaN</td>\n",
       "      <td>No</td>\n",
       "    </tr>\n",
       "    <tr>\n",
       "      <th>114503</th>\n",
       "      <td>/organization/strap</td>\n",
       "      <td>Strap</td>\n",
       "      <td>|Apps|</td>\n",
       "      <td>Apps</td>\n",
       "      <td>USA</td>\n",
       "      <td>OH</td>\n",
       "      <td>Cincinnati</td>\n",
       "      <td>Cincinnati</td>\n",
       "      <td>/person/trevor-wright</td>\n",
       "      <td>Trevor Wright</td>\n",
       "      <td>...</td>\n",
       "      <td>NaN</td>\n",
       "      <td>/funding-round/375e6c61fec5b3854ecbe5732dfdcabe</td>\n",
       "      <td>seed</td>\n",
       "      <td>NaN</td>\n",
       "      <td>2014-12-02</td>\n",
       "      <td>14-Dec</td>\n",
       "      <td>2014-Q4</td>\n",
       "      <td>2014</td>\n",
       "      <td>1200000.0</td>\n",
       "      <td>Yes</td>\n",
       "    </tr>\n",
       "    <tr>\n",
       "      <th>114504</th>\n",
       "      <td>/organization/strap</td>\n",
       "      <td>Strap</td>\n",
       "      <td>|Apps|</td>\n",
       "      <td>Apps</td>\n",
       "      <td>USA</td>\n",
       "      <td>OH</td>\n",
       "      <td>Cincinnati</td>\n",
       "      <td>Cincinnati</td>\n",
       "      <td>/person/wendy-lea</td>\n",
       "      <td>Wendy Lea</td>\n",
       "      <td>...</td>\n",
       "      <td>NaN</td>\n",
       "      <td>/funding-round/375e6c61fec5b3854ecbe5732dfdcabe</td>\n",
       "      <td>seed</td>\n",
       "      <td>NaN</td>\n",
       "      <td>2014-12-02</td>\n",
       "      <td>14-Dec</td>\n",
       "      <td>2014-Q4</td>\n",
       "      <td>2014</td>\n",
       "      <td>1200000.0</td>\n",
       "      <td>Yes</td>\n",
       "    </tr>\n",
       "    <tr>\n",
       "      <th>114505</th>\n",
       "      <td>/organization/vonjour-com</td>\n",
       "      <td>Vonjour</td>\n",
       "      <td>|Enterprise Software|</td>\n",
       "      <td>Enterprise Software</td>\n",
       "      <td>NaN</td>\n",
       "      <td>NaN</td>\n",
       "      <td>NaN</td>\n",
       "      <td>NaN</td>\n",
       "      <td>/organization/kima-ventures</td>\n",
       "      <td>Kima Ventures</td>\n",
       "      <td>...</td>\n",
       "      <td>Paris</td>\n",
       "      <td>/funding-round/3b06e2822fbd630d8baa1d696c6478fa</td>\n",
       "      <td>seed</td>\n",
       "      <td>NaN</td>\n",
       "      <td>2014-12-20</td>\n",
       "      <td>14-Dec</td>\n",
       "      <td>2014-Q4</td>\n",
       "      <td>2014</td>\n",
       "      <td>0.0</td>\n",
       "      <td>No</td>\n",
       "    </tr>\n",
       "  </tbody>\n",
       "</table>\n",
       "<p>114506 rows × 25 columns</p>\n",
       "</div>"
      ],
      "text/plain": [
       "                          company_permalink           company_name  \\\n",
       "0              /organization/test-company-3           test company   \n",
       "1       /organization/andrewburnett-com-ltd  AndrewBurnett.com Ltd   \n",
       "2                    /organization/abo-data               ABO Data   \n",
       "3                    /organization/abo-data               ABO Data   \n",
       "4                        /organization/ikro                   Ikro   \n",
       "...                                     ...                    ...   \n",
       "114501               /organization/helpling               Helpling   \n",
       "114502                /organization/appknox                Appknox   \n",
       "114503                  /organization/strap                  Strap   \n",
       "114504                  /organization/strap                  Strap   \n",
       "114505            /organization/vonjour-com                Vonjour   \n",
       "\n",
       "                                    company_category_list  \\\n",
       "0                                                     NaN   \n",
       "1       |Internet|SEO|Services|Public Relations|Social...   \n",
       "2                                   |Enterprise Software|   \n",
       "3                                   |Enterprise Software|   \n",
       "4                                                     NaN   \n",
       "...                                                   ...   \n",
       "114501                                        |Consumers|   \n",
       "114502                      |Mobile Security|SaaS|Mobile|   \n",
       "114503                                             |Apps|   \n",
       "114504                                             |Apps|   \n",
       "114505                              |Enterprise Software|   \n",
       "\n",
       "             company_market company_country_code company_state_code  \\\n",
       "0                       NaN                  ARE                NaN   \n",
       "1                  Internet                  GBR                NaN   \n",
       "2       Enterprise Software                  USA                 TX   \n",
       "3       Enterprise Software                  USA                 TX   \n",
       "4                       NaN                  BRA                NaN   \n",
       "...                     ...                  ...                ...   \n",
       "114501            Consumers                  DEU                NaN   \n",
       "114502      Mobile Security                  SGP                NaN   \n",
       "114503                 Apps                  USA                 OH   \n",
       "114504                 Apps                  USA                 OH   \n",
       "114505  Enterprise Software                  NaN                NaN   \n",
       "\n",
       "       company_region company_city  \\\n",
       "0               Dubai        Dubai   \n",
       "1           Edinburgh    Edinburgh   \n",
       "2          TX - Other        Italy   \n",
       "3          TX - Other        Italy   \n",
       "4         BRA - Other       Canoas   \n",
       "...               ...          ...   \n",
       "114501         Berlin       Berlin   \n",
       "114502      Singapore    Singapore   \n",
       "114503     Cincinnati   Cincinnati   \n",
       "114504     Cincinnati   Cincinnati   \n",
       "114505            NaN          NaN   \n",
       "\n",
       "                                  investor_permalink  \\\n",
       "0                           /person/jamessss-bondddd   \n",
       "1                                 /organization/ekaf   \n",
       "2                            /person/antonio-murroni   \n",
       "3                            /person/filippo-murroni   \n",
       "4       /organization/crp-companhia-de-participacoes   \n",
       "...                                              ...   \n",
       "114501                       /person/lukasz-gadowski   \n",
       "114502                         /person/rajan-anandan   \n",
       "114503                         /person/trevor-wright   \n",
       "114504                             /person/wendy-lea   \n",
       "114505                   /organization/kima-ventures   \n",
       "\n",
       "                           investor_name  ... investor_city  \\\n",
       "0                       jamessss bondddd  ...           NaN   \n",
       "1                                   Ekaf  ...           NaN   \n",
       "2                        ANTONIO MURRONI  ...           NaN   \n",
       "3                        FILIPPO Murroni  ...           NaN   \n",
       "4       CRP Companhia de Participações  ...           NaN   \n",
       "...                                  ...  ...           ...   \n",
       "114501                   Lukasz Gadowski  ...           NaN   \n",
       "114502                     Rajan Anandan  ...           NaN   \n",
       "114503                     Trevor Wright  ...           NaN   \n",
       "114504                         Wendy Lea  ...           NaN   \n",
       "114505                     Kima Ventures  ...         Paris   \n",
       "\n",
       "                                funding_round_permalink funding_round_type  \\\n",
       "0       /funding-round/c308019016ead7afb2a1d117018eb6fc               seed   \n",
       "1       /funding-round/14fe2864e02d0f15ddc3ec8eacdc8e1b               seed   \n",
       "2       /funding-round/809e211b969c3f66440fc15ffcd29385               seed   \n",
       "3       /funding-round/809e211b969c3f66440fc15ffcd29385               seed   \n",
       "4       /funding-round/46c353a8249170cc4b6ab89a522fefdc            venture   \n",
       "...                                                 ...                ...   \n",
       "114501  /funding-round/681af1b330a13043b17aeac45d841b88            venture   \n",
       "114502  /funding-round/bfb0b5859be2431f35882bc03370dd67            venture   \n",
       "114503  /funding-round/375e6c61fec5b3854ecbe5732dfdcabe               seed   \n",
       "114504  /funding-round/375e6c61fec5b3854ecbe5732dfdcabe               seed   \n",
       "114505  /funding-round/3b06e2822fbd630d8baa1d696c6478fa               seed   \n",
       "\n",
       "       funding_round_code   funded_at funded_month funded_quarter funded_year  \\\n",
       "0                     NaN  1921-09-01       21-Sep        1921-Q3        1921   \n",
       "1                     NaN  1974-01-01       Jan-74        1974-Q1        1974   \n",
       "2                     NaN  1979-01-01       Jan-79        1979-Q1        1979   \n",
       "3                     NaN  1979-01-01       Jan-79        1979-Q1        1979   \n",
       "4                       A  1982-06-01       Jun-82        1982-Q2        1982   \n",
       "...                   ...         ...          ...            ...         ...   \n",
       "114501                  A  2014-12-02       14-Dec        2014-Q4        2014   \n",
       "114502                NaN  2014-12-02       14-Dec        2014-Q4        2014   \n",
       "114503                NaN  2014-12-02       14-Dec        2014-Q4        2014   \n",
       "114504                NaN  2014-12-02       14-Dec        2014-Q4        2014   \n",
       "114505                NaN  2014-12-20       14-Dec        2014-Q4        2014   \n",
       "\n",
       "       raised_amount_usd    Y  \n",
       "0                 1000.0  Yes  \n",
       "1                    NaN   No  \n",
       "2              1000000.0  Yes  \n",
       "3              1000000.0  Yes  \n",
       "4               724000.0  Yes  \n",
       "...                  ...  ...  \n",
       "114501        17000000.0  Yes  \n",
       "114502               NaN   No  \n",
       "114503         1200000.0  Yes  \n",
       "114504         1200000.0  Yes  \n",
       "114505               0.0   No  \n",
       "\n",
       "[114506 rows x 25 columns]"
      ]
     },
     "execution_count": 2,
     "metadata": {},
     "output_type": "execute_result"
    }
   ],
   "source": [
    "# Load data from a csv file\n",
    "filename = '/Users/administrator/Desktop/CIND820 Big Data Analytics Project/datanerd-startup-venture-funding/data/investments.csv'\n",
    "df = pd.read_csv(filename)\n",
    "df"
   ]
  },
  {
   "cell_type": "markdown",
   "metadata": {},
   "source": [
    "### Missing value treatment"
   ]
  },
  {
   "cell_type": "code",
   "execution_count": 3,
   "metadata": {},
   "outputs": [
    {
     "data": {
      "text/html": [
       "<div>\n",
       "<style scoped>\n",
       "    .dataframe tbody tr th:only-of-type {\n",
       "        vertical-align: middle;\n",
       "    }\n",
       "\n",
       "    .dataframe tbody tr th {\n",
       "        vertical-align: top;\n",
       "    }\n",
       "\n",
       "    .dataframe thead th {\n",
       "        text-align: right;\n",
       "    }\n",
       "</style>\n",
       "<table border=\"1\" class=\"dataframe\">\n",
       "  <thead>\n",
       "    <tr style=\"text-align: right;\">\n",
       "      <th></th>\n",
       "      <th>0</th>\n",
       "      <th>1</th>\n",
       "    </tr>\n",
       "  </thead>\n",
       "  <tbody>\n",
       "    <tr>\n",
       "      <th>company_permalink</th>\n",
       "      <td>0</td>\n",
       "      <td>0.00</td>\n",
       "    </tr>\n",
       "    <tr>\n",
       "      <th>company_name</th>\n",
       "      <td>1</td>\n",
       "      <td>0.00</td>\n",
       "    </tr>\n",
       "    <tr>\n",
       "      <th>company_category_list</th>\n",
       "      <td>3264</td>\n",
       "      <td>2.85</td>\n",
       "    </tr>\n",
       "    <tr>\n",
       "      <th>company_market</th>\n",
       "      <td>3266</td>\n",
       "      <td>2.85</td>\n",
       "    </tr>\n",
       "    <tr>\n",
       "      <th>company_country_code</th>\n",
       "      <td>7359</td>\n",
       "      <td>6.43</td>\n",
       "    </tr>\n",
       "    <tr>\n",
       "      <th>company_state_code</th>\n",
       "      <td>35348</td>\n",
       "      <td>30.87</td>\n",
       "    </tr>\n",
       "    <tr>\n",
       "      <th>company_region</th>\n",
       "      <td>7359</td>\n",
       "      <td>6.43</td>\n",
       "    </tr>\n",
       "    <tr>\n",
       "      <th>company_city</th>\n",
       "      <td>8705</td>\n",
       "      <td>7.60</td>\n",
       "    </tr>\n",
       "    <tr>\n",
       "      <th>investor_permalink</th>\n",
       "      <td>66</td>\n",
       "      <td>0.06</td>\n",
       "    </tr>\n",
       "    <tr>\n",
       "      <th>investor_name</th>\n",
       "      <td>66</td>\n",
       "      <td>0.06</td>\n",
       "    </tr>\n",
       "    <tr>\n",
       "      <th>investor_category_list</th>\n",
       "      <td>83999</td>\n",
       "      <td>73.36</td>\n",
       "    </tr>\n",
       "    <tr>\n",
       "      <th>investor_market</th>\n",
       "      <td>84051</td>\n",
       "      <td>73.40</td>\n",
       "    </tr>\n",
       "    <tr>\n",
       "      <th>investor_country_code</th>\n",
       "      <td>27985</td>\n",
       "      <td>24.44</td>\n",
       "    </tr>\n",
       "    <tr>\n",
       "      <th>investor_state_code</th>\n",
       "      <td>52232</td>\n",
       "      <td>45.62</td>\n",
       "    </tr>\n",
       "    <tr>\n",
       "      <th>investor_region</th>\n",
       "      <td>27985</td>\n",
       "      <td>24.44</td>\n",
       "    </tr>\n",
       "    <tr>\n",
       "      <th>investor_city</th>\n",
       "      <td>28499</td>\n",
       "      <td>24.89</td>\n",
       "    </tr>\n",
       "    <tr>\n",
       "      <th>funding_round_permalink</th>\n",
       "      <td>0</td>\n",
       "      <td>0.00</td>\n",
       "    </tr>\n",
       "    <tr>\n",
       "      <th>funding_round_type</th>\n",
       "      <td>0</td>\n",
       "      <td>0.00</td>\n",
       "    </tr>\n",
       "    <tr>\n",
       "      <th>funding_round_code</th>\n",
       "      <td>59837</td>\n",
       "      <td>52.26</td>\n",
       "    </tr>\n",
       "    <tr>\n",
       "      <th>funded_at</th>\n",
       "      <td>0</td>\n",
       "      <td>0.00</td>\n",
       "    </tr>\n",
       "    <tr>\n",
       "      <th>funded_month</th>\n",
       "      <td>0</td>\n",
       "      <td>0.00</td>\n",
       "    </tr>\n",
       "    <tr>\n",
       "      <th>funded_quarter</th>\n",
       "      <td>0</td>\n",
       "      <td>0.00</td>\n",
       "    </tr>\n",
       "    <tr>\n",
       "      <th>funded_year</th>\n",
       "      <td>0</td>\n",
       "      <td>0.00</td>\n",
       "    </tr>\n",
       "    <tr>\n",
       "      <th>raised_amount_usd</th>\n",
       "      <td>13351</td>\n",
       "      <td>11.66</td>\n",
       "    </tr>\n",
       "    <tr>\n",
       "      <th>Y</th>\n",
       "      <td>0</td>\n",
       "      <td>0.00</td>\n",
       "    </tr>\n",
       "  </tbody>\n",
       "</table>\n",
       "</div>"
      ],
      "text/plain": [
       "                             0      1\n",
       "company_permalink            0   0.00\n",
       "company_name                 1   0.00\n",
       "company_category_list     3264   2.85\n",
       "company_market            3266   2.85\n",
       "company_country_code      7359   6.43\n",
       "company_state_code       35348  30.87\n",
       "company_region            7359   6.43\n",
       "company_city              8705   7.60\n",
       "investor_permalink          66   0.06\n",
       "investor_name               66   0.06\n",
       "investor_category_list   83999  73.36\n",
       "investor_market          84051  73.40\n",
       "investor_country_code    27985  24.44\n",
       "investor_state_code      52232  45.62\n",
       "investor_region          27985  24.44\n",
       "investor_city            28499  24.89\n",
       "funding_round_permalink      0   0.00\n",
       "funding_round_type           0   0.00\n",
       "funding_round_code       59837  52.26\n",
       "funded_at                    0   0.00\n",
       "funded_month                 0   0.00\n",
       "funded_quarter               0   0.00\n",
       "funded_year                  0   0.00\n",
       "raised_amount_usd        13351  11.66\n",
       "Y                            0   0.00"
      ]
     },
     "execution_count": 3,
     "metadata": {},
     "output_type": "execute_result"
    }
   ],
   "source": [
    "# lets check the missing values\n",
    "null = df.isnull().sum()\n",
    "null_cent = round(df.isnull().sum()/len(df)*100, 2)\n",
    "pd.concat([null, null_cent], axis=1)"
   ]
  },
  {
   "cell_type": "code",
   "execution_count": 4,
   "metadata": {},
   "outputs": [],
   "source": [
    "# removing features\n",
    "\n",
    "# dropping company_state_code, investor_state_code, investor_category_list, investor_market and funding_round_code as they have more than 30% null values\n",
    "# dropping features like funded_at, founded_at, funded_month, funded_quarter, \n",
    "#    funding_round_permalink as these are not relevant features\n",
    "\n",
    "df = df.drop(['investor_category_list','investor_market','funded_at', 'company_state_code','investor_state_code','funding_round_code',\n",
    "                      'funded_month','funded_quarter','funding_round_permalink'], axis=1)"
   ]
  },
  {
   "cell_type": "code",
   "execution_count": 5,
   "metadata": {},
   "outputs": [],
   "source": [
    "#replace all Nan to 0 in raised_amount_usd column\n",
    "df['raised_amount_usd'] = df['raised_amount_usd'].fillna(0)\n",
    "\n",
    "#convert column raised_amount_usd from float to int\n",
    "df = df.astype({\"raised_amount_usd\":'int'})"
   ]
  },
  {
   "cell_type": "markdown",
   "metadata": {},
   "source": [
    "### Dataset information after cleaning"
   ]
  },
  {
   "cell_type": "code",
   "execution_count": 6,
   "metadata": {},
   "outputs": [
    {
     "name": "stdout",
     "output_type": "stream",
     "text": [
      "<class 'pandas.core.frame.DataFrame'>\n",
      "RangeIndex: 114506 entries, 0 to 114505\n",
      "Data columns (total 16 columns):\n",
      " #   Column                 Non-Null Count   Dtype \n",
      "---  ------                 --------------   ----- \n",
      " 0   company_permalink      114506 non-null  object\n",
      " 1   company_name           114505 non-null  object\n",
      " 2   company_category_list  111242 non-null  object\n",
      " 3   company_market         111240 non-null  object\n",
      " 4   company_country_code   107147 non-null  object\n",
      " 5   company_region         107147 non-null  object\n",
      " 6   company_city           105801 non-null  object\n",
      " 7   investor_permalink     114440 non-null  object\n",
      " 8   investor_name          114440 non-null  object\n",
      " 9   investor_country_code  86521 non-null   object\n",
      " 10  investor_region        86521 non-null   object\n",
      " 11  investor_city          86007 non-null   object\n",
      " 12  funding_round_type     114506 non-null  object\n",
      " 13  funded_year            114506 non-null  int64 \n",
      " 14  raised_amount_usd      114506 non-null  int64 \n",
      " 15  Y                      114506 non-null  object\n",
      "dtypes: int64(2), object(14)\n",
      "memory usage: 14.0+ MB\n"
     ]
    }
   ],
   "source": [
    "# The info method gives the column datatypes + number of non-null values \n",
    "df.info()"
   ]
  },
  {
   "cell_type": "code",
   "execution_count": 7,
   "metadata": {},
   "outputs": [
    {
     "data": {
      "text/html": [
       "<div>\n",
       "<style scoped>\n",
       "    .dataframe tbody tr th:only-of-type {\n",
       "        vertical-align: middle;\n",
       "    }\n",
       "\n",
       "    .dataframe tbody tr th {\n",
       "        vertical-align: top;\n",
       "    }\n",
       "\n",
       "    .dataframe thead th {\n",
       "        text-align: right;\n",
       "    }\n",
       "</style>\n",
       "<table border=\"1\" class=\"dataframe\">\n",
       "  <thead>\n",
       "    <tr style=\"text-align: right;\">\n",
       "      <th></th>\n",
       "      <th>company_permalink</th>\n",
       "      <th>company_name</th>\n",
       "      <th>company_category_list</th>\n",
       "      <th>company_market</th>\n",
       "      <th>company_country_code</th>\n",
       "      <th>company_region</th>\n",
       "      <th>company_city</th>\n",
       "      <th>investor_permalink</th>\n",
       "      <th>investor_name</th>\n",
       "      <th>investor_country_code</th>\n",
       "      <th>investor_region</th>\n",
       "      <th>investor_city</th>\n",
       "      <th>funding_round_type</th>\n",
       "      <th>funded_year</th>\n",
       "      <th>raised_amount_usd</th>\n",
       "      <th>Y</th>\n",
       "    </tr>\n",
       "  </thead>\n",
       "  <tbody>\n",
       "    <tr>\n",
       "      <th>0</th>\n",
       "      <td>/organization/test-company-3</td>\n",
       "      <td>test company</td>\n",
       "      <td>NaN</td>\n",
       "      <td>NaN</td>\n",
       "      <td>ARE</td>\n",
       "      <td>Dubai</td>\n",
       "      <td>Dubai</td>\n",
       "      <td>/person/jamessss-bondddd</td>\n",
       "      <td>jamessss bondddd</td>\n",
       "      <td>NaN</td>\n",
       "      <td>NaN</td>\n",
       "      <td>NaN</td>\n",
       "      <td>seed</td>\n",
       "      <td>1921</td>\n",
       "      <td>1000</td>\n",
       "      <td>Yes</td>\n",
       "    </tr>\n",
       "    <tr>\n",
       "      <th>1</th>\n",
       "      <td>/organization/andrewburnett-com-ltd</td>\n",
       "      <td>AndrewBurnett.com Ltd</td>\n",
       "      <td>|Internet|SEO|Services|Public Relations|Social...</td>\n",
       "      <td>Internet</td>\n",
       "      <td>GBR</td>\n",
       "      <td>Edinburgh</td>\n",
       "      <td>Edinburgh</td>\n",
       "      <td>/organization/ekaf</td>\n",
       "      <td>Ekaf</td>\n",
       "      <td>NaN</td>\n",
       "      <td>NaN</td>\n",
       "      <td>NaN</td>\n",
       "      <td>seed</td>\n",
       "      <td>1974</td>\n",
       "      <td>0</td>\n",
       "      <td>No</td>\n",
       "    </tr>\n",
       "    <tr>\n",
       "      <th>2</th>\n",
       "      <td>/organization/abo-data</td>\n",
       "      <td>ABO Data</td>\n",
       "      <td>|Enterprise Software|</td>\n",
       "      <td>Enterprise Software</td>\n",
       "      <td>USA</td>\n",
       "      <td>TX - Other</td>\n",
       "      <td>Italy</td>\n",
       "      <td>/person/antonio-murroni</td>\n",
       "      <td>ANTONIO MURRONI</td>\n",
       "      <td>NaN</td>\n",
       "      <td>NaN</td>\n",
       "      <td>NaN</td>\n",
       "      <td>seed</td>\n",
       "      <td>1979</td>\n",
       "      <td>1000000</td>\n",
       "      <td>Yes</td>\n",
       "    </tr>\n",
       "    <tr>\n",
       "      <th>3</th>\n",
       "      <td>/organization/abo-data</td>\n",
       "      <td>ABO Data</td>\n",
       "      <td>|Enterprise Software|</td>\n",
       "      <td>Enterprise Software</td>\n",
       "      <td>USA</td>\n",
       "      <td>TX - Other</td>\n",
       "      <td>Italy</td>\n",
       "      <td>/person/filippo-murroni</td>\n",
       "      <td>FILIPPO Murroni</td>\n",
       "      <td>NaN</td>\n",
       "      <td>NaN</td>\n",
       "      <td>NaN</td>\n",
       "      <td>seed</td>\n",
       "      <td>1979</td>\n",
       "      <td>1000000</td>\n",
       "      <td>Yes</td>\n",
       "    </tr>\n",
       "    <tr>\n",
       "      <th>4</th>\n",
       "      <td>/organization/ikro</td>\n",
       "      <td>Ikro</td>\n",
       "      <td>NaN</td>\n",
       "      <td>NaN</td>\n",
       "      <td>BRA</td>\n",
       "      <td>BRA - Other</td>\n",
       "      <td>Canoas</td>\n",
       "      <td>/organization/crp-companhia-de-participacoes</td>\n",
       "      <td>CRP Companhia de Participações</td>\n",
       "      <td>NaN</td>\n",
       "      <td>NaN</td>\n",
       "      <td>NaN</td>\n",
       "      <td>venture</td>\n",
       "      <td>1982</td>\n",
       "      <td>724000</td>\n",
       "      <td>Yes</td>\n",
       "    </tr>\n",
       "    <tr>\n",
       "      <th>...</th>\n",
       "      <td>...</td>\n",
       "      <td>...</td>\n",
       "      <td>...</td>\n",
       "      <td>...</td>\n",
       "      <td>...</td>\n",
       "      <td>...</td>\n",
       "      <td>...</td>\n",
       "      <td>...</td>\n",
       "      <td>...</td>\n",
       "      <td>...</td>\n",
       "      <td>...</td>\n",
       "      <td>...</td>\n",
       "      <td>...</td>\n",
       "      <td>...</td>\n",
       "      <td>...</td>\n",
       "      <td>...</td>\n",
       "    </tr>\n",
       "    <tr>\n",
       "      <th>114501</th>\n",
       "      <td>/organization/helpling</td>\n",
       "      <td>Helpling</td>\n",
       "      <td>|Consumers|</td>\n",
       "      <td>Consumers</td>\n",
       "      <td>DEU</td>\n",
       "      <td>Berlin</td>\n",
       "      <td>Berlin</td>\n",
       "      <td>/person/lukasz-gadowski</td>\n",
       "      <td>Lukasz Gadowski</td>\n",
       "      <td>NaN</td>\n",
       "      <td>NaN</td>\n",
       "      <td>NaN</td>\n",
       "      <td>venture</td>\n",
       "      <td>2014</td>\n",
       "      <td>17000000</td>\n",
       "      <td>Yes</td>\n",
       "    </tr>\n",
       "    <tr>\n",
       "      <th>114502</th>\n",
       "      <td>/organization/appknox</td>\n",
       "      <td>Appknox</td>\n",
       "      <td>|Mobile Security|SaaS|Mobile|</td>\n",
       "      <td>Mobile Security</td>\n",
       "      <td>SGP</td>\n",
       "      <td>Singapore</td>\n",
       "      <td>Singapore</td>\n",
       "      <td>/person/rajan-anandan</td>\n",
       "      <td>Rajan Anandan</td>\n",
       "      <td>NaN</td>\n",
       "      <td>NaN</td>\n",
       "      <td>NaN</td>\n",
       "      <td>venture</td>\n",
       "      <td>2014</td>\n",
       "      <td>0</td>\n",
       "      <td>No</td>\n",
       "    </tr>\n",
       "    <tr>\n",
       "      <th>114503</th>\n",
       "      <td>/organization/strap</td>\n",
       "      <td>Strap</td>\n",
       "      <td>|Apps|</td>\n",
       "      <td>Apps</td>\n",
       "      <td>USA</td>\n",
       "      <td>Cincinnati</td>\n",
       "      <td>Cincinnati</td>\n",
       "      <td>/person/trevor-wright</td>\n",
       "      <td>Trevor Wright</td>\n",
       "      <td>NaN</td>\n",
       "      <td>NaN</td>\n",
       "      <td>NaN</td>\n",
       "      <td>seed</td>\n",
       "      <td>2014</td>\n",
       "      <td>1200000</td>\n",
       "      <td>Yes</td>\n",
       "    </tr>\n",
       "    <tr>\n",
       "      <th>114504</th>\n",
       "      <td>/organization/strap</td>\n",
       "      <td>Strap</td>\n",
       "      <td>|Apps|</td>\n",
       "      <td>Apps</td>\n",
       "      <td>USA</td>\n",
       "      <td>Cincinnati</td>\n",
       "      <td>Cincinnati</td>\n",
       "      <td>/person/wendy-lea</td>\n",
       "      <td>Wendy Lea</td>\n",
       "      <td>NaN</td>\n",
       "      <td>NaN</td>\n",
       "      <td>NaN</td>\n",
       "      <td>seed</td>\n",
       "      <td>2014</td>\n",
       "      <td>1200000</td>\n",
       "      <td>Yes</td>\n",
       "    </tr>\n",
       "    <tr>\n",
       "      <th>114505</th>\n",
       "      <td>/organization/vonjour-com</td>\n",
       "      <td>Vonjour</td>\n",
       "      <td>|Enterprise Software|</td>\n",
       "      <td>Enterprise Software</td>\n",
       "      <td>NaN</td>\n",
       "      <td>NaN</td>\n",
       "      <td>NaN</td>\n",
       "      <td>/organization/kima-ventures</td>\n",
       "      <td>Kima Ventures</td>\n",
       "      <td>FRA</td>\n",
       "      <td>Paris</td>\n",
       "      <td>Paris</td>\n",
       "      <td>seed</td>\n",
       "      <td>2014</td>\n",
       "      <td>0</td>\n",
       "      <td>No</td>\n",
       "    </tr>\n",
       "  </tbody>\n",
       "</table>\n",
       "<p>114506 rows × 16 columns</p>\n",
       "</div>"
      ],
      "text/plain": [
       "                          company_permalink           company_name  \\\n",
       "0              /organization/test-company-3           test company   \n",
       "1       /organization/andrewburnett-com-ltd  AndrewBurnett.com Ltd   \n",
       "2                    /organization/abo-data               ABO Data   \n",
       "3                    /organization/abo-data               ABO Data   \n",
       "4                        /organization/ikro                   Ikro   \n",
       "...                                     ...                    ...   \n",
       "114501               /organization/helpling               Helpling   \n",
       "114502                /organization/appknox                Appknox   \n",
       "114503                  /organization/strap                  Strap   \n",
       "114504                  /organization/strap                  Strap   \n",
       "114505            /organization/vonjour-com                Vonjour   \n",
       "\n",
       "                                    company_category_list  \\\n",
       "0                                                     NaN   \n",
       "1       |Internet|SEO|Services|Public Relations|Social...   \n",
       "2                                   |Enterprise Software|   \n",
       "3                                   |Enterprise Software|   \n",
       "4                                                     NaN   \n",
       "...                                                   ...   \n",
       "114501                                        |Consumers|   \n",
       "114502                      |Mobile Security|SaaS|Mobile|   \n",
       "114503                                             |Apps|   \n",
       "114504                                             |Apps|   \n",
       "114505                              |Enterprise Software|   \n",
       "\n",
       "             company_market company_country_code company_region company_city  \\\n",
       "0                       NaN                  ARE          Dubai        Dubai   \n",
       "1                  Internet                  GBR      Edinburgh    Edinburgh   \n",
       "2       Enterprise Software                  USA     TX - Other        Italy   \n",
       "3       Enterprise Software                  USA     TX - Other        Italy   \n",
       "4                       NaN                  BRA    BRA - Other       Canoas   \n",
       "...                     ...                  ...            ...          ...   \n",
       "114501            Consumers                  DEU         Berlin       Berlin   \n",
       "114502      Mobile Security                  SGP      Singapore    Singapore   \n",
       "114503                 Apps                  USA     Cincinnati   Cincinnati   \n",
       "114504                 Apps                  USA     Cincinnati   Cincinnati   \n",
       "114505  Enterprise Software                  NaN            NaN          NaN   \n",
       "\n",
       "                                  investor_permalink  \\\n",
       "0                           /person/jamessss-bondddd   \n",
       "1                                 /organization/ekaf   \n",
       "2                            /person/antonio-murroni   \n",
       "3                            /person/filippo-murroni   \n",
       "4       /organization/crp-companhia-de-participacoes   \n",
       "...                                              ...   \n",
       "114501                       /person/lukasz-gadowski   \n",
       "114502                         /person/rajan-anandan   \n",
       "114503                         /person/trevor-wright   \n",
       "114504                             /person/wendy-lea   \n",
       "114505                   /organization/kima-ventures   \n",
       "\n",
       "                           investor_name investor_country_code  \\\n",
       "0                       jamessss bondddd                   NaN   \n",
       "1                                   Ekaf                   NaN   \n",
       "2                        ANTONIO MURRONI                   NaN   \n",
       "3                        FILIPPO Murroni                   NaN   \n",
       "4       CRP Companhia de Participações                   NaN   \n",
       "...                                  ...                   ...   \n",
       "114501                   Lukasz Gadowski                   NaN   \n",
       "114502                     Rajan Anandan                   NaN   \n",
       "114503                     Trevor Wright                   NaN   \n",
       "114504                         Wendy Lea                   NaN   \n",
       "114505                     Kima Ventures                   FRA   \n",
       "\n",
       "       investor_region investor_city funding_round_type  funded_year  \\\n",
       "0                  NaN           NaN               seed         1921   \n",
       "1                  NaN           NaN               seed         1974   \n",
       "2                  NaN           NaN               seed         1979   \n",
       "3                  NaN           NaN               seed         1979   \n",
       "4                  NaN           NaN            venture         1982   \n",
       "...                ...           ...                ...          ...   \n",
       "114501             NaN           NaN            venture         2014   \n",
       "114502             NaN           NaN            venture         2014   \n",
       "114503             NaN           NaN               seed         2014   \n",
       "114504             NaN           NaN               seed         2014   \n",
       "114505           Paris         Paris               seed         2014   \n",
       "\n",
       "        raised_amount_usd    Y  \n",
       "0                    1000  Yes  \n",
       "1                       0   No  \n",
       "2                 1000000  Yes  \n",
       "3                 1000000  Yes  \n",
       "4                  724000  Yes  \n",
       "...                   ...  ...  \n",
       "114501           17000000  Yes  \n",
       "114502                  0   No  \n",
       "114503            1200000  Yes  \n",
       "114504            1200000  Yes  \n",
       "114505                  0   No  \n",
       "\n",
       "[114506 rows x 16 columns]"
      ]
     },
     "execution_count": 7,
     "metadata": {},
     "output_type": "execute_result"
    }
   ],
   "source": [
    "df"
   ]
  },
  {
   "cell_type": "markdown",
   "metadata": {},
   "source": [
    "### The describe() method returns a statistical summary for each of the columns in a DataFrame. It's important to note that the descriptive statistics returned by the describe() method depends on the data type of a column. For non-numeric columns, the descriptive statistics returned by the method are as follows:"
   ]
  },
  {
   "cell_type": "code",
   "execution_count": 8,
   "metadata": {},
   "outputs": [
    {
     "data": {
      "text/html": [
       "<div>\n",
       "<style scoped>\n",
       "    .dataframe tbody tr th:only-of-type {\n",
       "        vertical-align: middle;\n",
       "    }\n",
       "\n",
       "    .dataframe tbody tr th {\n",
       "        vertical-align: top;\n",
       "    }\n",
       "\n",
       "    .dataframe thead th {\n",
       "        text-align: right;\n",
       "    }\n",
       "</style>\n",
       "<table border=\"1\" class=\"dataframe\">\n",
       "  <thead>\n",
       "    <tr style=\"text-align: right;\">\n",
       "      <th></th>\n",
       "      <th>funded_year</th>\n",
       "      <th>raised_amount_usd</th>\n",
       "    </tr>\n",
       "  </thead>\n",
       "  <tbody>\n",
       "    <tr>\n",
       "      <th>count</th>\n",
       "      <td>114506.000000</td>\n",
       "      <td>1.145060e+05</td>\n",
       "    </tr>\n",
       "    <tr>\n",
       "      <th>mean</th>\n",
       "      <td>2010.686174</td>\n",
       "      <td>1.118688e+07</td>\n",
       "    </tr>\n",
       "    <tr>\n",
       "      <th>std</th>\n",
       "      <td>3.065592</td>\n",
       "      <td>4.458664e+07</td>\n",
       "    </tr>\n",
       "    <tr>\n",
       "      <th>min</th>\n",
       "      <td>1921.000000</td>\n",
       "      <td>0.000000e+00</td>\n",
       "    </tr>\n",
       "    <tr>\n",
       "      <th>25%</th>\n",
       "      <td>2009.000000</td>\n",
       "      <td>6.000000e+05</td>\n",
       "    </tr>\n",
       "    <tr>\n",
       "      <th>50%</th>\n",
       "      <td>2012.000000</td>\n",
       "      <td>3.063800e+06</td>\n",
       "    </tr>\n",
       "    <tr>\n",
       "      <th>75%</th>\n",
       "      <td>2013.000000</td>\n",
       "      <td>1.130000e+07</td>\n",
       "    </tr>\n",
       "    <tr>\n",
       "      <th>max</th>\n",
       "      <td>2014.000000</td>\n",
       "      <td>5.800000e+09</td>\n",
       "    </tr>\n",
       "  </tbody>\n",
       "</table>\n",
       "</div>"
      ],
      "text/plain": [
       "         funded_year  raised_amount_usd\n",
       "count  114506.000000       1.145060e+05\n",
       "mean     2010.686174       1.118688e+07\n",
       "std         3.065592       4.458664e+07\n",
       "min      1921.000000       0.000000e+00\n",
       "25%      2009.000000       6.000000e+05\n",
       "50%      2012.000000       3.063800e+06\n",
       "75%      2013.000000       1.130000e+07\n",
       "max      2014.000000       5.800000e+09"
      ]
     },
     "execution_count": 8,
     "metadata": {},
     "output_type": "execute_result"
    }
   ],
   "source": [
    "df.describe(include=[np.number]) "
   ]
  },
  {
   "cell_type": "code",
   "execution_count": 9,
   "metadata": {},
   "outputs": [
    {
     "data": {
      "text/html": [
       "<div>\n",
       "<style scoped>\n",
       "    .dataframe tbody tr th:only-of-type {\n",
       "        vertical-align: middle;\n",
       "    }\n",
       "\n",
       "    .dataframe tbody tr th {\n",
       "        vertical-align: top;\n",
       "    }\n",
       "\n",
       "    .dataframe thead th {\n",
       "        text-align: right;\n",
       "    }\n",
       "</style>\n",
       "<table border=\"1\" class=\"dataframe\">\n",
       "  <thead>\n",
       "    <tr style=\"text-align: right;\">\n",
       "      <th></th>\n",
       "      <th>company_permalink</th>\n",
       "      <th>company_name</th>\n",
       "      <th>company_category_list</th>\n",
       "      <th>company_market</th>\n",
       "      <th>company_country_code</th>\n",
       "      <th>company_region</th>\n",
       "      <th>company_city</th>\n",
       "      <th>investor_permalink</th>\n",
       "      <th>investor_name</th>\n",
       "      <th>investor_country_code</th>\n",
       "      <th>investor_region</th>\n",
       "      <th>investor_city</th>\n",
       "      <th>funding_round_type</th>\n",
       "      <th>Y</th>\n",
       "    </tr>\n",
       "  </thead>\n",
       "  <tbody>\n",
       "    <tr>\n",
       "      <th>count</th>\n",
       "      <td>114506</td>\n",
       "      <td>114505</td>\n",
       "      <td>111242</td>\n",
       "      <td>111240</td>\n",
       "      <td>107147</td>\n",
       "      <td>107147</td>\n",
       "      <td>105801</td>\n",
       "      <td>114440</td>\n",
       "      <td>114440</td>\n",
       "      <td>86521</td>\n",
       "      <td>86521</td>\n",
       "      <td>86007</td>\n",
       "      <td>114506</td>\n",
       "      <td>114506</td>\n",
       "    </tr>\n",
       "    <tr>\n",
       "      <th>unique</th>\n",
       "      <td>32335</td>\n",
       "      <td>32284</td>\n",
       "      <td>11874</td>\n",
       "      <td>712</td>\n",
       "      <td>101</td>\n",
       "      <td>965</td>\n",
       "      <td>2901</td>\n",
       "      <td>22276</td>\n",
       "      <td>22037</td>\n",
       "      <td>85</td>\n",
       "      <td>589</td>\n",
       "      <td>1381</td>\n",
       "      <td>13</td>\n",
       "      <td>2</td>\n",
       "    </tr>\n",
       "    <tr>\n",
       "      <th>top</th>\n",
       "      <td>/organization/fab-com</td>\n",
       "      <td>Fab</td>\n",
       "      <td>|Biotechnology|</td>\n",
       "      <td>Software</td>\n",
       "      <td>USA</td>\n",
       "      <td>SF Bay Area</td>\n",
       "      <td>San Francisco</td>\n",
       "      <td>/organization/sequoia-capital</td>\n",
       "      <td>Sequoia Capital</td>\n",
       "      <td>USA</td>\n",
       "      <td>SF Bay Area</td>\n",
       "      <td>Menlo Park</td>\n",
       "      <td>venture</td>\n",
       "      <td>Yes</td>\n",
       "    </tr>\n",
       "    <tr>\n",
       "      <th>freq</th>\n",
       "      <td>60</td>\n",
       "      <td>60</td>\n",
       "      <td>7762</td>\n",
       "      <td>9906</td>\n",
       "      <td>76523</td>\n",
       "      <td>32120</td>\n",
       "      <td>14287</td>\n",
       "      <td>776</td>\n",
       "      <td>776</td>\n",
       "      <td>60291</td>\n",
       "      <td>27269</td>\n",
       "      <td>9962</td>\n",
       "      <td>70615</td>\n",
       "      <td>101091</td>\n",
       "    </tr>\n",
       "  </tbody>\n",
       "</table>\n",
       "</div>"
      ],
      "text/plain": [
       "            company_permalink company_name company_category_list  \\\n",
       "count                  114506       114505                111242   \n",
       "unique                  32335        32284                 11874   \n",
       "top     /organization/fab-com          Fab       |Biotechnology|   \n",
       "freq                       60           60                  7762   \n",
       "\n",
       "       company_market company_country_code company_region   company_city  \\\n",
       "count          111240               107147         107147         105801   \n",
       "unique            712                  101            965           2901   \n",
       "top          Software                  USA    SF Bay Area  San Francisco   \n",
       "freq             9906                76523          32120          14287   \n",
       "\n",
       "                   investor_permalink    investor_name investor_country_code  \\\n",
       "count                          114440           114440                 86521   \n",
       "unique                          22276            22037                    85   \n",
       "top     /organization/sequoia-capital  Sequoia Capital                   USA   \n",
       "freq                              776              776                 60291   \n",
       "\n",
       "       investor_region investor_city funding_round_type       Y  \n",
       "count            86521         86007             114506  114506  \n",
       "unique             589          1381                 13       2  \n",
       "top        SF Bay Area    Menlo Park            venture     Yes  \n",
       "freq             27269          9962              70615  101091  "
      ]
     },
     "execution_count": 9,
     "metadata": {},
     "output_type": "execute_result"
    }
   ],
   "source": [
    "df.describe(include=[np.object])"
   ]
  },
  {
   "cell_type": "code",
   "execution_count": 10,
   "metadata": {},
   "outputs": [
    {
     "data": {
      "text/plain": [
       "Fab                  60\n",
       "ecomom               59\n",
       "CardioDx             57\n",
       "Practice Fusion      55\n",
       "Path                 53\n",
       "                     ..\n",
       "Shipping Easy         1\n",
       "appsplit              1\n",
       "Store-Locator.com     1\n",
       "All Web Leads         1\n",
       "langtaojin            1\n",
       "Name: company_name, Length: 32284, dtype: int64"
      ]
     },
     "execution_count": 10,
     "metadata": {},
     "output_type": "execute_result"
    }
   ],
   "source": [
    "#company_name\n",
    "df['company_name'].value_counts()"
   ]
  },
  {
   "cell_type": "code",
   "execution_count": 11,
   "metadata": {},
   "outputs": [
    {
     "data": {
      "text/plain": [
       "Fab                  0.000524\n",
       "ecomom               0.000515\n",
       "CardioDx             0.000498\n",
       "Practice Fusion      0.000480\n",
       "Path                 0.000463\n",
       "                       ...   \n",
       "Shipping Easy        0.000009\n",
       "appsplit             0.000009\n",
       "Store-Locator.com    0.000009\n",
       "All Web Leads        0.000009\n",
       "langtaojin           0.000009\n",
       "Name: company_name, Length: 32284, dtype: float64"
      ]
     },
     "execution_count": 11,
     "metadata": {},
     "output_type": "execute_result"
    }
   ],
   "source": [
    "df['company_name'].value_counts(normalize = True)"
   ]
  },
  {
   "cell_type": "code",
   "execution_count": 12,
   "metadata": {},
   "outputs": [
    {
     "data": {
      "text/plain": [
       "Text(0.5, 0, 'Company name')"
      ]
     },
     "execution_count": 12,
     "metadata": {},
     "output_type": "execute_result"
    },
    {
     "data": {
      "image/png": "[encoded data removed]",
      "text/plain": [
       "<Figure size 432x288 with 1 Axes>"
      ]
     },
     "metadata": {
      "needs_background": "light"
     },
     "output_type": "display_data"
    }
   ],
   "source": [
    "#Create a bar graph showing top 25 \n",
    "pd.value_counts(df['company_name']).head(25).plot(kind='bar',color='forestgreen')\n",
    "plt.xticks(rotation=45, ha='right')\n",
    "plt.title('Top 25 Companies')\n",
    "plt.ylabel('Count')\n",
    "plt.xlabel('Company name')"
   ]
  },
  {
   "cell_type": "code",
   "execution_count": 13,
   "metadata": {},
   "outputs": [
    {
     "data": {
      "text/plain": [
       "Text(0.5, 0, 'Count')"
      ]
     },
     "execution_count": 13,
     "metadata": {},
     "output_type": "execute_result"
    },
    {
     "data": {
      "image/png": "[encoded data removed]",
      "text/plain": [
       "<Figure size 432x288 with 1 Axes>"
      ]
     },
     "metadata": {
      "needs_background": "light"
     },
     "output_type": "display_data"
    }
   ],
   "source": [
    "pd.value_counts(df['company_name']).head(50).plot(kind='barh', color='blue')\n",
    "plt.xticks(rotation=45, ha='right')\n",
    "plt.title('Top 50 Companies')\n",
    "plt.ylabel('Companys')\n",
    "plt.xlabel('Count')"
   ]
  },
  {
   "cell_type": "code",
   "execution_count": 14,
   "metadata": {},
   "outputs": [
    {
     "data": {
      "text/plain": [
       "|Biotechnology|                                                                       7762\n",
       "|Software|                                                                            7224\n",
       "|Mobile|                                                                              2979\n",
       "|Enterprise Software|                                                                 2710\n",
       "|E-Commerce|                                                                          2616\n",
       "                                                                                      ... \n",
       "|Brand Marketing|Email Marketing|Digital Media|Marketing Automation|SaaS|Software|       1\n",
       "|Social Network Media|Social Media|Games|                                                1\n",
       "|iOS|Android|Mobile|Games|                                                               1\n",
       "|Web Tools|Software|Internet|Enterprise Software|                                        1\n",
       "|Entertainment|Social Network Media|Humanitarian|Charity|Social Media|                   1\n",
       "Name: company_category_list, Length: 11874, dtype: int64"
      ]
     },
     "execution_count": 14,
     "metadata": {},
     "output_type": "execute_result"
    }
   ],
   "source": [
    "#company_category_list\n",
    "df['company_category_list'].value_counts()"
   ]
  },
  {
   "cell_type": "code",
   "execution_count": 15,
   "metadata": {},
   "outputs": [
    {
     "data": {
      "text/plain": [
       "|Biotechnology|                                                                       0.069776\n",
       "|Software|                                                                            0.064940\n",
       "|Mobile|                                                                              0.026779\n",
       "|Enterprise Software|                                                                 0.024361\n",
       "|E-Commerce|                                                                          0.023516\n",
       "                                                                                        ...   \n",
       "|Brand Marketing|Email Marketing|Digital Media|Marketing Automation|SaaS|Software|    0.000009\n",
       "|Social Network Media|Social Media|Games|                                             0.000009\n",
       "|iOS|Android|Mobile|Games|                                                            0.000009\n",
       "|Web Tools|Software|Internet|Enterprise Software|                                     0.000009\n",
       "|Entertainment|Social Network Media|Humanitarian|Charity|Social Media|                0.000009\n",
       "Name: company_category_list, Length: 11874, dtype: float64"
      ]
     },
     "execution_count": 15,
     "metadata": {},
     "output_type": "execute_result"
    }
   ],
   "source": [
    "df['company_category_list'].value_counts(normalize = True)"
   ]
  },
  {
   "cell_type": "code",
   "execution_count": 16,
   "metadata": {},
   "outputs": [
    {
     "data": {
      "text/plain": [
       "Text(0.5, 0, 'Categories')"
      ]
     },
     "execution_count": 16,
     "metadata": {},
     "output_type": "execute_result"
    },
    {
     "data": {
      "image/png": "[encoded data removed]",
      "text/plain": [
       "<Figure size 432x288 with 1 Axes>"
      ]
     },
     "metadata": {
      "needs_background": "light"
     },
     "output_type": "display_data"
    }
   ],
   "source": [
    "pd.value_counts(df['company_category_list']).head(20).plot(kind='bar',color='forestgreen')\n",
    "plt.xticks(rotation=45, ha='right')\n",
    "plt.title('Top 20 Categories')\n",
    "plt.ylabel('Count')\n",
    "plt.xlabel('Categories')"
   ]
  },
  {
   "cell_type": "code",
   "execution_count": 17,
   "metadata": {},
   "outputs": [
    {
     "data": {
      "text/plain": [
       "Software                    9906\n",
       "Biotechnology               8164\n",
       "Mobile                      5282\n",
       "E-Commerce                  4292\n",
       "Enterprise Software         4128\n",
       "                            ... \n",
       "Civil Engineers                1\n",
       "Biomass Power Generation       1\n",
       "Musicians                      1\n",
       "Email Newsletters              1\n",
       "Moneymaking                    1\n",
       "Name: company_market, Length: 712, dtype: int64"
      ]
     },
     "execution_count": 17,
     "metadata": {},
     "output_type": "execute_result"
    }
   ],
   "source": [
    "#company_market\n",
    "df['company_market'].value_counts()"
   ]
  },
  {
   "cell_type": "code",
   "execution_count": 18,
   "metadata": {},
   "outputs": [
    {
     "data": {
      "text/plain": [
       "Software                    0.089051\n",
       "Biotechnology               0.073391\n",
       "Mobile                      0.047483\n",
       "E-Commerce                  0.038583\n",
       "Enterprise Software         0.037109\n",
       "                              ...   \n",
       "Civil Engineers             0.000009\n",
       "Biomass Power Generation    0.000009\n",
       "Musicians                   0.000009\n",
       "Email Newsletters           0.000009\n",
       "Moneymaking                 0.000009\n",
       "Name: company_market, Length: 712, dtype: float64"
      ]
     },
     "execution_count": 18,
     "metadata": {},
     "output_type": "execute_result"
    }
   ],
   "source": [
    "df['company_market'].value_counts(normalize = True)"
   ]
  },
  {
   "cell_type": "code",
   "execution_count": 19,
   "metadata": {},
   "outputs": [
    {
     "data": {
      "text/plain": [
       "Text(0.5, 0, \"Company's market\")"
      ]
     },
     "execution_count": 19,
     "metadata": {},
     "output_type": "execute_result"
    },
    {
     "data": {
      "image/png": "[encoded data removed]",
      "text/plain": [
       "<Figure size 432x288 with 1 Axes>"
      ]
     },
     "metadata": {
      "needs_background": "light"
     },
     "output_type": "display_data"
    }
   ],
   "source": [
    "pd.value_counts(df['company_market']).head(20).plot(kind='bar',color='forestgreen')\n",
    "plt.xticks(rotation=45, ha='right')\n",
    "plt.title(\"Top 20 Company's market\")\n",
    "plt.ylabel('Count')\n",
    "plt.xlabel(\"Company's market\")"
   ]
  },
  {
   "cell_type": "code",
   "execution_count": 20,
   "metadata": {},
   "outputs": [
    {
     "data": {
      "text/plain": [
       "USA    76523\n",
       "GBR     5933\n",
       "CHN     2846\n",
       "CAN     2667\n",
       "DEU     2488\n",
       "       ...  \n",
       "OMN        1\n",
       "MDA        1\n",
       "GIB        1\n",
       "NIC        1\n",
       "NPL        1\n",
       "Name: company_country_code, Length: 101, dtype: int64"
      ]
     },
     "execution_count": 20,
     "metadata": {},
     "output_type": "execute_result"
    }
   ],
   "source": [
    "#company_country_code\n",
    "df['company_country_code'].value_counts()"
   ]
  },
  {
   "cell_type": "code",
   "execution_count": 21,
   "metadata": {},
   "outputs": [
    {
     "data": {
      "text/plain": [
       "USA    0.714187\n",
       "GBR    0.055373\n",
       "CHN    0.026562\n",
       "CAN    0.024891\n",
       "DEU    0.023220\n",
       "         ...   \n",
       "OMN    0.000009\n",
       "MDA    0.000009\n",
       "GIB    0.000009\n",
       "NIC    0.000009\n",
       "NPL    0.000009\n",
       "Name: company_country_code, Length: 101, dtype: float64"
      ]
     },
     "execution_count": 21,
     "metadata": {},
     "output_type": "execute_result"
    }
   ],
   "source": [
    "df['company_country_code'].value_counts(normalize = True)"
   ]
  },
  {
   "cell_type": "code",
   "execution_count": 22,
   "metadata": {},
   "outputs": [
    {
     "data": {
      "text/plain": [
       "Text(0.5, 0, 'Countries')"
      ]
     },
     "execution_count": 22,
     "metadata": {},
     "output_type": "execute_result"
    },
    {
     "data": {
      "image/png": "[encoded data removed]",
      "text/plain": [
       "<Figure size 432x288 with 1 Axes>"
      ]
     },
     "metadata": {
      "needs_background": "light"
     },
     "output_type": "display_data"
    }
   ],
   "source": [
    "pd.value_counts(df['company_country_code']).head(15).plot(kind='bar',color='forestgreen')\n",
    "plt.xticks(rotation=45, ha='right')\n",
    "plt.title(\"Top 15 Countries\")\n",
    "plt.ylabel('Count')\n",
    "plt.xlabel(\"Countries\")"
   ]
  },
  {
   "cell_type": "code",
   "execution_count": 23,
   "metadata": {},
   "outputs": [
    {
     "data": {
      "text/plain": [
       "SF Bay Area         32120\n",
       "New York City        8604\n",
       "Boston               6286\n",
       "London               3860\n",
       "Los Angeles          3674\n",
       "                    ...  \n",
       "Camberwell South        1\n",
       "RI - Other              1\n",
       "Marlborough             1\n",
       "Pessac                  1\n",
       "Islamabad               1\n",
       "Name: company_region, Length: 965, dtype: int64"
      ]
     },
     "execution_count": 23,
     "metadata": {},
     "output_type": "execute_result"
    }
   ],
   "source": [
    "#company_region\n",
    "df['company_region'].value_counts()"
   ]
  },
  {
   "cell_type": "code",
   "execution_count": 24,
   "metadata": {},
   "outputs": [
    {
     "data": {
      "text/plain": [
       "SF Bay Area         0.299775\n",
       "New York City       0.080301\n",
       "Boston              0.058667\n",
       "London              0.036025\n",
       "Los Angeles         0.034289\n",
       "                      ...   \n",
       "Camberwell South    0.000009\n",
       "RI - Other          0.000009\n",
       "Marlborough         0.000009\n",
       "Pessac              0.000009\n",
       "Islamabad           0.000009\n",
       "Name: company_region, Length: 965, dtype: float64"
      ]
     },
     "execution_count": 24,
     "metadata": {},
     "output_type": "execute_result"
    }
   ],
   "source": [
    "df['company_region'].value_counts(normalize = True)"
   ]
  },
  {
   "cell_type": "code",
   "execution_count": 25,
   "metadata": {},
   "outputs": [
    {
     "data": {
      "text/plain": [
       "Text(0.5, 0, 'Company region')"
      ]
     },
     "execution_count": 25,
     "metadata": {},
     "output_type": "execute_result"
    },
    {
     "data": {
      "image/png": "[encoded data removed]",
      "text/plain": [
       "<Figure size 432x288 with 1 Axes>"
      ]
     },
     "metadata": {
      "needs_background": "light"
     },
     "output_type": "display_data"
    }
   ],
   "source": [
    "pd.value_counts(df['company_region']).head(20).plot(kind='bar',color='forestgreen')\n",
    "plt.xticks(rotation=45, ha='right')\n",
    "plt.title(\"Top 20 Company region\")\n",
    "plt.ylabel('Count')\n",
    "plt.xlabel(\"Company region\")"
   ]
  },
  {
   "cell_type": "code",
   "execution_count": 26,
   "metadata": {},
   "outputs": [
    {
     "data": {
      "text/plain": [
       "San Francisco    14287\n",
       "New York          8140\n",
       "London            2861\n",
       "Mountain View     2601\n",
       "Palo Alto         2520\n",
       "                 ...  \n",
       "Salisbury            1\n",
       "Port Allen           1\n",
       "Blackburn            1\n",
       "Stow                 1\n",
       "Wausau               1\n",
       "Name: company_city, Length: 2901, dtype: int64"
      ]
     },
     "execution_count": 26,
     "metadata": {},
     "output_type": "execute_result"
    }
   ],
   "source": [
    "#company_city\n",
    "df['company_city'].value_counts()"
   ]
  },
  {
   "cell_type": "code",
   "execution_count": 27,
   "metadata": {},
   "outputs": [
    {
     "data": {
      "text/plain": [
       "San Francisco    0.135037\n",
       "New York         0.076937\n",
       "London           0.027041\n",
       "Mountain View    0.024584\n",
       "Palo Alto        0.023818\n",
       "                   ...   \n",
       "Salisbury        0.000009\n",
       "Port Allen       0.000009\n",
       "Blackburn        0.000009\n",
       "Stow             0.000009\n",
       "Wausau           0.000009\n",
       "Name: company_city, Length: 2901, dtype: float64"
      ]
     },
     "execution_count": 27,
     "metadata": {},
     "output_type": "execute_result"
    }
   ],
   "source": [
    "df['company_city'].value_counts(normalize = True)"
   ]
  },
  {
   "cell_type": "code",
   "execution_count": 28,
   "metadata": {},
   "outputs": [
    {
     "data": {
      "text/plain": [
       "Text(0.5, 0, 'Company City')"
      ]
     },
     "execution_count": 28,
     "metadata": {},
     "output_type": "execute_result"
    },
    {
     "data": {
      "image/png": "[encoded data removed]",
      "text/plain": [
       "<Figure size 432x288 with 1 Axes>"
      ]
     },
     "metadata": {
      "needs_background": "light"
     },
     "output_type": "display_data"
    }
   ],
   "source": [
    "pd.value_counts(df['company_city']).head(20).plot(kind='bar',color='forestgreen')\n",
    "plt.xticks(rotation=45, ha='right')\n",
    "plt.title(\"Top 20 Company City\")\n",
    "plt.ylabel('Count')\n",
    "plt.xlabel(\"Company City\")"
   ]
  },
  {
   "cell_type": "code",
   "execution_count": 29,
   "metadata": {},
   "outputs": [
    {
     "data": {
      "text/plain": [
       "Sequoia Capital        776\n",
       "Start-Up Chile         702\n",
       "500 Startups           694\n",
       "Intel Capital          674\n",
       "Y Combinator           625\n",
       "                      ... \n",
       "Derek Dukes              1\n",
       "Dorothy Price Hill       1\n",
       "Quattro Development      1\n",
       "Steve Hofstatter         1\n",
       "BeGreat                  1\n",
       "Name: investor_name, Length: 22037, dtype: int64"
      ]
     },
     "execution_count": 29,
     "metadata": {},
     "output_type": "execute_result"
    }
   ],
   "source": [
    "#investor_name\n",
    "df['investor_name'].value_counts()"
   ]
  },
  {
   "cell_type": "code",
   "execution_count": 30,
   "metadata": {},
   "outputs": [
    {
     "data": {
      "text/plain": [
       "Sequoia Capital        0.006781\n",
       "Start-Up Chile         0.006134\n",
       "500 Startups           0.006064\n",
       "Intel Capital          0.005890\n",
       "Y Combinator           0.005461\n",
       "                         ...   \n",
       "Derek Dukes            0.000009\n",
       "Dorothy Price Hill     0.000009\n",
       "Quattro Development    0.000009\n",
       "Steve Hofstatter       0.000009\n",
       "BeGreat                0.000009\n",
       "Name: investor_name, Length: 22037, dtype: float64"
      ]
     },
     "execution_count": 30,
     "metadata": {},
     "output_type": "execute_result"
    }
   ],
   "source": [
    "df['investor_name'].value_counts(normalize = True)"
   ]
  },
  {
   "cell_type": "code",
   "execution_count": 31,
   "metadata": {},
   "outputs": [
    {
     "data": {
      "text/plain": [
       "Text(0.5, 0, 'Investors name')"
      ]
     },
     "execution_count": 31,
     "metadata": {},
     "output_type": "execute_result"
    },
    {
     "data": {
      "image/png": "[encoded data removed]",
      "text/plain": [
       "<Figure size 432x288 with 1 Axes>"
      ]
     },
     "metadata": {
      "needs_background": "light"
     },
     "output_type": "display_data"
    }
   ],
   "source": [
    "pd.value_counts(df['investor_name']).head(40).plot(kind='bar',color='forestgreen')\n",
    "plt.xticks(rotation=90, ha='right')\n",
    "plt.title(\"Top 40 Investors name\")\n",
    "plt.ylabel('Count')\n",
    "plt.xlabel(\"Investors name\")"
   ]
  },
  {
   "cell_type": "code",
   "execution_count": 32,
   "metadata": {},
   "outputs": [
    {
     "data": {
      "text/plain": [
       "USA    60291\n",
       "GBR     4803\n",
       "DEU     2158\n",
       "FRA     2005\n",
       "CAN     1999\n",
       "       ...  \n",
       "PER        1\n",
       "GEO        1\n",
       "IRN        1\n",
       "BHS        1\n",
       "MAR        1\n",
       "Name: investor_country_code, Length: 85, dtype: int64"
      ]
     },
     "execution_count": 32,
     "metadata": {},
     "output_type": "execute_result"
    }
   ],
   "source": [
    "#investor_country_code\n",
    "df['investor_country_code'].value_counts()"
   ]
  },
  {
   "cell_type": "code",
   "execution_count": 33,
   "metadata": {},
   "outputs": [
    {
     "data": {
      "text/plain": [
       "USA    0.696837\n",
       "GBR    0.055513\n",
       "DEU    0.024942\n",
       "FRA    0.023174\n",
       "CAN    0.023104\n",
       "         ...   \n",
       "PER    0.000012\n",
       "GEO    0.000012\n",
       "IRN    0.000012\n",
       "BHS    0.000012\n",
       "MAR    0.000012\n",
       "Name: investor_country_code, Length: 85, dtype: float64"
      ]
     },
     "execution_count": 33,
     "metadata": {},
     "output_type": "execute_result"
    }
   ],
   "source": [
    "df['investor_country_code'].value_counts(normalize = True)"
   ]
  },
  {
   "cell_type": "code",
   "execution_count": 34,
   "metadata": {},
   "outputs": [
    {
     "data": {
      "text/plain": [
       "Text(0.5, 0, 'Investors country')"
      ]
     },
     "execution_count": 34,
     "metadata": {},
     "output_type": "execute_result"
    },
    {
     "data": {
      "image/png": "[encoded data removed]",
      "text/plain": [
       "<Figure size 432x288 with 1 Axes>"
      ]
     },
     "metadata": {
      "needs_background": "light"
     },
     "output_type": "display_data"
    }
   ],
   "source": [
    "pd.value_counts(df['investor_country_code']).head(20).plot(kind='bar',color='forestgreen')\n",
    "plt.xticks(rotation=45, ha='right')\n",
    "plt.title(\"Top 20 Investors country\")\n",
    "plt.ylabel('Count')\n",
    "plt.xlabel(\"Investors country\")"
   ]
  },
  {
   "cell_type": "code",
   "execution_count": 35,
   "metadata": {},
   "outputs": [
    {
     "data": {
      "text/plain": [
       "Menlo Park          9962\n",
       "New York            7030\n",
       "San Francisco       5934\n",
       "Palo Alto           5224\n",
       "London              3146\n",
       "                    ... \n",
       "Hempstead              1\n",
       "Logroño                1\n",
       "Admiralty              1\n",
       "South Plainfield       1\n",
       "Alcobendas             1\n",
       "Name: investor_city, Length: 1381, dtype: int64"
      ]
     },
     "execution_count": 35,
     "metadata": {},
     "output_type": "execute_result"
    }
   ],
   "source": [
    "#investor_city\n",
    "df['investor_city'].value_counts()"
   ]
  },
  {
   "cell_type": "code",
   "execution_count": 36,
   "metadata": {},
   "outputs": [
    {
     "data": {
      "text/plain": [
       "Menlo Park          0.115828\n",
       "New York            0.081738\n",
       "San Francisco       0.068994\n",
       "Palo Alto           0.060739\n",
       "London              0.036578\n",
       "                      ...   \n",
       "Hempstead           0.000012\n",
       "Logroño             0.000012\n",
       "Admiralty           0.000012\n",
       "South Plainfield    0.000012\n",
       "Alcobendas          0.000012\n",
       "Name: investor_city, Length: 1381, dtype: float64"
      ]
     },
     "execution_count": 36,
     "metadata": {},
     "output_type": "execute_result"
    }
   ],
   "source": [
    "df['investor_city'].value_counts(normalize = True)"
   ]
  },
  {
   "cell_type": "code",
   "execution_count": 37,
   "metadata": {},
   "outputs": [
    {
     "data": {
      "text/plain": [
       "Text(0.5, 0, 'Investors city')"
      ]
     },
     "execution_count": 37,
     "metadata": {},
     "output_type": "execute_result"
    },
    {
     "data": {
      "image/png": "[encoded data removed]",
      "text/plain": [
       "<Figure size 432x288 with 1 Axes>"
      ]
     },
     "metadata": {
      "needs_background": "light"
     },
     "output_type": "display_data"
    }
   ],
   "source": [
    "pd.value_counts(df['investor_city']).head(20).plot(kind='bar',color='forestgreen')\n",
    "plt.xticks(rotation=45, ha='right')\n",
    "plt.title(\"Top 20 Investors city\")\n",
    "plt.ylabel('Count')\n",
    "plt.xlabel(\"Investors city\")"
   ]
  },
  {
   "cell_type": "code",
   "execution_count": 38,
   "metadata": {},
   "outputs": [],
   "source": [
    "#funding_round_type"
   ]
  },
  {
   "cell_type": "code",
   "execution_count": 39,
   "metadata": {},
   "outputs": [
    {
     "data": {
      "text/plain": [
       "venture                 70615\n",
       "seed                    29272\n",
       "angel                    4894\n",
       "undisclosed              4479\n",
       "private_equity           2128\n",
       "debt_financing           1541\n",
       "grant                     721\n",
       "convertible_note          547\n",
       "post_ipo_equity           126\n",
       "equity_crowdfunding        80\n",
       "secondary_market           53\n",
       "post_ipo_debt              32\n",
       "product_crowdfunding       18\n",
       "Name: funding_round_type, dtype: int64"
      ]
     },
     "execution_count": 39,
     "metadata": {},
     "output_type": "execute_result"
    }
   ],
   "source": [
    "df['funding_round_type'].value_counts()"
   ]
  },
  {
   "cell_type": "code",
   "execution_count": 40,
   "metadata": {},
   "outputs": [
    {
     "data": {
      "text/plain": [
       "venture                 0.616693\n",
       "seed                    0.255637\n",
       "angel                   0.042740\n",
       "undisclosed             0.039116\n",
       "private_equity          0.018584\n",
       "debt_financing          0.013458\n",
       "grant                   0.006297\n",
       "convertible_note        0.004777\n",
       "post_ipo_equity         0.001100\n",
       "equity_crowdfunding     0.000699\n",
       "secondary_market        0.000463\n",
       "post_ipo_debt           0.000279\n",
       "product_crowdfunding    0.000157\n",
       "Name: funding_round_type, dtype: float64"
      ]
     },
     "execution_count": 40,
     "metadata": {},
     "output_type": "execute_result"
    }
   ],
   "source": [
    "df['funding_round_type'].value_counts(normalize = True)"
   ]
  },
  {
   "cell_type": "code",
   "execution_count": 41,
   "metadata": {},
   "outputs": [
    {
     "data": {
      "text/plain": [
       "Text(0.5, 0, 'Founding Round Type')"
      ]
     },
     "execution_count": 41,
     "metadata": {},
     "output_type": "execute_result"
    },
    {
     "data": {
      "image/png": "[encoded data removed]",
      "text/plain": [
       "<Figure size 432x288 with 1 Axes>"
      ]
     },
     "metadata": {
      "needs_background": "light"
     },
     "output_type": "display_data"
    }
   ],
   "source": [
    "pd.value_counts(df['funding_round_type']).head(15).plot(kind='bar',color='forestgreen')\n",
    "plt.xticks(rotation=45, ha='right')\n",
    "plt.title(\"Top 15 Founding Round Type\")\n",
    "plt.ylabel('Count')\n",
    "plt.xlabel(\"Founding Round Type\")"
   ]
  },
  {
   "cell_type": "code",
   "execution_count": 42,
   "metadata": {},
   "outputs": [
    {
     "data": {
      "text/plain": [
       "2013    21041\n",
       "2014    20012\n",
       "2012    16583\n",
       "2011    13089\n",
       "2010     9708\n",
       "2008     7366\n",
       "2009     7031\n",
       "2007     6946\n",
       "2006     5735\n",
       "2005     4290\n",
       "2004      707\n",
       "2000      455\n",
       "2003      374\n",
       "2002      359\n",
       "2001      309\n",
       "1999      254\n",
       "1998       65\n",
       "1997       32\n",
       "1996       30\n",
       "1990       19\n",
       "1995       17\n",
       "1994       16\n",
       "1993       15\n",
       "1992       12\n",
       "1991       10\n",
       "1987        7\n",
       "1985        5\n",
       "1986        4\n",
       "1982        3\n",
       "1989        3\n",
       "1984        2\n",
       "1988        2\n",
       "1979        2\n",
       "1974        1\n",
       "1921        1\n",
       "1983        1\n",
       "Name: funded_year, dtype: int64"
      ]
     },
     "execution_count": 42,
     "metadata": {},
     "output_type": "execute_result"
    }
   ],
   "source": [
    "#funded_year\n",
    "df['funded_year'].value_counts()"
   ]
  },
  {
   "cell_type": "code",
   "execution_count": 43,
   "metadata": {},
   "outputs": [
    {
     "data": {
      "text/plain": [
       "2013    0.183755\n",
       "2014    0.174768\n",
       "2012    0.144822\n",
       "2011    0.114308\n",
       "2010    0.084782\n",
       "2008    0.064329\n",
       "2009    0.061403\n",
       "2007    0.060661\n",
       "2006    0.050085\n",
       "2005    0.037465\n",
       "2004    0.006174\n",
       "2000    0.003974\n",
       "2003    0.003266\n",
       "2002    0.003135\n",
       "2001    0.002699\n",
       "1999    0.002218\n",
       "1998    0.000568\n",
       "1997    0.000279\n",
       "1996    0.000262\n",
       "1990    0.000166\n",
       "1995    0.000148\n",
       "1994    0.000140\n",
       "1993    0.000131\n",
       "1992    0.000105\n",
       "1991    0.000087\n",
       "1987    0.000061\n",
       "1985    0.000044\n",
       "1986    0.000035\n",
       "1982    0.000026\n",
       "1989    0.000026\n",
       "1984    0.000017\n",
       "1988    0.000017\n",
       "1979    0.000017\n",
       "1974    0.000009\n",
       "1921    0.000009\n",
       "1983    0.000009\n",
       "Name: funded_year, dtype: float64"
      ]
     },
     "execution_count": 43,
     "metadata": {},
     "output_type": "execute_result"
    }
   ],
   "source": [
    "df['funded_year'].value_counts(normalize = True)"
   ]
  },
  {
   "cell_type": "code",
   "execution_count": 44,
   "metadata": {},
   "outputs": [
    {
     "data": {
      "text/plain": [
       "Text(0.5, 0, 'Found Year')"
      ]
     },
     "execution_count": 44,
     "metadata": {},
     "output_type": "execute_result"
    },
    {
     "data": {
      "image/png": "[encoded data removed]",
      "text/plain": [
       "<Figure size 432x288 with 1 Axes>"
      ]
     },
     "metadata": {
      "needs_background": "light"
     },
     "output_type": "display_data"
    }
   ],
   "source": [
    "pd.value_counts(df['funded_year']).head(20).plot(kind='bar',color='forestgreen')\n",
    "plt.xticks(rotation=90, ha='right')\n",
    "plt.title(\"Found Year\")\n",
    "plt.ylabel('Count')\n",
    "plt.xlabel(\"Found Year\")"
   ]
  },
  {
   "cell_type": "markdown",
   "metadata": {},
   "source": [
    "### Group-level Aggregations"
   ]
  },
  {
   "cell_type": "code",
   "execution_count": 45,
   "metadata": {},
   "outputs": [
    {
     "data": {
      "text/html": [
       "<div>\n",
       "<style scoped>\n",
       "    .dataframe tbody tr th:only-of-type {\n",
       "        vertical-align: middle;\n",
       "    }\n",
       "\n",
       "    .dataframe tbody tr th {\n",
       "        vertical-align: top;\n",
       "    }\n",
       "\n",
       "    .dataframe thead tr th {\n",
       "        text-align: left;\n",
       "    }\n",
       "\n",
       "    .dataframe thead tr:last-of-type th {\n",
       "        text-align: right;\n",
       "    }\n",
       "</style>\n",
       "<table border=\"1\" class=\"dataframe\">\n",
       "  <thead>\n",
       "    <tr>\n",
       "      <th></th>\n",
       "      <th colspan=\"4\" halign=\"left\">raised_amount_usd</th>\n",
       "    </tr>\n",
       "    <tr>\n",
       "      <th></th>\n",
       "      <th>mean</th>\n",
       "      <th>median</th>\n",
       "      <th>min</th>\n",
       "      <th>max</th>\n",
       "    </tr>\n",
       "    <tr>\n",
       "      <th>funding_round_type</th>\n",
       "      <th></th>\n",
       "      <th></th>\n",
       "      <th></th>\n",
       "      <th></th>\n",
       "    </tr>\n",
       "  </thead>\n",
       "  <tbody>\n",
       "    <tr>\n",
       "      <th>angel</th>\n",
       "      <td>9.035363e+05</td>\n",
       "      <td>500000.0</td>\n",
       "      <td>0</td>\n",
       "      <td>63590263</td>\n",
       "    </tr>\n",
       "    <tr>\n",
       "      <th>convertible_note</th>\n",
       "      <td>8.700534e+05</td>\n",
       "      <td>640000.0</td>\n",
       "      <td>0</td>\n",
       "      <td>10000000</td>\n",
       "    </tr>\n",
       "    <tr>\n",
       "      <th>debt_financing</th>\n",
       "      <td>2.038674e+07</td>\n",
       "      <td>4000000.0</td>\n",
       "      <td>0</td>\n",
       "      <td>750000000</td>\n",
       "    </tr>\n",
       "    <tr>\n",
       "      <th>equity_crowdfunding</th>\n",
       "      <td>5.992685e+05</td>\n",
       "      <td>160230.5</td>\n",
       "      <td>15826</td>\n",
       "      <td>7000000</td>\n",
       "    </tr>\n",
       "    <tr>\n",
       "      <th>grant</th>\n",
       "      <td>5.488604e+06</td>\n",
       "      <td>202658.0</td>\n",
       "      <td>0</td>\n",
       "      <td>750000000</td>\n",
       "    </tr>\n",
       "    <tr>\n",
       "      <th>post_ipo_debt</th>\n",
       "      <td>3.739191e+08</td>\n",
       "      <td>48000000.0</td>\n",
       "      <td>3500000</td>\n",
       "      <td>5800000000</td>\n",
       "    </tr>\n",
       "    <tr>\n",
       "      <th>post_ipo_equity</th>\n",
       "      <td>2.932484e+08</td>\n",
       "      <td>25000000.0</td>\n",
       "      <td>0</td>\n",
       "      <td>3200000000</td>\n",
       "    </tr>\n",
       "    <tr>\n",
       "      <th>private_equity</th>\n",
       "      <td>6.984986e+07</td>\n",
       "      <td>38904959.0</td>\n",
       "      <td>0</td>\n",
       "      <td>2600000000</td>\n",
       "    </tr>\n",
       "    <tr>\n",
       "      <th>product_crowdfunding</th>\n",
       "      <td>1.241036e+06</td>\n",
       "      <td>405329.0</td>\n",
       "      <td>132599</td>\n",
       "      <td>8600000</td>\n",
       "    </tr>\n",
       "    <tr>\n",
       "      <th>secondary_market</th>\n",
       "      <td>2.114250e+07</td>\n",
       "      <td>0.0</td>\n",
       "      <td>0</td>\n",
       "      <td>200000000</td>\n",
       "    </tr>\n",
       "    <tr>\n",
       "      <th>seed</th>\n",
       "      <td>8.808792e+05</td>\n",
       "      <td>500000.0</td>\n",
       "      <td>0</td>\n",
       "      <td>100000000</td>\n",
       "    </tr>\n",
       "    <tr>\n",
       "      <th>undisclosed</th>\n",
       "      <td>1.851566e+06</td>\n",
       "      <td>0.0</td>\n",
       "      <td>0</td>\n",
       "      <td>292432833</td>\n",
       "    </tr>\n",
       "    <tr>\n",
       "      <th>venture</th>\n",
       "      <td>1.427274e+07</td>\n",
       "      <td>8000000.0</td>\n",
       "      <td>0</td>\n",
       "      <td>1200000000</td>\n",
       "    </tr>\n",
       "  </tbody>\n",
       "</table>\n",
       "</div>"
      ],
      "text/plain": [
       "                     raised_amount_usd                                 \n",
       "                                  mean      median      min         max\n",
       "funding_round_type                                                     \n",
       "angel                     9.035363e+05    500000.0        0    63590263\n",
       "convertible_note          8.700534e+05    640000.0        0    10000000\n",
       "debt_financing            2.038674e+07   4000000.0        0   750000000\n",
       "equity_crowdfunding       5.992685e+05    160230.5    15826     7000000\n",
       "grant                     5.488604e+06    202658.0        0   750000000\n",
       "post_ipo_debt             3.739191e+08  48000000.0  3500000  5800000000\n",
       "post_ipo_equity           2.932484e+08  25000000.0        0  3200000000\n",
       "private_equity            6.984986e+07  38904959.0        0  2600000000\n",
       "product_crowdfunding      1.241036e+06    405329.0   132599     8600000\n",
       "secondary_market          2.114250e+07         0.0        0   200000000\n",
       "seed                      8.808792e+05    500000.0        0   100000000\n",
       "undisclosed               1.851566e+06         0.0        0   292432833\n",
       "venture                   1.427274e+07   8000000.0        0  1200000000"
      ]
     },
     "execution_count": 45,
     "metadata": {},
     "output_type": "execute_result"
    }
   ],
   "source": [
    "df.groupby('funding_round_type')[['raised_amount_usd']].agg(['mean','median','min','max'])"
   ]
  },
  {
   "cell_type": "code",
   "execution_count": 46,
   "metadata": {},
   "outputs": [
    {
     "data": {
      "text/html": [
       "<div>\n",
       "<style scoped>\n",
       "    .dataframe tbody tr th:only-of-type {\n",
       "        vertical-align: middle;\n",
       "    }\n",
       "\n",
       "    .dataframe tbody tr th {\n",
       "        vertical-align: top;\n",
       "    }\n",
       "\n",
       "    .dataframe thead tr th {\n",
       "        text-align: left;\n",
       "    }\n",
       "\n",
       "    .dataframe thead tr:last-of-type th {\n",
       "        text-align: right;\n",
       "    }\n",
       "</style>\n",
       "<table border=\"1\" class=\"dataframe\">\n",
       "  <thead>\n",
       "    <tr>\n",
       "      <th></th>\n",
       "      <th colspan=\"4\" halign=\"left\">raised_amount_usd</th>\n",
       "    </tr>\n",
       "    <tr>\n",
       "      <th></th>\n",
       "      <th>mean</th>\n",
       "      <th>median</th>\n",
       "      <th>min</th>\n",
       "      <th>max</th>\n",
       "    </tr>\n",
       "    <tr>\n",
       "      <th>company_market</th>\n",
       "      <th></th>\n",
       "      <th></th>\n",
       "      <th></th>\n",
       "      <th></th>\n",
       "    </tr>\n",
       "  </thead>\n",
       "  <tbody>\n",
       "    <tr>\n",
       "      <th>3D</th>\n",
       "      <td>5.035845e+06</td>\n",
       "      <td>1000000.0</td>\n",
       "      <td>0</td>\n",
       "      <td>20000000</td>\n",
       "    </tr>\n",
       "    <tr>\n",
       "      <th>3D Printing</th>\n",
       "      <td>4.548769e+06</td>\n",
       "      <td>1000000.0</td>\n",
       "      <td>0</td>\n",
       "      <td>19000000</td>\n",
       "    </tr>\n",
       "    <tr>\n",
       "      <th>3D Technology</th>\n",
       "      <td>2.271235e+06</td>\n",
       "      <td>2424402.0</td>\n",
       "      <td>0</td>\n",
       "      <td>6390950</td>\n",
       "    </tr>\n",
       "    <tr>\n",
       "      <th>Accounting</th>\n",
       "      <td>1.081139e+07</td>\n",
       "      <td>3000000.0</td>\n",
       "      <td>0</td>\n",
       "      <td>100000000</td>\n",
       "    </tr>\n",
       "    <tr>\n",
       "      <th>Ad Targeting</th>\n",
       "      <td>8.493224e+06</td>\n",
       "      <td>3500000.0</td>\n",
       "      <td>0</td>\n",
       "      <td>65000000</td>\n",
       "    </tr>\n",
       "    <tr>\n",
       "      <th>...</th>\n",
       "      <td>...</td>\n",
       "      <td>...</td>\n",
       "      <td>...</td>\n",
       "      <td>...</td>\n",
       "    </tr>\n",
       "    <tr>\n",
       "      <th>iOS</th>\n",
       "      <td>3.192446e+06</td>\n",
       "      <td>800000.0</td>\n",
       "      <td>0</td>\n",
       "      <td>40000000</td>\n",
       "    </tr>\n",
       "    <tr>\n",
       "      <th>iPad</th>\n",
       "      <td>1.589109e+06</td>\n",
       "      <td>800000.0</td>\n",
       "      <td>0</td>\n",
       "      <td>7000000</td>\n",
       "    </tr>\n",
       "    <tr>\n",
       "      <th>iPhone</th>\n",
       "      <td>2.216571e+06</td>\n",
       "      <td>1000000.0</td>\n",
       "      <td>0</td>\n",
       "      <td>20500000</td>\n",
       "    </tr>\n",
       "    <tr>\n",
       "      <th>iPod Touch</th>\n",
       "      <td>2.088429e+06</td>\n",
       "      <td>2500000.0</td>\n",
       "      <td>18000</td>\n",
       "      <td>2500000</td>\n",
       "    </tr>\n",
       "    <tr>\n",
       "      <th>mHealth</th>\n",
       "      <td>9.413860e+04</td>\n",
       "      <td>64021.0</td>\n",
       "      <td>0</td>\n",
       "      <td>276672</td>\n",
       "    </tr>\n",
       "  </tbody>\n",
       "</table>\n",
       "<p>712 rows × 4 columns</p>\n",
       "</div>"
      ],
      "text/plain": [
       "               raised_amount_usd                             \n",
       "                            mean     median    min        max\n",
       "company_market                                               \n",
       "3D                  5.035845e+06  1000000.0      0   20000000\n",
       "3D Printing         4.548769e+06  1000000.0      0   19000000\n",
       "3D Technology       2.271235e+06  2424402.0      0    6390950\n",
       "Accounting          1.081139e+07  3000000.0      0  100000000\n",
       "Ad Targeting        8.493224e+06  3500000.0      0   65000000\n",
       "...                          ...        ...    ...        ...\n",
       "iOS                 3.192446e+06   800000.0      0   40000000\n",
       "iPad                1.589109e+06   800000.0      0    7000000\n",
       "iPhone              2.216571e+06  1000000.0      0   20500000\n",
       "iPod Touch          2.088429e+06  2500000.0  18000    2500000\n",
       "mHealth             9.413860e+04    64021.0      0     276672\n",
       "\n",
       "[712 rows x 4 columns]"
      ]
     },
     "execution_count": 46,
     "metadata": {},
     "output_type": "execute_result"
    }
   ],
   "source": [
    "df.groupby('company_market')[['raised_amount_usd']].agg(['mean','median','min','max'])"
   ]
  },
  {
   "cell_type": "code",
   "execution_count": 47,
   "metadata": {},
   "outputs": [
    {
     "data": {
      "text/html": [
       "<div>\n",
       "<style scoped>\n",
       "    .dataframe tbody tr th:only-of-type {\n",
       "        vertical-align: middle;\n",
       "    }\n",
       "\n",
       "    .dataframe tbody tr th {\n",
       "        vertical-align: top;\n",
       "    }\n",
       "\n",
       "    .dataframe thead tr th {\n",
       "        text-align: left;\n",
       "    }\n",
       "\n",
       "    .dataframe thead tr:last-of-type th {\n",
       "        text-align: right;\n",
       "    }\n",
       "</style>\n",
       "<table border=\"1\" class=\"dataframe\">\n",
       "  <thead>\n",
       "    <tr>\n",
       "      <th></th>\n",
       "      <th colspan=\"4\" halign=\"left\">raised_amount_usd</th>\n",
       "    </tr>\n",
       "    <tr>\n",
       "      <th></th>\n",
       "      <th>mean</th>\n",
       "      <th>median</th>\n",
       "      <th>min</th>\n",
       "      <th>max</th>\n",
       "    </tr>\n",
       "    <tr>\n",
       "      <th>company_country_code</th>\n",
       "      <th></th>\n",
       "      <th></th>\n",
       "      <th></th>\n",
       "      <th></th>\n",
       "    </tr>\n",
       "  </thead>\n",
       "  <tbody>\n",
       "    <tr>\n",
       "      <th>ARE</th>\n",
       "      <td>1.058912e+07</td>\n",
       "      <td>400000.0</td>\n",
       "      <td>0</td>\n",
       "      <td>201000000</td>\n",
       "    </tr>\n",
       "    <tr>\n",
       "      <th>ARG</th>\n",
       "      <td>2.038045e+06</td>\n",
       "      <td>75000.0</td>\n",
       "      <td>0</td>\n",
       "      <td>30000000</td>\n",
       "    </tr>\n",
       "    <tr>\n",
       "      <th>ARM</th>\n",
       "      <td>5.362595e+06</td>\n",
       "      <td>231299.0</td>\n",
       "      <td>32012</td>\n",
       "      <td>18787500</td>\n",
       "    </tr>\n",
       "    <tr>\n",
       "      <th>AUS</th>\n",
       "      <td>7.091499e+06</td>\n",
       "      <td>1000000.0</td>\n",
       "      <td>0</td>\n",
       "      <td>364000000</td>\n",
       "    </tr>\n",
       "    <tr>\n",
       "      <th>AUT</th>\n",
       "      <td>4.393624e+06</td>\n",
       "      <td>1350000.0</td>\n",
       "      <td>0</td>\n",
       "      <td>34082500</td>\n",
       "    </tr>\n",
       "    <tr>\n",
       "      <th>...</th>\n",
       "      <td>...</td>\n",
       "      <td>...</td>\n",
       "      <td>...</td>\n",
       "      <td>...</td>\n",
       "    </tr>\n",
       "    <tr>\n",
       "      <th>URY</th>\n",
       "      <td>1.159500e+06</td>\n",
       "      <td>40000.0</td>\n",
       "      <td>0</td>\n",
       "      <td>10000000</td>\n",
       "    </tr>\n",
       "    <tr>\n",
       "      <th>USA</th>\n",
       "      <td>1.238729e+07</td>\n",
       "      <td>4500000.0</td>\n",
       "      <td>0</td>\n",
       "      <td>3200000000</td>\n",
       "    </tr>\n",
       "    <tr>\n",
       "      <th>VNM</th>\n",
       "      <td>2.004545e+07</td>\n",
       "      <td>500000.0</td>\n",
       "      <td>0</td>\n",
       "      <td>100000000</td>\n",
       "    </tr>\n",
       "    <tr>\n",
       "      <th>ZAF</th>\n",
       "      <td>5.485419e+06</td>\n",
       "      <td>125000.0</td>\n",
       "      <td>0</td>\n",
       "      <td>100000000</td>\n",
       "    </tr>\n",
       "    <tr>\n",
       "      <th>ZWE</th>\n",
       "      <td>1.000000e+07</td>\n",
       "      <td>10000000.0</td>\n",
       "      <td>10000000</td>\n",
       "      <td>10000000</td>\n",
       "    </tr>\n",
       "  </tbody>\n",
       "</table>\n",
       "<p>101 rows × 4 columns</p>\n",
       "</div>"
      ],
      "text/plain": [
       "                     raised_amount_usd                                  \n",
       "                                  mean      median       min         max\n",
       "company_country_code                                                    \n",
       "ARE                       1.058912e+07    400000.0         0   201000000\n",
       "ARG                       2.038045e+06     75000.0         0    30000000\n",
       "ARM                       5.362595e+06    231299.0     32012    18787500\n",
       "AUS                       7.091499e+06   1000000.0         0   364000000\n",
       "AUT                       4.393624e+06   1350000.0         0    34082500\n",
       "...                                ...         ...       ...         ...\n",
       "URY                       1.159500e+06     40000.0         0    10000000\n",
       "USA                       1.238729e+07   4500000.0         0  3200000000\n",
       "VNM                       2.004545e+07    500000.0         0   100000000\n",
       "ZAF                       5.485419e+06    125000.0         0   100000000\n",
       "ZWE                       1.000000e+07  10000000.0  10000000    10000000\n",
       "\n",
       "[101 rows x 4 columns]"
      ]
     },
     "execution_count": 47,
     "metadata": {},
     "output_type": "execute_result"
    }
   ],
   "source": [
    "df.groupby('company_country_code')[['raised_amount_usd']].agg(['mean','median','min','max'])"
   ]
  },
  {
   "cell_type": "code",
   "execution_count": null,
   "metadata": {},
   "outputs": [],
   "source": []
  },
  {
   "cell_type": "code",
   "execution_count": null,
   "metadata": {},
   "outputs": [],
   "source": []
  }
 ],
 "metadata": {
  "kernelspec": {
   "display_name": "Python 3",
   "language": "python",
   "name": "python3"
  },
  "language_info": {
   "codemirror_mode": {
    "name": "ipython",
    "version": 3
   },
   "file_extension": ".py",
   "mimetype": "text/x-python",
   "name": "python",
   "nbconvert_exporter": "python",
   "pygments_lexer": "ipython3",
   "version": "3.8.3"
  }
 },
 "nbformat": 4,
 "nbformat_minor": 4
}
